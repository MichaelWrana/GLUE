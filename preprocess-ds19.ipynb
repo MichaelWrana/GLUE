{
 "cells": [
  {
   "cell_type": "code",
   "execution_count": 52,
   "id": "9a7f88ea",
   "metadata": {},
   "outputs": [],
   "source": [
    "import numpy as np\n",
    "import pickle\n",
    "import re\n",
    "import os\n",
    "import random"
   ]
  },
  {
   "cell_type": "code",
   "execution_count": 46,
   "id": "78cb9d76",
   "metadata": {},
   "outputs": [],
   "source": [
    "data_folder = \"../ds19/\"\n",
    "traces = {id: [None] * 100 for id in range(100)}\n",
    "indices = {id: 0 for id in range(100)}\n",
    "patterns = [re.compile(\"^\\d{2}-\\d{2}.cell\"), re.compile(\"^\\d{2}-\\d{1}.cell\"), re.compile(\"^\\d{1}-\\d{2}.cell\"), re.compile(\"^\\d{1}-\\d{1}.cell\")]"
   ]
  },
  {
   "cell_type": "code",
   "execution_count": 47,
   "id": "1b4fc111",
   "metadata": {},
   "outputs": [],
   "source": [
    "def process(filename, trace_id):\n",
    "    with open(data_folder + filename) as f:\n",
    "        raw_file = np.loadtxt(f)\n",
    "        \n",
    "    converted_file = np.asarray([row[0] * row[1] for row in raw_file])\n",
    "    \n",
    "    traces[trace_id][indices[trace_id]] = converted_file\n",
    "    indices[trace_id] += 1"
   ]
  },
  {
   "cell_type": "code",
   "execution_count": 48,
   "id": "58cd62d9",
   "metadata": {},
   "outputs": [
    {
     "name": "stdout",
     "output_type": "stream",
     "text": [
      "0\n"
     ]
    }
   ],
   "source": [
    "for filename in os.listdir(data_folder):\n",
    "    \n",
    "    # 2-digit, 2-digit\n",
    "    if patterns[0].match(filename):\n",
    "        process(filename, int(filename[:2]))\n",
    "    # 2-digit, 1-digit\n",
    "    elif patterns[1].match(filename):\n",
    "        process(filename, int(filename[:2]))\n",
    "    # 1-digit, 2-digit or 1-digit, 1-digit\n",
    "    elif patterns[2].match(filename) or patterns[3].match(filename):\n",
    "        process(filename, int(filename[0]))"
   ]
  },
  {
   "cell_type": "code",
   "execution_count": 49,
   "id": "66de7ce6",
   "metadata": {},
   "outputs": [
    {
     "name": "stdout",
     "output_type": "stream",
     "text": [
      "{0: 100, 1: 100, 2: 100, 3: 100, 4: 100, 5: 100, 6: 100, 7: 100, 8: 100, 9: 100, 10: 100, 11: 100, 12: 100, 13: 100, 14: 100, 15: 100, 16: 100, 17: 100, 18: 100, 19: 100, 20: 100, 21: 100, 22: 100, 23: 100, 24: 100, 25: 100, 26: 100, 27: 100, 28: 100, 29: 100, 30: 100, 31: 100, 32: 100, 33: 100, 34: 100, 35: 100, 36: 100, 37: 100, 38: 100, 39: 100, 40: 100, 41: 100, 42: 100, 43: 100, 44: 100, 45: 100, 46: 100, 47: 100, 48: 100, 49: 100, 50: 100, 51: 100, 52: 100, 53: 100, 54: 100, 55: 100, 56: 100, 57: 100, 58: 100, 59: 100, 60: 100, 61: 100, 62: 100, 63: 100, 64: 100, 65: 100, 66: 100, 67: 100, 68: 100, 69: 100, 70: 100, 71: 100, 72: 100, 73: 100, 74: 100, 75: 100, 76: 100, 77: 100, 78: 100, 79: 100, 80: 100, 81: 100, 82: 100, 83: 100, 84: 100, 85: 100, 86: 100, 87: 100, 88: 100, 89: 100, 90: 100, 91: 100, 92: 100, 93: 100, 94: 100, 95: 100, 96: 100, 97: 100, 98: 100, 99: 100}\n"
     ]
    }
   ],
   "source": [
    "print(indices)"
   ]
  },
  {
   "cell_type": "code",
   "execution_count": 50,
   "id": "444437d1",
   "metadata": {},
   "outputs": [],
   "source": [
    "with open('../ds19.npy', 'wb') as f:\n",
    "    pickle.dump(traces, f)"
   ]
  },
  {
   "cell_type": "code",
   "execution_count": 53,
   "id": "12b8e696",
   "metadata": {},
   "outputs": [],
   "source": [
    "shapelets = [None] * 100\n",
    "\n",
    "for i in range(100):\n",
    "    shapelets[i] = random.choice(traces[i])"
   ]
  },
  {
   "cell_type": "code",
   "execution_count": 57,
   "id": "a3b3ff84",
   "metadata": {},
   "outputs": [],
   "source": [
    "with open('../results/shapelets/num=0size=0', 'wb') as f:\n",
    "    pickle.dump(shapelets, f)"
   ]
  },
  {
   "cell_type": "code",
   "execution_count": 56,
   "id": "b9e138f8",
   "metadata": {},
   "outputs": [
    {
     "name": "stdout",
     "output_type": "stream",
     "text": [
      "100\n",
      "(3016,)\n"
     ]
    }
   ],
   "source": [
    "print(len(shapelets))\n",
    "print(shapelets[66].shape)"
   ]
  },
  {
   "cell_type": "code",
   "execution_count": null,
   "id": "35594e02",
   "metadata": {},
   "outputs": [],
   "source": []
  }
 ],
 "metadata": {
  "kernelspec": {
   "display_name": "Python 3 (ipykernel)",
   "language": "python",
   "name": "python3"
  },
  "language_info": {
   "codemirror_mode": {
    "name": "ipython",
    "version": 3
   },
   "file_extension": ".py",
   "mimetype": "text/x-python",
   "name": "python",
   "nbconvert_exporter": "python",
   "pygments_lexer": "ipython3",
   "version": "3.9.13"
  }
 },
 "nbformat": 4,
 "nbformat_minor": 5
}
