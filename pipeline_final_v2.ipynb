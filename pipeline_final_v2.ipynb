{
 "cells": [
  {
   "cell_type": "code",
   "execution_count": 2,
   "id": "046cafc4",
   "metadata": {},
   "outputs": [],
   "source": [
    "%matplotlib inline\n",
    "\n",
    "import pandas as pd\n",
    "import stumpy\n",
    "import numpy as np\n",
    "import matplotlib.pyplot as plt\n",
    "import matplotlib.dates as dates\n",
    "from matplotlib.patches import Rectangle\n",
    "import datetime as dt\n",
    "import random\n",
    "import math\n",
    "import statistics\n",
    "from tqdm.auto import tqdm\n",
    "from multiprocessing import Pool\n",
    "\n",
    "#plt.style.use('https://raw.githubusercontent.com/TDAmeritrade/stumpy/main/docs/stumpy.mplstyle')"
   ]
  },
  {
   "cell_type": "code",
   "execution_count": 3,
   "id": "ed1f7535",
   "metadata": {},
   "outputs": [],
   "source": [
    "#steam_df = pd.read_csv(\"https://zenodo.org/record/4273921/files/STUMPY_Basics_steamgen.csv?download=1\")\n",
    "\n",
    "raw_data = np.load(\"../NoDef.npz\")\n",
    "raw_labels = raw_data['labels']\n",
    "raw_traces = raw_data['traces']"
   ]
  },
  {
   "cell_type": "code",
   "execution_count": 4,
   "id": "85f92591",
   "metadata": {},
   "outputs": [],
   "source": [
    "trace_ids = list(set(raw_labels))"
   ]
  },
  {
   "cell_type": "code",
   "execution_count": 5,
   "id": "25693ecb",
   "metadata": {},
   "outputs": [],
   "source": [
    "'''\n",
    "Convert a raw packet trace into a processed version\n",
    "trace: 1-D numpy array containing a packet trace\n",
    "mode:\n",
    "    'f': flatten the trace using packet arrival time\n",
    "    'p': only include positive\n",
    "    'n': only include negative\n",
    "    'z': only remove zeroes\n",
    "granularity: in 'f' mode, the smallest distance between packet arrival times to be considered\n",
    "remove_zeroes: remove any zero values from the packet trace before processing (excluding z mode)\n",
    "maxlen: reshape input list to be this length after processing by padding with 0\n",
    "'''\n",
    "def process(trace, mode='f', granularity=0.01, remove_zeroes=True, maxlen=10000):\n",
    "    if remove_zeroes:\n",
    "        trace = trace[trace != 0]\n",
    "    \n",
    "    if mode == 'f':\n",
    "        processed_trace = []\n",
    "        for i,x in enumerate(trace):\n",
    "            distance = abs(x) - abs(trace[i-1])\n",
    "            num_zeroes = math.ceil(distance/granularity)\n",
    "            processed_trace += [0] * num_zeroes\n",
    "            processed_trace.append(np.sign(x))\n",
    "        return processed_trace + [0.0] * (maxlen - len(processed_trace))\n",
    "    elif mode == 'p':\n",
    "        return trace[trace >= 0]\n",
    "    elif mode == 'n':\n",
    "        return trace[trace <= 0]\n",
    "    elif mode == 'z':\n",
    "        return trace[trace != 0]\n",
    "    else:\n",
    "        raise TypeError(\"mode must be one of: f,p,n,z\")"
   ]
  },
  {
   "cell_type": "code",
   "execution_count": 6,
   "id": "b01f4065",
   "metadata": {},
   "outputs": [],
   "source": [
    "traces = {id: [None] * 4500 for id in trace_ids}\n",
    "indices = {id: 0 for id in trace_ids}"
   ]
  },
  {
   "cell_type": "code",
   "execution_count": 7,
   "id": "18d4e370",
   "metadata": {},
   "outputs": [],
   "source": [
    "#print(raw_traces[345][0:20])\n",
    "#print(len(raw_traces[345]))\n",
    "#test = process(raw_traces[345], mode='f', granularity=0.01, remove_zeroes=True)\n",
    "#print(len(test))\n",
    "#print(test[9950:])"
   ]
  },
  {
   "cell_type": "code",
   "execution_count": 8,
   "id": "10861732",
   "metadata": {},
   "outputs": [
    {
     "data": {
      "application/vnd.jupyter.widget-view+json": {
       "model_id": "6376ba83abf84c23929b16c8b1081c6e",
       "version_major": 2,
       "version_minor": 0
      },
      "text/plain": [
       "  0%|          | 0/450000 [00:00<?, ?it/s]"
      ]
     },
     "metadata": {},
     "output_type": "display_data"
    }
   ],
   "source": [
    "# dictionary of all the traces as 2D numpy arrays\n",
    "# keeping track of index for each one and setting value is necessary\n",
    "# simple append is way too slow (>30 mins runtime)\n",
    "\n",
    "for i in tqdm(range(len(raw_traces))):\n",
    "    processed_trace = process(raw_traces[i], mode='z', remove_zeroes=True)\n",
    "    \n",
    "    traces[raw_labels[i]][indices[raw_labels[i]]] = processed_trace\n",
    "    indices[raw_labels[i]] += 1"
   ]
  },
  {
   "cell_type": "code",
   "execution_count": 9,
   "id": "806865b4",
   "metadata": {},
   "outputs": [
    {
     "name": "stdout",
     "output_type": "stream",
     "text": [
      "100\n",
      "4500\n",
      "1020\n"
     ]
    }
   ],
   "source": [
    "print(len(traces))\n",
    "print(len(traces[0]))\n",
    "# print(len(traces[45]))\n",
    "print(len(traces[38][8]))\n",
    "# print(len(traces[45][50]))"
   ]
  },
  {
   "cell_type": "code",
   "execution_count": 10,
   "id": "1f48cd1a",
   "metadata": {},
   "outputs": [],
   "source": [
    "# def get_sample_index(trace_list, mode):\n",
    "#     for i in range(len(trace_list)):\n",
    "#         if len(trace_list[i]) == mode:\n",
    "#             return i\n",
    "\n",
    "def generate_primary_sample(trace_list, mode='mode_avg'):\n",
    "    \n",
    "    if mode == \"mode_avg\":\n",
    "        # get the mode trace length\n",
    "        mode = statistics.mode([len(trace) for trace in primary_trace])\n",
    "        # get a list of all traces of mode length\n",
    "        mode_traces = np.asarray([trace for trace in primary_trace if len(trace) == mode])\n",
    "        # return vertical average of traces\n",
    "        return np.mean(mode_traces, axis=0)\n",
    "    elif mode == 'mode_single':\n",
    "        mode = statistics.mode([len(trace) for trace in primary_trace])\n",
    "        for trace in trace_list:\n",
    "            if len(trace) == mode:\n",
    "                return trace\n"
   ]
  },
  {
   "cell_type": "code",
   "execution_count": 13,
   "id": "184786c1",
   "metadata": {},
   "outputs": [],
   "source": [
    "'''\n",
    "function for computing the complete stumpy scores with a multi-threaded approach\n",
    "\n",
    "s1: the primary trace for which scores are being computed\n",
    "s2: the other trace being compared with the primary\n",
    "sample_size: how many traces should be randomly selected from each trace set (default: 5)\n",
    "subseq_len: length of subsequences to be compared (default: 250)\n",
    "\n",
    "Requirements:\n",
    "s1, s2 are length 100\n",
    "sample_size is divisible by 100\n",
    "\n",
    "Returns:\n",
    "final score for the average distance between s1 and s2\n",
    "\n",
    "\n",
    "'''\n",
    "            \n",
    "def calculate_scores_threaded(\n",
    "    s1_list, s2_list, \n",
    "    sample_size = 2, \n",
    "    subseq_len = 250,\n",
    "    num_threads = 25):\n",
    "    \n",
    "    #print(sample_size)\n",
    "    #print(subseq_len)\n",
    "    s1_sample = random.sample(s1_list,sample_size)\n",
    "    s2_sample = random.sample(s2_list,sample_size)\n",
    "    \n",
    "    starmap = []\n",
    "    \n",
    "    # generate list of tuple arguments to be passed to pool\n",
    "    for i in range(sample_size):\n",
    "        s1 = s1_sample[i].astype('float64')\n",
    "        for j in range(i, sample_size):\n",
    "            s2 = s2_sample[j].astype('float64')\n",
    "            length = min(subseq_len, len(s1), len(s2))\n",
    "            #starmap.append((\"s1_\" + str(i),\"s2_\" + str(j),length))\n",
    "            starmap.append((s1,s2,length))\n",
    "    \n",
    "    #print(starmap)\n",
    "    #print(\"Comparisons to make: \" + str(len(starmap)))\n",
    "    \n",
    "    \n",
    "    with Pool(num_threads) as p:\n",
    "        result = p.starmap(stumpy.gpu_mpdist, starmap)\n",
    "        #print(result)\n",
    "    \n",
    "    \n",
    "    return statistics.mean(result)"
   ]
  },
  {
   "cell_type": "code",
   "execution_count": 14,
   "id": "b2fbf3b9",
   "metadata": {},
   "outputs": [
    {
     "data": {
      "application/vnd.jupyter.widget-view+json": {
       "model_id": "6004e987ed61413584e353b6c4ab55ee",
       "version_major": 2,
       "version_minor": 0
      },
      "text/plain": [
       "  0%|          | 0/100 [00:00<?, ?it/s]"
      ]
     },
     "metadata": {},
     "output_type": "display_data"
    },
    {
     "data": {
      "application/vnd.jupyter.widget-view+json": {
       "model_id": "398367bc30b14ab0a192e7e0403b6593",
       "version_major": 2,
       "version_minor": 0
      },
      "text/plain": [
       "  0%|          | 0/100 [00:00<?, ?it/s]"
      ]
     },
     "metadata": {},
     "output_type": "display_data"
    },
    {
     "ename": "CudaSupportError",
     "evalue": "\nCUDA driver library cannot be found.\nIf you are sure that a CUDA driver is installed,\ntry setting environment variable NUMBA_CUDA_DRIVER\nwith the file path of the CUDA driver shared library.\n",
     "output_type": "error",
     "traceback": [
      "\u001b[0;31m---------------------------------------------------------------------------\u001b[0m",
      "\u001b[0;31mRemoteTraceback\u001b[0m                           Traceback (most recent call last)",
      "\u001b[0;31mRemoteTraceback\u001b[0m: \n\"\"\"\nTraceback (most recent call last):\n  File \"/Users/michaelwrana/opt/anaconda3/lib/python3.9/multiprocessing/pool.py\", line 125, in worker\n    result = (True, func(*args, **kwds))\n  File \"/Users/michaelwrana/opt/anaconda3/lib/python3.9/multiprocessing/pool.py\", line 51, in starmapstar\n    return list(itertools.starmap(args[0], args[1]))\n  File \"/Users/michaelwrana/opt/anaconda3/lib/python3.9/site-packages/stumpy/core.py\", line 188, in _gpu_mpdist_driver_not_found\n    driver_not_found()\n  File \"/Users/michaelwrana/opt/anaconda3/lib/python3.9/site-packages/stumpy/core.py\", line 153, in driver_not_found\n    _raise_driver_not_found()\n  File \"/Users/michaelwrana/opt/anaconda3/lib/python3.9/site-packages/numba/cuda/cudadrv/driver.py\", line 181, in _raise_driver_not_found\n    raise CudaSupportError(DRIVER_NOT_FOUND_MSG)\nnumba.cuda.cudadrv.error.CudaSupportError: \nCUDA driver library cannot be found.\nIf you are sure that a CUDA driver is installed,\ntry setting environment variable NUMBA_CUDA_DRIVER\nwith the file path of the CUDA driver shared library.\n\n\"\"\"",
      "\nThe above exception was the direct cause of the following exception:\n",
      "\u001b[0;31mCudaSupportError\u001b[0m                          Traceback (most recent call last)",
      "\u001b[0;32m/var/folders/ww/7kn8t7y91gv3dzhg4tzjhq4m0000gn/T/ipykernel_57353/1440125044.py\u001b[0m in \u001b[0;36m<module>\u001b[0;34m\u001b[0m\n\u001b[1;32m      9\u001b[0m \u001b[0;32mfor\u001b[0m \u001b[0mi\u001b[0m \u001b[0;32min\u001b[0m \u001b[0mtqdm\u001b[0m\u001b[0;34m(\u001b[0m\u001b[0mrange\u001b[0m\u001b[0;34m(\u001b[0m\u001b[0;36m100\u001b[0m\u001b[0;34m)\u001b[0m\u001b[0;34m)\u001b[0m\u001b[0;34m:\u001b[0m\u001b[0;34m\u001b[0m\u001b[0;34m\u001b[0m\u001b[0m\n\u001b[1;32m     10\u001b[0m     \u001b[0;32mfor\u001b[0m \u001b[0mj\u001b[0m \u001b[0;32min\u001b[0m \u001b[0mtqdm\u001b[0m\u001b[0;34m(\u001b[0m\u001b[0mrange\u001b[0m\u001b[0;34m(\u001b[0m\u001b[0mi\u001b[0m\u001b[0;34m,\u001b[0m\u001b[0;36m100\u001b[0m\u001b[0;34m)\u001b[0m\u001b[0;34m)\u001b[0m\u001b[0;34m:\u001b[0m\u001b[0;34m\u001b[0m\u001b[0;34m\u001b[0m\u001b[0m\n\u001b[0;32m---> 11\u001b[0;31m         \u001b[0mfinal_scores\u001b[0m\u001b[0;34m[\u001b[0m\u001b[0mi\u001b[0m\u001b[0;34m]\u001b[0m\u001b[0;34m[\u001b[0m\u001b[0mj\u001b[0m\u001b[0;34m]\u001b[0m \u001b[0;34m=\u001b[0m \u001b[0mcalculate_scores_threaded\u001b[0m\u001b[0;34m(\u001b[0m\u001b[0mtraces\u001b[0m\u001b[0;34m[\u001b[0m\u001b[0mi\u001b[0m\u001b[0;34m]\u001b[0m\u001b[0;34m,\u001b[0m\u001b[0mtraces\u001b[0m\u001b[0;34m[\u001b[0m\u001b[0mj\u001b[0m\u001b[0;34m]\u001b[0m\u001b[0;34m,\u001b[0m\u001b[0msample_size\u001b[0m\u001b[0;34m=\u001b[0m\u001b[0;36m2\u001b[0m\u001b[0;34m,\u001b[0m\u001b[0msubseq_len\u001b[0m\u001b[0;34m=\u001b[0m\u001b[0;36m250\u001b[0m\u001b[0;34m)\u001b[0m\u001b[0;34m\u001b[0m\u001b[0;34m\u001b[0m\u001b[0m\n\u001b[0m",
      "\u001b[0;32m/var/folders/ww/7kn8t7y91gv3dzhg4tzjhq4m0000gn/T/ipykernel_57353/3434161043.py\u001b[0m in \u001b[0;36mcalculate_scores_threaded\u001b[0;34m(s1_list, s2_list, sample_size, subseq_len, num_threads)\u001b[0m\n\u001b[1;32m     44\u001b[0m \u001b[0;34m\u001b[0m\u001b[0m\n\u001b[1;32m     45\u001b[0m     \u001b[0;32mwith\u001b[0m \u001b[0mPool\u001b[0m\u001b[0;34m(\u001b[0m\u001b[0mnum_threads\u001b[0m\u001b[0;34m)\u001b[0m \u001b[0;32mas\u001b[0m \u001b[0mp\u001b[0m\u001b[0;34m:\u001b[0m\u001b[0;34m\u001b[0m\u001b[0;34m\u001b[0m\u001b[0m\n\u001b[0;32m---> 46\u001b[0;31m         \u001b[0mresult\u001b[0m \u001b[0;34m=\u001b[0m \u001b[0mp\u001b[0m\u001b[0;34m.\u001b[0m\u001b[0mstarmap\u001b[0m\u001b[0;34m(\u001b[0m\u001b[0mstumpy\u001b[0m\u001b[0;34m.\u001b[0m\u001b[0mgpu_mpdist\u001b[0m\u001b[0;34m,\u001b[0m \u001b[0mstarmap\u001b[0m\u001b[0;34m)\u001b[0m\u001b[0;34m\u001b[0m\u001b[0;34m\u001b[0m\u001b[0m\n\u001b[0m\u001b[1;32m     47\u001b[0m         \u001b[0;31m#print(result)\u001b[0m\u001b[0;34m\u001b[0m\u001b[0;34m\u001b[0m\u001b[0m\n\u001b[1;32m     48\u001b[0m \u001b[0;34m\u001b[0m\u001b[0m\n",
      "\u001b[0;32m~/opt/anaconda3/lib/python3.9/multiprocessing/pool.py\u001b[0m in \u001b[0;36mstarmap\u001b[0;34m(self, func, iterable, chunksize)\u001b[0m\n\u001b[1;32m    370\u001b[0m         \u001b[0;31m`\u001b[0m\u001b[0mfunc\u001b[0m\u001b[0;31m`\u001b[0m \u001b[0;32mand\u001b[0m \u001b[0;34m(\u001b[0m\u001b[0ma\u001b[0m\u001b[0;34m,\u001b[0m \u001b[0mb\u001b[0m\u001b[0;34m)\u001b[0m \u001b[0mbecomes\u001b[0m \u001b[0mfunc\u001b[0m\u001b[0;34m(\u001b[0m\u001b[0ma\u001b[0m\u001b[0;34m,\u001b[0m \u001b[0mb\u001b[0m\u001b[0;34m)\u001b[0m\u001b[0;34m.\u001b[0m\u001b[0;34m\u001b[0m\u001b[0;34m\u001b[0m\u001b[0m\n\u001b[1;32m    371\u001b[0m         '''\n\u001b[0;32m--> 372\u001b[0;31m         \u001b[0;32mreturn\u001b[0m \u001b[0mself\u001b[0m\u001b[0;34m.\u001b[0m\u001b[0m_map_async\u001b[0m\u001b[0;34m(\u001b[0m\u001b[0mfunc\u001b[0m\u001b[0;34m,\u001b[0m \u001b[0miterable\u001b[0m\u001b[0;34m,\u001b[0m \u001b[0mstarmapstar\u001b[0m\u001b[0;34m,\u001b[0m \u001b[0mchunksize\u001b[0m\u001b[0;34m)\u001b[0m\u001b[0;34m.\u001b[0m\u001b[0mget\u001b[0m\u001b[0;34m(\u001b[0m\u001b[0;34m)\u001b[0m\u001b[0;34m\u001b[0m\u001b[0;34m\u001b[0m\u001b[0m\n\u001b[0m\u001b[1;32m    373\u001b[0m \u001b[0;34m\u001b[0m\u001b[0m\n\u001b[1;32m    374\u001b[0m     def starmap_async(self, func, iterable, chunksize=None, callback=None,\n",
      "\u001b[0;32m~/opt/anaconda3/lib/python3.9/multiprocessing/pool.py\u001b[0m in \u001b[0;36mget\u001b[0;34m(self, timeout)\u001b[0m\n\u001b[1;32m    769\u001b[0m             \u001b[0;32mreturn\u001b[0m \u001b[0mself\u001b[0m\u001b[0;34m.\u001b[0m\u001b[0m_value\u001b[0m\u001b[0;34m\u001b[0m\u001b[0;34m\u001b[0m\u001b[0m\n\u001b[1;32m    770\u001b[0m         \u001b[0;32melse\u001b[0m\u001b[0;34m:\u001b[0m\u001b[0;34m\u001b[0m\u001b[0;34m\u001b[0m\u001b[0m\n\u001b[0;32m--> 771\u001b[0;31m             \u001b[0;32mraise\u001b[0m \u001b[0mself\u001b[0m\u001b[0;34m.\u001b[0m\u001b[0m_value\u001b[0m\u001b[0;34m\u001b[0m\u001b[0;34m\u001b[0m\u001b[0m\n\u001b[0m\u001b[1;32m    772\u001b[0m \u001b[0;34m\u001b[0m\u001b[0m\n\u001b[1;32m    773\u001b[0m     \u001b[0;32mdef\u001b[0m \u001b[0m_set\u001b[0m\u001b[0;34m(\u001b[0m\u001b[0mself\u001b[0m\u001b[0;34m,\u001b[0m \u001b[0mi\u001b[0m\u001b[0;34m,\u001b[0m \u001b[0mobj\u001b[0m\u001b[0;34m)\u001b[0m\u001b[0;34m:\u001b[0m\u001b[0;34m\u001b[0m\u001b[0;34m\u001b[0m\u001b[0m\n",
      "\u001b[0;31mCudaSupportError\u001b[0m: \nCUDA driver library cannot be found.\nIf you are sure that a CUDA driver is installed,\ntry setting environment variable NUMBA_CUDA_DRIVER\nwith the file path of the CUDA driver shared library.\n"
     ]
    }
   ],
   "source": [
    "# TRAINING MODE\n",
    "# SECOND VERSION - MULTI THREAD\n",
    "\n",
    "final_scores = np.zeros((100,100))\n",
    "\n",
    "\n",
    "\n",
    "\n",
    "for i in tqdm(range(100)):\n",
    "    for j in tqdm(range(i,100)):\n",
    "        final_scores[i][j] = calculate_scores_threaded(traces[i],traces[j],sample_size=2,subseq_len=250)"
   ]
  },
  {
   "cell_type": "code",
   "execution_count": 230,
   "id": "51102047",
   "metadata": {},
   "outputs": [
    {
     "name": "stdout",
     "output_type": "stream",
     "text": [
      "Correct: 5749\n",
      "Incorrect: 4251\n",
      "Correct (%): 57.489999999999995\n"
     ]
    }
   ],
   "source": [
    "correct_count = 0\n",
    "incorrect_count = 0\n",
    "\n",
    "i=0\n",
    "\n",
    "for i in range(100):\n",
    "    base_score = final_scores[i][i]\n",
    "\n",
    "    sample_i_correct = 0\n",
    "    for j in range(i, 100):\n",
    "        if final_scores[i][j] > base_score:\n",
    "            correct_count += 1\n",
    "            sample_i_correct += 1\n",
    "        else:\n",
    "            incorrect_count += 1\n",
    "    \n",
    "    #print(\"Sample \" + str(i) + \" correct:\" + str(sample_i_correct))\n",
    "        \n",
    "print(\"Correct: \" + str(correct_count))\n",
    "print(\"Incorrect: \" + str(incorrect_count))\n",
    "\n",
    "print(\"Correct (%): \" + str(correct_count/(incorrect_count + correct_count) * 100))"
   ]
  }
 ],
 "metadata": {
  "kernelspec": {
   "display_name": "Python 3 (ipykernel)",
   "language": "python",
   "name": "python3"
  },
  "language_info": {
   "codemirror_mode": {
    "name": "ipython",
    "version": 3
   },
   "file_extension": ".py",
   "mimetype": "text/x-python",
   "name": "python",
   "nbconvert_exporter": "python",
   "pygments_lexer": "ipython3",
   "version": "3.9.13"
  }
 },
 "nbformat": 4,
 "nbformat_minor": 5
}
