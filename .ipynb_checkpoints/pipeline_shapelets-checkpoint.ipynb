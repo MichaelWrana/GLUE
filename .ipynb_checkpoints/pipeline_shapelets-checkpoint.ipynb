{
 "cells": [
  {
   "cell_type": "code",
   "execution_count": 2,
   "id": "046cafc4",
   "metadata": {},
   "outputs": [],
   "source": [
    "%matplotlib inline\n",
    "\n",
    "import pandas as pd\n",
    "import stumpy\n",
    "import numpy as np\n",
    "import matplotlib.pyplot as plt\n",
    "import matplotlib.dates as dates\n",
    "from matplotlib.patches import Rectangle\n",
    "import datetime as dt\n",
    "import random\n",
    "import math\n",
    "import statistics\n",
    "from tqdm.auto import tqdm\n",
    "from multiprocessing import Pool\n",
    "\n",
    "#plt.style.use('https://raw.githubusercontent.com/TDAmeritrade/stumpy/main/docs/stumpy.mplstyle')"
   ]
  },
  {
   "cell_type": "code",
   "execution_count": null,
   "id": "69a916ec",
   "metadata": {},
   "outputs": [],
   "source": []
  },
  {
   "cell_type": "code",
   "execution_count": 3,
   "id": "0fde4932",
   "metadata": {},
   "outputs": [
    {
     "ename": "NameError",
     "evalue": "name 'train_df' is not defined",
     "output_type": "error",
     "traceback": [
      "\u001b[0;31m---------------------------------------------------------------------------\u001b[0m",
      "\u001b[0;31mNameError\u001b[0m                                 Traceback (most recent call last)",
      "\u001b[0;32m/var/folders/ww/7kn8t7y91gv3dzhg4tzjhq4m0000gn/T/ipykernel_83842/3105119745.py\u001b[0m in \u001b[0;36m<module>\u001b[0;34m\u001b[0m\n\u001b[1;32m      2\u001b[0m \u001b[0;34m\u001b[0m\u001b[0m\n\u001b[1;32m      3\u001b[0m \u001b[0;31m# Get the train and test targets\u001b[0m\u001b[0;34m\u001b[0m\u001b[0;34m\u001b[0m\u001b[0m\n\u001b[0;32m----> 4\u001b[0;31m \u001b[0my_train\u001b[0m \u001b[0;34m=\u001b[0m \u001b[0mtrain_df\u001b[0m\u001b[0;34m.\u001b[0m\u001b[0miloc\u001b[0m\u001b[0;34m[\u001b[0m\u001b[0;34m:\u001b[0m\u001b[0;34m,\u001b[0m \u001b[0;36m0\u001b[0m\u001b[0;34m]\u001b[0m\u001b[0;34m\u001b[0m\u001b[0;34m\u001b[0m\u001b[0m\n\u001b[0m\u001b[1;32m      5\u001b[0m \u001b[0my_test\u001b[0m \u001b[0;34m=\u001b[0m \u001b[0mtest_df\u001b[0m\u001b[0;34m.\u001b[0m\u001b[0miloc\u001b[0m\u001b[0;34m[\u001b[0m\u001b[0;34m:\u001b[0m\u001b[0;34m,\u001b[0m \u001b[0;36m0\u001b[0m\u001b[0;34m]\u001b[0m\u001b[0;34m\u001b[0m\u001b[0;34m\u001b[0m\u001b[0m\n",
      "\u001b[0;31mNameError\u001b[0m: name 'train_df' is not defined"
     ]
    }
   ],
   "source": [
    "test_df = df = pd.read_csv(\"https://zenodo.org/record/4281349/files/gun_point_test_data.csv?download=1\")\n",
    "\n",
    "# Get the train and test targets\n",
    "y_train = train_df.iloc[:, 0]\n",
    "y_test = test_df.iloc[:, 0]"
   ]
  },
  {
   "cell_type": "code",
   "execution_count": 44,
   "id": "ed1f7535",
   "metadata": {},
   "outputs": [],
   "source": [
    "#steam_df = pd.read_csv(\"https://zenodo.org/record/4273921/files/STUMPY_Basics_steamgen.csv?download=1\")\n",
    "\n",
    "raw_data = np.load(\"../NoDef.npz\")\n",
    "raw_labels = raw_data['labels']\n",
    "raw_traces = raw_data['traces']"
   ]
  },
  {
   "cell_type": "code",
   "execution_count": 45,
   "id": "85f92591",
   "metadata": {},
   "outputs": [],
   "source": [
    "trace_ids = list(set(raw_labels))"
   ]
  },
  {
   "cell_type": "code",
   "execution_count": 80,
   "id": "25693ecb",
   "metadata": {},
   "outputs": [],
   "source": [
    "'''\n",
    "Convert a raw packet trace into a processed version\n",
    "trace: 1-D numpy array containing a packet trace\n",
    "mode:\n",
    "    'f': flatten the trace using packet arrival time\n",
    "    'p': only include positive\n",
    "    'n': only include negative\n",
    "    'z': only remove zeroes\n",
    "granularity: in 'f' mode, the smallest distance between packet arrival times to be considered\n",
    "remove_zeroes: remove any zero values from the packet trace before processing (excluding z mode)\n",
    "maxlen: reshape input list to be this length after processing by padding with 0\n",
    "'''\n",
    "def process(trace, mode='f', granularity=0.01, remove_zeroes=True, maxlen=10000):\n",
    "    if remove_zeroes:\n",
    "        trace = trace[trace != 0]\n",
    "    \n",
    "    if mode == 'f':\n",
    "        processed_trace = []\n",
    "        for i,x in enumerate(trace):\n",
    "            distance = abs(x) - abs(trace[i-1])\n",
    "            num_zeroes = math.ceil(distance/granularity)\n",
    "            processed_trace += [0] * num_zeroes\n",
    "            processed_trace.append(np.sign(x))\n",
    "        return processed_trace + [0.0] * (maxlen - len(processed_trace))\n",
    "    elif mode == 'p':\n",
    "        processed_trace = [None] * len(trace)\n",
    "        for i,x in enumerate(trace):\n",
    "            if x < 0:\n",
    "                processed_trace[i] = processed_trace[i-1]\n",
    "            else:\n",
    "                processed_trace[i] = trace[i]\n",
    "        return processed_trace\n",
    "    elif mode == 'n':\n",
    "        return trace[trace <= 0]\n",
    "    elif mode == 'z':\n",
    "        return trace[trace != 0]\n",
    "    else:\n",
    "        raise TypeError(\"mode must be one of: f,p,n,z\")"
   ]
  },
  {
   "cell_type": "code",
   "execution_count": 81,
   "id": "b01f4065",
   "metadata": {},
   "outputs": [],
   "source": [
    "traces = {id: [None] * 4500 for id in trace_ids}\n",
    "indices = {id: 0 for id in trace_ids}"
   ]
  },
  {
   "cell_type": "code",
   "execution_count": 82,
   "id": "10861732",
   "metadata": {
    "scrolled": true
   },
   "outputs": [
    {
     "data": {
      "application/vnd.jupyter.widget-view+json": {
       "model_id": "4894e0e693444cb7ae830f0618d2e7fb",
       "version_major": 2,
       "version_minor": 0
      },
      "text/plain": [
       "  0%|          | 0/450000 [00:00<?, ?it/s]"
      ]
     },
     "metadata": {},
     "output_type": "display_data"
    }
   ],
   "source": [
    "# dictionary of all the traces as 2D numpy arrays\n",
    "# keeping track of index for each one and setting value is necessary\n",
    "# simple append is way too slow (>30 mins runtime)\n",
    "\n",
    "for i in tqdm(range(len(raw_traces))):\n",
    "    processed_trace = process(raw_traces[i], mode='p', remove_zeroes=True)\n",
    "    #processed_trace = raw_traces[i]\n",
    "    \n",
    "    \n",
    "    label = raw_labels[i]\n",
    "    \n",
    "    \n",
    "    traces[label][indices[label]] = processed_trace\n",
    "    indices[label] += 1"
   ]
  },
  {
   "cell_type": "code",
   "execution_count": 93,
   "id": "173300b1",
   "metadata": {},
   "outputs": [],
   "source": [
    "with open('../positive_traces.npy', 'wb') as f:\n",
    "    np.save(f, traces)"
   ]
  },
  {
   "cell_type": "code",
   "execution_count": 83,
   "id": "806865b4",
   "metadata": {},
   "outputs": [
    {
     "name": "stdout",
     "output_type": "stream",
     "text": [
      "100\n",
      "4500\n",
      "1020\n"
     ]
    }
   ],
   "source": [
    "print(len(traces))\n",
    "\n",
    "\n",
    "print(len(traces[0]))\n",
    "# print(len(traces[45]))\n",
    "print(len(traces[38][8]))\n",
    "# print(len(traces[45][50]))"
   ]
  },
  {
   "cell_type": "code",
   "execution_count": 92,
   "id": "27665ba2",
   "metadata": {},
   "outputs": [
    {
     "data": {
      "image/png": "[encoded data removed]",
      "text/plain": [
       "<Figure size 640x480 with 1 Axes>"
      ]
     },
     "metadata": {},
     "output_type": "display_data"
    }
   ],
   "source": [
    "plt.xlabel('Time', fontsize ='20')\n",
    "plt.ylabel('Packet Direction', fontsize='20')\n",
    "plt.plot(traces[37][500])\n",
    "plt.show()"
   ]
  },
  {
   "cell_type": "code",
   "execution_count": null,
   "id": "54331307",
   "metadata": {},
   "outputs": [],
   "source": []
  },
  {
   "cell_type": "code",
   "execution_count": 55,
   "id": "184786c1",
   "metadata": {},
   "outputs": [],
   "source": [
    "'''\n",
    "function for computing the complete stumpy scores with a multi-threaded approach\n",
    "\n",
    "s1: the primary trace for which scores are being computed\n",
    "s2: the other trace being compared with the primary\n",
    "sample_size: how many traces should be randomly selected from each trace set (default: 5)\n",
    "subseq_len: length of subsequences to be compared (default: 250)\n",
    "\n",
    "Requirements:\n",
    "s1, s2 are length 100\n",
    "sample_size is divisible by 100\n",
    "\n",
    "Returns:\n",
    "final score for the average distance between s1 and s2\n",
    "\n",
    "\n",
    "'''\n",
    "            \n",
    "def calculate_scores_threaded(\n",
    "    s1_list, s2_list, \n",
    "    sample_size = 2, \n",
    "    subseq_len = 250,\n",
    "    num_threads = 25):\n",
    "    \n",
    "    #print(sample_size)\n",
    "    #print(subseq_len)\n",
    "    s1_sample = random.sample(s1_list,sample_size)\n",
    "    s2_sample = random.sample(s2_list,sample_size)\n",
    "    \n",
    "    starmap = []\n",
    "    \n",
    "    # generate list of tuple arguments to be passed to pool\n",
    "    for i in range(sample_size):\n",
    "        s1 = s1_sample[i].astype('float64')\n",
    "        for j in range(i, sample_size):\n",
    "            s2 = s2_sample[j].astype('float64')\n",
    "            length = min(subseq_len, len(s1), len(s2))\n",
    "            #starmap.append((\"s1_\" + str(i),\"s2_\" + str(j),length))\n",
    "            starmap.append((s1,s2,length))\n",
    "    \n",
    "    \n",
    "    #print(starmap)\n",
    "    #print(\"Comparisons to make: \" + str(len(starmap)))\n",
    "    \n",
    "    \n",
    "    with Pool(num_threads) as p:\n",
    "        result = p.starmap(stumpy.mpdist, starmap)\n",
    "        #print(result)\n",
    "    \n",
    "    print(result)\n",
    "    \n",
    "    return statistics.mean(result)"
   ]
  },
  {
   "cell_type": "code",
   "execution_count": 56,
   "id": "b2fbf3b9",
   "metadata": {},
   "outputs": [
    {
     "data": {
      "application/vnd.jupyter.widget-view+json": {
       "model_id": "2d9b93716ce147559288ceb83ff854aa",
       "version_major": 2,
       "version_minor": 0
      },
      "text/plain": [
       "  0%|          | 0/1 [00:00<?, ?it/s]"
      ]
     },
     "metadata": {},
     "output_type": "display_data"
    },
    {
     "data": {
      "application/vnd.jupyter.widget-view+json": {
       "model_id": "9453ae35793e402fbc1c69fe95fc0597",
       "version_major": 2,
       "version_minor": 0
      },
      "text/plain": [
       "  0%|          | 0/1 [00:00<?, ?it/s]"
      ]
     },
     "metadata": {},
     "output_type": "display_data"
    },
    {
     "name": "stdout",
     "output_type": "stream",
     "text": [
      "[2.449229485665725, 2.2915002353927507, 2.868546455348835, 2.165677373047406, 2.0773846807899723, 4.149816775131067]\n"
     ]
    }
   ],
   "source": [
    "# TRAINING MODE\n",
    "# SECOND VERSION - MULTI THREAD\n",
    "\n",
    "final_scores = np.zeros((100,100))\n",
    "\n",
    "\n",
    "for i in tqdm(range(1)):\n",
    "    for j in tqdm(range(i,1)):\n",
    "        final_scores[i][j] = calculate_scores_threaded(traces[i],traces[j],sample_size=3,subseq_len=250)"
   ]
  },
  {
   "cell_type": "code",
   "execution_count": 21,
   "id": "34b1af6b",
   "metadata": {},
   "outputs": [
    {
     "name": "stdout",
     "output_type": "stream",
     "text": [
      "18.069801425419524\n"
     ]
    }
   ],
   "source": [
    "print(final_scores[0][0])"
   ]
  }
 ],
 "metadata": {
  "kernelspec": {
   "display_name": "Python 3 (ipykernel)",
   "language": "python",
   "name": "python3"
  },
  "language_info": {
   "codemirror_mode": {
    "name": "ipython",
    "version": 3
   },
   "file_extension": ".py",
   "mimetype": "text/x-python",
   "name": "python",
   "nbconvert_exporter": "python",
   "pygments_lexer": "ipython3",
   "version": "3.9.13"
  }
 },
 "nbformat": 4,
 "nbformat_minor": 5
}
