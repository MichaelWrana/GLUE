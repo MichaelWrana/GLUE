{
 "cells": [
  {
   "cell_type": "code",
   "execution_count": 1,
   "id": "6c6f2c98",
   "metadata": {},
   "outputs": [],
   "source": [
    "import stumpy\n",
    "import pickle\n",
    "import numpy as np\n",
    "import sklearn.metrics as metrics\n",
    "\n",
    "from pipelinetools import *\n",
    "from multiprocessing import Pool\n",
    "from sklearn.ensemble import RandomForestClassifier"
   ]
  },
  {
   "cell_type": "code",
   "execution_count": 3,
   "id": "15219925",
   "metadata": {},
   "outputs": [],
   "source": [
    "# LOAD AND TRAIN THE MODEL"
   ]
  },
  {
   "cell_type": "code",
   "execution_count": null,
   "id": "eff11562",
   "metadata": {},
   "outputs": [],
   "source": [
    "filenames_train_pos = make_name_list({\n",
    "    'data':['train'],\n",
    "    'centroid_id':list(range(2)),\n",
    "    'type':['pos']\n",
    "})\n",
    "filenames_test_pos = make_name_list({\n",
    "    'data':['test'],\n",
    "    'centroid_id':list(range(2)),\n",
    "    'type':['pos']\n",
    "})\n",
    "\n",
    "filenames_train_neg = make_name_list({\n",
    "    'data':['train'],\n",
    "    'centroid_id':list(range(2)),\n",
    "    'type':['neg']\n",
    "})\n",
    "filenames_test_neg = make_name_list({\n",
    "    'data':['test'],\n",
    "    'centroid_id':list(range(2)),\n",
    "    'type':['neg']\n",
    "})"
   ]
  },
  {
   "cell_type": "code",
   "execution_count": 4,
   "id": "b6351855",
   "metadata": {},
   "outputs": [],
   "source": [
    "traces_train = load_traces('transformer_train')\n",
    "traces_test = load_traces('transformer_test')\n",
    "traces_kfp = load_traces('transformer_kfp')"
   ]
  },
  {
   "cell_type": "code",
   "execution_count": null,
   "id": "2df0091a",
   "metadata": {},
   "outputs": [],
   "source": [
    "def make_merged_trace(traces):\n",
    "    X = []\n",
    "    y = []\n",
    "\n",
    "    for i in range(50000):\n",
    "        true_id = random.randint(0,49)\n",
    "\n",
    "        combo_trace = np.concatenate((\n",
    "            random.choice(traces[-1]),\n",
    "            random.choice(traces[true_id]),\n",
    "            random.choice(traces[-1]),\n",
    "        ))\n",
    "\n",
    "        X.append(combo_trace)\n",
    "        y.append(true_id)\n",
    "\n",
    "    return X, y"
   ]
  },
  {
   "cell_type": "code",
   "execution_count": 5,
   "id": "b799a692",
   "metadata": {},
   "outputs": [
    {
     "name": "stdout",
     "output_type": "stream",
     "text": [
      "50000\n"
     ]
    }
   ],
   "source": [
    "\n",
    "\n",
    "print(len(X_train))"
   ]
  },
  {
   "cell_type": "code",
   "execution_count": 6,
   "id": "d44ffed0",
   "metadata": {},
   "outputs": [
    {
     "name": "stdout",
     "output_type": "stream",
     "text": [
      "5000\n"
     ]
    }
   ],
   "source": [
    "X_test = []\n",
    "y_test = []\n",
    "\n",
    "\n",
    "for i in range(5000):\n",
    "    true_id = random.randint(0,49)\n",
    "    \n",
    "    combo_trace = np.concatenate((\n",
    "        random.choice(traces_test[-1]),\n",
    "        random.choice(traces_test[true_id]),\n",
    "        random.choice(traces_test[-1]),\n",
    "    ))\n",
    "\n",
    "    X_test.append(combo_trace)\n",
    "    y_test.append(true_id)\n",
    "\n",
    "print(len(X_test))"
   ]
  },
  {
   "cell_type": "code",
   "execution_count": 7,
   "id": "27c93f4e",
   "metadata": {},
   "outputs": [
    {
     "name": "stderr",
     "output_type": "stream",
     "text": [
      "100%|███████████████████████████████████████████| 50/50 [00:01<00:00, 47.26it/s]"
     ]
    },
    {
     "name": "stdout",
     "output_type": "stream",
     "text": [
      "Saving shapelets as ../results/shapelets/num_merged=4data=traincentroid_id=0\n",
      "Saving shapelets as ../results/shapelets/num_merged=4data=traincentroid_id=1\n"
     ]
    },
    {
     "name": "stderr",
     "output_type": "stream",
     "text": [
      "\n"
     ]
    }
   ],
   "source": [
    "del traces_train[-1]\n",
    "shapelets = generate_cluster_shapelets(traces_train, traces_kfp, 2)\n",
    "save_shapelets(shapelets, filenames_train)"
   ]
  },
  {
   "cell_type": "code",
   "execution_count": 8,
   "id": "2b9bf38e",
   "metadata": {},
   "outputs": [],
   "source": [
    "parameter_list = [] \n",
    "\n",
    "for i in range(len(filenames_train)):\n",
    "    parameter_set = [\n",
    "        filenames_train[i],\n",
    "        X_train,\n",
    "        y_train,\n",
    "        shapelets[i],\n",
    "        \"stumpy_min\"\n",
    "    ]\n",
    "    parameter_list.append(parameter_set)\n",
    "    \n",
    "for i in range(len(filenames_test)):\n",
    "    parameter_set = [\n",
    "        filenames_test[i],\n",
    "        X_test,\n",
    "        y_test,\n",
    "        shapelets[i],\n",
    "        \"stumpy_min\"\n",
    "    ]\n",
    "    parameter_list.append(parameter_set)"
   ]
  },
  {
   "cell_type": "code",
   "execution_count": 9,
   "id": "9743fbc0",
   "metadata": {},
   "outputs": [
    {
     "name": "stderr",
     "output_type": "stream",
     "text": [
      "100%|██████████| 5000/5000 [31:59<00:00,  2.61it/s]t/s]\n",
      "100%|██████████| 5000/5000 [32:05<00:00,  2.60it/s]/s] \n",
      "100%|██████████| 50000/50000 [5:47:57<00:00,  2.39it/s]   \n",
      "100%|██████████| 50000/50000 [5:48:37<00:00,  2.39it/s]\n"
     ]
    },
    {
     "name": "stdout",
     "output_type": "stream",
     "text": [
      "Saving X as ../results/data/X/num_merged=4data=testcentroid_id=1\n",
      "Saving y as ../results/data/y/num_merged=4data=testcentroid_id=1\n",
      "Saving X as ../results/data/X/num_merged=4data=testcentroid_id=0\n",
      "Saving y as ../results/data/y/num_merged=4data=testcentroid_id=0\n",
      "Saving X as ../results/data/X/num_merged=4data=traincentroid_id=1\n",
      "Saving y as ../results/data/y/num_merged=4data=traincentroid_id=1\n"
     ]
    }
   ],
   "source": [
    "with Pool(8) as p:\n",
    "    p.map(compute_shapelet_distances_mp, parameter_list)"
   ]
  },
  {
   "cell_type": "code",
   "execution_count": 10,
   "id": "5ebee493",
   "metadata": {},
   "outputs": [
    {
     "name": "stdout",
     "output_type": "stream",
     "text": [
      "Loading X from ../results/data/X/num_merged=4data=traincentroid_id=0\n",
      "Loading X from ../results/data/X/num_merged=4data=traincentroid_id=1\n",
      "Loading y from ../results/data/y/num_merged=4data=traincentroid_id=0\n",
      "Loading X from ../results/data/X/num_merged=4data=testcentroid_id=0\n",
      "Loading X from ../results/data/X/num_merged=4data=testcentroid_id=1\n",
      "Loading y from ../results/data/y/num_merged=4data=testcentroid_id=0\n"
     ]
    }
   ],
   "source": [
    "X_train, y_train = load_xy(filenames_train, True)\n",
    "X_test, y_test = load_xy(filenames_test, True)"
   ]
  },
  {
   "cell_type": "code",
   "execution_count": 11,
   "id": "b9f4e3dd",
   "metadata": {},
   "outputs": [
    {
     "name": "stdout",
     "output_type": "stream",
     "text": [
      "(50000, 100)\n"
     ]
    }
   ],
   "source": [
    "print(X_train.shape)"
   ]
  },
  {
   "cell_type": "code",
   "execution_count": 12,
   "id": "ee506384",
   "metadata": {},
   "outputs": [],
   "source": [
    "clf = RandomForestClassifier()\n",
    "\n",
    "clf.fit(X_train, y_train)\n",
    "y_pred = clf.predict(X_test)\n",
    "\n",
    "scores = metrics.accuracy_score(y_test, y_pred)"
   ]
  },
  {
   "cell_type": "code",
   "execution_count": 13,
   "id": "bb50357a",
   "metadata": {},
   "outputs": [
    {
     "name": "stdout",
     "output_type": "stream",
     "text": [
      "0.5042\n"
     ]
    }
   ],
   "source": [
    "print(scores)"
   ]
  },
  {
   "cell_type": "code",
   "execution_count": null,
   "id": "0117508b",
   "metadata": {},
   "outputs": [],
   "source": [
    "# (1) LOAD ORIGINALS OF BIGENOUGH DATASET AND CONVERT TO OUR FORMAT(ONLY RUN ONCE)"
   ]
  }
 ],
 "metadata": {
  "kernelspec": {
   "display_name": "Python 3 (ipykernel)",
   "language": "python",
   "name": "python3"
  },
  "language_info": {
   "codemirror_mode": {
    "name": "ipython",
    "version": 3
   },
   "file_extension": ".py",
   "mimetype": "text/x-python",
   "name": "python",
   "nbconvert_exporter": "python",
   "pygments_lexer": "ipython3",
   "version": "3.9.13"
  }
 },
 "nbformat": 4,
 "nbformat_minor": 5
}
