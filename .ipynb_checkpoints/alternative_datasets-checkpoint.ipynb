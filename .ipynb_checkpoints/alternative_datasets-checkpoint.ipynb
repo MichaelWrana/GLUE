{
 "cells": [
  {
   "cell_type": "code",
   "execution_count": 1,
   "id": "6c6f2c98",
   "metadata": {},
   "outputs": [],
   "source": [
    "from pipelinetools import *\n",
    "import stumpy\n",
    "import numpy as np\n",
    "from multiprocessing import Pool\n",
    "\n",
    "import sklearn.metrics as metrics\n",
    "from sklearn.model_selection import train_test_split\n",
    "from sklearn.ensemble import RandomForestClassifier"
   ]
  },
  {
   "cell_type": "code",
   "execution_count": 8,
   "id": "0117508b",
   "metadata": {},
   "outputs": [],
   "source": [
    "# (1) LOADING AND PRE-PROCESSING OF TRACE FILES"
   ]
  },
  {
   "cell_type": "code",
   "execution_count": 9,
   "id": "ed11b679",
   "metadata": {},
   "outputs": [],
   "source": [
    "traces = load_traces('ds19.npy')\n",
    "traces_kfp = load_traces('ds19_kfp.npy')"
   ]
  },
  {
   "cell_type": "code",
   "execution_count": 10,
   "id": "479c5cae",
   "metadata": {
    "scrolled": true
   },
   "outputs": [],
   "source": [
    "print(len(traces))\n",
    "print(len(traces[4]))\n",
    "print(len(traces[4][0]))\n",
    "demo_trace = traces[4][0]\n",
    "print(demo_trace)"
   ]
  },
  {
   "cell_type": "code",
   "execution_count": 11,
   "id": "a6d1da2f",
   "metadata": {},
   "outputs": [],
   "source": [
    "# remove zeros from all traces\n",
    "demo_traces = process_traces(traces,'z')\n",
    "print(demo_traces[4][0])\n",
    "\n",
    "# only negative-valued packets\n",
    "demo_traces = process_traces(traces,'n')\n",
    "print(demo_traces[4][0])\n",
    "\n",
    "# only positive-valued packets\n",
    "demo_traces = process_traces(traces,'p')\n",
    "print(demo_traces[4][0])\n",
    "\n",
    "# inter-packet timing\n",
    "demo_traces = process_traces(traces,'ipt')\n",
    "print(demo_traces[4][0])\n",
    "\n",
    "# k-fingerprinting features\n",
    "demo_traces = process_traces(traces,'kfp')\n",
    "print(demo_traces[4][0])"
   ]
  },
  {
   "cell_type": "code",
   "execution_count": 12,
   "id": "bb45c09d",
   "metadata": {},
   "outputs": [],
   "source": [
    "# (2) GENERATING, SAVING AND LOADING SHAPELETS TO/FROM FILES"
   ]
  },
  {
   "cell_type": "code",
   "execution_count": 13,
   "id": "36317d48",
   "metadata": {},
   "outputs": [],
   "source": [
    "print(len(traces[10][0])) # sample trace from class #10\n",
    "\n",
    "# generating shapelets randomly and saving to file\n",
    "shapelet_filenames = make_name_list({'num':list(range(4))})\n",
    "shapelets = generate_random_shapelets(traces, 4)\n",
    "print(len(shapelets[0][10]))\n",
    "save_shapelets(shapelets, shapelet_filenames)\n",
    "\n",
    "# loading from file\n",
    "shapelets = load_shapelets(shapelet_filenames)\n",
    "print(len(shapelets[0][10]))\n",
    "\n",
    "# generating shapelets as cluster centers and saving to file\n",
    "shapelet_filenames = make_name_list({'num':[0], 'centroid_id':list(range(3))})\n",
    "shapelets = generate_cluster_shapelets(traces, traces_kfp, 3)\n",
    "print(len(shapelets[0][10]))\n",
    "save_shapelets(shapelets, shapelet_filenames)\n",
    "\n",
    "# loading from file\n",
    "shapelets = load_shapelets(shapelet_filenames)\n",
    "print(len(shapelets[0][10]))"
   ]
  },
  {
   "cell_type": "code",
   "execution_count": null,
   "id": "6c3ff132",
   "metadata": {},
   "outputs": [],
   "source": [
    "# # (3) SINGLE-THREAD PIPELINE\n",
    "\n",
    "X, y = traces_to_xy(traces)\n",
    "\n",
    "print(len(X))\n",
    "print(len(y))\n",
    "\n",
    "shapelets  = load_shapelets('num=0')\n",
    "print(len(shapelets))\n",
    "\n",
    "# \"custom\" distance between shapelet and trace function\n",
    "def stumpy_distance(shapelet, trace):\n",
    "    try:\n",
    "        distance = stumpy.mass(shapelet, trace)\n",
    "    except ValueError:\n",
    "        distance = stumpy.mass(trace, shapelet)\n",
    "    \n",
    "    return distance.min()\n",
    "\n",
    "X = compute_shapelet_distances(X, shapelets, stumpy_distance)\n",
    "\n",
    "clf = RandomForestClassifier()\n",
    "X_train, X_test, y_train, y_test = train_test_split(X, y, test_size=0.1)\n",
    "\n",
    "clf.fit(X_train, y_train)\n",
    "y_pred = clf.predict(X_test)\n",
    "\n",
    "scores = metrics.accuracy_score(y_test, y_pred)\n",
    "\n",
    "print(scores)"
   ]
  },
  {
   "cell_type": "code",
   "execution_count": 2,
   "id": "c1bbc278",
   "metadata": {},
   "outputs": [],
   "source": [
    "# (4) MULTI-THREAD PIPELINE"
   ]
  },
  {
   "cell_type": "code",
   "execution_count": 4,
   "id": "c2ce297a",
   "metadata": {},
   "outputs": [],
   "source": [
    "def _stumpy_distance(shapelet, trace):\n",
    "    try:\n",
    "        distance = stumpy.mass(shapelet, trace)\n",
    "    except ValueError:\n",
    "        distance = stumpy.mass(trace, shapelet)\n",
    "    \n",
    "    return distance.min()\n",
    "\n",
    "shapelet_filenames = make_name_list({'num':list(range(4))})\n",
    "shapelets = load_shapelets(shapelet_filenames)\n",
    "\n",
    "parameter_list = [] \n",
    "for i in range(len(shapelet_filenames)):\n",
    "    X, y = traces_to_xy(traces)\n",
    "    \n",
    "    parameter_set = [\n",
    "        shapelet_filenames[i],\n",
    "        X,\n",
    "        y,\n",
    "        shapelets[i],\n",
    "        \"stumpy\"\n",
    "    ]\n",
    "    \n",
    "    parameter_list.append(parameter_set)\n",
    "    \n",
    "print(len(parameter_list))\n",
    "\n",
    "# unfortunately, multiprocessing is annoying (as always)\n",
    "\n",
    "# multiprocessing does not allow for functions to be passed as arguments\n",
    "# We need to copy-paste the distance function into compute_shapelet_distances_mp for stuff to work\n",
    "\n",
    "# multiprocessing does not allow for functions to return any information\n",
    "# the results of the shapelet distance computations will be automatically saved into x and y files\n",
    "\n",
    "with Pool(4) as p:\n",
    "    p.map(compute_shapelet_distances_mp, parameter_list)\n",
    "    \n",
    "X, y = load_xy(shapelet_filenames, True)\n",
    "\n",
    "X.shape"
   ]
  }
 ],
 "metadata": {
  "kernelspec": {
   "display_name": "Python 3 (ipykernel)",
   "language": "python",
   "name": "python3"
  },
  "language_info": {
   "codemirror_mode": {
    "name": "ipython",
    "version": 3
   },
   "file_extension": ".py",
   "mimetype": "text/x-python",
   "name": "python",
   "nbconvert_exporter": "python",
   "pygments_lexer": "ipython3",
   "version": "3.9.13"
  }
 },
 "nbformat": 4,
 "nbformat_minor": 5
}
