{
 "cells": [
  {
   "cell_type": "code",
   "execution_count": 21,
   "id": "c1b6b6e8",
   "metadata": {},
   "outputs": [],
   "source": [
    "import stumpy\n",
    "import numpy as np\n",
    "import random\n",
    "import pickle\n",
    "\n",
    "from tqdm.auto import tqdm\n",
    "from multiprocessing import Pool\n",
    "from itertools import product\n",
    "\n",
    "import sklearn.metrics as metrics\n",
    "from sklearn.model_selection import train_test_split, cross_val_score\n",
    "from sklearn.ensemble import RandomForestClassifier"
   ]
  },
  {
   "cell_type": "code",
   "execution_count": 22,
   "id": "651bd8de",
   "metadata": {},
   "outputs": [],
   "source": [
    "def distance_to_shapelet(data, shapelets):    \n",
    "    # processed output data\n",
    "    data_out = np.zeros((len(data),len(shapelets)))\n",
    "    \n",
    "    # loop over each sample in the dataset\n",
    "    for i,sample in enumerate(tqdm(data)):\n",
    "        shapelet_score = [None] * len(shapelets)\n",
    "        # for each shapelet, calculate distance and assign a score\n",
    "        for j,shapelet in enumerate(shapelets):\n",
    "            try:\n",
    "                dist = stumpy.mass(shapelet, sample)\n",
    "            except ValueError:\n",
    "                dist = stumpy.mass(sample, shapelet)\n",
    "            shapelet_score[j] = dist\n",
    "    \n",
    "        data_out[i] = shapelet_score\n",
    "    \n",
    "    return data_out\n",
    "\n",
    "def process_traces(shapelets, namestring):\n",
    "    X, y = [], []\n",
    "    \n",
    "    with open(\"../results/data/distances/\" + namestring + \"min=1\", 'rb') as f:\n",
    "        min_dist_traceids = pickle.load(f) \n",
    "    with open(\"../results/data/distances/\" + namestring + \"min=0\", 'rb') as f:\n",
    "        other_traceids = pickle.load(f)\n",
    "    \n",
    "    for i in tqdm(range(25000)):\n",
    "        main_id = random.choice(min_dist_traceids)\n",
    "        other_id_1 = random.choice(other_traceids)\n",
    "        other_id_2 = random.choice(other_traceids)\n",
    "        \n",
    "        combo_trace = np.concatenate((\n",
    "            random.choice(traces[other_id_1]),\n",
    "            random.choice(traces[main_id]),\n",
    "            random.choice(traces[other_id_2]),\n",
    "        ))\n",
    "\n",
    "        X.append(combo_trace)\n",
    "        y.append(main_id)\n",
    "    \n",
    "    \n",
    "#     iterate over dictionary and re-format into X and y\n",
    "#     for trace_id, trace_vals in traces.items():\n",
    "#         for trace in trace_vals:\n",
    "#             X.append(trace)\n",
    "#             y.append(trace_id)\n",
    "    \n",
    "    print(\"Processing \" + namestring + \"... \" + \"(\" + str(len(X)) + \" traces)\")\n",
    "    \n",
    "    # convert traces into float64 data type\n",
    "    X = [np.asarray(trace).astype('float64') for trace in X]\n",
    "    # clear empty trace values in data\n",
    "    X = [trace[~np.isnan(trace)] for trace in X]    \n",
    "    # compute distance between input trace and shapelet arrays\n",
    "    # return as new X\n",
    "    X = distance_to_shapelet(X, shapelets)\n",
    "    \n",
    "    return X, y"
   ]
  },
  {
   "cell_type": "code",
   "execution_count": 14,
   "id": "146c66f6",
   "metadata": {},
   "outputs": [],
   "source": [
    "# note: python multiprocessing is really annoying to work with\n",
    "# function needs to be in a separate .py file which is imported\n",
    "# and function can only have 1 argument\n",
    "# list input which is immediately used for what would be the arguments\n",
    "def evaluate_parameters(namestring):\n",
    "    \n",
    "    print(namestring)\n",
    "    \n",
    "    files = {\n",
    "        'shapelets': folder_shapelets + namestring,\n",
    "        'X': folder_X + namestring,\n",
    "        'y': folder_y + namestring\n",
    "    }\n",
    "    try:\n",
    "        with open(files['shapelets'], 'rb') as f:\n",
    "            shapelets = pickle.load(f)\n",
    "    except FileNotFoundError:\n",
    "        print(\"Shapelet File Missing:\" + files['shapelets'] + \", skipping...\")\n",
    "        return\n",
    "    \n",
    "    shapelets = [shapelet.astype('float64') for shapelet in shapelets]\n",
    "    \n",
    "    X, y = process_traces(shapelets, namestring)\n",
    "    \n",
    "    with open(files['X'], 'wb') as f:\n",
    "        pickle.dump(X, f)\n",
    "        \n",
    "    with open(files['y'], 'wb') as f:\n",
    "        pickle.dump(y, f)"
   ]
  },
  {
   "cell_type": "code",
   "execution_count": 15,
   "id": "485914fc",
   "metadata": {},
   "outputs": [],
   "source": [
    "def classifier_performance(X, y, perclass, cv=False):\n",
    "    \n",
    "    clf = RandomForestClassifier()\n",
    "    X_train, X_test, y_train, y_test = train_test_split(X, y, test_size=0.1)\n",
    "    \n",
    "    clf.fit(X_train, y_train)\n",
    "    y_pred = clf.predict(X_test)\n",
    "    \n",
    "    if cv:\n",
    "        return np.mean(cross_val_score(clf, X, y, cv=5))\n",
    "    if perclass:\n",
    "        matrix = metrics.confusion_matrix(y_test, y_pred)\n",
    "        scores = matrix.diagonal()/matrix.sum(axis=1)\n",
    "    else:\n",
    "        scores = metrics.accuracy_score(y_test, y_pred)\n",
    "    \n",
    "    return scores"
   ]
  },
  {
   "cell_type": "code",
   "execution_count": 16,
   "id": "cc42c345",
   "metadata": {},
   "outputs": [],
   "source": [
    "def make_namestring_list(namestring_dict):\n",
    "    \n",
    "    name_components = []\n",
    "    for cat in namestring_dict:\n",
    "        values = namestring_dict[cat]\n",
    "        name_components.append([str(cat) + \"=\" + str(value) for value in values])\n",
    "    \n",
    "    namestring_list = [''.join(item) for item in product(*name_components)]\n",
    "    \n",
    "    return namestring_list"
   ]
  },
  {
   "cell_type": "code",
   "execution_count": 17,
   "id": "6ef364fb",
   "metadata": {},
   "outputs": [],
   "source": [
    "def merge_x(namestring_list, verbose=True):\n",
    "    \n",
    "    X = ()\n",
    "\n",
    "    for filename in namestring_list:\n",
    "        if verbose: print(filename)\n",
    "        with open(folder_X + filename, 'rb') as f:\n",
    "            Xi = pickle.load(f)\n",
    "        X = X + (Xi,) \n",
    "\n",
    "    X = np.concatenate(X, axis=1)\n",
    "\n",
    "    with open(folder_y + namestring_list[0], 'rb') as f:\n",
    "        y = pickle.load(f)\n",
    "    y = np.array(y) \n",
    "    \n",
    "    if verbose: print(X.shape);print(y.shape);\n",
    "    \n",
    "    return X, y"
   ]
  },
  {
   "cell_type": "code",
   "execution_count": 18,
   "id": "29be066e",
   "metadata": {},
   "outputs": [],
   "source": [
    "def batch_classifier(namestring_list, perclass=False, repeat=1):\n",
    "        \n",
    "    for name in namestring_list:\n",
    "        with open(folder_X + name, 'rb') as f:\n",
    "            X = pickle.load(f)\n",
    "        with open(folder_y + name, 'rb') as f:\n",
    "            y = pickle.load(f)\n",
    "            \n",
    "        all_scores = []\n",
    "        for i in range(repeat):\n",
    "            clf = RandomForestClassifier()\n",
    "            scores = classifier_performance(X, y, perclass, cv=True)\n",
    "            all_scores.append(scores)\n",
    "        \n",
    "        print(name + \": \" + str(all_scores))\n",
    "        with open(folder_scores + name, 'wb') as f:\n",
    "            pickle.dump(all_scores, f)\n",
    "\n",
    "def batch_merged_classifier(listof_namestring_list, perclass=False, repeat=1):\n",
    "    for namestring_list in listof_namestring_list:\n",
    "        X, y = merge_x(namestring_list, False)\n",
    "        \n",
    "        all_scores = []\n",
    "        for i in range(repeat):\n",
    "            clf = RandomForestClassifier()\n",
    "            scores = classifier_performance(X, y, perclass, cv=True)\n",
    "            all_scores.append(scores)\n",
    "        \n",
    "        outfile = '-'.join(namestring_list) + \"_merged\"\n",
    "        print(outfile + \": \" + str(all_scores))\n",
    "        with open(folder_scores + outfile, 'wb') as f:\n",
    "            pickle.dump(all_scores, f)"
   ]
  },
  {
   "cell_type": "code",
   "execution_count": 19,
   "id": "ae8b92b2",
   "metadata": {},
   "outputs": [],
   "source": [
    "# SETUP GLOBAL VARIABLES\n",
    "# techincally, in jupyter notebook these dont need to be global and everything will run fine\n",
    "# for the the sake of clarity, I have made them global\n",
    "\n",
    "global traces\n",
    "with open(\"../datasets/ds19.npy\", 'rb') as f:\n",
    "    traces = pickle.load(f)\n",
    "\n",
    "global folder_scores\n",
    "folder_scores = \"../results/scores/\"\n",
    "global folder_shapelets\n",
    "folder_shapelets = \"../results/shapelets/\"\n",
    "global folder_X\n",
    "folder_X = \"../results/data/X/\"\n",
    "global folder_y\n",
    "folder_y = \"../results/data/y/\"\n"
   ]
  },
  {
   "cell_type": "code",
   "execution_count": null,
   "id": "0060f4ab",
   "metadata": {},
   "outputs": [],
   "source": [
    "## PART 2\n",
    "\n",
    "namestring_list = make_namestring_list({'num':[*range(6)]})\n",
    "print(namestring_list)\n",
    "\n",
    "if __name__ == '__main__':\n",
    "\n",
    "    from utils import evaluate_parameters\n",
    "    \n",
    "    with Pool(6) as p:\n",
    "        p.map(evaluate_parameters, namestring_list)"
   ]
  },
  {
   "cell_type": "code",
   "execution_count": 23,
   "id": "58ab9e77",
   "metadata": {},
   "outputs": [
    {
     "name": "stdout",
     "output_type": "stream",
     "text": [
      "num=1\n"
     ]
    },
    {
     "data": {
      "application/vnd.jupyter.widget-view+json": {
       "model_id": "8d38f1536f60405c8d80b87d45f1cdf3",
       "version_major": 2,
       "version_minor": 0
      },
      "text/plain": [
       "  0%|          | 0/25000 [00:00<?, ?it/s]"
      ]
     },
     "metadata": {},
     "output_type": "display_data"
    },
    {
     "name": "stdout",
     "output_type": "stream",
     "text": [
      "Processing num=1... (25000 traces)\n"
     ]
    },
    {
     "data": {
      "application/vnd.jupyter.widget-view+json": {
       "model_id": "ddbb515172d04538bfd4234a64048ea9",
       "version_major": 2,
       "version_minor": 0
      },
      "text/plain": [
       "  0%|          | 0/25000 [00:00<?, ?it/s]"
      ]
     },
     "metadata": {},
     "output_type": "display_data"
    }
   ],
   "source": [
    "evaluate_parameters(\"num=1\")"
   ]
  },
  {
   "cell_type": "code",
   "execution_count": 30,
   "id": "3f1550eb",
   "metadata": {},
   "outputs": [
    {
     "name": "stdout",
     "output_type": "stream",
     "text": [
      "num=1: [0.55676, 0.5526000000000001, 0.55296, 0.55616, 0.5531200000000001]\n"
     ]
    }
   ],
   "source": [
    "batch_classifier([\"num=1\"], repeat=5)"
   ]
  },
  {
   "cell_type": "code",
   "execution_count": 26,
   "id": "d9d28c02",
   "metadata": {},
   "outputs": [
    {
     "name": "stdout",
     "output_type": "stream",
     "text": [
      "num=15size=0: [0.857]\n"
     ]
    }
   ],
   "source": [
    "batch_classifier(make_namestring_list({'num':[15],'size':[0]}))"
   ]
  },
  {
   "cell_type": "code",
   "execution_count": 24,
   "id": "1745c0bb",
   "metadata": {},
   "outputs": [
    {
     "name": "stdout",
     "output_type": "stream",
     "text": [
      "num=26size=0-num=33size=0_merged: [0.8752000000000001]\n",
      "num=15size=0-num=13size=0-num=28size=0_merged: [0.8764]\n",
      "num=26size=0-num=33size=0-num=30size=0-num=15size=0_merged: [0.8811]\n",
      "num=14size=0-num=22size=0-num=6size=0-num=19size=0-num=33size=0_merged: [0.8787]\n"
     ]
    }
   ],
   "source": [
    "for i in range(2,6):\n",
    "    listof_namestring_list = [make_namestring_list({'num':random.sample(range(36), i), 'size':[0]}) for j in range(1)]\n",
    "    batch_merged_classifier(listof_namestring_list, repeat=1)"
   ]
  },
  {
   "cell_type": "code",
   "execution_count": 25,
   "id": "a1d797ed",
   "metadata": {},
   "outputs": [
    {
     "name": "stdout",
     "output_type": "stream",
     "text": [
      "[['n_clusters=2num=0', 'n_clusters=2num=1'], ['n_clusters=3num=0', 'n_clusters=3num=1', 'n_clusters=3num=2'], ['n_clusters=4num=0', 'n_clusters=4num=1', 'n_clusters=4num=2', 'n_clusters=4num=3']]\n",
      "n_clusters=2num=0-n_clusters=2num=1_merged: [0.8872]\n",
      "n_clusters=3num=0-n_clusters=3num=1-n_clusters=3num=2_merged: [0.8913]\n",
      "n_clusters=4num=0-n_clusters=4num=1-n_clusters=4num=2-n_clusters=4num=3_merged: [0.8943999999999999]\n"
     ]
    }
   ],
   "source": [
    "listof_namestring_list = [\n",
    "    make_namestring_list({'n_clusters':'2','num':[*range(2)]}),\n",
    "    make_namestring_list({'n_clusters':'3','num':[*range(3)]}),\n",
    "    make_namestring_list({'n_clusters':'4','num':[*range(4)]}),\n",
    "]\n",
    "\n",
    "print(listof_namestring_list)\n",
    "\n",
    "batch_merged_classifier(listof_namestring_list, repeat=1)"
   ]
  },
  {
   "cell_type": "code",
   "execution_count": 25,
   "id": "1ad51fa3",
   "metadata": {},
   "outputs": [],
   "source": [
    "import xgboost as xgb\n",
    "from hyperopt import fmin, tpe, hp, STATUS_OK"
   ]
  },
  {
   "cell_type": "code",
   "execution_count": 26,
   "id": "4ddfd362",
   "metadata": {},
   "outputs": [],
   "source": [
    "# Create training, testing, and validation sets\n",
    "#X,y = merge_x(make_namestring_list({'n_clusters':'4','num':[*range(4)]}), False)\n",
    "X, y = merge_x(make_namestring_list({'norm':'1'}), False)\n",
    "\n",
    "X_train, X_test, y_train, y_test = train_test_split(X, y, test_size=1000)\n",
    "X_train, X_val, y_train, y_val = train_test_split(X_train, y_train, test_size=1000)\n",
    "\n",
    "dtrain_reg = xgb.DMatrix(X_train, y_train, enable_categorical=True)\n",
    "dval_reg = xgb.DMatrix(X_val, y_val, enable_categorical=True)\n",
    "dtest_reg = xgb.DMatrix(X_test, y_test, enable_categorical=True)"
   ]
  },
  {
   "cell_type": "code",
   "execution_count": 27,
   "id": "277c263c",
   "metadata": {},
   "outputs": [],
   "source": [
    "def score(params):\n",
    "    print(\"Training with: \", end=\"\")\n",
    "    print(params)\n",
    "    \n",
    "    num_boost_round = params['num_boost_round']\n",
    "    del params['num_boost_round']\n",
    "    \n",
    "    model = xgb.train(\n",
    "        params=params,\n",
    "        dtrain=dtrain_reg,\n",
    "        num_boost_round=num_boost_round,\n",
    "    )\n",
    "    \n",
    "    y_pred = model.predict(dval_reg)\n",
    "    score = metrics.accuracy_score(y_val, y_pred)\n",
    "    return {'loss': 1 - score, 'status': STATUS_OK,}\n",
    "    "
   ]
  },
  {
   "cell_type": "code",
   "execution_count": 28,
   "id": "63c2ec97",
   "metadata": {},
   "outputs": [],
   "source": [
    "# XGBoost Hyper-parameter optimization\n",
    "search_space = {\n",
    "    \"objective\": \"multi:softmax\",\n",
    "    \"num_class\": 100,\n",
    "    \"booster\": \"gbtree\",\n",
    "    \"sampling_method\": 'uniform',\n",
    "    \"num_boost_round\": hp.randint(\"num_boost_round\", 100) + 100,\n",
    "    \"eta\": hp.uniform(\"eta\", 0, 1),\n",
    "    \"gamma\": hp.lognormal(\"gamma\", 0, 1),\n",
    "    \"max_depth\": hp.randint(\"max_depth\", 9) + 1,\n",
    "    \"min_child_weight\": hp.lognormal(\"min_child_weight\", 0, 1),\n",
    "    \"max_delta_step\": hp.lognormal(\"max_delta_step\", 0, 1),\n",
    "    \"subsample\": hp.uniform(\"subsample\", 0.5, 1),\n",
    "    \"colsample_bytree\": hp.uniform(\"colsample_bytree\", 0.5, 1),\n",
    "    \"colsample_bylevel\": hp.uniform(\"colsample_bylevel\", 0.5, 1),\n",
    "    \"colsample_bynode\": hp.uniform(\"colsample_bynode\", 0.5, 1),\n",
    "    \"lambda\": hp.lognormal(\"lambda\", 0, 1),\n",
    "    \"alpha\": hp.lognormal(\"alpha\", 0, 1),\n",
    "    \"tree_method\": hp.choice(\"tree_method\", ['auto', 'exact','approx','hist']),\n",
    "    \"grow_policy\": hp.choice(\"grow_policy\", ['depthwise', 'lossguide']),\n",
    "    \"eval_metric\": hp.choice(\"eval_metric\", ['rmse','rmsle','mae','mape','mphe','mlogloss','merror','map']) \n",
    "}"
   ]
  },
  {
   "cell_type": "code",
   "execution_count": 29,
   "id": "ce83eeca",
   "metadata": {},
   "outputs": [
    {
     "name": "stdout",
     "output_type": "stream",
     "text": [
      "Training with:                                                                  \n",
      "{'alpha': 4.150142439674216, 'booster': 'gbtree', 'colsample_bylevel': 0.8312229885124459, 'colsample_bynode': 0.9095906074940869, 'colsample_bytree': 0.6070647781717211, 'eta': 0.20345209929417551, 'eval_metric': 'mae', 'gamma': 1.2684880352423338, 'grow_policy': 'lossguide', 'lambda': 1.3954498069394867, 'max_delta_step': 0.718899201166303, 'max_depth': 5, 'min_child_weight': 0.6260894282099256, 'num_boost_round': 107, 'num_class': 100, 'objective': 'multi:softmax', 'sampling_method': 'uniform', 'subsample': 0.6481660334006136, 'tree_method': 'exact'}\n",
      "Training with:                                                                  \n",
      "{'alpha': 0.2515232267078622, 'booster': 'gbtree', 'colsample_bylevel': 0.6243248890150737, 'colsample_bynode': 0.5408770771041027, 'colsample_bytree': 0.8058410268360856, 'eta': 0.44195745863229896, 'eval_metric': 'mlogloss', 'gamma': 2.9318575170399246, 'grow_policy': 'depthwise', 'lambda': 2.132146188320338, 'max_delta_step': 3.581864503143366, 'max_depth': 4, 'min_child_weight': 0.12626514953044227, 'num_boost_round': 187, 'num_class': 100, 'objective': 'multi:softmax', 'sampling_method': 'uniform', 'subsample': 0.9205395394951225, 'tree_method': 'approx'}\n",
      "Training with:                                                                  \n",
      "{'alpha': 7.203799689835595, 'booster': 'gbtree', 'colsample_bylevel': 0.5447661854823862, 'colsample_bynode': 0.6790776081826981, 'colsample_bytree': 0.7613266318455274, 'eta': 0.9870343429040718, 'eval_metric': 'rmse', 'gamma': 3.443940538661377, 'grow_policy': 'depthwise', 'lambda': 0.47042642968104637, 'max_delta_step': 20.223245854917643, 'max_depth': 3, 'min_child_weight': 1.8233650163417034, 'num_boost_round': 198, 'num_class': 100, 'objective': 'multi:softmax', 'sampling_method': 'uniform', 'subsample': 0.5178197125093289, 'tree_method': 'auto'}\n",
      "Training with:                                                                  \n",
      "{'alpha': 2.929844861017506, 'booster': 'gbtree', 'colsample_bylevel': 0.7118403146384813, 'colsample_bynode': 0.7450851629770296, 'colsample_bytree': 0.7181821107109732, 'eta': 0.3683003215449534, 'eval_metric': 'mae', 'gamma': 0.4434238965410555, 'grow_policy': 'lossguide', 'lambda': 1.5521245111908575, 'max_delta_step': 1.684361064616194, 'max_depth': 6, 'min_child_weight': 1.064203548434895, 'num_boost_round': 109, 'num_class': 100, 'objective': 'multi:softmax', 'sampling_method': 'uniform', 'subsample': 0.5084906416966981, 'tree_method': 'hist'}\n",
      "Training with:                                                                  \n",
      "{'alpha': 1.291099427961848, 'booster': 'gbtree', 'colsample_bylevel': 0.6636425239314907, 'colsample_bynode': 0.7607689273955673, 'colsample_bytree': 0.795168548153931, 'eta': 0.46913718277238015, 'eval_metric': 'map', 'gamma': 0.2714912591215456, 'grow_policy': 'lossguide', 'lambda': 2.7511027225502973, 'max_delta_step': 0.6481283121864723, 'max_depth': 5, 'min_child_weight': 4.492678095655528, 'num_boost_round': 107, 'num_class': 100, 'objective': 'multi:softmax', 'sampling_method': 'uniform', 'subsample': 0.774196024988519, 'tree_method': 'hist'}\n",
      "Training with:                                                                  \n",
      "{'alpha': 0.10653314353659857, 'booster': 'gbtree', 'colsample_bylevel': 0.6425143693447255, 'colsample_bynode': 0.9640635110148272, 'colsample_bytree': 0.6301912330384765, 'eta': 0.3037004378392817, 'eval_metric': 'rmse', 'gamma': 1.6702637911967335, 'grow_policy': 'depthwise', 'lambda': 11.275826016196314, 'max_delta_step': 0.3612021988440714, 'max_depth': 6, 'min_child_weight': 0.15194165576506743, 'num_boost_round': 143, 'num_class': 100, 'objective': 'multi:softmax', 'sampling_method': 'uniform', 'subsample': 0.581450346129732, 'tree_method': 'hist'}\n",
      "Training with:                                                                  \n",
      "{'alpha': 2.5090411949117866, 'booster': 'gbtree', 'colsample_bylevel': 0.6648019290892306, 'colsample_bynode': 0.9785874543898921, 'colsample_bytree': 0.7643395819184454, 'eta': 0.3083274108917812, 'eval_metric': 'merror', 'gamma': 1.860800343553093, 'grow_policy': 'depthwise', 'lambda': 0.3349112794693226, 'max_delta_step': 1.353797182933473, 'max_depth': 6, 'min_child_weight': 11.745740275348496, 'num_boost_round': 128, 'num_class': 100, 'objective': 'multi:softmax', 'sampling_method': 'uniform', 'subsample': 0.9201276218749783, 'tree_method': 'exact'}\n",
      "Training with:                                                                  \n",
      "{'alpha': 0.5794389000251793, 'booster': 'gbtree', 'colsample_bylevel': 0.795999350292308, 'colsample_bynode': 0.6444573933670223, 'colsample_bytree': 0.6555634534617931, 'eta': 0.5526267001582282, 'eval_metric': 'rmse', 'gamma': 0.9388483168451661, 'grow_policy': 'lossguide', 'lambda': 1.0020661435939802, 'max_delta_step': 1.8333526286168695, 'max_depth': 1, 'min_child_weight': 12.247648245228913, 'num_boost_round': 149, 'num_class': 100, 'objective': 'multi:softmax', 'sampling_method': 'uniform', 'subsample': 0.5724006297326358, 'tree_method': 'auto'}\n",
      "Training with:                                                                  \n",
      "{'alpha': 1.3505705613793075, 'booster': 'gbtree', 'colsample_bylevel': 0.658610477606056, 'colsample_bynode': 0.806283879559134, 'colsample_bytree': 0.8252387279342621, 'eta': 0.08077686580715848, 'eval_metric': 'mae', 'gamma': 0.6189286540371104, 'grow_policy': 'depthwise', 'lambda': 2.2640591997215287, 'max_delta_step': 1.5718838357012177, 'max_depth': 7, 'min_child_weight': 3.730317503619504, 'num_boost_round': 149, 'num_class': 100, 'objective': 'multi:softmax', 'sampling_method': 'uniform', 'subsample': 0.6928060512381472, 'tree_method': 'exact'}\n",
      "Training with:                                                                  \n",
      "{'alpha': 0.707421411895389, 'booster': 'gbtree', 'colsample_bylevel': 0.9158936725244333, 'colsample_bynode': 0.6152918404774372, 'colsample_bytree': 0.9965761083063633, 'eta': 0.6625052113028335, 'eval_metric': 'mphe', 'gamma': 2.8593311374708064, 'grow_policy': 'depthwise', 'lambda': 0.5236891467785603, 'max_delta_step': 2.0294876310540926, 'max_depth': 6, 'min_child_weight': 0.06988828102292056, 'num_boost_round': 146, 'num_class': 100, 'objective': 'multi:softmax', 'sampling_method': 'uniform', 'subsample': 0.5572698973803896, 'tree_method': 'approx'}\n",
      "Training with:                                                                  \n",
      "{'alpha': 0.6249663392560326, 'booster': 'gbtree', 'colsample_bylevel': 0.5432842580834655, 'colsample_bynode': 0.9528334794762154, 'colsample_bytree': 0.951477960960566, 'eta': 0.0661921474059225, 'eval_metric': 'merror', 'gamma': 1.226992045004192, 'grow_policy': 'depthwise', 'lambda': 2.523040695020178, 'max_delta_step': 0.4378163156347201, 'max_depth': 4, 'min_child_weight': 0.6412632804664469, 'num_boost_round': 141, 'num_class': 100, 'objective': 'multi:softmax', 'sampling_method': 'uniform', 'subsample': 0.9495719758024308, 'tree_method': 'hist'}\n",
      "Training with:                                                                  \n",
      "{'alpha': 0.953752546869017, 'booster': 'gbtree', 'colsample_bylevel': 0.7816054557416555, 'colsample_bynode': 0.6011231448245271, 'colsample_bytree': 0.591221890742746, 'eta': 0.3031154684567915, 'eval_metric': 'merror', 'gamma': 0.25784085654172745, 'grow_policy': 'depthwise', 'lambda': 0.7816452220382508, 'max_delta_step': 1.6843247623431752, 'max_depth': 4, 'min_child_weight': 1.2580357180856552, 'num_boost_round': 190, 'num_class': 100, 'objective': 'multi:softmax', 'sampling_method': 'uniform', 'subsample': 0.9509342451185048, 'tree_method': 'auto'}\n",
      "Training with:                                                                  \n",
      "{'alpha': 0.33295356140180393, 'booster': 'gbtree', 'colsample_bylevel': 0.5707440942937676, 'colsample_bynode': 0.7760063890302118, 'colsample_bytree': 0.7465649602912277, 'eta': 0.15452974311029166, 'eval_metric': 'mape', 'gamma': 1.1460700211688506, 'grow_policy': 'lossguide', 'lambda': 1.43570749381602, 'max_delta_step': 0.7239694113178964, 'max_depth': 1, 'min_child_weight': 1.2854532203483224, 'num_boost_round': 192, 'num_class': 100, 'objective': 'multi:softmax', 'sampling_method': 'uniform', 'subsample': 0.7290627352725705, 'tree_method': 'approx'}\n"
     ]
    },
    {
     "name": "stdout",
     "output_type": "stream",
     "text": [
      "Training with:                                                                  \n",
      "{'alpha': 0.4465885088386293, 'booster': 'gbtree', 'colsample_bylevel': 0.8202055578150104, 'colsample_bynode': 0.763343164278167, 'colsample_bytree': 0.8677233230830127, 'eta': 0.3315741136052358, 'eval_metric': 'mae', 'gamma': 0.29774853586268474, 'grow_policy': 'depthwise', 'lambda': 1.0383597552157648, 'max_delta_step': 1.4390762025905741, 'max_depth': 8, 'min_child_weight': 0.6171764092346121, 'num_boost_round': 178, 'num_class': 100, 'objective': 'multi:softmax', 'sampling_method': 'uniform', 'subsample': 0.8910780333281985, 'tree_method': 'exact'}\n",
      "Training with:                                                                  \n",
      "{'alpha': 0.540921000207198, 'booster': 'gbtree', 'colsample_bylevel': 0.908476138576195, 'colsample_bynode': 0.577124889520501, 'colsample_bytree': 0.6386748099256426, 'eta': 0.6014168657205758, 'eval_metric': 'map', 'gamma': 0.1528635017729276, 'grow_policy': 'depthwise', 'lambda': 0.27324265717345797, 'max_delta_step': 1.0395779917896044, 'max_depth': 2, 'min_child_weight': 0.9413766581358853, 'num_boost_round': 123, 'num_class': 100, 'objective': 'multi:softmax', 'sampling_method': 'uniform', 'subsample': 0.5133289331798402, 'tree_method': 'hist'}\n",
      "Training with:                                                                  \n",
      "{'alpha': 1.9583211000730834, 'booster': 'gbtree', 'colsample_bylevel': 0.6114747552524704, 'colsample_bynode': 0.8767898983762409, 'colsample_bytree': 0.6048116252930187, 'eta': 0.819624992737165, 'eval_metric': 'mae', 'gamma': 0.6632214266093784, 'grow_policy': 'lossguide', 'lambda': 1.4716683045043895, 'max_delta_step': 2.310118496805527, 'max_depth': 1, 'min_child_weight': 0.9920574049186793, 'num_boost_round': 195, 'num_class': 100, 'objective': 'multi:softmax', 'sampling_method': 'uniform', 'subsample': 0.8767357839764343, 'tree_method': 'hist'}\n",
      "Training with:                                                                  \n",
      "{'alpha': 0.44142580551472765, 'booster': 'gbtree', 'colsample_bylevel': 0.7876865029974983, 'colsample_bynode': 0.8017435697094237, 'colsample_bytree': 0.8701856777259989, 'eta': 0.884585931926009, 'eval_metric': 'rmsle', 'gamma': 1.224071913435431, 'grow_policy': 'depthwise', 'lambda': 0.13516062889579897, 'max_delta_step': 0.3337926257598513, 'max_depth': 6, 'min_child_weight': 1.5136673661831797, 'num_boost_round': 105, 'num_class': 100, 'objective': 'multi:softmax', 'sampling_method': 'uniform', 'subsample': 0.7197156563430402, 'tree_method': 'auto'}\n",
      "Training with:                                                                  \n",
      "{'alpha': 1.0963129312645972, 'booster': 'gbtree', 'colsample_bylevel': 0.5342140350251154, 'colsample_bynode': 0.7402458872973009, 'colsample_bytree': 0.6723059300613767, 'eta': 0.4275921593866078, 'eval_metric': 'mlogloss', 'gamma': 0.9509322441549826, 'grow_policy': 'depthwise', 'lambda': 0.5044810736617, 'max_delta_step': 1.2236587894692996, 'max_depth': 1, 'min_child_weight': 1.068873036807016, 'num_boost_round': 162, 'num_class': 100, 'objective': 'multi:softmax', 'sampling_method': 'uniform', 'subsample': 0.9863170241858517, 'tree_method': 'auto'}\n",
      "Training with:                                                                  \n",
      "{'alpha': 0.6936096842263821, 'booster': 'gbtree', 'colsample_bylevel': 0.9086694293869502, 'colsample_bynode': 0.7681884603043168, 'colsample_bytree': 0.6906610326305291, 'eta': 0.9655929612095534, 'eval_metric': 'rmsle', 'gamma': 2.4622446539383653, 'grow_policy': 'lossguide', 'lambda': 0.350627493899141, 'max_delta_step': 2.0895337588903398, 'max_depth': 1, 'min_child_weight': 0.5204704943737517, 'num_boost_round': 188, 'num_class': 100, 'objective': 'multi:softmax', 'sampling_method': 'uniform', 'subsample': 0.7476427712764222, 'tree_method': 'approx'}\n",
      "Training with:                                                                  \n",
      "{'alpha': 1.0966325577557257, 'booster': 'gbtree', 'colsample_bylevel': 0.7095663313286218, 'colsample_bynode': 0.6474706242334064, 'colsample_bytree': 0.5889309356748351, 'eta': 0.1830318844464699, 'eval_metric': 'mae', 'gamma': 7.5092769251678515, 'grow_policy': 'lossguide', 'lambda': 2.0183467317822408, 'max_delta_step': 0.14374048456960234, 'max_depth': 2, 'min_child_weight': 0.24384843208878518, 'num_boost_round': 153, 'num_class': 100, 'objective': 'multi:softmax', 'sampling_method': 'uniform', 'subsample': 0.9542825984889242, 'tree_method': 'exact'}\n",
      "Training with:                                                                  \n",
      "{'alpha': 1.385293319002484, 'booster': 'gbtree', 'colsample_bylevel': 0.741007886712273, 'colsample_bynode': 0.506646961237931, 'colsample_bytree': 0.5243637342986011, 'eta': 0.7582294977892287, 'eval_metric': 'map', 'gamma': 0.22731805712331749, 'grow_policy': 'lossguide', 'lambda': 0.7505714107811449, 'max_delta_step': 0.6497058587435305, 'max_depth': 5, 'min_child_weight': 3.6432512810333546, 'num_boost_round': 190, 'num_class': 100, 'objective': 'multi:softmax', 'sampling_method': 'uniform', 'subsample': 0.8187977028018405, 'tree_method': 'auto'}\n",
      "Training with:                                                                  \n",
      "{'alpha': 0.8733780225270822, 'booster': 'gbtree', 'colsample_bylevel': 0.8648667341506567, 'colsample_bynode': 0.5072276488939328, 'colsample_bytree': 0.5049631626420025, 'eta': 0.7325411436858023, 'eval_metric': 'merror', 'gamma': 0.023069682942977336, 'grow_policy': 'lossguide', 'lambda': 0.788210323549891, 'max_delta_step': 2.8415240810610842, 'max_depth': 9, 'min_child_weight': 2.4780440668870334, 'num_boost_round': 147, 'num_class': 100, 'objective': 'multi:softmax', 'sampling_method': 'uniform', 'subsample': 0.8159541745672969, 'tree_method': 'auto'}\n",
      "Training with:                                                                  \n",
      "{'alpha': 0.9021744521335718, 'booster': 'gbtree', 'colsample_bylevel': 0.9910686812295368, 'colsample_bynode': 0.5054079468731946, 'colsample_bytree': 0.5297148029652733, 'eta': 0.6446755389563352, 'eval_metric': 'map', 'gamma': 0.20719766647630303, 'grow_policy': 'lossguide', 'lambda': 0.799884873882689, 'max_delta_step': 0.5678410483688898, 'max_depth': 5, 'min_child_weight': 6.497543989619718, 'num_boost_round': 145, 'num_class': 100, 'objective': 'multi:softmax', 'sampling_method': 'uniform', 'subsample': 0.8178630706459112, 'tree_method': 'auto'}\n",
      "Training with:                                                                  \n",
      "{'alpha': 1.580597065083535, 'booster': 'gbtree', 'colsample_bylevel': 0.7565622568795353, 'colsample_bynode': 0.5726841867216802, 'colsample_bytree': 0.5548329376641764, 'eta': 0.7484242997312742, 'eval_metric': 'mape', 'gamma': 0.19987900668094374, 'grow_policy': 'lossguide', 'lambda': 0.7755869122113738, 'max_delta_step': 0.9210976917723932, 'max_depth': 4, 'min_child_weight': 2.430737361949656, 'num_boost_round': 150, 'num_class': 100, 'objective': 'multi:softmax', 'sampling_method': 'uniform', 'subsample': 0.8355166158397825, 'tree_method': 'auto'}\n",
      "Training with:                                                                  \n",
      "{'alpha': 0.8899372329370383, 'booster': 'gbtree', 'colsample_bylevel': 0.7244175758458324, 'colsample_bynode': 0.6928246417770798, 'colsample_bytree': 0.5582696225985134, 'eta': 0.0020705012882634155, 'eval_metric': 'mphe', 'gamma': 0.08602437059963658, 'grow_policy': 'depthwise', 'lambda': 0.678917146255126, 'max_delta_step': 5.440859452175781, 'max_depth': 9, 'min_child_weight': 7.583335721931908, 'num_boost_round': 190, 'num_class': 100, 'objective': 'multi:softmax', 'sampling_method': 'uniform', 'subsample': 0.9983998387909511, 'tree_method': 'auto'}\n",
      "Training with:                                                                  \n",
      "{'alpha': 1.6355395889236288, 'booster': 'gbtree', 'colsample_bylevel': 0.9992024222208049, 'colsample_bynode': 0.5346587110801654, 'colsample_bytree': 0.5043409806800917, 'eta': 0.5362438726318188, 'eval_metric': 'merror', 'gamma': 0.23142848928800133, 'grow_policy': 'lossguide', 'lambda': 0.8947953332907064, 'max_delta_step': 0.5052603009139071, 'max_depth': 5, 'min_child_weight': 0.38776963773407425, 'num_boost_round': 190, 'num_class': 100, 'objective': 'multi:softmax', 'sampling_method': 'uniform', 'subsample': 0.8730926918980344, 'tree_method': 'auto'}\n"
     ]
    },
    {
     "name": "stdout",
     "output_type": "stream",
     "text": [
      "Training with:                                                                  \n",
      "{'alpha': 1.0528176919864658, 'booster': 'gbtree', 'colsample_bylevel': 0.8751042564866123, 'colsample_bynode': 0.5856282083138928, 'colsample_bytree': 0.5691633780694163, 'eta': 0.8955488177733926, 'eval_metric': 'map', 'gamma': 0.15355141406485276, 'grow_policy': 'lossguide', 'lambda': 0.6435741894544078, 'max_delta_step': 0.9079499406992828, 'max_depth': 8, 'min_child_weight': 2.9442335699745943, 'num_boost_round': 199, 'num_class': 100, 'objective': 'multi:softmax', 'sampling_method': 'uniform', 'subsample': 0.7797715035618581, 'tree_method': 'auto'}\n",
      "Training with:                                                                  \n",
      "{'alpha': 1.2241804062294301, 'booster': 'gbtree', 'colsample_bylevel': 0.7520601014599135, 'colsample_bynode': 0.5412014132167358, 'colsample_bytree': 0.5039448546174674, 'eta': 0.7132547979336399, 'eval_metric': 'merror', 'gamma': 0.329463144379402, 'grow_policy': 'depthwise', 'lambda': 1.1088968870459444, 'max_delta_step': 1.1647951897594124, 'max_depth': 4, 'min_child_weight': 1.8556403325211097, 'num_boost_round': 120, 'num_class': 100, 'objective': 'multi:softmax', 'sampling_method': 'uniform', 'subsample': 0.6561144646463325, 'tree_method': 'auto'}\n",
      "Training with:                                                                  \n",
      "{'alpha': 0.7982173816711728, 'booster': 'gbtree', 'colsample_bylevel': 0.8478073500302417, 'colsample_bynode': 0.5002551376699895, 'colsample_bytree': 0.5405221350209367, 'eta': 0.25548387062916533, 'eval_metric': 'map', 'gamma': 0.16282737129395616, 'grow_policy': 'lossguide', 'lambda': 0.6415823178933918, 'max_delta_step': 0.8547109716835113, 'max_depth': 7, 'min_child_weight': 5.264720806223833, 'num_boost_round': 103, 'num_class': 100, 'objective': 'multi:softmax', 'sampling_method': 'uniform', 'subsample': 0.8470660521111016, 'tree_method': 'auto'}\n",
      "Training with:                                                                  \n",
      "{'alpha': 0.814959644699605, 'booster': 'gbtree', 'colsample_bylevel': 0.9630586321647724, 'colsample_bynode': 0.8852756375274857, 'colsample_bytree': 0.5345305548755213, 'eta': 0.8054990543381415, 'eval_metric': 'map', 'gamma': 0.11239655182394138, 'grow_policy': 'lossguide', 'lambda': 0.5844209464525427, 'max_delta_step': 0.7547423303437854, 'max_depth': 7, 'min_child_weight': 5.698557435603807, 'num_boost_round': 129, 'num_class': 100, 'objective': 'multi:softmax', 'sampling_method': 'uniform', 'subsample': 0.8353747249769512, 'tree_method': 'auto'}\n",
      "Training with:                                                                  \n",
      "{'alpha': 0.8014182619974017, 'booster': 'gbtree', 'colsample_bylevel': 0.8450299699967335, 'colsample_bynode': 0.5064495589886758, 'colsample_bytree': 0.7006216588968952, 'eta': 0.2305215997134199, 'eval_metric': 'map', 'gamma': 0.147790585625773, 'grow_policy': 'lossguide', 'lambda': 0.6378986071262012, 'max_delta_step': 0.7977408226586997, 'max_depth': 7, 'min_child_weight': 81.18024535714127, 'num_boost_round': 103, 'num_class': 100, 'objective': 'multi:softmax', 'sampling_method': 'uniform', 'subsample': 0.6655615674160479, 'tree_method': 'approx'}\n",
      "Training with:                                                                  \n",
      "{'alpha': 1.7346808233360724, 'booster': 'gbtree', 'colsample_bylevel': 0.9572276854170019, 'colsample_bynode': 0.6886289167656209, 'colsample_bytree': 0.6246524746449831, 'eta': 0.4092614100725319, 'eval_metric': 'map', 'gamma': 0.16735380941086986, 'grow_policy': 'lossguide', 'lambda': 0.7023283463917294, 'max_delta_step': 0.6309703695925726, 'max_depth': 3, 'min_child_weight': 4.486506243552682, 'num_boost_round': 104, 'num_class': 100, 'objective': 'multi:softmax', 'sampling_method': 'uniform', 'subsample': 0.6138891601128669, 'tree_method': 'auto'}\n",
      "Training with:                                                                  \n",
      "{'alpha': 1.4600521393335215, 'booster': 'gbtree', 'colsample_bylevel': 0.8287013193823609, 'colsample_bynode': 0.5391925292301104, 'colsample_bytree': 0.5230327601779372, 'eta': 0.23864295938604468, 'eval_metric': 'mlogloss', 'gamma': 0.12550523181694417, 'grow_policy': 'lossguide', 'lambda': 0.8848563261236664, 'max_delta_step': 0.8465322573034225, 'max_depth': 7, 'min_child_weight': 9.017847479858014, 'num_boost_round': 108, 'num_class': 100, 'objective': 'multi:softmax', 'sampling_method': 'uniform', 'subsample': 0.7847353358272079, 'tree_method': 'auto'}\n",
      "Training with:                                                                  \n",
      "{'alpha': 1.1910186125498385, 'booster': 'gbtree', 'colsample_bylevel': 0.5000935304874298, 'colsample_bynode': 0.6277938737396055, 'colsample_bytree': 0.9145825300746225, 'eta': 0.5246589038556702, 'eval_metric': 'map', 'gamma': 0.08460678005016879, 'grow_policy': 'lossguide', 'lambda': 0.5831603281731751, 'max_delta_step': 0.6047716240932081, 'max_depth': 5, 'min_child_weight': 5.114589352156347, 'num_boost_round': 113, 'num_class': 100, 'objective': 'multi:softmax', 'sampling_method': 'uniform', 'subsample': 0.9089288761232609, 'tree_method': 'exact'}\n",
      "Training with:                                                                  \n",
      "{'alpha': 1.1512045562184703, 'booster': 'gbtree', 'colsample_bylevel': 0.5895978170171264, 'colsample_bynode': 0.7164342684402831, 'colsample_bytree': 0.9526225615541895, 'eta': 0.11937356622714199, 'eval_metric': 'map', 'gamma': 0.06108572303827741, 'grow_policy': 'lossguide', 'lambda': 0.42582793054337936, 'max_delta_step': 0.47765098408097517, 'max_depth': 3, 'min_child_weight': 5.652758397296487, 'num_boost_round': 119, 'num_class': 100, 'objective': 'multi:softmax', 'sampling_method': 'uniform', 'subsample': 0.9072906401546814, 'tree_method': 'exact'}\n",
      "Training with:                                                                  \n",
      "{'alpha': 5.7987716555127635, 'booster': 'gbtree', 'colsample_bylevel': 0.5117408155047045, 'colsample_bynode': 0.6515291181424937, 'colsample_bytree': 0.9097091953590632, 'eta': 0.5083787939785791, 'eval_metric': 'mape', 'gamma': 0.054739015306013605, 'grow_policy': 'lossguide', 'lambda': 3.4641831899737876, 'max_delta_step': 0.3468261991784711, 'max_depth': 5, 'min_child_weight': 5.050963597570944, 'num_boost_round': 113, 'num_class': 100, 'objective': 'multi:softmax', 'sampling_method': 'uniform', 'subsample': 0.857341956224445, 'tree_method': 'exact'}\n",
      "Training with:                                                                  \n",
      "{'alpha': 0.9782306989538581, 'booster': 'gbtree', 'colsample_bylevel': 0.6846400605106236, 'colsample_bynode': 0.6308866575182056, 'colsample_bytree': 0.9875624063417971, 'eta': 0.4710010803356378, 'eval_metric': 'rmse', 'gamma': 0.03988227272641355, 'grow_policy': 'lossguide', 'lambda': 0.5471817139787176, 'max_delta_step': 0.6019352809679172, 'max_depth': 7, 'min_child_weight': 17.829209628497907, 'num_boost_round': 113, 'num_class': 100, 'objective': 'multi:softmax', 'sampling_method': 'uniform', 'subsample': 0.9767542938408053, 'tree_method': 'exact'}\n",
      "Training with:                                                                  \n",
      "{'alpha': 0.18923347181311145, 'booster': 'gbtree', 'colsample_bylevel': 0.9385373815919371, 'colsample_bynode': 0.566962951541482, 'colsample_bytree': 0.8048525858452862, 'eta': 0.3971367635205757, 'eval_metric': 'rmsle', 'gamma': 0.10027153058986968, 'grow_policy': 'lossguide', 'lambda': 0.41598998435578, 'max_delta_step': 0.39203611920275283, 'max_depth': 5, 'min_child_weight': 4.5563454567683035, 'num_boost_round': 172, 'num_class': 100, 'objective': 'multi:softmax', 'sampling_method': 'uniform', 'subsample': 0.9215458143376698, 'tree_method': 'exact'}\n",
      "Training with:                                                                  \n",
      "{'alpha': 0.1732956903972177, 'booster': 'gbtree', 'colsample_bylevel': 0.9411153643525465, 'colsample_bynode': 0.5595740159687291, 'colsample_bytree': 0.813753446601009, 'eta': 0.36196067726203923, 'eval_metric': 'rmsle', 'gamma': 0.09635348685811608, 'grow_policy': 'lossguide', 'lambda': 0.23749961506234843, 'max_delta_step': 0.26081870389493034, 'max_depth': 7, 'min_child_weight': 4.221988979067987, 'num_boost_round': 172, 'num_class': 100, 'objective': 'multi:softmax', 'sampling_method': 'uniform', 'subsample': 0.9286411390049385, 'tree_method': 'exact'}\n"
     ]
    },
    {
     "name": "stdout",
     "output_type": "stream",
     "text": [
      "Training with:                                                                  \n",
      "{'alpha': 0.03971983553678097, 'booster': 'gbtree', 'colsample_bylevel': 0.8805670008158659, 'colsample_bynode': 0.669745395997395, 'colsample_bytree': 0.7871055206045668, 'eta': 0.24392515432627349, 'eval_metric': 'rmsle', 'gamma': 0.39737304921065064, 'grow_policy': 'lossguide', 'lambda': 0.4326648034432753, 'max_delta_step': 0.188342864846744, 'max_depth': 2, 'min_child_weight': 6.12027535533452, 'num_boost_round': 138, 'num_class': 100, 'objective': 'multi:softmax', 'sampling_method': 'uniform', 'subsample': 0.8543809949032899, 'tree_method': 'exact'}\n",
      "Training with:                                                                  \n",
      "{'alpha': 0.09085172207047666, 'booster': 'gbtree', 'colsample_bylevel': 0.9298863085161849, 'colsample_bynode': 0.6008176179605502, 'colsample_bytree': 0.7262843598940933, 'eta': 0.00394826300386053, 'eval_metric': 'rmsle', 'gamma': 0.06677151098263698, 'grow_policy': 'lossguide', 'lambda': 0.3702789583865348, 'max_delta_step': 0.2888711846207478, 'max_depth': 9, 'min_child_weight': 6.720425423002236, 'num_boost_round': 170, 'num_class': 100, 'objective': 'multi:softmax', 'sampling_method': 'uniform', 'subsample': 0.7937848594189733, 'tree_method': 'approx'}\n",
      "Training with:                                                                  \n",
      "{'alpha': 0.19842337280518674, 'booster': 'gbtree', 'colsample_bylevel': 0.9764828914537446, 'colsample_bynode': 0.8436531097630728, 'colsample_bytree': 0.8419026993301072, 'eta': 0.2765702144178433, 'eval_metric': 'mphe', 'gamma': 0.5891495866488594, 'grow_policy': 'lossguide', 'lambda': 1.214045613135331, 'max_delta_step': 0.06451629588369913, 'max_depth': 8, 'min_child_weight': 7.633330662163729, 'num_boost_round': 175, 'num_class': 100, 'objective': 'multi:softmax', 'sampling_method': 'uniform', 'subsample': 0.9690438078724166, 'tree_method': 'exact'}\n",
      "Training with:                                                                  \n",
      "{'alpha': 3.378370472700038, 'booster': 'gbtree', 'colsample_bylevel': 0.8082281683354149, 'colsample_bynode': 0.7164566840776193, 'colsample_bytree': 0.764592425628391, 'eta': 0.3938842742363744, 'eval_metric': 'rmsle', 'gamma': 0.789291004608574, 'grow_policy': 'lossguide', 'lambda': 0.2856463948689926, 'max_delta_step': 4.739013241563362, 'max_depth': 5, 'min_child_weight': 21.639427963479825, 'num_boost_round': 148, 'num_class': 100, 'objective': 'multi:softmax', 'sampling_method': 'uniform', 'subsample': 0.6923156629481422, 'tree_method': 'hist'}\n",
      "Training with:                                                                  \n",
      "{'alpha': 0.09229374849715119, 'booster': 'gbtree', 'colsample_bylevel': 0.849872302514078, 'colsample_bynode': 0.9326303400966776, 'colsample_bytree': 0.7849135404416449, 'eta': 0.5917986660801497, 'eval_metric': 'rmse', 'gamma': 1.49333902466019, 'grow_policy': 'lossguide', 'lambda': 0.21139711178415407, 'max_delta_step': 0.18393807935592468, 'max_depth': 3, 'min_child_weight': 3.6260808385981256, 'num_boost_round': 134, 'num_class': 100, 'objective': 'multi:softmax', 'sampling_method': 'uniform', 'subsample': 0.7620359086281803, 'tree_method': 'exact'}\n",
      "Training with:                                                                  \n",
      "{'alpha': 0.1408519870419618, 'booster': 'gbtree', 'colsample_bylevel': 0.8942797719655753, 'colsample_bynode': 0.5238001767150362, 'colsample_bytree': 0.8413704436196234, 'eta': 0.06381421081652644, 'eval_metric': 'mlogloss', 'gamma': 4.225985569877374, 'grow_policy': 'lossguide', 'lambda': 4.0919086155071, 'max_delta_step': 0.4115540900661171, 'max_depth': 7, 'min_child_weight': 3.8621442254995775, 'num_boost_round': 197, 'num_class': 100, 'objective': 'multi:softmax', 'sampling_method': 'uniform', 'subsample': 0.9217353653298517, 'tree_method': 'hist'}\n",
      "Training with:                                                                  \n",
      "{'alpha': 0.3034481853770815, 'booster': 'gbtree', 'colsample_bylevel': 0.7737949264034074, 'colsample_bynode': 0.5505968545229032, 'colsample_bytree': 0.724851076425733, 'eta': 0.47456594646489647, 'eval_metric': 'rmsle', 'gamma': 0.12273702759330117, 'grow_policy': 'lossguide', 'lambda': 0.45555801562915216, 'max_delta_step': 0.2516446898460102, 'max_depth': 5, 'min_child_weight': 5.088192582961686, 'num_boost_round': 136, 'num_class': 100, 'objective': 'multi:softmax', 'sampling_method': 'uniform', 'subsample': 0.8905431750364222, 'tree_method': 'approx'}\n",
      "Training with:                                                                  \n",
      "{'alpha': 2.2665285527065526, 'booster': 'gbtree', 'colsample_bylevel': 0.7732301669133225, 'colsample_bynode': 0.8279035603928402, 'colsample_bytree': 0.660065059775195, 'eta': 0.45901803438947214, 'eval_metric': 'mphe', 'gamma': 0.13928414598606356, 'grow_policy': 'lossguide', 'lambda': 0.46337243268219336, 'max_delta_step': 0.1080602969542615, 'max_depth': 6, 'min_child_weight': 0.8351785989997672, 'num_boost_round': 136, 'num_class': 100, 'objective': 'multi:softmax', 'sampling_method': 'uniform', 'subsample': 0.730510013014424, 'tree_method': 'approx'}\n",
      "Training with:                                                                  \n",
      "{'alpha': 0.3059464308755751, 'booster': 'gbtree', 'colsample_bylevel': 0.6778426585436708, 'colsample_bynode': 0.6080437678887326, 'colsample_bytree': 0.7075456318861252, 'eta': 0.5704547077690232, 'eval_metric': 'mape', 'gamma': 0.12671806557115173, 'grow_policy': 'depthwise', 'lambda': 0.389999479160973, 'max_delta_step': 0.021818877515076655, 'max_depth': 8, 'min_child_weight': 3.357465958820161, 'num_boost_round': 185, 'num_class': 100, 'objective': 'multi:softmax', 'sampling_method': 'uniform', 'subsample': 0.8876453899335827, 'tree_method': 'approx'}\n",
      "Training with:                                                                  \n",
      "{'alpha': 0.45033186151006166, 'booster': 'gbtree', 'colsample_bylevel': 0.8018292544938597, 'colsample_bynode': 0.5558821431962235, 'colsample_bytree': 0.7346604662429534, 'eta': 0.3462459090925792, 'eval_metric': 'rmse', 'gamma': 0.16742501219237352, 'grow_policy': 'lossguide', 'lambda': 0.301399784947291, 'max_delta_step': 0.08590735791047313, 'max_depth': 2, 'min_child_weight': 4.88183249797679, 'num_boost_round': 122, 'num_class': 100, 'objective': 'multi:softmax', 'sampling_method': 'uniform', 'subsample': 0.7015912016474266, 'tree_method': 'approx'}\n",
      "Training with:                                                                  \n",
      "{'alpha': 0.3592548103313006, 'booster': 'gbtree', 'colsample_bylevel': 0.6387937195597121, 'colsample_bynode': 0.591255402782956, 'colsample_bytree': 0.6753418657490634, 'eta': 0.1609941455198422, 'eval_metric': 'rmsle', 'gamma': 0.4672179939763092, 'grow_policy': 'depthwise', 'lambda': 0.48079821432362163, 'max_delta_step': 0.22904395674818248, 'max_depth': 7, 'min_child_weight': 1.9105952756562734, 'num_boost_round': 186, 'num_class': 100, 'objective': 'multi:softmax', 'sampling_method': 'uniform', 'subsample': 0.9426357796490068, 'tree_method': 'approx'}\n",
      "Training with:                                                                  \n",
      "{'alpha': 0.2422157621962609, 'booster': 'gbtree', 'colsample_bylevel': 0.6967042677867805, 'colsample_bynode': 0.7375056315111415, 'colsample_bytree': 0.6224942631205176, 'eta': 0.6303805250193772, 'eval_metric': 'mae', 'gamma': 0.11346046611913582, 'grow_policy': 'lossguide', 'lambda': 0.32144004181144314, 'max_delta_step': 2.724566645219959, 'max_depth': 6, 'min_child_weight': 1.6165941263272214, 'num_boost_round': 136, 'num_class': 100, 'objective': 'multi:softmax', 'sampling_method': 'uniform', 'subsample': 0.9987179290150857, 'tree_method': 'approx'}\n",
      "Training with:                                                                  \n",
      "{'alpha': 0.47244421975315043, 'booster': 'gbtree', 'colsample_bylevel': 0.7754229207169694, 'colsample_bynode': 0.7958178988392713, 'colsample_bytree': 0.5961954981966768, 'eta': 0.6843297075122408, 'eval_metric': 'mlogloss', 'gamma': 0.12697925944495309, 'grow_policy': 'lossguide', 'lambda': 1.944963282179412, 'max_delta_step': 7.730400064073127, 'max_depth': 9, 'min_child_weight': 11.078029310438865, 'num_boost_round': 167, 'num_class': 100, 'objective': 'multi:softmax', 'sampling_method': 'uniform', 'subsample': 0.603063587354404, 'tree_method': 'approx'}\n"
     ]
    },
    {
     "name": "stdout",
     "output_type": "stream",
     "text": [
      "Training with:                                                                  \n",
      "{'alpha': 0.5436473940359631, 'booster': 'gbtree', 'colsample_bylevel': 0.7248277047804789, 'colsample_bynode': 0.6695211862172367, 'colsample_bytree': 0.6517867665953762, 'eta': 0.291234497076035, 'eval_metric': 'rmsle', 'gamma': 0.17772143084142214, 'grow_policy': 'depthwise', 'lambda': 1.6673194343044946, 'max_delta_step': 1.4547110369747602, 'max_depth': 1, 'min_child_weight': 0.3281344988882824, 'num_boost_round': 117, 'num_class': 100, 'objective': 'multi:softmax', 'sampling_method': 'uniform', 'subsample': 0.5444792924943656, 'tree_method': 'hist'}\n",
      "Training with:                                                                  \n",
      "{'alpha': 22.53403588858358, 'booster': 'gbtree', 'colsample_bylevel': 0.8450996334347591, 'colsample_bynode': 0.5184945097524408, 'colsample_bytree': 0.8895173318918276, 'eta': 0.09077061901499847, 'eval_metric': 'mphe', 'gamma': 2.1379660066640573, 'grow_policy': 'lossguide', 'lambda': 0.8778644160175701, 'max_delta_step': 1.0936894327567714, 'max_depth': 4, 'min_child_weight': 0.6779865065628873, 'num_boost_round': 154, 'num_class': 100, 'objective': 'multi:softmax', 'sampling_method': 'uniform', 'subsample': 0.7493854752139908, 'tree_method': 'approx'}\n",
      "Training with:                                                                  \n",
      "{'alpha': 0.6645987193404483, 'booster': 'gbtree', 'colsample_bylevel': 0.8164332217988332, 'colsample_bynode': 0.6245819580254598, 'colsample_bytree': 0.7455607182988537, 'eta': 0.20012744454119055, 'eval_metric': 'mae', 'gamma': 0.11811625071260948, 'grow_policy': 'lossguide', 'lambda': 1.2775822726889752, 'max_delta_step': 0.3149312270882729, 'max_depth': 5, 'min_child_weight': 5.303510120221566, 'num_boost_round': 103, 'num_class': 100, 'objective': 'multi:softmax', 'sampling_method': 'uniform', 'subsample': 0.8036569324885925, 'tree_method': 'approx'}\n",
      "Training with:                                                                  \n",
      "{'alpha': 0.34678864675761684, 'booster': 'gbtree', 'colsample_bylevel': 0.5948490450052796, 'colsample_bynode': 0.972878901297853, 'colsample_bytree': 0.5772915301903669, 'eta': 0.4918612676193332, 'eval_metric': 'mape', 'gamma': 1.0888949621428015, 'grow_policy': 'depthwise', 'lambda': 0.5361249301749411, 'max_delta_step': 0.12300259089040014, 'max_depth': 3, 'min_child_weight': 2.0584685009653048, 'num_boost_round': 193, 'num_class': 100, 'objective': 'multi:softmax', 'sampling_method': 'uniform', 'subsample': 0.850477956321318, 'tree_method': 'hist'}\n",
      "Training with:                                                                  \n",
      "{'alpha': 0.06588647298539155, 'booster': 'gbtree', 'colsample_bylevel': 0.6398500022245415, 'colsample_bynode': 0.5510723579876177, 'colsample_bytree': 0.6129445402050868, 'eta': 0.019920421476655237, 'eval_metric': 'rmse', 'gamma': 0.8234095688682448, 'grow_policy': 'lossguide', 'lambda': 0.9451420298373473, 'max_delta_step': 0.5282992655855345, 'max_depth': 7, 'min_child_weight': 7.3604907180649946, 'num_boost_round': 106, 'num_class': 100, 'objective': 'multi:softmax', 'sampling_method': 'uniform', 'subsample': 0.8935768642042742, 'tree_method': 'approx'}\n",
      "Training with:                                                                  \n",
      "{'alpha': 0.40530066376177215, 'booster': 'gbtree', 'colsample_bylevel': 0.761419515371671, 'colsample_bynode': 0.720476899467003, 'colsample_bytree': 0.9536674588099219, 'eta': 0.11505305582814163, 'eval_metric': 'map', 'gamma': 0.10603820278898651, 'grow_policy': 'lossguide', 'lambda': 0.5769497902022889, 'max_delta_step': 1.3112113550925588, 'max_depth': 2, 'min_child_weight': 8.631536334624778, 'num_boost_round': 168, 'num_class': 100, 'objective': 'multi:softmax', 'sampling_method': 'uniform', 'subsample': 0.8730169112120555, 'tree_method': 'auto'}\n",
      "Training with:                                                                  \n",
      "{'alpha': 0.2648518942644574, 'booster': 'gbtree', 'colsample_bylevel': 0.7371968207131577, 'colsample_bynode': 0.5257413332567231, 'colsample_bytree': 0.7641044644297814, 'eta': 0.3224616034880725, 'eval_metric': 'merror', 'gamma': 1.4543477841845258, 'grow_policy': 'depthwise', 'lambda': 0.4944065457223813, 'max_delta_step': 1.7094802195932979, 'max_depth': 5, 'min_child_weight': 15.040019273428339, 'num_boost_round': 156, 'num_class': 100, 'objective': 'multi:softmax', 'sampling_method': 'uniform', 'subsample': 0.7641759961903926, 'tree_method': 'auto'}\n",
      "Training with:                                                                  \n",
      "{'alpha': 3.0253970089912827, 'booster': 'gbtree', 'colsample_bylevel': 0.6580054508438411, 'colsample_bynode': 0.9898048500399003, 'colsample_bytree': 0.5424550602697696, 'eta': 0.43122937051785876, 'eval_metric': 'rmsle', 'gamma': 0.09204214214083511, 'grow_policy': 'lossguide', 'lambda': 0.45737233107045777, 'max_delta_step': 0.04794870929004941, 'max_depth': 8, 'min_child_weight': 1.2845660699719759, 'num_boost_round': 180, 'num_class': 100, 'objective': 'multi:softmax', 'sampling_method': 'uniform', 'subsample': 0.8304429965441594, 'tree_method': 'approx'}\n",
      "Training with:                                                                  \n",
      "{'alpha': 0.7451072039299599, 'booster': 'gbtree', 'colsample_bylevel': 0.894121681963954, 'colsample_bynode': 0.6501649394558342, 'colsample_bytree': 0.6370285950076466, 'eta': 0.5616929553102563, 'eval_metric': 'mlogloss', 'gamma': 4.253928281198865, 'grow_policy': 'lossguide', 'lambda': 6.0651430372713335, 'max_delta_step': 0.6922571575786997, 'max_depth': 1, 'min_child_weight': 4.0646428716977505, 'num_boost_round': 135, 'num_class': 100, 'objective': 'multi:softmax', 'sampling_method': 'uniform', 'subsample': 0.6769637171776527, 'tree_method': 'hist'}\n",
      "Training with:                                                                  \n",
      "{'alpha': 2.204569011378641, 'booster': 'gbtree', 'colsample_bylevel': 0.8654388672583295, 'colsample_bynode': 0.8680495176004039, 'colsample_bytree': 0.851070551210266, 'eta': 0.2581706327237928, 'eval_metric': 'map', 'gamma': 0.07588479155894355, 'grow_policy': 'lossguide', 'lambda': 0.40040728602368353, 'max_delta_step': 0.20049140368752633, 'max_depth': 4, 'min_child_weight': 1.1922912583102898, 'num_boost_round': 142, 'num_class': 100, 'objective': 'multi:softmax', 'sampling_method': 'uniform', 'subsample': 0.9655474790707842, 'tree_method': 'auto'}\n",
      "Training with:                                                                  \n",
      "{'alpha': 0.6317144699902659, 'booster': 'gbtree', 'colsample_bylevel': 0.706263676673708, 'colsample_bynode': 0.5865966649735552, 'colsample_bytree': 0.6844635542263751, 'eta': 0.8164256598410018, 'eval_metric': 'mae', 'gamma': 0.3162162411694898, 'grow_policy': 'depthwise', 'lambda': 0.6148261466171097, 'max_delta_step': 0.9615367171081673, 'max_depth': 6, 'min_child_weight': 2.7033887166909136, 'num_boost_round': 151, 'num_class': 100, 'objective': 'multi:softmax', 'sampling_method': 'uniform', 'subsample': 0.9430909762284094, 'tree_method': 'auto'}\n",
      "Training with:                                                                  \n",
      "{'alpha': 0.1349533268463524, 'booster': 'gbtree', 'colsample_bylevel': 0.7884680090196691, 'colsample_bynode': 0.7780999777414783, 'colsample_bytree': 0.9858883402401497, 'eta': 0.6137691657883014, 'eval_metric': 'merror', 'gamma': 0.13281077655459247, 'grow_policy': 'lossguide', 'lambda': 0.8467838375007706, 'max_delta_step': 2.3565056588725604, 'max_depth': 9, 'min_child_weight': 3.1960364643408754, 'num_boost_round': 102, 'num_class': 100, 'objective': 'multi:softmax', 'sampling_method': 'uniform', 'subsample': 0.7109279896384939, 'tree_method': 'approx'}\n",
      "Training with:                                                                  \n",
      "{'alpha': 4.4269906812048, 'booster': 'gbtree', 'colsample_bylevel': 0.731346923134017, 'colsample_bynode': 0.6991923994531989, 'colsample_bytree': 0.709529627847058, 'eta': 0.045187905322228994, 'eval_metric': 'map', 'gamma': 0.3928134225474967, 'grow_policy': 'lossguide', 'lambda': 0.730903594638595, 'max_delta_step': 3.7087325191743843, 'max_depth': 7, 'min_child_weight': 5.57224722512196, 'num_boost_round': 132, 'num_class': 100, 'objective': 'multi:softmax', 'sampling_method': 'uniform', 'subsample': 0.6369436326636959, 'tree_method': 'auto'}\n"
     ]
    },
    {
     "name": "stdout",
     "output_type": "stream",
     "text": [
      "Training with:                                                                  \n",
      "{'alpha': 0.19308127764660152, 'booster': 'gbtree', 'colsample_bylevel': 0.932086317617308, 'colsample_bynode': 0.5027999057478101, 'colsample_bytree': 0.8020154378300657, 'eta': 0.3800840388398825, 'eval_metric': 'rmsle', 'gamma': 0.10581746902412685, 'grow_policy': 'lossguide', 'lambda': 0.44617607659214975, 'max_delta_step': 0.4350770146698771, 'max_depth': 5, 'min_child_weight': 4.778958811390015, 'num_boost_round': 194, 'num_class': 100, 'objective': 'multi:softmax', 'sampling_method': 'uniform', 'subsample': 0.866532741558256, 'tree_method': 'exact'}\n",
      "Training with:                                                                  \n",
      "{'alpha': 0.23239847716572565, 'booster': 'gbtree', 'colsample_bylevel': 0.8343462766434591, 'colsample_bynode': 0.5712284700668653, 'colsample_bytree': 0.8853658621368007, 'eta': 0.4805642132921139, 'eval_metric': 'rmsle', 'gamma': 0.09948982184407484, 'grow_policy': 'lossguide', 'lambda': 0.40272595829374375, 'max_delta_step': 0.24069514451626162, 'max_depth': 5, 'min_child_weight': 4.497914806234919, 'num_boost_round': 166, 'num_class': 100, 'objective': 'multi:softmax', 'sampling_method': 'uniform', 'subsample': 0.9058951274017979, 'tree_method': 'exact'}\n",
      "Training with:                                                                  \n",
      "{'alpha': 0.24707865626185832, 'booster': 'gbtree', 'colsample_bylevel': 0.8322381088361568, 'colsample_bynode': 0.543680032056196, 'colsample_bytree': 0.9301120557878092, 'eta': 0.4815598593768794, 'eval_metric': 'rmsle', 'gamma': 0.08136685889986912, 'grow_policy': 'lossguide', 'lambda': 0.3394687761454657, 'max_delta_step': 0.24302236111002085, 'max_depth': 5, 'min_child_weight': 6.056478372160944, 'num_boost_round': 118, 'num_class': 100, 'objective': 'multi:softmax', 'sampling_method': 'uniform', 'subsample': 0.8455472009466812, 'tree_method': 'exact'}\n",
      "Training with:                                                                  \n",
      "{'alpha': 0.2283269016877607, 'booster': 'gbtree', 'colsample_bylevel': 0.7660772043271307, 'colsample_bynode': 0.5754851169337318, 'colsample_bytree': 0.9719840913497312, 'eta': 0.6798339843190634, 'eval_metric': 'rmsle', 'gamma': 0.10159191794072792, 'grow_policy': 'lossguide', 'lambda': 0.36836339279049807, 'max_delta_step': 0.21124309293175494, 'max_depth': 5, 'min_child_weight': 5.444644707245597, 'num_boost_round': 127, 'num_class': 100, 'objective': 'multi:softmax', 'sampling_method': 'uniform', 'subsample': 0.900808324195639, 'tree_method': 'exact'}\n",
      "Training with:                                                                  \n",
      "{'alpha': 0.2104997244111052, 'booster': 'gbtree', 'colsample_bylevel': 0.7587463876703526, 'colsample_bynode': 0.6625937414589573, 'colsample_bytree': 0.8266067922318245, 'eta': 0.7770794647239887, 'eval_metric': 'rmsle', 'gamma': 0.11898266093084556, 'grow_policy': 'lossguide', 'lambda': 0.38071518578048225, 'max_delta_step': 0.16153063831164863, 'max_depth': 5, 'min_child_weight': 5.459705052285117, 'num_boost_round': 125, 'num_class': 100, 'objective': 'multi:softmax', 'sampling_method': 'uniform', 'subsample': 0.8871693318118625, 'tree_method': 'exact'}\n",
      "Training with:                                                                  \n",
      "{'alpha': 0.16282306614619524, 'booster': 'gbtree', 'colsample_bylevel': 0.8903903550973916, 'colsample_bynode': 0.6135218808984315, 'colsample_bytree': 0.8651958891827622, 'eta': 0.44770619325759775, 'eval_metric': 'rmsle', 'gamma': 0.07254540589676163, 'grow_policy': 'lossguide', 'lambda': 0.5062786030947023, 'max_delta_step': 0.2619019634646259, 'max_depth': 5, 'min_child_weight': 5.863617115121782, 'num_boost_round': 166, 'num_class': 100, 'objective': 'multi:softmax', 'sampling_method': 'uniform', 'subsample': 0.8038473860223792, 'tree_method': 'exact'}\n",
      "Training with:                                                                  \n",
      "{'alpha': 0.25978131504335905, 'booster': 'gbtree', 'colsample_bylevel': 0.8549791542405792, 'colsample_bynode': 0.6349917930613992, 'colsample_bytree': 0.9381734263014746, 'eta': 0.960420412295661, 'eval_metric': 'mape', 'gamma': 0.09077840360616914, 'grow_policy': 'lossguide', 'lambda': 0.35748205111176523, 'max_delta_step': 0.21111361068677897, 'max_depth': 5, 'min_child_weight': 6.302682368853006, 'num_boost_round': 130, 'num_class': 100, 'objective': 'multi:softmax', 'sampling_method': 'uniform', 'subsample': 0.983334597188342, 'tree_method': 'auto'}\n",
      "Training with:                                                                  \n",
      "{'alpha': 0.30722886495943347, 'booster': 'gbtree', 'colsample_bylevel': 0.7912234173023547, 'colsample_bynode': 0.5965691675117445, 'colsample_bytree': 0.9952863615536429, 'eta': 0.530152600343326, 'eval_metric': 'mphe', 'gamma': 0.10822366049917981, 'grow_policy': 'lossguide', 'lambda': 0.25356933084031846, 'max_delta_step': 0.18329073231047335, 'max_depth': 7, 'min_child_weight': 6.8182891330183235, 'num_boost_round': 124, 'num_class': 100, 'objective': 'multi:softmax', 'sampling_method': 'uniform', 'subsample': 0.8329840115335937, 'tree_method': 'hist'}\n",
      "Training with:                                                                  \n",
      "{'alpha': 0.27534190508705536, 'booster': 'gbtree', 'colsample_bylevel': 0.9153537164844926, 'colsample_bynode': 0.5214967489883602, 'colsample_bytree': 0.9713386730610305, 'eta': 0.6627879066801584, 'eval_metric': 'rmsle', 'gamma': 0.04405982154420364, 'grow_policy': 'lossguide', 'lambda': 0.32151232013765796, 'max_delta_step': 0.15966381223196996, 'max_depth': 3, 'min_child_weight': 5.254427210785872, 'num_boost_round': 139, 'num_class': 100, 'objective': 'multi:softmax', 'sampling_method': 'uniform', 'subsample': 0.9309816448810382, 'tree_method': 'approx'}\n",
      "Training with:                                                                  \n",
      "{'alpha': 0.23176858734097355, 'booster': 'gbtree', 'colsample_bylevel': 0.8131015732929529, 'colsample_bynode': 0.5689717982484894, 'colsample_bytree': 0.9012522641460227, 'eta': 0.8572255890092029, 'eval_metric': 'map', 'gamma': 0.09353255130148797, 'grow_policy': 'lossguide', 'lambda': 0.41077992031507465, 'max_delta_step': 0.2433524524908183, 'max_depth': 1, 'min_child_weight': 4.362709412182795, 'num_boost_round': 182, 'num_class': 100, 'objective': 'multi:softmax', 'sampling_method': 'uniform', 'subsample': 0.9627370967210804, 'tree_method': 'exact'}\n",
      "Training with:                                                                  \n",
      "{'alpha': 0.21642102697412144, 'booster': 'gbtree', 'colsample_bylevel': 0.6805566207586891, 'colsample_bynode': 0.5001711135363704, 'colsample_bytree': 0.7836784042531699, 'eta': 0.7005591739017398, 'eval_metric': 'rmsle', 'gamma': 0.14204043093844185, 'grow_policy': 'lossguide', 'lambda': 0.36180651739655495, 'max_delta_step': 0.37685762460721184, 'max_depth': 2, 'min_child_weight': 4.746307678313031, 'num_boost_round': 171, 'num_class': 100, 'objective': 'multi:softmax', 'sampling_method': 'uniform', 'subsample': 0.8145891745423858, 'tree_method': 'auto'}\n",
      "Training with:                                                                  \n",
      "{'alpha': 0.3887384147897797, 'booster': 'gbtree', 'colsample_bylevel': 0.5597087507090238, 'colsample_bynode': 0.9074866729152532, 'colsample_bytree': 0.7783608130570195, 'eta': 0.9894149372225505, 'eval_metric': 'mlogloss', 'gamma': 0.13926915240814142, 'grow_policy': 'lossguide', 'lambda': 0.29611682275001056, 'max_delta_step': 0.3907133608371527, 'max_depth': 2, 'min_child_weight': 5.065946089217597, 'num_boost_round': 171, 'num_class': 100, 'objective': 'multi:softmax', 'sampling_method': 'uniform', 'subsample': 0.7727085479247997, 'tree_method': 'auto'}\n",
      "Training with:                                                                  \n",
      "{'alpha': 0.1461312701575905, 'booster': 'gbtree', 'colsample_bylevel': 0.655608890896066, 'colsample_bynode': 0.5017467033259142, 'colsample_bytree': 0.8152849819592636, 'eta': 0.7297254812807097, 'eval_metric': 'rmse', 'gamma': 0.15008650553959077, 'grow_policy': 'lossguide', 'lambda': 0.690476413062103, 'max_delta_step': 0.3135427297868138, 'max_depth': 2, 'min_child_weight': 4.062914785290521, 'num_boost_round': 176, 'num_class': 100, 'objective': 'multi:softmax', 'sampling_method': 'uniform', 'subsample': 0.817568011730646, 'tree_method': 'auto'}\n"
     ]
    },
    {
     "name": "stdout",
     "output_type": "stream",
     "text": [
      "Training with:                                                                  \n",
      "{'alpha': 0.17611979576476808, 'booster': 'gbtree', 'colsample_bylevel': 0.6263304207862151, 'colsample_bynode': 0.5353072830161054, 'colsample_bytree': 0.7233748845102258, 'eta': 0.7910006234581505, 'eval_metric': 'merror', 'gamma': 0.15971981498446902, 'grow_policy': 'depthwise', 'lambda': 0.1938088007652695, 'max_delta_step': 0.27294467531179945, 'max_depth': 2, 'min_child_weight': 4.727829133583686, 'num_boost_round': 116, 'num_class': 100, 'objective': 'multi:softmax', 'sampling_method': 'uniform', 'subsample': 0.7386792519821856, 'tree_method': 'auto'}\n",
      "Training with:                                                                  \n",
      "{'alpha': 0.11714062954102294, 'booster': 'gbtree', 'colsample_bylevel': 0.6861216973005501, 'colsample_bynode': 0.5163065275824009, 'colsample_bytree': 0.7557107891374156, 'eta': 0.5848627524754948, 'eval_metric': 'map', 'gamma': 0.1868892384861302, 'grow_policy': 'lossguide', 'lambda': 1.1096929266987061, 'max_delta_step': 0.455553691498098, 'max_depth': 2, 'min_child_weight': 5.811887394673785, 'num_boost_round': 189, 'num_class': 100, 'objective': 'multi:softmax', 'sampling_method': 'uniform', 'subsample': 0.7943624243296585, 'tree_method': 'auto'}\n",
      "Training with:                                                                  \n",
      "{'alpha': 0.30915196471737194, 'booster': 'gbtree', 'colsample_bylevel': 0.7449598798384371, 'colsample_bynode': 0.5551211758338924, 'colsample_bytree': 0.7398462004898154, 'eta': 0.9187518064363391, 'eval_metric': 'rmsle', 'gamma': 0.14192823581116779, 'grow_policy': 'lossguide', 'lambda': 0.43795634030000874, 'max_delta_step': 0.36371912292845376, 'max_depth': 2, 'min_child_weight': 1.4391017360639506, 'num_boost_round': 111, 'num_class': 100, 'objective': 'multi:softmax', 'sampling_method': 'uniform', 'subsample': 0.7607083027428121, 'tree_method': 'auto'}\n",
      "Training with:                                                                  \n",
      "{'alpha': 0.2942332273499718, 'booster': 'gbtree', 'colsample_bylevel': 0.7128853857326082, 'colsample_bynode': 0.5001701680754237, 'colsample_bytree': 0.5158932214094978, 'eta': 0.836810364263862, 'eval_metric': 'mae', 'gamma': 0.12163434544159228, 'grow_policy': 'lossguide', 'lambda': 0.31399456079718996, 'max_delta_step': 0.559761176284492, 'max_depth': 4, 'min_child_weight': 0.154399273167367, 'num_boost_round': 160, 'num_class': 100, 'objective': 'multi:softmax', 'sampling_method': 'uniform', 'subsample': 0.8606564497044693, 'tree_method': 'auto'}\n",
      "Training with:                                                                  \n",
      "{'alpha': 0.5114203788197202, 'booster': 'gbtree', 'colsample_bylevel': 0.6696891324236137, 'colsample_bynode': 0.6212193067316544, 'colsample_bytree': 0.7767277607151725, 'eta': 0.349551884954708, 'eval_metric': 'mape', 'gamma': 0.15643939503342744, 'grow_policy': 'lossguide', 'lambda': 0.34074252469601, 'max_delta_step': 0.8702655191881373, 'max_depth': 8, 'min_child_weight': 0.4576065096663202, 'num_boost_round': 191, 'num_class': 100, 'objective': 'multi:softmax', 'sampling_method': 'uniform', 'subsample': 0.8809168707807051, 'tree_method': 'auto'}\n",
      "Training with:                                                                  \n",
      "{'alpha': 1.3518621123623173, 'booster': 'gbtree', 'colsample_bylevel': 0.6157490452695286, 'colsample_bynode': 0.6835561854035067, 'colsample_bytree': 0.6489822608002929, 'eta': 0.7055290478606828, 'eval_metric': 'mphe', 'gamma': 0.13226918215876338, 'grow_policy': 'depthwise', 'lambda': 0.6065741718213622, 'max_delta_step': 0.2919473688328912, 'max_depth': 7, 'min_child_weight': 0.8048913107793575, 'num_boost_round': 100, 'num_class': 100, 'objective': 'multi:softmax', 'sampling_method': 'uniform', 'subsample': 0.8423722866655099, 'tree_method': 'auto'}\n",
      "Training with:                                                                  \n",
      "{'alpha': 0.21363836531599986, 'booster': 'gbtree', 'colsample_bylevel': 0.5867358372441557, 'colsample_bynode': 0.7503016275976766, 'colsample_bytree': 0.7007492727395805, 'eta': 0.210864426670726, 'eval_metric': 'map', 'gamma': 0.14455586127324802, 'grow_policy': 'lossguide', 'lambda': 0.5605579418825306, 'max_delta_step': 1.8493679838227501, 'max_depth': 6, 'min_child_weight': 4.9182204730850065, 'num_boost_round': 183, 'num_class': 100, 'objective': 'multi:softmax', 'sampling_method': 'uniform', 'subsample': 0.8043379218532304, 'tree_method': 'approx'}\n",
      "Training with:                                                                  \n",
      "{'alpha': 1.8641502728584864, 'booster': 'gbtree', 'colsample_bylevel': 0.6921080137035038, 'colsample_bynode': 0.6362435910749035, 'colsample_bytree': 0.5590417320464087, 'eta': 0.1639044451084127, 'eval_metric': 'rmsle', 'gamma': 0.167968764339923, 'grow_policy': 'lossguide', 'lambda': 0.26406772713458854, 'max_delta_step': 0.7640770637921096, 'max_depth': 9, 'min_child_weight': 4.349864045295997, 'num_boost_round': 173, 'num_class': 100, 'objective': 'multi:softmax', 'sampling_method': 'uniform', 'subsample': 0.7752918396269076, 'tree_method': 'auto'}\n",
      "Training with:                                                                  \n",
      "{'alpha': 0.9292225636679774, 'booster': 'gbtree', 'colsample_bylevel': 0.7140603127985287, 'colsample_bynode': 0.6099029924090663, 'colsample_bytree': 0.6901601243060386, 'eta': 0.6206628107264294, 'eval_metric': 'rmse', 'gamma': 0.13361817292969805, 'grow_policy': 'lossguide', 'lambda': 0.8174044683593773, 'max_delta_step': 1.1007643425287357, 'max_depth': 2, 'min_child_weight': 23.984441488208354, 'num_boost_round': 184, 'num_class': 100, 'objective': 'multi:softmax', 'sampling_method': 'uniform', 'subsample': 0.7214481242785828, 'tree_method': 'hist'}\n",
      "Training with:                                                                  \n",
      "{'alpha': 0.8220564033035472, 'booster': 'gbtree', 'colsample_bylevel': 0.532747652302352, 'colsample_bynode': 0.5796382694148301, 'colsample_bytree': 0.8321706939704758, 'eta': 0.5174724846329527, 'eval_metric': 'mlogloss', 'gamma': 0.5746192964607807, 'grow_policy': 'depthwise', 'lambda': 0.5277990553982901, 'max_delta_step': 0.4987078653122856, 'max_depth': 7, 'min_child_weight': 4.656740034962375, 'num_boost_round': 171, 'num_class': 100, 'objective': 'multi:softmax', 'sampling_method': 'uniform', 'subsample': 0.8295118163892995, 'tree_method': 'approx'}\n",
      "Training with:                                                                  \n",
      "{'alpha': 0.15740582096940486, 'booster': 'gbtree', 'colsample_bylevel': 0.9596364310967915, 'colsample_bynode': 0.5294602261799508, 'colsample_bytree': 0.6682587690337932, 'eta': 0.4151362122194646, 'eval_metric': 'rmsle', 'gamma': 0.1897363302874006, 'grow_policy': 'lossguide', 'lambda': 0.35435926195982637, 'max_delta_step': 0.675331426393056, 'max_depth': 3, 'min_child_weight': 2.3745248604334552, 'num_boost_round': 165, 'num_class': 100, 'objective': 'multi:softmax', 'sampling_method': 'uniform', 'subsample': 0.91711252817117, 'tree_method': 'auto'}\n",
      "Training with:                                                                  \n",
      "{'alpha': 0.5814239234679394, 'booster': 'gbtree', 'colsample_bylevel': 0.8032685491526353, 'colsample_bynode': 0.7013746786376994, 'colsample_bytree': 0.8592684444080216, 'eta': 0.5490095401191368, 'eval_metric': 'map', 'gamma': 0.11362212639488842, 'grow_policy': 'lossguide', 'lambda': 0.6643367007818467, 'max_delta_step': 0.331755986182586, 'max_depth': 2, 'min_child_weight': 6.983410432691152, 'num_boost_round': 163, 'num_class': 100, 'objective': 'multi:softmax', 'sampling_method': 'uniform', 'subsample': 0.8690431364436649, 'tree_method': 'auto'}\n",
      "Training with:                                                                  \n",
      "{'alpha': 1.492333580895692, 'booster': 'gbtree', 'colsample_bylevel': 0.8256790916912689, 'colsample_bynode': 0.545367283677605, 'colsample_bytree': 0.6093755593958524, 'eta': 0.6499669393031233, 'eval_metric': 'merror', 'gamma': 0.16130768657599098, 'grow_policy': 'lossguide', 'lambda': 0.4735352063491643, 'max_delta_step': 1.5003768189628013, 'max_depth': 1, 'min_child_weight': 6.4174137162450995, 'num_boost_round': 181, 'num_class': 100, 'objective': 'multi:softmax', 'sampling_method': 'uniform', 'subsample': 0.7901035676695444, 'tree_method': 'approx'}\n"
     ]
    },
    {
     "name": "stdout",
     "output_type": "stream",
     "text": [
      "Training with:                                                                  \n",
      "{'alpha': 0.28247250216167036, 'booster': 'gbtree', 'colsample_bylevel': 0.777537029522329, 'colsample_bynode': 0.8442252207258251, 'colsample_bytree': 0.5917721669806537, 'eta': 0.31480532472658573, 'eval_metric': 'mae', 'gamma': 0.13597323590713822, 'grow_policy': 'lossguide', 'lambda': 0.9618235031193413, 'max_delta_step': 0.1335971263023791, 'max_depth': 4, 'min_child_weight': 4.932317158757192, 'num_boost_round': 196, 'num_class': 100, 'objective': 'multi:softmax', 'sampling_method': 'uniform', 'subsample': 0.9334893610154323, 'tree_method': 'auto'}\n",
      "Training with:                                                                  \n",
      "{'alpha': 0.11944901175321963, 'booster': 'gbtree', 'colsample_bylevel': 0.8723089551898617, 'colsample_bynode': 0.5127866100990287, 'colsample_bytree': 0.7938818922713586, 'eta': 0.282931561038272, 'eval_metric': 'mape', 'gamma': 0.20804296106292597, 'grow_policy': 'depthwise', 'lambda': 2.9286815575618865, 'max_delta_step': 1.2559693112764843, 'max_depth': 8, 'min_child_weight': 5.253803501603775, 'num_boost_round': 114, 'num_class': 100, 'objective': 'multi:softmax', 'sampling_method': 'uniform', 'subsample': 0.6903016026569287, 'tree_method': 'hist'}\n",
      "Training with:                                                                  \n",
      "{'alpha': 1.02033635871804, 'booster': 'gbtree', 'colsample_bylevel': 0.7478668465319488, 'colsample_bynode': 0.5637115401261238, 'colsample_bytree': 0.7334160255206073, 'eta': 0.7414368370224723, 'eval_metric': 'rmsle', 'gamma': 3.0824890353978454, 'grow_policy': 'lossguide', 'lambda': 0.5079421528475903, 'max_delta_step': 1.015779572944344, 'max_depth': 7, 'min_child_weight': 0.25756807293152567, 'num_boost_round': 144, 'num_class': 100, 'objective': 'multi:softmax', 'sampling_method': 'uniform', 'subsample': 0.735608067534576, 'tree_method': 'approx'}\n",
      "Training with:                                                                  \n",
      "{'alpha': 0.32067367246772466, 'booster': 'gbtree', 'colsample_bylevel': 0.9063902426387042, 'colsample_bynode': 0.7318248328748929, 'colsample_bytree': 0.6433588100325467, 'eta': 0.7621249555112547, 'eval_metric': 'mphe', 'gamma': 0.2666430219856541, 'grow_policy': 'lossguide', 'lambda': 1.7663260373216596, 'max_delta_step': 0.3962217813179337, 'max_depth': 6, 'min_child_weight': 3.7598545957083127, 'num_boost_round': 157, 'num_class': 100, 'objective': 'multi:softmax', 'sampling_method': 'uniform', 'subsample': 0.9523323909788679, 'tree_method': 'auto'}\n",
      "Training with:                                                                  \n",
      "{'alpha': 0.20942317191601736, 'booster': 'gbtree', 'colsample_bylevel': 0.6462437190533592, 'colsample_bynode': 0.6014328713140908, 'colsample_bytree': 0.8758501117312221, 'eta': 0.12350908657153065, 'eval_metric': 'map', 'gamma': 0.1289921511996821, 'grow_policy': 'lossguide', 'lambda': 0.7208293176562841, 'max_delta_step': 0.16848648866865965, 'max_depth': 9, 'min_child_weight': 6.104126280384106, 'num_boost_round': 133, 'num_class': 100, 'objective': 'multi:softmax', 'sampling_method': 'uniform', 'subsample': 0.8111072156987557, 'tree_method': 'approx'}\n",
      "Training with:                                                                  \n",
      "{'alpha': 0.7460867763623761, 'booster': 'gbtree', 'colsample_bylevel': 0.6997571614591755, 'colsample_bynode': 0.6588271179444638, 'colsample_bytree': 0.7163226828224943, 'eta': 0.5021602944172359, 'eval_metric': 'rmsle', 'gamma': 0.12371534670572988, 'grow_policy': 'depthwise', 'lambda': 0.38542407637436643, 'max_delta_step': 0.362219953150729, 'max_depth': 2, 'min_child_weight': 3.9856798026293276, 'num_boost_round': 174, 'num_class': 100, 'objective': 'multi:softmax', 'sampling_method': 'uniform', 'subsample': 0.6378548825557706, 'tree_method': 'auto'}\n",
      "Training with:                                                                  \n",
      "{'alpha': 0.4046213415249314, 'booster': 'gbtree', 'colsample_bylevel': 0.575115282930984, 'colsample_bynode': 0.6759904330690072, 'colsample_bytree': 0.5705423222979937, 'eta': 0.26568817565700864, 'eval_metric': 'rmse', 'gamma': 1.994285720655826, 'grow_policy': 'lossguide', 'lambda': 0.2223459001027588, 'max_delta_step': 3.2516517694228777, 'max_depth': 7, 'min_child_weight': 4.247987235768634, 'num_boost_round': 126, 'num_class': 100, 'objective': 'multi:softmax', 'sampling_method': 'uniform', 'subsample': 0.9892190600319645, 'tree_method': 'approx'}\n",
      "Training with:                                                                  \n",
      "{'alpha': 1.2311897141049875, 'booster': 'gbtree', 'colsample_bylevel': 0.6019425021623392, 'colsample_bynode': 0.7898366872139506, 'colsample_bytree': 0.6248687388252814, 'eta': 0.37095588858169387, 'eval_metric': 'mlogloss', 'gamma': 0.49419139092556297, 'grow_policy': 'lossguide', 'lambda': 0.7642293708498668, 'max_delta_step': 0.8292545230008478, 'max_depth': 3, 'min_child_weight': 0.5562404425659102, 'num_boost_round': 169, 'num_class': 100, 'objective': 'multi:softmax', 'sampling_method': 'uniform', 'subsample': 0.8962717829280098, 'tree_method': 'hist'}\n",
      "Training with:                                                                  \n",
      "{'alpha': 0.1821100911650813, 'booster': 'gbtree', 'colsample_bylevel': 0.9770876535668978, 'colsample_bynode': 0.8210745466963408, 'colsample_bytree': 0.8108281549020645, 'eta': 0.21772159811731892, 'eval_metric': 'map', 'gamma': 0.02695643838293305, 'grow_policy': 'lossguide', 'lambda': 0.42234350696561984, 'max_delta_step': 0.3762406037242647, 'max_depth': 1, 'min_child_weight': 2.2440843000938537, 'num_boost_round': 158, 'num_class': 100, 'objective': 'multi:softmax', 'sampling_method': 'uniform', 'subsample': 0.825561267263153, 'tree_method': 'auto'}\n",
      "Training with:                                                                  \n",
      "{'alpha': 0.36543344340605516, 'booster': 'gbtree', 'colsample_bylevel': 0.8581036659703739, 'colsample_bynode': 0.9367369378584088, 'colsample_bytree': 0.7520685950555992, 'eta': 0.190157737955372, 'eval_metric': 'rmsle', 'gamma': 0.7443944297356918, 'grow_policy': 'lossguide', 'lambda': 1.3701872240878363, 'max_delta_step': 1.3788454022225187, 'max_depth': 8, 'min_child_weight': 8.780050470784712, 'num_boost_round': 159, 'num_class': 100, 'objective': 'multi:softmax', 'sampling_method': 'uniform', 'subsample': 0.8577860511317974, 'tree_method': 'auto'}\n",
      "Training with:                                                                  \n",
      "{'alpha': 2.616027552381037, 'booster': 'gbtree', 'colsample_bylevel': 0.7226140214167055, 'colsample_bynode': 0.5473273126962085, 'colsample_bytree': 0.8500054272258419, 'eta': 0.44382269245571754, 'eval_metric': 'merror', 'gamma': 0.23505880860767742, 'grow_policy': 'depthwise', 'lambda': 0.32862897039426664, 'max_delta_step': 2.2278563661728934, 'max_depth': 4, 'min_child_weight': 3.5690225714938975, 'num_boost_round': 137, 'num_class': 100, 'objective': 'multi:softmax', 'sampling_method': 'uniform', 'subsample': 0.5383064654067998, 'tree_method': 'approx'}\n",
      "Training with:                                                                  \n",
      "{'alpha': 4.260972353876999, 'booster': 'gbtree', 'colsample_bylevel': 0.6750023381620859, 'colsample_bynode': 0.6427074792410977, 'colsample_bytree': 0.9189118873162119, 'eta': 0.898933725844517, 'eval_metric': 'mae', 'gamma': 0.35122599604645266, 'grow_policy': 'lossguide', 'lambda': 0.2797628659992215, 'max_delta_step': 0.4326962953279787, 'max_depth': 7, 'min_child_weight': 1.1104188370528103, 'num_boost_round': 164, 'num_class': 100, 'objective': 'multi:softmax', 'sampling_method': 'uniform', 'subsample': 0.7485622388367145, 'tree_method': 'auto'}\n",
      "Training with:                                                                  \n",
      "{'alpha': 0.46443247334801396, 'booster': 'gbtree', 'colsample_bylevel': 0.8406065019442662, 'colsample_bynode': 0.5321350947613983, 'colsample_bytree': 0.7705435365246717, 'eta': 0.6982497273353439, 'eval_metric': 'rmsle', 'gamma': 0.17627730201485695, 'grow_policy': 'lossguide', 'lambda': 0.37017372587199415, 'max_delta_step': 0.33762438039817916, 'max_depth': 6, 'min_child_weight': 1.5715092667147856, 'num_boost_round': 177, 'num_class': 100, 'objective': 'multi:softmax', 'sampling_method': 'uniform', 'subsample': 0.6782417929381966, 'tree_method': 'approx'}\n"
     ]
    },
    {
     "name": "stdout",
     "output_type": "stream",
     "text": [
      "Training with:                                                                  \n",
      "{'alpha': 9.49970029272588, 'booster': 'gbtree', 'colsample_bylevel': 0.6244229711848296, 'colsample_bynode': 0.5100038208995687, 'colsample_bytree': 0.5478775656940476, 'eta': 0.9422014766288854, 'eval_metric': 'mape', 'gamma': 0.11679938414235087, 'grow_policy': 'lossguide', 'lambda': 0.45443559608581224, 'max_delta_step': 0.7234180422210956, 'max_depth': 9, 'min_child_weight': 2.9455235646380036, 'num_boost_round': 152, 'num_class': 100, 'objective': 'multi:softmax', 'sampling_method': 'uniform', 'subsample': 0.5901613144724736, 'tree_method': 'hist'}\n",
      "Training with:                                                                  \n",
      "{'alpha': 0.06234998662800566, 'booster': 'gbtree', 'colsample_bylevel': 0.7988263824349683, 'colsample_bynode': 0.5897601365420078, 'colsample_bytree': 0.6788615298877774, 'eta': 0.14307697207217204, 'eval_metric': 'mphe', 'gamma': 1.0385052637047978, 'grow_policy': 'lossguide', 'lambda': 0.48626719001089763, 'max_delta_step': 0.2248496998653456, 'max_depth': 2, 'min_child_weight': 7.9602635053516595, 'num_boost_round': 131, 'num_class': 100, 'objective': 'multi:softmax', 'sampling_method': 'uniform', 'subsample': 0.9156285563154163, 'tree_method': 'auto'}\n",
      "Training with:                                                                  \n",
      "{'alpha': 0.8430566798659641, 'booster': 'gbtree', 'colsample_bylevel': 0.7857232868317487, 'colsample_bynode': 0.5610418923838307, 'colsample_bytree': 0.7904176816228002, 'eta': 0.8547583445792108, 'eval_metric': 'map', 'gamma': 6.2708974758330065, 'grow_policy': 'depthwise', 'lambda': 2.3405456281963404, 'max_delta_step': 0.28560703947593014, 'max_depth': 5, 'min_child_weight': 5.389297276202867, 'num_boost_round': 112, 'num_class': 100, 'objective': 'multi:softmax', 'sampling_method': 'uniform', 'subsample': 0.7163161023469155, 'tree_method': 'approx'}\n",
      "Training with:                                                                  \n",
      "{'alpha': 0.5040481725658249, 'booster': 'gbtree', 'colsample_bylevel': 0.7672908177687577, 'colsample_bynode': 0.7095274205322427, 'colsample_bytree': 0.6614754575851503, 'eta': 0.33760191054700495, 'eval_metric': 'rmsle', 'gamma': 0.8933741746051087, 'grow_policy': 'lossguide', 'lambda': 0.30453852971166095, 'max_delta_step': 0.5399403637612761, 'max_depth': 7, 'min_child_weight': 10.021968597783516, 'num_boost_round': 155, 'num_class': 100, 'objective': 'multi:softmax', 'sampling_method': 'uniform', 'subsample': 0.5028212090381228, 'tree_method': 'auto'}\n",
      "Training with:                                                                  \n",
      "{'alpha': 0.22196782413027621, 'booster': 'gbtree', 'colsample_bylevel': 0.7336842130753477, 'colsample_bynode': 0.5813345380810685, 'colsample_bytree': 0.818757506893849, 'eta': 0.6029295553857511, 'eval_metric': 'rmse', 'gamma': 0.14820469916040452, 'grow_policy': 'lossguide', 'lambda': 0.6373426933653845, 'max_delta_step': 0.6143710237335496, 'max_depth': 3, 'min_child_weight': 5.712693329561248, 'num_boost_round': 101, 'num_class': 100, 'objective': 'multi:softmax', 'sampling_method': 'uniform', 'subsample': 0.8411359271149347, 'tree_method': 'auto'}\n",
      "Training with:                                                                  \n",
      "{'alpha': 0.6173908057928489, 'booster': 'gbtree', 'colsample_bylevel': 0.9475403951042024, 'colsample_bynode': 0.5244162749001419, 'colsample_bytree': 0.9007395691745909, 'eta': 0.4248358438671816, 'eval_metric': 'rmsle', 'gamma': 0.28628990315547437, 'grow_policy': 'lossguide', 'lambda': 0.059719422838773066, 'max_delta_step': 0.31776124507833564, 'max_depth': 2, 'min_child_weight': 5.164568297960004, 'num_boost_round': 143, 'num_class': 100, 'objective': 'multi:softmax', 'sampling_method': 'uniform', 'subsample': 0.8806880692034257, 'tree_method': 'approx'}\n",
      "Training with:                                                                  \n",
      "{'alpha': 0.20316314808598815, 'booster': 'gbtree', 'colsample_bylevel': 0.9991008878328517, 'colsample_bynode': 0.6197762110035251, 'colsample_bytree': 0.5142994195487769, 'eta': 0.3929850487264135, 'eval_metric': 'mlogloss', 'gamma': 1.6627295561577136, 'grow_policy': 'lossguide', 'lambda': 1.1247439618806347, 'max_delta_step': 0.09919343905072538, 'max_depth': 5, 'min_child_weight': 13.78422678788088, 'num_boost_round': 140, 'num_class': 100, 'objective': 'multi:softmax', 'sampling_method': 'uniform', 'subsample': 0.9412099312225497, 'tree_method': 'hist'}\n",
      "Training with:                                                                  \n",
      "{'alpha': 3.3353777465863996, 'booster': 'gbtree', 'colsample_bylevel': 0.8855385317431473, 'colsample_bynode': 0.5014785932742613, 'colsample_bytree': 0.6002448162307894, 'eta': 0.5628056440714956, 'eval_metric': 'map', 'gamma': 0.10799954895219775, 'grow_policy': 'lossguide', 'lambda': 1.0186918543210484, 'max_delta_step': 0.9523643706522013, 'max_depth': 1, 'min_child_weight': 0.7453251822130005, 'num_boost_round': 198, 'num_class': 100, 'objective': 'multi:softmax', 'sampling_method': 'uniform', 'subsample': 0.7612336781491652, 'tree_method': 'auto'}\n",
      "Training with:                                                                  \n",
      "{'alpha': 1.6639973577066003, 'booster': 'gbtree', 'colsample_bylevel': 0.923613140109095, 'colsample_bynode': 0.5508229345900915, 'colsample_bytree': 0.8365272842369725, 'eta': 0.45980402482399735, 'eval_metric': 'mae', 'gamma': 2.45472626550031, 'grow_policy': 'depthwise', 'lambda': 0.5625671417380003, 'max_delta_step': 0.5864913428457436, 'max_depth': 8, 'min_child_weight': 5.932596946475357, 'num_boost_round': 110, 'num_class': 100, 'objective': 'multi:softmax', 'sampling_method': 'uniform', 'subsample': 0.7820125537489074, 'tree_method': 'auto'}\n",
      "Training with:                                                                  \n",
      "{'alpha': 1.1082787034697839, 'booster': 'gbtree', 'colsample_bylevel': 0.7522225889733561, 'colsample_bynode': 0.5993217266744697, 'colsample_bytree': 0.7990668956032814, 'eta': 0.5454624023111553, 'eval_metric': 'merror', 'gamma': 0.5163986714058705, 'grow_policy': 'lossguide', 'lambda': 0.3961531035036204, 'max_delta_step': 2.55860846120277, 'max_depth': 4, 'min_child_weight': 1.4068663369001273, 'num_boost_round': 161, 'num_class': 100, 'objective': 'multi:softmax', 'sampling_method': 'uniform', 'subsample': 0.9770218531870849, 'tree_method': 'approx'}\n",
      "Training with:                                                                  \n",
      "{'alpha': 2.017999603815041, 'booster': 'gbtree', 'colsample_bylevel': 0.5078193241558928, 'colsample_bynode': 0.7498082323016324, 'colsample_bytree': 0.6978946798526938, 'eta': 0.29647926793657686, 'eval_metric': 'rmsle', 'gamma': 0.6706336483731007, 'grow_policy': 'lossguide', 'lambda': 0.6036129205152341, 'max_delta_step': 0.46957907634667445, 'max_depth': 7, 'min_child_weight': 6.271739490268475, 'num_boost_round': 121, 'num_class': 100, 'objective': 'multi:softmax', 'sampling_method': 'uniform', 'subsample': 0.8231988744210365, 'tree_method': 'auto'}\n",
      "Training with:                                                                  \n",
      "{'alpha': 4.975716781281547, 'booster': 'gbtree', 'colsample_bylevel': 0.6645807053129125, 'colsample_bynode': 0.9994818833024077, 'colsample_bytree': 0.5809108546412263, 'eta': 0.031673851082042126, 'eval_metric': 'mape', 'gamma': 1.2968495682971493, 'grow_policy': 'lossguide', 'lambda': 0.38002319079067326, 'max_delta_step': 1.8280434657924935, 'max_depth': 5, 'min_child_weight': 1.7055722568770395, 'num_boost_round': 179, 'num_class': 100, 'objective': 'multi:softmax', 'sampling_method': 'uniform', 'subsample': 0.7965728199234563, 'tree_method': 'approx'}\n",
      "Training with:                                                                  \n",
      "{'alpha': 0.1667658201323604, 'booster': 'gbtree', 'colsample_bylevel': 0.8241786254731914, 'colsample_bynode': 0.5389621839302671, 'colsample_bytree': 0.8751034295143771, 'eta': 0.24195407727151202, 'eval_metric': 'map', 'gamma': 0.11513044101655891, 'grow_policy': 'lossguide', 'lambda': 0.1807894489247216, 'max_delta_step': 0.42281403008785706, 'max_depth': 2, 'min_child_weight': 5.555134683915137, 'num_boost_round': 136, 'num_class': 100, 'objective': 'multi:softmax', 'sampling_method': 'uniform', 'subsample': 0.8655778505473449, 'tree_method': 'hist'}\n"
     ]
    },
    {
     "name": "stdout",
     "output_type": "stream",
     "text": [
      " 77%|█████████████▉    | 116/150 [2:26:02<42:48, 75.54s/trial, best loss: 0.124]\n"
     ]
    },
    {
     "ename": "KeyboardInterrupt",
     "evalue": "",
     "output_type": "error",
     "traceback": [
      "\u001b[0;31m---------------------------------------------------------------------------\u001b[0m",
      "\u001b[0;31mKeyboardInterrupt\u001b[0m                         Traceback (most recent call last)",
      "\u001b[0;32m/var/folders/ww/7kn8t7y91gv3dzhg4tzjhq4m0000gn/T/ipykernel_26541/852488173.py\u001b[0m in \u001b[0;36m<module>\u001b[0;34m\u001b[0m\n\u001b[0;32m----> 1\u001b[0;31m \u001b[0mbest\u001b[0m \u001b[0;34m=\u001b[0m \u001b[0mfmin\u001b[0m\u001b[0;34m(\u001b[0m\u001b[0mscore\u001b[0m\u001b[0;34m,\u001b[0m \u001b[0msearch_space\u001b[0m\u001b[0;34m,\u001b[0m \u001b[0malgo\u001b[0m\u001b[0;34m=\u001b[0m\u001b[0mtpe\u001b[0m\u001b[0;34m.\u001b[0m\u001b[0msuggest\u001b[0m\u001b[0;34m,\u001b[0m \u001b[0mmax_evals\u001b[0m\u001b[0;34m=\u001b[0m\u001b[0;36m150\u001b[0m\u001b[0;34m)\u001b[0m\u001b[0;34m\u001b[0m\u001b[0;34m\u001b[0m\u001b[0m\n\u001b[0m",
      "\u001b[0;32m~/opt/anaconda3/lib/python3.9/site-packages/hyperopt/fmin.py\u001b[0m in \u001b[0;36mfmin\u001b[0;34m(fn, space, algo, max_evals, timeout, loss_threshold, trials, rstate, allow_trials_fmin, pass_expr_memo_ctrl, catch_eval_exceptions, verbose, return_argmin, points_to_evaluate, max_queue_len, show_progressbar, early_stop_fn, trials_save_file)\u001b[0m\n\u001b[1;32m    584\u001b[0m \u001b[0;34m\u001b[0m\u001b[0m\n\u001b[1;32m    585\u001b[0m     \u001b[0;31m# next line is where the fmin is actually executed\u001b[0m\u001b[0;34m\u001b[0m\u001b[0;34m\u001b[0m\u001b[0m\n\u001b[0;32m--> 586\u001b[0;31m     \u001b[0mrval\u001b[0m\u001b[0;34m.\u001b[0m\u001b[0mexhaust\u001b[0m\u001b[0;34m(\u001b[0m\u001b[0;34m)\u001b[0m\u001b[0;34m\u001b[0m\u001b[0;34m\u001b[0m\u001b[0m\n\u001b[0m\u001b[1;32m    587\u001b[0m \u001b[0;34m\u001b[0m\u001b[0m\n\u001b[1;32m    588\u001b[0m     \u001b[0;32mif\u001b[0m \u001b[0mreturn_argmin\u001b[0m\u001b[0;34m:\u001b[0m\u001b[0;34m\u001b[0m\u001b[0;34m\u001b[0m\u001b[0m\n",
      "\u001b[0;32m~/opt/anaconda3/lib/python3.9/site-packages/hyperopt/fmin.py\u001b[0m in \u001b[0;36mexhaust\u001b[0;34m(self)\u001b[0m\n\u001b[1;32m    362\u001b[0m     \u001b[0;32mdef\u001b[0m \u001b[0mexhaust\u001b[0m\u001b[0;34m(\u001b[0m\u001b[0mself\u001b[0m\u001b[0;34m)\u001b[0m\u001b[0;34m:\u001b[0m\u001b[0;34m\u001b[0m\u001b[0;34m\u001b[0m\u001b[0m\n\u001b[1;32m    363\u001b[0m         \u001b[0mn_done\u001b[0m \u001b[0;34m=\u001b[0m \u001b[0mlen\u001b[0m\u001b[0;34m(\u001b[0m\u001b[0mself\u001b[0m\u001b[0;34m.\u001b[0m\u001b[0mtrials\u001b[0m\u001b[0;34m)\u001b[0m\u001b[0;34m\u001b[0m\u001b[0;34m\u001b[0m\u001b[0m\n\u001b[0;32m--> 364\u001b[0;31m         \u001b[0mself\u001b[0m\u001b[0;34m.\u001b[0m\u001b[0mrun\u001b[0m\u001b[0;34m(\u001b[0m\u001b[0mself\u001b[0m\u001b[0;34m.\u001b[0m\u001b[0mmax_evals\u001b[0m \u001b[0;34m-\u001b[0m \u001b[0mn_done\u001b[0m\u001b[0;34m,\u001b[0m \u001b[0mblock_until_done\u001b[0m\u001b[0;34m=\u001b[0m\u001b[0mself\u001b[0m\u001b[0;34m.\u001b[0m\u001b[0masynchronous\u001b[0m\u001b[0;34m)\u001b[0m\u001b[0;34m\u001b[0m\u001b[0;34m\u001b[0m\u001b[0m\n\u001b[0m\u001b[1;32m    365\u001b[0m         \u001b[0mself\u001b[0m\u001b[0;34m.\u001b[0m\u001b[0mtrials\u001b[0m\u001b[0;34m.\u001b[0m\u001b[0mrefresh\u001b[0m\u001b[0;34m(\u001b[0m\u001b[0;34m)\u001b[0m\u001b[0;34m\u001b[0m\u001b[0;34m\u001b[0m\u001b[0m\n\u001b[1;32m    366\u001b[0m         \u001b[0;32mreturn\u001b[0m \u001b[0mself\u001b[0m\u001b[0;34m\u001b[0m\u001b[0;34m\u001b[0m\u001b[0m\n",
      "\u001b[0;32m~/opt/anaconda3/lib/python3.9/site-packages/hyperopt/fmin.py\u001b[0m in \u001b[0;36mrun\u001b[0;34m(self, N, block_until_done)\u001b[0m\n\u001b[1;32m    298\u001b[0m                 \u001b[0;32melse\u001b[0m\u001b[0;34m:\u001b[0m\u001b[0;34m\u001b[0m\u001b[0;34m\u001b[0m\u001b[0m\n\u001b[1;32m    299\u001b[0m                     \u001b[0;31m# -- loop over trials and do the jobs directly\u001b[0m\u001b[0;34m\u001b[0m\u001b[0;34m\u001b[0m\u001b[0m\n\u001b[0;32m--> 300\u001b[0;31m                     \u001b[0mself\u001b[0m\u001b[0;34m.\u001b[0m\u001b[0mserial_evaluate\u001b[0m\u001b[0;34m(\u001b[0m\u001b[0;34m)\u001b[0m\u001b[0;34m\u001b[0m\u001b[0;34m\u001b[0m\u001b[0m\n\u001b[0m\u001b[1;32m    301\u001b[0m \u001b[0;34m\u001b[0m\u001b[0m\n\u001b[1;32m    302\u001b[0m                 \u001b[0mself\u001b[0m\u001b[0;34m.\u001b[0m\u001b[0mtrials\u001b[0m\u001b[0;34m.\u001b[0m\u001b[0mrefresh\u001b[0m\u001b[0;34m(\u001b[0m\u001b[0;34m)\u001b[0m\u001b[0;34m\u001b[0m\u001b[0;34m\u001b[0m\u001b[0m\n",
      "\u001b[0;32m~/opt/anaconda3/lib/python3.9/site-packages/hyperopt/fmin.py\u001b[0m in \u001b[0;36mserial_evaluate\u001b[0;34m(self, N)\u001b[0m\n\u001b[1;32m    176\u001b[0m                 \u001b[0mctrl\u001b[0m \u001b[0;34m=\u001b[0m \u001b[0mbase\u001b[0m\u001b[0;34m.\u001b[0m\u001b[0mCtrl\u001b[0m\u001b[0;34m(\u001b[0m\u001b[0mself\u001b[0m\u001b[0;34m.\u001b[0m\u001b[0mtrials\u001b[0m\u001b[0;34m,\u001b[0m \u001b[0mcurrent_trial\u001b[0m\u001b[0;34m=\u001b[0m\u001b[0mtrial\u001b[0m\u001b[0;34m)\u001b[0m\u001b[0;34m\u001b[0m\u001b[0;34m\u001b[0m\u001b[0m\n\u001b[1;32m    177\u001b[0m                 \u001b[0;32mtry\u001b[0m\u001b[0;34m:\u001b[0m\u001b[0;34m\u001b[0m\u001b[0;34m\u001b[0m\u001b[0m\n\u001b[0;32m--> 178\u001b[0;31m                     \u001b[0mresult\u001b[0m \u001b[0;34m=\u001b[0m \u001b[0mself\u001b[0m\u001b[0;34m.\u001b[0m\u001b[0mdomain\u001b[0m\u001b[0;34m.\u001b[0m\u001b[0mevaluate\u001b[0m\u001b[0;34m(\u001b[0m\u001b[0mspec\u001b[0m\u001b[0;34m,\u001b[0m \u001b[0mctrl\u001b[0m\u001b[0;34m)\u001b[0m\u001b[0;34m\u001b[0m\u001b[0;34m\u001b[0m\u001b[0m\n\u001b[0m\u001b[1;32m    179\u001b[0m                 \u001b[0;32mexcept\u001b[0m \u001b[0mException\u001b[0m \u001b[0;32mas\u001b[0m \u001b[0me\u001b[0m\u001b[0;34m:\u001b[0m\u001b[0;34m\u001b[0m\u001b[0;34m\u001b[0m\u001b[0m\n\u001b[1;32m    180\u001b[0m                     \u001b[0mlogger\u001b[0m\u001b[0;34m.\u001b[0m\u001b[0merror\u001b[0m\u001b[0;34m(\u001b[0m\u001b[0;34m\"job exception: %s\"\u001b[0m \u001b[0;34m%\u001b[0m \u001b[0mstr\u001b[0m\u001b[0;34m(\u001b[0m\u001b[0me\u001b[0m\u001b[0;34m)\u001b[0m\u001b[0;34m)\u001b[0m\u001b[0;34m\u001b[0m\u001b[0;34m\u001b[0m\u001b[0m\n",
      "\u001b[0;32m~/opt/anaconda3/lib/python3.9/site-packages/hyperopt/base.py\u001b[0m in \u001b[0;36mevaluate\u001b[0;34m(self, config, ctrl, attach_attachments)\u001b[0m\n\u001b[1;32m    890\u001b[0m                 \u001b[0mprint_node_on_error\u001b[0m\u001b[0;34m=\u001b[0m\u001b[0mself\u001b[0m\u001b[0;34m.\u001b[0m\u001b[0mrec_eval_print_node_on_error\u001b[0m\u001b[0;34m,\u001b[0m\u001b[0;34m\u001b[0m\u001b[0;34m\u001b[0m\u001b[0m\n\u001b[1;32m    891\u001b[0m             )\n\u001b[0;32m--> 892\u001b[0;31m             \u001b[0mrval\u001b[0m \u001b[0;34m=\u001b[0m \u001b[0mself\u001b[0m\u001b[0;34m.\u001b[0m\u001b[0mfn\u001b[0m\u001b[0;34m(\u001b[0m\u001b[0mpyll_rval\u001b[0m\u001b[0;34m)\u001b[0m\u001b[0;34m\u001b[0m\u001b[0;34m\u001b[0m\u001b[0m\n\u001b[0m\u001b[1;32m    893\u001b[0m \u001b[0;34m\u001b[0m\u001b[0m\n\u001b[1;32m    894\u001b[0m         \u001b[0;32mif\u001b[0m \u001b[0misinstance\u001b[0m\u001b[0;34m(\u001b[0m\u001b[0mrval\u001b[0m\u001b[0;34m,\u001b[0m \u001b[0;34m(\u001b[0m\u001b[0mfloat\u001b[0m\u001b[0;34m,\u001b[0m \u001b[0mint\u001b[0m\u001b[0;34m,\u001b[0m \u001b[0mnp\u001b[0m\u001b[0;34m.\u001b[0m\u001b[0mnumber\u001b[0m\u001b[0;34m)\u001b[0m\u001b[0;34m)\u001b[0m\u001b[0;34m:\u001b[0m\u001b[0;34m\u001b[0m\u001b[0;34m\u001b[0m\u001b[0m\n",
      "\u001b[0;32m/var/folders/ww/7kn8t7y91gv3dzhg4tzjhq4m0000gn/T/ipykernel_26541/2707752251.py\u001b[0m in \u001b[0;36mscore\u001b[0;34m(params)\u001b[0m\n\u001b[1;32m      6\u001b[0m     \u001b[0;32mdel\u001b[0m \u001b[0mparams\u001b[0m\u001b[0;34m[\u001b[0m\u001b[0;34m'num_boost_round'\u001b[0m\u001b[0;34m]\u001b[0m\u001b[0;34m\u001b[0m\u001b[0;34m\u001b[0m\u001b[0m\n\u001b[1;32m      7\u001b[0m \u001b[0;34m\u001b[0m\u001b[0m\n\u001b[0;32m----> 8\u001b[0;31m     model = xgb.train(\n\u001b[0m\u001b[1;32m      9\u001b[0m         \u001b[0mparams\u001b[0m\u001b[0;34m=\u001b[0m\u001b[0mparams\u001b[0m\u001b[0;34m,\u001b[0m\u001b[0;34m\u001b[0m\u001b[0;34m\u001b[0m\u001b[0m\n\u001b[1;32m     10\u001b[0m         \u001b[0mdtrain\u001b[0m\u001b[0;34m=\u001b[0m\u001b[0mdtrain_reg\u001b[0m\u001b[0;34m,\u001b[0m\u001b[0;34m\u001b[0m\u001b[0;34m\u001b[0m\u001b[0m\n",
      "\u001b[0;32m~/opt/anaconda3/lib/python3.9/site-packages/xgboost/core.py\u001b[0m in \u001b[0;36minner_f\u001b[0;34m(*args, **kwargs)\u001b[0m\n\u001b[1;32m    728\u001b[0m             \u001b[0;32mfor\u001b[0m \u001b[0mk\u001b[0m\u001b[0;34m,\u001b[0m \u001b[0marg\u001b[0m \u001b[0;32min\u001b[0m \u001b[0mzip\u001b[0m\u001b[0;34m(\u001b[0m\u001b[0msig\u001b[0m\u001b[0;34m.\u001b[0m\u001b[0mparameters\u001b[0m\u001b[0;34m,\u001b[0m \u001b[0margs\u001b[0m\u001b[0;34m)\u001b[0m\u001b[0;34m:\u001b[0m\u001b[0;34m\u001b[0m\u001b[0;34m\u001b[0m\u001b[0m\n\u001b[1;32m    729\u001b[0m                 \u001b[0mkwargs\u001b[0m\u001b[0;34m[\u001b[0m\u001b[0mk\u001b[0m\u001b[0;34m]\u001b[0m \u001b[0;34m=\u001b[0m \u001b[0marg\u001b[0m\u001b[0;34m\u001b[0m\u001b[0;34m\u001b[0m\u001b[0m\n\u001b[0;32m--> 730\u001b[0;31m             \u001b[0;32mreturn\u001b[0m \u001b[0mfunc\u001b[0m\u001b[0;34m(\u001b[0m\u001b[0;34m**\u001b[0m\u001b[0mkwargs\u001b[0m\u001b[0;34m)\u001b[0m\u001b[0;34m\u001b[0m\u001b[0;34m\u001b[0m\u001b[0m\n\u001b[0m\u001b[1;32m    731\u001b[0m \u001b[0;34m\u001b[0m\u001b[0m\n\u001b[1;32m    732\u001b[0m         \u001b[0;32mreturn\u001b[0m \u001b[0minner_f\u001b[0m\u001b[0;34m\u001b[0m\u001b[0;34m\u001b[0m\u001b[0m\n",
      "\u001b[0;32m~/opt/anaconda3/lib/python3.9/site-packages/xgboost/training.py\u001b[0m in \u001b[0;36mtrain\u001b[0;34m(params, dtrain, num_boost_round, evals, obj, feval, maximize, early_stopping_rounds, evals_result, verbose_eval, xgb_model, callbacks, custom_metric)\u001b[0m\n\u001b[1;32m    179\u001b[0m         \u001b[0;32mif\u001b[0m \u001b[0mcb_container\u001b[0m\u001b[0;34m.\u001b[0m\u001b[0mbefore_iteration\u001b[0m\u001b[0;34m(\u001b[0m\u001b[0mbst\u001b[0m\u001b[0;34m,\u001b[0m \u001b[0mi\u001b[0m\u001b[0;34m,\u001b[0m \u001b[0mdtrain\u001b[0m\u001b[0;34m,\u001b[0m \u001b[0mevals\u001b[0m\u001b[0;34m)\u001b[0m\u001b[0;34m:\u001b[0m\u001b[0;34m\u001b[0m\u001b[0;34m\u001b[0m\u001b[0m\n\u001b[1;32m    180\u001b[0m             \u001b[0;32mbreak\u001b[0m\u001b[0;34m\u001b[0m\u001b[0;34m\u001b[0m\u001b[0m\n\u001b[0;32m--> 181\u001b[0;31m         \u001b[0mbst\u001b[0m\u001b[0;34m.\u001b[0m\u001b[0mupdate\u001b[0m\u001b[0;34m(\u001b[0m\u001b[0mdtrain\u001b[0m\u001b[0;34m,\u001b[0m \u001b[0mi\u001b[0m\u001b[0;34m,\u001b[0m \u001b[0mobj\u001b[0m\u001b[0;34m)\u001b[0m\u001b[0;34m\u001b[0m\u001b[0;34m\u001b[0m\u001b[0m\n\u001b[0m\u001b[1;32m    182\u001b[0m         \u001b[0;32mif\u001b[0m \u001b[0mcb_container\u001b[0m\u001b[0;34m.\u001b[0m\u001b[0mafter_iteration\u001b[0m\u001b[0;34m(\u001b[0m\u001b[0mbst\u001b[0m\u001b[0;34m,\u001b[0m \u001b[0mi\u001b[0m\u001b[0;34m,\u001b[0m \u001b[0mdtrain\u001b[0m\u001b[0;34m,\u001b[0m \u001b[0mevals\u001b[0m\u001b[0;34m)\u001b[0m\u001b[0;34m:\u001b[0m\u001b[0;34m\u001b[0m\u001b[0;34m\u001b[0m\u001b[0m\n\u001b[1;32m    183\u001b[0m             \u001b[0;32mbreak\u001b[0m\u001b[0;34m\u001b[0m\u001b[0;34m\u001b[0m\u001b[0m\n",
      "\u001b[0;32m~/opt/anaconda3/lib/python3.9/site-packages/xgboost/core.py\u001b[0m in \u001b[0;36mupdate\u001b[0;34m(self, dtrain, iteration, fobj)\u001b[0m\n\u001b[1;32m   2049\u001b[0m         \u001b[0;32mif\u001b[0m \u001b[0mfobj\u001b[0m \u001b[0;32mis\u001b[0m \u001b[0;32mNone\u001b[0m\u001b[0;34m:\u001b[0m\u001b[0;34m\u001b[0m\u001b[0;34m\u001b[0m\u001b[0m\n\u001b[1;32m   2050\u001b[0m             _check_call(\n\u001b[0;32m-> 2051\u001b[0;31m                 _LIB.XGBoosterUpdateOneIter(\n\u001b[0m\u001b[1;32m   2052\u001b[0m                     \u001b[0mself\u001b[0m\u001b[0;34m.\u001b[0m\u001b[0mhandle\u001b[0m\u001b[0;34m,\u001b[0m \u001b[0mctypes\u001b[0m\u001b[0;34m.\u001b[0m\u001b[0mc_int\u001b[0m\u001b[0;34m(\u001b[0m\u001b[0miteration\u001b[0m\u001b[0;34m)\u001b[0m\u001b[0;34m,\u001b[0m \u001b[0mdtrain\u001b[0m\u001b[0;34m.\u001b[0m\u001b[0mhandle\u001b[0m\u001b[0;34m\u001b[0m\u001b[0;34m\u001b[0m\u001b[0m\n\u001b[1;32m   2053\u001b[0m                 )\n",
      "\u001b[0;31mKeyboardInterrupt\u001b[0m: "
     ]
    }
   ],
   "source": [
    "best = fmin(score, search_space, algo=tpe.suggest, max_evals=150)"
   ]
  },
  {
   "cell_type": "code",
   "execution_count": 29,
   "id": "057f54f1",
   "metadata": {},
   "outputs": [
    {
     "name": "stderr",
     "output_type": "stream",
     "text": [
      "2024-01-24 14:06:55.169391: I tensorflow/core/platform/cpu_feature_guard.cc:193] This TensorFlow binary is optimized with oneAPI Deep Neural Network Library (oneDNN) to use the following CPU instructions in performance-critical operations:  SSE4.1 SSE4.2\n",
      "To enable them in other operations, rebuild TensorFlow with the appropriate compiler flags.\n",
      "2024-01-24 14:07:05.389910: I tensorflow/core/platform/cpu_feature_guard.cc:193] This TensorFlow binary is optimized with oneAPI Deep Neural Network Library (oneDNN) to use the following CPU instructions in performance-critical operations:  SSE4.1 SSE4.2\n",
      "To enable them in other operations, rebuild TensorFlow with the appropriate compiler flags.\n"
     ]
    }
   ],
   "source": [
    "import tensorflow as tf\n",
    "import tensorflow.keras as keras\n",
    "\n",
    "from keras.models import Sequential\n",
    "from keras.losses import SparseCategoricalCrossentropy\n",
    "from keras.layers import Dense, Dropout\n",
    "\n",
    "model = Sequential([\n",
    "    Dense(1024),\n",
    "    Dense(512),\n",
    "    Dense(256),\n",
    "    Dense(128),\n",
    "    Dense(100)\n",
    "])\n",
    "\n",
    "model.compile(optimizer='adam',\n",
    "              loss=SparseCategoricalCrossentropy(from_logits=True),\n",
    "              metrics=['accuracy'])"
   ]
  },
  {
   "cell_type": "code",
   "execution_count": null,
   "id": "0260a0f6",
   "metadata": {},
   "outputs": [],
   "source": [
    "model.fit(X_train, y_train, epochs=1000)"
   ]
  },
  {
   "cell_type": "code",
   "execution_count": 32,
   "id": "6b64985d",
   "metadata": {},
   "outputs": [
    {
     "name": "stdout",
     "output_type": "stream",
     "text": [
      "32/32 [==============================] - 0s 1ms/step\n",
      "0.583\n"
     ]
    }
   ],
   "source": [
    "predictions = model.predict(X_test)\n",
    "predictions = tf.nn.softmax(predictions)\n",
    "\n",
    "score = 0\n",
    "for i, pred in enumerate(predictions):\n",
    "    final_pred = np.argmax(pred, 0)\n",
    "    \n",
    "    if final_pred == y_test[i]:\n",
    "        score += 1\n",
    "\n",
    "print(score/len(y_test))"
   ]
  }
 ],
 "metadata": {
  "kernelspec": {
   "display_name": "Python 3 (ipykernel)",
   "language": "python",
   "name": "python3"
  },
  "language_info": {
   "codemirror_mode": {
    "name": "ipython",
    "version": 3
   },
   "file_extension": ".py",
   "mimetype": "text/x-python",
   "name": "python",
   "nbconvert_exporter": "python",
   "pygments_lexer": "ipython3",
   "version": "3.9.13"
  }
 },
 "nbformat": 4,
 "nbformat_minor": 5
}
