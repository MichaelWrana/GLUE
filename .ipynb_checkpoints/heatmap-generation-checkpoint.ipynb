{
 "cells": [
  {
   "cell_type": "code",
   "execution_count": 2,
   "id": "6c6f2c98",
   "metadata": {},
   "outputs": [],
   "source": [
    "import stumpy\n",
    "import pickle\n",
    "import numpy as np\n",
    "import sklearn.metrics as metrics\n",
    "\n",
    "from pipelinetools import *\n",
    "from multiprocessing import Pool\n",
    "from sklearn.ensemble import RandomForestClassifier"
   ]
  },
  {
   "cell_type": "code",
   "execution_count": 2,
   "id": "15219925",
   "metadata": {},
   "outputs": [],
   "source": [
    "# LOAD AND TRAIN THE MODEL\n",
    "\n",
    "\n"
   ]
  },
  {
   "cell_type": "code",
   "execution_count": 4,
   "id": "f15c3e06",
   "metadata": {},
   "outputs": [],
   "source": [
    "filenames_pos = make_name_list({\n",
    "    'type':['pos'],\n",
    "    'centroid_id':list(range(2)),\n",
    "})\n",
    "filenames_neg = make_name_list({\n",
    "    'type':['neg'],\n",
    "    'centroid_id':list(range(2)),\n",
    "})"
   ]
  },
  {
   "cell_type": "code",
   "execution_count": 4,
   "id": "b6351855",
   "metadata": {},
   "outputs": [],
   "source": [
    "traces_train = load_traces('transformer_train')\n",
    "traces_test = load_traces('transformer_test')\n",
    "traces_kfp = load_traces('transformer_kfp')"
   ]
  },
  {
   "cell_type": "code",
   "execution_count": 5,
   "id": "9f4e9c1c",
   "metadata": {},
   "outputs": [
    {
     "name": "stderr",
     "output_type": "stream",
     "text": [
      "100%|███████████████████████████████████████████| 51/51 [00:05<00:00,  8.65it/s]\n",
      "100%|███████████████████████████████████████████| 51/51 [00:10<00:00,  4.77it/s]\n"
     ]
    }
   ],
   "source": [
    "train_pos = process_traces(traces_train, \"p\")\n",
    "train_neg = process_traces(traces_train, \"n\")"
   ]
  },
  {
   "cell_type": "code",
   "execution_count": null,
   "id": "73c9ddb5",
   "metadata": {},
   "outputs": [],
   "source": [
    "plt.plot(train_pos[0][0])"
   ]
  },
  {
   "cell_type": "code",
   "execution_count": 10,
   "id": "ba266f7d",
   "metadata": {},
   "outputs": [],
   "source": [
    "def make_merged_trace(traces_pos, traces_neg):\n",
    "    X_pos = []\n",
    "    X_neg = []\n",
    "    y = []\n",
    "\n",
    "    for i in tqdm(range(50000)):\n",
    "        true_id = random.randint(0,49)\n",
    "        true_idx = random.randint(0,len(traces_pos[true_id])-1)\n",
    "        \n",
    "        random_idx1 = random.randint(0,len(traces_pos[-1])-1)\n",
    "        random_idx2 = random.randint(0,len(traces_pos[-1])-1)\n",
    "        \n",
    "        combo_pos = np.concatenate((\n",
    "            traces_pos[-1][random_idx1],\n",
    "            traces_pos[true_id][true_idx],\n",
    "            traces_pos[-1][random_idx2],\n",
    "        ))\n",
    "        \n",
    "        combo_neg = np.concatenate((\n",
    "            traces_neg[-1][random_idx1],\n",
    "            traces_neg[true_id][true_idx],\n",
    "            traces_neg[-1][random_idx2],\n",
    "        ))\n",
    "\n",
    "        X_pos.append(combo_pos)\n",
    "        X_neg.append(combo_neg)\n",
    "        y.append(true_id)\n",
    "\n",
    "    return X_pos, X_neg, y"
   ]
  },
  {
   "cell_type": "code",
   "execution_count": 11,
   "id": "ad8a9746",
   "metadata": {},
   "outputs": [],
   "source": [
    "X_pos, X_neg, y = make_merged_trace(train_pos, train_neg)"
   ]
  },
  {
   "cell_type": "code",
   "execution_count": 12,
   "id": "27c93f4e",
   "metadata": {},
   "outputs": [
    {
     "name": "stderr",
     "output_type": "stream",
     "text": [
      "100%|███████████████████████████████████████████| 50/50 [00:00<00:00, 67.99it/s]\n"
     ]
    },
    {
     "name": "stdout",
     "output_type": "stream",
     "text": [
      "Saving shapelets as ../results/shapelets/type=poscentroid_id=0\n",
      "Saving shapelets as ../results/shapelets/type=poscentroid_id=1\n"
     ]
    },
    {
     "name": "stderr",
     "output_type": "stream",
     "text": [
      "100%|███████████████████████████████████████████| 50/50 [00:00<00:00, 73.41it/s]"
     ]
    },
    {
     "name": "stdout",
     "output_type": "stream",
     "text": [
      "Saving shapelets as ../results/shapelets/type=negcentroid_id=0\n",
      "Saving shapelets as ../results/shapelets/type=negcentroid_id=1\n"
     ]
    },
    {
     "name": "stderr",
     "output_type": "stream",
     "text": [
      "\n"
     ]
    }
   ],
   "source": [
    "del train_pos[-1]\n",
    "del train_neg[-1]\n",
    "\n",
    "\n",
    "shapelets_pos = generate_cluster_shapelets(train_pos, traces_kfp, 2)\n",
    "save_shapelets(shapelets_pos, filenames_pos)\n",
    "\n",
    "shapelets_neg = generate_cluster_shapelets(train_neg, traces_kfp, 2)\n",
    "save_shapelets(shapelets_neg, filenames_neg)"
   ]
  },
  {
   "cell_type": "code",
   "execution_count": 13,
   "id": "2b9bf38e",
   "metadata": {},
   "outputs": [
    {
     "name": "stdout",
     "output_type": "stream",
     "text": [
      "4\n"
     ]
    }
   ],
   "source": [
    "parameter_list = [] \n",
    "\n",
    "for i in range(len(filenames_pos)):\n",
    "    parameter_set = [\n",
    "        filenames_pos[i],\n",
    "        X_pos,\n",
    "        y,\n",
    "        shapelets_pos[i],\n",
    "        \"stumpy_min\"\n",
    "    ]\n",
    "    parameter_list.append(parameter_set)\n",
    "    \n",
    "for i in range(len(filenames_neg)):\n",
    "    parameter_set = [\n",
    "        filenames_neg[i],\n",
    "        X_neg,\n",
    "        y,\n",
    "        shapelets_neg[i],\n",
    "        \"stumpy_min\"\n",
    "    ]\n",
    "    parameter_list.append(parameter_set)\n",
    "    \n",
    "print(len(parameter_list))"
   ]
  },
  {
   "cell_type": "code",
   "execution_count": 14,
   "id": "9743fbc0",
   "metadata": {},
   "outputs": [
    {
     "name": "stderr",
     "output_type": "stream",
     "text": [
      "100%|██████████| 50000/50000 [4:06:48<00:00,  3.38it/s]   \n",
      "100%|██████████| 50000/50000 [4:13:59<00:00,  3.28it/s]\n",
      "100%|██████████| 50000/50000 [4:14:54<00:00,  3.27it/s]\n",
      "100%|██████████| 50000/50000 [4:20:06<00:00,  3.20it/s]\n"
     ]
    },
    {
     "name": "stdout",
     "output_type": "stream",
     "text": [
      "Saving X as ../results/data/X/type=poscentroid_id=1\n",
      "Saving y as ../results/data/y/type=poscentroid_id=1\n",
      "Saving X as ../results/data/X/type=negcentroid_id=0\n",
      "Saving y as ../results/data/y/type=negcentroid_id=0\n",
      "Saving X as ../results/data/X/type=negcentroid_id=1\n",
      "Saving y as ../results/data/y/type=negcentroid_id=1\n"
     ]
    }
   ],
   "source": [
    "with Pool(4) as p:\n",
    "    p.map(compute_shapelet_distances_mp, parameter_list)"
   ]
  },
  {
   "cell_type": "code",
   "execution_count": 5,
   "id": "5ebee493",
   "metadata": {},
   "outputs": [
    {
     "name": "stdout",
     "output_type": "stream",
     "text": [
      "Loading X from ../results/data/X/type=poscentroid_id=0\n",
      "Loading X from ../results/data/X/type=poscentroid_id=1\n",
      "Loading y from ../results/data/y/type=poscentroid_id=0\n",
      "Loading X from ../results/data/X/type=negcentroid_id=0\n",
      "Loading X from ../results/data/X/type=negcentroid_id=1\n",
      "Loading y from ../results/data/y/type=negcentroid_id=0\n"
     ]
    }
   ],
   "source": [
    "X_pos, y = load_xy(filenames_pos, True)\n",
    "X_neg, y = load_xy(filenames_neg, True)\n",
    "\n",
    "X = np.concatenate((X_pos, X_neg), axis=1)"
   ]
  },
  {
   "cell_type": "code",
   "execution_count": 7,
   "id": "b9f4e3dd",
   "metadata": {},
   "outputs": [],
   "source": [
    "from sklearn.model_selection import train_test_split\n",
    "X_train, X_test, y_train, y_test = train_test_split(X, y, test_size=0.1)"
   ]
  },
  {
   "cell_type": "code",
   "execution_count": 8,
   "id": "00e25126",
   "metadata": {},
   "outputs": [
    {
     "name": "stdout",
     "output_type": "stream",
     "text": [
      "(45000, 200)\n"
     ]
    }
   ],
   "source": [
    "print(X_train.shape)"
   ]
  },
  {
   "cell_type": "code",
   "execution_count": 9,
   "id": "ee506384",
   "metadata": {},
   "outputs": [],
   "source": [
    "clf = RandomForestClassifier()\n",
    "\n",
    "clf.fit(X_train, y_train)\n",
    "y_pred = clf.predict(X_test)\n",
    "\n",
    "scores = metrics.accuracy_score(y_test, y_pred)"
   ]
  },
  {
   "cell_type": "code",
   "execution_count": 10,
   "id": "bb50357a",
   "metadata": {},
   "outputs": [
    {
     "name": "stdout",
     "output_type": "stream",
     "text": [
      "0.605\n"
     ]
    }
   ],
   "source": [
    "print(scores)"
   ]
  }
 ],
 "metadata": {
  "kernelspec": {
   "display_name": "Python 3 (ipykernel)",
   "language": "python",
   "name": "python3"
  },
  "language_info": {
   "codemirror_mode": {
    "name": "ipython",
    "version": 3
   },
   "file_extension": ".py",
   "mimetype": "text/x-python",
   "name": "python",
   "nbconvert_exporter": "python",
   "pygments_lexer": "ipython3",
   "version": "3.9.13"
  }
 },
 "nbformat": 4,
 "nbformat_minor": 5
}
