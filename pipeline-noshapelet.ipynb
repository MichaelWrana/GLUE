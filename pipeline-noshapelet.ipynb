{
 "cells": [
  {
   "cell_type": "code",
   "execution_count": 1,
   "id": "c1b6b6e8",
   "metadata": {},
   "outputs": [],
   "source": [
    "import stumpy\n",
    "import numpy as np\n",
    "import random\n",
    "import pickle\n",
    "\n",
    "from tqdm.auto import tqdm\n",
    "from multiprocessing import Pool\n",
    "from itertools import product\n",
    "\n",
    "import sklearn.metrics as metrics\n",
    "from sklearn.model_selection import train_test_split, cross_val_score\n",
    "from sklearn.ensemble import RandomForestClassifier"
   ]
  },
  {
   "cell_type": "code",
   "execution_count": 2,
   "id": "651bd8de",
   "metadata": {},
   "outputs": [],
   "source": [
    "def distance_to_shapelet(data, shapelets):    \n",
    "    # processed output data\n",
    "    data_out = np.zeros((len(data),len(shapelets)))\n",
    "    \n",
    "    # loop over each sample in the dataset\n",
    "    for i,sample in enumerate(tqdm(data)):\n",
    "        shapelet_score = np.empty(len(shapelets))\n",
    "        # for each shapelet, calculate distance and assign a score\n",
    "        for j,shapelet in enumerate(shapelets):\n",
    "            try:\n",
    "                dist = stumpy.mass(shapelet, sample)\n",
    "            except ValueError:\n",
    "                dist = stumpy.mass(sample, shapelet)\n",
    "            shapelet_score[j] = dist.min()\n",
    "        data_out[i] = shapelet_score\n",
    "    \n",
    "    return data_out\n",
    "\n",
    "def process_traces(shapelets, name):\n",
    "    X, y = [], []\n",
    "\n",
    "    # iterate over dictionary and re-format into X and y\n",
    "    for trace_id, trace_vals in traces.items():\n",
    "        for trace in trace_vals:\n",
    "            X.append(trace)\n",
    "            y.append(trace_id)\n",
    "    \n",
    "    print(\"Processing\" + name + \"... \" + \"(\" + str(len(X)) + \" traces)\")\n",
    "    \n",
    "    # convert traces into float64 data type\n",
    "    X = [np.asarray(trace).astype('float64') for trace in X]\n",
    "    # clear empty trace values in data\n",
    "    X = [trace[~np.isnan(trace)] for trace in X]    \n",
    "    # compute distance between input trace and shapelet arrays\n",
    "    # return as new X\n",
    "    X = distance_to_shapelet(X, shapelets)\n",
    "    \n",
    "    return X, y"
   ]
  },
  {
   "cell_type": "code",
   "execution_count": 3,
   "id": "146c66f6",
   "metadata": {},
   "outputs": [],
   "source": [
    "# note: python multiprocessing is really annoying to work with\n",
    "# function needs to be in a separate .py file which is imported\n",
    "# and function can only have 1 argument\n",
    "# list input which is immediately used for what would be the arguments\n",
    "def evaluate_parameters(namestring):\n",
    "    \n",
    "    print(namestring)\n",
    "    \n",
    "    files = {\n",
    "        'shapelets': folder_shapelets + namestring,\n",
    "        'X': folder_X + namestring,\n",
    "        'y': folder_y + namestring\n",
    "    }\n",
    "    try:\n",
    "        with open(files['shapelets'], 'rb') as f:\n",
    "            shapelets = pickle.load(f)\n",
    "    except FileNotFoundError:\n",
    "        print(\"Shapelet File Missing:\" + files['shapelets'] + \", skipping...\")\n",
    "        return\n",
    "    \n",
    "    shapelets = [shapelet.astype('float64') for shapelet in shapelets]\n",
    "    \n",
    "    X, y = process_traces(shapelets, files['shapelets'])\n",
    "    \n",
    "    with open(files['X'], 'wb') as f:\n",
    "        pickle.dump(X, f)\n",
    "        \n",
    "    with open(files['y'], 'wb') as f:\n",
    "        pickle.dump(y, f)"
   ]
  },
  {
   "cell_type": "code",
   "execution_count": 4,
   "id": "485914fc",
   "metadata": {},
   "outputs": [],
   "source": [
    "def classifier_performance(X, y, perclass, cv=False):\n",
    "    \n",
    "    clf = RandomForestClassifier()\n",
    "    X_train, X_test, y_train, y_test = train_test_split(X, y, test_size=0.1)\n",
    "    \n",
    "    clf.fit(X_train, y_train)\n",
    "    y_pred = clf.predict(X_test)\n",
    "    \n",
    "    if cv:\n",
    "        return np.mean(cross_val_score(clf, X, y, cv=5))\n",
    "    if perclass:\n",
    "        matrix = metrics.confusion_matrix(y_test, y_pred)\n",
    "        scores = matrix.diagonal()/matrix.sum(axis=1)\n",
    "    else:\n",
    "        scores = metrics.accuracy_score(y_test, y_pred)\n",
    "    \n",
    "    return scores"
   ]
  },
  {
   "cell_type": "code",
   "execution_count": 5,
   "id": "cc42c345",
   "metadata": {},
   "outputs": [],
   "source": [
    "def make_namestring_list(namestring_dict):\n",
    "    \n",
    "    name_components = []\n",
    "    for cat in namestring_dict:\n",
    "        values = namestring_dict[cat]\n",
    "        name_components.append([str(cat) + \"=\" + str(value) for value in values])\n",
    "    \n",
    "    namestring_list = [''.join(item) for item in product(*name_components)]\n",
    "    \n",
    "    return namestring_list"
   ]
  },
  {
   "cell_type": "code",
   "execution_count": 6,
   "id": "6ef364fb",
   "metadata": {},
   "outputs": [],
   "source": [
    "def merge_x(namestring_list, verbose=True):\n",
    "    \n",
    "    X = ()\n",
    "\n",
    "    for filename in namestring_list:\n",
    "        if verbose: print(filename)\n",
    "        with open(folder_X + filename, 'rb') as f:\n",
    "            Xi = pickle.load(f)\n",
    "        X = X + (Xi,) \n",
    "\n",
    "    X = np.concatenate(X, axis=1)\n",
    "\n",
    "    with open(folder_y + namestring_list[0], 'rb') as f:\n",
    "        y = pickle.load(f)\n",
    "    y = np.array(y) \n",
    "    \n",
    "    if verbose: print(X.shape);print(y.shape);\n",
    "    \n",
    "    return X, y"
   ]
  },
  {
   "cell_type": "code",
   "execution_count": 7,
   "id": "29be066e",
   "metadata": {},
   "outputs": [],
   "source": [
    "def batch_classifier(namestring_list, perclass=False, repeat=1):\n",
    "        \n",
    "    for name in namestring_list:\n",
    "        with open(folder_X + name, 'rb') as f:\n",
    "            X = pickle.load(f)\n",
    "        with open(folder_y + name, 'rb') as f:\n",
    "            y = pickle.load(f)\n",
    "            \n",
    "        all_scores = []\n",
    "        for i in range(repeat):\n",
    "            clf = RandomForestClassifier()\n",
    "            scores = classifier_performance(X, y, perclass, True)\n",
    "            all_scores.append(scores)\n",
    "        \n",
    "        print(name + \": \" + str(all_scores))\n",
    "        with open(folder_scores + name, 'wb') as f:\n",
    "            pickle.dump(all_scores, f)\n",
    "\n",
    "def batch_merged_classifier(listof_namestring_list, perclass=False, repeat=1):\n",
    "    for namestring_list in listof_namestring_list:\n",
    "        X, y = merge_x(namestring_list, False)\n",
    "        \n",
    "        all_scores = []\n",
    "        for i in range(repeat):\n",
    "            clf = RandomForestClassifier()\n",
    "            scores = classifier_performance(X, y, perclass, True)\n",
    "            all_scores.append(scores)\n",
    "        \n",
    "        outfile = '-'.join(namestring_list) + \"_merged\"\n",
    "        print(outfile + \": \" + str(all_scores))\n",
    "        with open(folder_scores + outfile, 'wb') as f:\n",
    "            pickle.dump(all_scores, f)"
   ]
  },
  {
   "cell_type": "code",
   "execution_count": 8,
   "id": "ae8b92b2",
   "metadata": {},
   "outputs": [],
   "source": [
    "# SETUP GLOBAL VARIABLES\n",
    "# techincally, in jupyter notebook these dont need to be global and everything will run fine\n",
    "# for the the sake of clarity, I have made them global\n",
    "\n",
    "global traces\n",
    "with open(\"../datasets/ds19.npy\", 'rb') as f:\n",
    "    traces = pickle.load(f)\n",
    "global folder_scores\n",
    "folder_scores = \"../results/scores/\"\n",
    "global folder_shapelets\n",
    "folder_shapelets = \"../results/shapelets/\"\n",
    "global folder_X\n",
    "folder_X = \"../results/data/X/\"\n",
    "global folder_y\n",
    "folder_y = \"../results/data/y/\""
   ]
  },
  {
   "cell_type": "code",
   "execution_count": 9,
   "id": "0060f4ab",
   "metadata": {
    "collapsed": true
   },
   "outputs": [
    {
     "name": "stdout",
     "output_type": "stream",
     "text": [
      "['n_clusters=2num=0', 'n_clusters=2num=1', 'n_clusters=2num=2', 'n_clusters=2num=3', 'n_clusters=3num=0', 'n_clusters=3num=1', 'n_clusters=3num=2', 'n_clusters=3num=3', 'n_clusters=4num=0', 'n_clusters=4num=1', 'n_clusters=4num=2', 'n_clusters=4num=3']\n",
      "n_clusters=2num=2\n",
      "Shapelet File Missing:../results/shapelets/n_clusters=2num=2, skipping...\n",
      "n_clusters=3num=2\n",
      "Processing../results/shapelets/n_clusters=3num=2... (10000 traces)\n",
      "n_clusters=2num=0\n",
      "Processing../results/shapelets/n_clusters=2num=0... (10000 traces)\n",
      "n_clusters=2num=1\n",
      "Processing../results/shapelets/n_clusters=2num=1... (10000 traces)\n",
      "n_clusters=2num=3\n",
      "Shapelet File Missing:../results/shapelets/n_clusters=2num=3, skipping...\n",
      "n_clusters=3num=3\n",
      "Shapelet File Missing:../results/shapelets/n_clusters=3num=3, skipping...\n",
      "n_clusters=4num=0\n",
      "Processing../results/shapelets/n_clusters=4num=0... (10000 traces)\n",
      "n_clusters=3num=1\n",
      "Processing../results/shapelets/n_clusters=3num=1... (10000 traces)\n",
      "n_clusters=3num=0\n",
      "Processing../results/shapelets/n_clusters=3num=0... (10000 traces)\n"
     ]
    },
    {
     "name": "stderr",
     "output_type": "stream",
     "text": [
      "100%|██████████| 10000/10000 [48:45<00:00,  3.42it/s] \n"
     ]
    },
    {
     "name": "stdout",
     "output_type": "stream",
     "text": [
      "n_clusters=4num=1\n",
      "Processing../results/shapelets/n_clusters=4num=1... (10000 traces)\n"
     ]
    },
    {
     "name": "stderr",
     "output_type": "stream",
     "text": [
      "100%|██████████| 10000/10000 [48:45<00:00,  3.42it/s]\n",
      "  0%|          | 4/10000 [00:00<27:06,  6.15it/s]/s]"
     ]
    },
    {
     "name": "stdout",
     "output_type": "stream",
     "text": [
      "n_clusters=4num=2\n",
      "Processing../results/shapelets/n_clusters=4num=2... (10000 traces)\n"
     ]
    },
    {
     "name": "stderr",
     "output_type": "stream",
     "text": [
      "100%|██████████| 10000/10000 [48:48<00:00,  3.41it/s]\n",
      "100%|█████████▉| 9988/10000 [48:48<00:04,  2.67it/s]"
     ]
    },
    {
     "name": "stdout",
     "output_type": "stream",
     "text": [
      "n_clusters=4num=3\n",
      "Processing../results/shapelets/n_clusters=4num=3... (10000 traces)\n"
     ]
    },
    {
     "name": "stderr",
     "output_type": "stream",
     "text": [
      "100%|██████████| 10000/10000 [48:50<00:00,  3.41it/s]\n",
      "100%|██████████| 10000/10000 [48:54<00:00,  3.41it/s]\n",
      "100%|██████████| 10000/10000 [48:59<00:00,  3.40it/s]\n",
      "100%|██████████| 10000/10000 [48:30<00:00,  3.44it/s] \n",
      "100%|██████████| 10000/10000 [48:32<00:00,  3.43it/s]\n",
      "100%|██████████| 10000/10000 [48:34<00:00,  3.43it/s]\n"
     ]
    }
   ],
   "source": [
    "## PART 2\n",
    "\n",
    "namestring_list = make_namestring_list({'n_clusters':[2,3,4], 'num':[*range(4)]})\n",
    "print(namestring_list)\n",
    "\n",
    "if __name__ == '__main__':\n",
    "\n",
    "    from utils import evaluate_parameters\n",
    "    \n",
    "    with Pool(6) as p:\n",
    "        p.map(evaluate_parameters, namestring_list)"
   ]
  },
  {
   "cell_type": "code",
   "execution_count": 26,
   "id": "d9d28c02",
   "metadata": {},
   "outputs": [
    {
     "name": "stdout",
     "output_type": "stream",
     "text": [
      "num=15size=0: [0.857]\n"
     ]
    }
   ],
   "source": [
    "batch_classifier(make_namestring_list({'num':[15],'size':[0]}))"
   ]
  },
  {
   "cell_type": "code",
   "execution_count": 24,
   "id": "1745c0bb",
   "metadata": {},
   "outputs": [
    {
     "name": "stdout",
     "output_type": "stream",
     "text": [
      "num=26size=0-num=33size=0_merged: [0.8752000000000001]\n",
      "num=15size=0-num=13size=0-num=28size=0_merged: [0.8764]\n",
      "num=26size=0-num=33size=0-num=30size=0-num=15size=0_merged: [0.8811]\n",
      "num=14size=0-num=22size=0-num=6size=0-num=19size=0-num=33size=0_merged: [0.8787]\n"
     ]
    }
   ],
   "source": [
    "for i in range(2,6):\n",
    "    listof_namestring_list = [make_namestring_list({'num':random.sample(range(36), i), 'size':[0]}) for j in range(1)]\n",
    "    batch_merged_classifier(listof_namestring_list, repeat=1)"
   ]
  },
  {
   "cell_type": "code",
   "execution_count": 25,
   "id": "a1d797ed",
   "metadata": {},
   "outputs": [
    {
     "name": "stdout",
     "output_type": "stream",
     "text": [
      "[['n_clusters=2num=0', 'n_clusters=2num=1'], ['n_clusters=3num=0', 'n_clusters=3num=1', 'n_clusters=3num=2'], ['n_clusters=4num=0', 'n_clusters=4num=1', 'n_clusters=4num=2', 'n_clusters=4num=3']]\n",
      "n_clusters=2num=0-n_clusters=2num=1_merged: [0.8872]\n",
      "n_clusters=3num=0-n_clusters=3num=1-n_clusters=3num=2_merged: [0.8913]\n",
      "n_clusters=4num=0-n_clusters=4num=1-n_clusters=4num=2-n_clusters=4num=3_merged: [0.8943999999999999]\n"
     ]
    }
   ],
   "source": [
    "listof_namestring_list = [\n",
    "    make_namestring_list({'n_clusters':'2','num':[*range(2)]}),\n",
    "    make_namestring_list({'n_clusters':'3','num':[*range(3)]}),\n",
    "    make_namestring_list({'n_clusters':'4','num':[*range(4)]}),\n",
    "]\n",
    "\n",
    "print(listof_namestring_list)\n",
    "\n",
    "batch_merged_classifier(listof_namestring_list, repeat=1)"
   ]
  },
  {
   "cell_type": "code",
   "execution_count": 10,
   "id": "1ad51fa3",
   "metadata": {},
   "outputs": [],
   "source": [
    "import xgboost as xgb\n",
    "from hyperopt import fmin, tpe, hp, STATUS_OK"
   ]
  },
  {
   "cell_type": "code",
   "execution_count": 12,
   "id": "4ddfd362",
   "metadata": {},
   "outputs": [],
   "source": [
    "# Create training, testing, and validation sets\n",
    "X,y = merge_x(make_namestring_list({'n_clusters':'4','num':[*range(4)]}), False)\n",
    "X_train, X_test, y_train, y_test = train_test_split(X, y, test_size=1000)\n",
    "X_train, X_val, y_train, y_val = train_test_split(X_train, y_train, test_size=1000)\n",
    "\n",
    "dtrain_reg = xgb.DMatrix(X_train, y_train, enable_categorical=True)\n",
    "dval_reg = xgb.DMatrix(X_val, y_val, enable_categorical=True)\n",
    "dtest_reg = xgb.DMatrix(X_test, y_test, enable_categorical=True)"
   ]
  },
  {
   "cell_type": "code",
   "execution_count": 11,
   "id": "277c263c",
   "metadata": {},
   "outputs": [],
   "source": [
    "def score(params):\n",
    "    print(\"Training with: \", end=\"\")\n",
    "    print(params)\n",
    "    \n",
    "    num_boost_round = params['num_boost_round']\n",
    "    del params['num_boost_round']\n",
    "    \n",
    "    model = xgb.train(\n",
    "        params=params,\n",
    "        dtrain=dtrain_reg,\n",
    "        num_boost_round=num_boost_round,\n",
    "    )\n",
    "    \n",
    "    y_pred = model.predict(dval_reg)\n",
    "    score = metrics.accuracy_score(y_val, y_pred)\n",
    "    return {'loss': 1 - score, 'status': STATUS_OK,}\n",
    "    "
   ]
  },
  {
   "cell_type": "code",
   "execution_count": 22,
   "id": "63c2ec97",
   "metadata": {},
   "outputs": [],
   "source": [
    "# XGBoost Hyper-parameter optimization\n",
    "search_space = {\n",
    "    \"objective\": \"multi:softmax\",\n",
    "    \"num_class\": 100,\n",
    "    \"booster\": \"gbtree\",\n",
    "    \"sampling_method\": 'uniform',\n",
    "    \"num_boost_round\": hp.randint(\"num_boost_round\", 100) + 100,\n",
    "    \"eta\": hp.uniform(\"eta\", 0, 1),\n",
    "    \"gamma\": hp.lognormal(\"gamma\", 0, 1),\n",
    "    \"max_depth\": hp.randint(\"max_depth\", 9) + 1,\n",
    "    \"min_child_weight\": hp.lognormal(\"min_child_weight\", 0, 1),\n",
    "    \"max_delta_step\": hp.lognormal(\"max_delta_step\", 0, 1),\n",
    "    \"subsample\": hp.uniform(\"subsample\", 0.5, 1),\n",
    "    \"colsample_bytree\": hp.uniform(\"colsample_bytree\", 0.5, 1),\n",
    "    \"colsample_bylevel\": hp.uniform(\"colsample_bylevel\", 0.5, 1),\n",
    "    \"colsample_bynode\": hp.uniform(\"colsample_bynode\", 0.5, 1),\n",
    "    \"lambda\": hp.lognormal(\"lambda\", 0, 1),\n",
    "    \"alpha\": hp.lognormal(\"alpha\", 0, 1),\n",
    "    \"tree_method\": hp.choice(\"tree_method\", ['auto', 'exact','approx','hist']),\n",
    "    \"grow_policy\": hp.choice(\"grow_policy\", ['depthwise', 'lossguide']),\n",
    "    \"eval_metric\": hp.choice(\"eval_metric\", ['rmse','rmsle','mae','mape','mphe','mlogloss','merror','map']) \n",
    "}"
   ]
  },
  {
   "cell_type": "code",
   "execution_count": 24,
   "id": "ce83eeca",
   "metadata": {},
   "outputs": [
    {
     "name": "stdout",
     "output_type": "stream",
     "text": [
      "Training with:                                                                  \n",
      "{'alpha': 1.057018515513093, 'booster': 'gbtree', 'colsample_bylevel': 0.7229313974049449, 'colsample_bynode': 0.9952138061032817, 'colsample_bytree': 0.9618359742190566, 'eta': 0.12033595491593219, 'eval_metric': 'map', 'gamma': 0.8137873990214178, 'grow_policy': 'depthwise', 'lambda': 0.4247320116555457, 'max_delta_step': 0.5706701046441234, 'max_depth': 1, 'min_child_weight': 0.05835703978300715, 'num_boost_round': 183, 'num_class': 100, 'objective': 'multi:softmax', 'sampling_method': 'uniform', 'subsample': 0.9212110958357833, 'tree_method': 'exact'}\n",
      "Training with:                                                                  \n",
      "{'alpha': 1.1721281204496534, 'booster': 'gbtree', 'colsample_bylevel': 0.9852304293578997, 'colsample_bynode': 0.7514072087814645, 'colsample_bytree': 0.6065920514991698, 'eta': 0.32590042843772526, 'eval_metric': 'mlogloss', 'gamma': 1.5640587426101467, 'grow_policy': 'depthwise', 'lambda': 1.1758867680640306, 'max_delta_step': 1.1474375862766275, 'max_depth': 9, 'min_child_weight': 2.898969056003735, 'num_boost_round': 132, 'num_class': 100, 'objective': 'multi:softmax', 'sampling_method': 'uniform', 'subsample': 0.8981719243181367, 'tree_method': 'hist'}\n",
      "Training with:                                                                  \n",
      "{'alpha': 0.18974199582187887, 'booster': 'gbtree', 'colsample_bylevel': 0.6781783167776653, 'colsample_bynode': 0.6446139346022763, 'colsample_bytree': 0.9089579042258231, 'eta': 0.5211160995386225, 'eval_metric': 'rmse', 'gamma': 2.8758539455739225, 'grow_policy': 'depthwise', 'lambda': 12.352018515689613, 'max_delta_step': 0.15535077071433803, 'max_depth': 6, 'min_child_weight': 0.4855034599319661, 'num_boost_round': 169, 'num_class': 100, 'objective': 'multi:softmax', 'sampling_method': 'uniform', 'subsample': 0.9625657161506525, 'tree_method': 'hist'}\n",
      "Training with:                                                                  \n",
      "{'alpha': 1.2124624369782437, 'booster': 'gbtree', 'colsample_bylevel': 0.8379782433549395, 'colsample_bynode': 0.5338886834621251, 'colsample_bytree': 0.5361988899652299, 'eta': 0.9041840293545996, 'eval_metric': 'rmse', 'gamma': 1.806200262268622, 'grow_policy': 'lossguide', 'lambda': 3.325853446270351, 'max_delta_step': 0.5275755284123271, 'max_depth': 9, 'min_child_weight': 2.3764380911550558, 'num_boost_round': 118, 'num_class': 100, 'objective': 'multi:softmax', 'sampling_method': 'uniform', 'subsample': 0.5161416670459553, 'tree_method': 'auto'}\n",
      "Training with:                                                                  \n",
      "{'alpha': 4.126533735164647, 'booster': 'gbtree', 'colsample_bylevel': 0.8705423226121769, 'colsample_bynode': 0.5495649360681465, 'colsample_bytree': 0.7334127604936911, 'eta': 0.06572535669665625, 'eval_metric': 'map', 'gamma': 3.621496978867944, 'grow_policy': 'lossguide', 'lambda': 0.1722837419983748, 'max_delta_step': 0.4517074097785078, 'max_depth': 9, 'min_child_weight': 5.342420352671271, 'num_boost_round': 127, 'num_class': 100, 'objective': 'multi:softmax', 'sampling_method': 'uniform', 'subsample': 0.6926158215878635, 'tree_method': 'exact'}\n",
      "Training with:                                                                  \n",
      "{'alpha': 0.336602334816065, 'booster': 'gbtree', 'colsample_bylevel': 0.9934283952033829, 'colsample_bynode': 0.6472351549371699, 'colsample_bytree': 0.8005578812572746, 'eta': 0.7398802768548602, 'eval_metric': 'mae', 'gamma': 6.167038324207589, 'grow_policy': 'depthwise', 'lambda': 0.7739322322624879, 'max_delta_step': 0.29680695652035116, 'max_depth': 1, 'min_child_weight': 4.6625695953553725, 'num_boost_round': 170, 'num_class': 100, 'objective': 'multi:softmax', 'sampling_method': 'uniform', 'subsample': 0.7460559883153128, 'tree_method': 'exact'}\n",
      "Training with:                                                                  \n",
      "{'alpha': 1.527296070706701, 'booster': 'gbtree', 'colsample_bylevel': 0.5856003452681331, 'colsample_bynode': 0.7015539892371907, 'colsample_bytree': 0.9909042338912362, 'eta': 0.459375602561792, 'eval_metric': 'map', 'gamma': 0.24885862466269487, 'grow_policy': 'depthwise', 'lambda': 0.9292365838759088, 'max_delta_step': 1.035173340363597, 'max_depth': 9, 'min_child_weight': 1.1184331510075838, 'num_boost_round': 192, 'num_class': 100, 'objective': 'multi:softmax', 'sampling_method': 'uniform', 'subsample': 0.9484025891526335, 'tree_method': 'hist'}\n",
      "Training with:                                                                  \n",
      "{'alpha': 0.26634706630776545, 'booster': 'gbtree', 'colsample_bylevel': 0.7646386822007523, 'colsample_bynode': 0.9855514727320557, 'colsample_bytree': 0.8500298208252708, 'eta': 0.47644198784502445, 'eval_metric': 'mphe', 'gamma': 0.9427017184988833, 'grow_policy': 'depthwise', 'lambda': 1.3744860111281931, 'max_delta_step': 0.7028553239015107, 'max_depth': 5, 'min_child_weight': 0.2974210263469311, 'num_boost_round': 167, 'num_class': 100, 'objective': 'multi:softmax', 'sampling_method': 'uniform', 'subsample': 0.8556489126518876, 'tree_method': 'exact'}\n",
      "Training with:                                                                  \n",
      "{'alpha': 3.9063570678223196, 'booster': 'gbtree', 'colsample_bylevel': 0.5763675997824251, 'colsample_bynode': 0.8173949617802951, 'colsample_bytree': 0.5410182901282155, 'eta': 0.13698145377019033, 'eval_metric': 'rmsle', 'gamma': 1.1504788405148372, 'grow_policy': 'depthwise', 'lambda': 0.7968359350592892, 'max_delta_step': 2.685455189444152, 'max_depth': 6, 'min_child_weight': 1.5497266300780752, 'num_boost_round': 171, 'num_class': 100, 'objective': 'multi:softmax', 'sampling_method': 'uniform', 'subsample': 0.9870329536043514, 'tree_method': 'exact'}\n",
      "Training with:                                                                  \n",
      "{'alpha': 1.3397615731351091, 'booster': 'gbtree', 'colsample_bylevel': 0.8157508356869082, 'colsample_bynode': 0.6559038106646391, 'colsample_bytree': 0.9949801147810917, 'eta': 0.4087141016624143, 'eval_metric': 'rmsle', 'gamma': 10.291018594627369, 'grow_policy': 'depthwise', 'lambda': 0.5458866366915233, 'max_delta_step': 1.1741603884147285, 'max_depth': 4, 'min_child_weight': 3.210564383849746, 'num_boost_round': 168, 'num_class': 100, 'objective': 'multi:softmax', 'sampling_method': 'uniform', 'subsample': 0.9316270658688482, 'tree_method': 'auto'}\n",
      "Training with:                                                                  \n",
      "{'alpha': 1.3064259188933713, 'booster': 'gbtree', 'colsample_bylevel': 0.6934458360893914, 'colsample_bynode': 0.8452609892887133, 'colsample_bytree': 0.907098967801033, 'eta': 0.5201582508459827, 'eval_metric': 'map', 'gamma': 0.5753353044036589, 'grow_policy': 'lossguide', 'lambda': 2.236492005925048, 'max_delta_step': 2.4557684565060116, 'max_depth': 1, 'min_child_weight': 0.43701580184933503, 'num_boost_round': 161, 'num_class': 100, 'objective': 'multi:softmax', 'sampling_method': 'uniform', 'subsample': 0.6746766166891235, 'tree_method': 'hist'}\n",
      "Training with:                                                                  \n",
      "{'alpha': 0.7518050865398171, 'booster': 'gbtree', 'colsample_bylevel': 0.7926460769403407, 'colsample_bynode': 0.8645075189816964, 'colsample_bytree': 0.9586055614687339, 'eta': 0.7843822508774214, 'eval_metric': 'map', 'gamma': 0.643548383631232, 'grow_policy': 'depthwise', 'lambda': 1.7943320245347734, 'max_delta_step': 4.294791274701322, 'max_depth': 3, 'min_child_weight': 1.7980538082604198, 'num_boost_round': 159, 'num_class': 100, 'objective': 'multi:softmax', 'sampling_method': 'uniform', 'subsample': 0.9565289458887329, 'tree_method': 'hist'}\n",
      "Training with:                                                                  \n",
      "{'alpha': 0.39969452285931045, 'booster': 'gbtree', 'colsample_bylevel': 0.713118952047156, 'colsample_bynode': 0.6783386010640775, 'colsample_bytree': 0.6516006768399847, 'eta': 0.7807290575811993, 'eval_metric': 'map', 'gamma': 0.886707652929212, 'grow_policy': 'depthwise', 'lambda': 2.183310755487045, 'max_delta_step': 1.8288860572931305, 'max_depth': 7, 'min_child_weight': 0.662569500419985, 'num_boost_round': 101, 'num_class': 100, 'objective': 'multi:softmax', 'sampling_method': 'uniform', 'subsample': 0.6489662267779026, 'tree_method': 'approx'}\n"
     ]
    },
    {
     "name": "stdout",
     "output_type": "stream",
     "text": [
      "Training with:                                                                  \n",
      "{'alpha': 0.5966282629152805, 'booster': 'gbtree', 'colsample_bylevel': 0.8292461960049706, 'colsample_bynode': 0.9031915132207934, 'colsample_bytree': 0.5381092539981225, 'eta': 0.8978281675218416, 'eval_metric': 'mae', 'gamma': 0.6334561301933432, 'grow_policy': 'depthwise', 'lambda': 0.4321939722601179, 'max_delta_step': 0.38747148794946934, 'max_depth': 6, 'min_child_weight': 1.7387779638345804, 'num_boost_round': 112, 'num_class': 100, 'objective': 'multi:softmax', 'sampling_method': 'uniform', 'subsample': 0.6726584369258393, 'tree_method': 'approx'}\n",
      "Training with:                                                                  \n",
      "{'alpha': 1.422311133827155, 'booster': 'gbtree', 'colsample_bylevel': 0.9646169658273736, 'colsample_bynode': 0.9077293885888713, 'colsample_bytree': 0.5178453159853826, 'eta': 0.5423246321944946, 'eval_metric': 'mlogloss', 'gamma': 0.11623760881752469, 'grow_policy': 'lossguide', 'lambda': 6.0372921458580695, 'max_delta_step': 1.2566629011791686, 'max_depth': 4, 'min_child_weight': 1.163504473565821, 'num_boost_round': 153, 'num_class': 100, 'objective': 'multi:softmax', 'sampling_method': 'uniform', 'subsample': 0.8032237275390288, 'tree_method': 'hist'}\n",
      "Training with:                                                                  \n",
      "{'alpha': 1.1221349239307061, 'booster': 'gbtree', 'colsample_bylevel': 0.9663305244275928, 'colsample_bynode': 0.9532167419854236, 'colsample_bytree': 0.9731438528820966, 'eta': 0.2824617238011218, 'eval_metric': 'rmse', 'gamma': 0.44512170069316265, 'grow_policy': 'depthwise', 'lambda': 1.8557434100859171, 'max_delta_step': 1.9223539802876033, 'max_depth': 6, 'min_child_weight': 7.50734279827275, 'num_boost_round': 167, 'num_class': 100, 'objective': 'multi:softmax', 'sampling_method': 'uniform', 'subsample': 0.7024129046990212, 'tree_method': 'auto'}\n",
      "Training with:                                                                  \n",
      "{'alpha': 4.742371158235285, 'booster': 'gbtree', 'colsample_bylevel': 0.8330570378265536, 'colsample_bynode': 0.5071181073446276, 'colsample_bytree': 0.58507018637956, 'eta': 0.022983528318077928, 'eval_metric': 'mlogloss', 'gamma': 1.694058647624279, 'grow_policy': 'lossguide', 'lambda': 0.7193130271159505, 'max_delta_step': 2.146097215770171, 'max_depth': 5, 'min_child_weight': 1.0032648599102212, 'num_boost_round': 169, 'num_class': 100, 'objective': 'multi:softmax', 'sampling_method': 'uniform', 'subsample': 0.7909662032497857, 'tree_method': 'exact'}\n",
      "Training with:                                                                  \n",
      "{'alpha': 0.45925052370996944, 'booster': 'gbtree', 'colsample_bylevel': 0.9809368960040616, 'colsample_bynode': 0.8788839189495141, 'colsample_bytree': 0.6056497026752053, 'eta': 0.1831079643774255, 'eval_metric': 'mlogloss', 'gamma': 2.0913849190652747, 'grow_policy': 'depthwise', 'lambda': 1.1515707929291763, 'max_delta_step': 2.0867478468626857, 'max_depth': 4, 'min_child_weight': 3.7276884398406263, 'num_boost_round': 122, 'num_class': 100, 'objective': 'multi:softmax', 'sampling_method': 'uniform', 'subsample': 0.6255656546809969, 'tree_method': 'exact'}\n",
      "Training with:                                                                  \n",
      "{'alpha': 0.49331711581422144, 'booster': 'gbtree', 'colsample_bylevel': 0.7525457684096687, 'colsample_bynode': 0.6348834529433094, 'colsample_bytree': 0.5134519980839354, 'eta': 0.1468807616690906, 'eval_metric': 'rmsle', 'gamma': 2.3841554060281687, 'grow_policy': 'lossguide', 'lambda': 0.44303489542614866, 'max_delta_step': 1.5384533700530658, 'max_depth': 5, 'min_child_weight': 0.8130603717757946, 'num_boost_round': 122, 'num_class': 100, 'objective': 'multi:softmax', 'sampling_method': 'uniform', 'subsample': 0.7778027267167108, 'tree_method': 'approx'}\n",
      "Training with:                                                                  \n",
      "{'alpha': 2.3762708275783164, 'booster': 'gbtree', 'colsample_bylevel': 0.7995644091671286, 'colsample_bynode': 0.9379303666152201, 'colsample_bytree': 0.5031456210150089, 'eta': 0.13353823809358167, 'eval_metric': 'mphe', 'gamma': 0.6587747855807923, 'grow_policy': 'lossguide', 'lambda': 1.6784967569487128, 'max_delta_step': 0.8692110203783042, 'max_depth': 7, 'min_child_weight': 0.5166148380087084, 'num_boost_round': 192, 'num_class': 100, 'objective': 'multi:softmax', 'sampling_method': 'uniform', 'subsample': 0.6201210282832254, 'tree_method': 'auto'}\n",
      "Training with:                                                                  \n",
      "{'alpha': 1.6298834088783591, 'booster': 'gbtree', 'colsample_bylevel': 0.9102034288933062, 'colsample_bynode': 0.8104917724320276, 'colsample_bytree': 0.8917712136949532, 'eta': 0.3059037944234073, 'eval_metric': 'merror', 'gamma': 0.43187144854285353, 'grow_policy': 'lossguide', 'lambda': 2.6342945156581097, 'max_delta_step': 3.117453338008183, 'max_depth': 8, 'min_child_weight': 33.93243765995273, 'num_boost_round': 182, 'num_class': 100, 'objective': 'multi:softmax', 'sampling_method': 'uniform', 'subsample': 0.5453105870034822, 'tree_method': 'auto'}\n",
      "Training with:                                                                  \n",
      "{'alpha': 0.8889969083816535, 'booster': 'gbtree', 'colsample_bylevel': 0.513769726588416, 'colsample_bynode': 0.9555305938573188, 'colsample_bytree': 0.7453170849246771, 'eta': 0.6542057186447574, 'eval_metric': 'mape', 'gamma': 0.4040482168398295, 'grow_policy': 'lossguide', 'lambda': 2.598020267037959, 'max_delta_step': 3.005527298903525, 'max_depth': 2, 'min_child_weight': 10.585938946011193, 'num_boost_round': 111, 'num_class': 100, 'objective': 'multi:softmax', 'sampling_method': 'uniform', 'subsample': 0.5661086014682393, 'tree_method': 'auto'}\n",
      "Training with:                                                                  \n",
      "{'alpha': 1.7704584709191078, 'booster': 'gbtree', 'colsample_bylevel': 0.6326792542799453, 'colsample_bynode': 0.8238954833124063, 'colsample_bytree': 0.8182359417038503, 'eta': 0.253910422543605, 'eval_metric': 'rmse', 'gamma': 0.4256605621476231, 'grow_policy': 'lossguide', 'lambda': 3.729548941668148, 'max_delta_step': 2.4733763932290467, 'max_depth': 1, 'min_child_weight': 0.2459752722672964, 'num_boost_round': 123, 'num_class': 100, 'objective': 'multi:softmax', 'sampling_method': 'uniform', 'subsample': 0.7185181411046675, 'tree_method': 'auto'}\n",
      "Training with:                                                                  \n",
      "{'alpha': 0.9459807430348544, 'booster': 'gbtree', 'colsample_bylevel': 0.6589041257410453, 'colsample_bynode': 0.7683270352049635, 'colsample_bytree': 0.9098235513848695, 'eta': 0.6523370728675029, 'eval_metric': 'merror', 'gamma': 0.36522221137667926, 'grow_policy': 'lossguide', 'lambda': 2.173667734613559, 'max_delta_step': 13.575681266292674, 'max_depth': 1, 'min_child_weight': 10.098586051788153, 'num_boost_round': 147, 'num_class': 100, 'objective': 'multi:softmax', 'sampling_method': 'uniform', 'subsample': 0.5835516113122737, 'tree_method': 'hist'}\n",
      "Training with:                                                                  \n",
      "{'alpha': 1.9977785874050038, 'booster': 'gbtree', 'colsample_bylevel': 0.9297291100684398, 'colsample_bynode': 0.9512454198277149, 'colsample_bytree': 0.7003941231567122, 'eta': 0.38000960473462164, 'eval_metric': 'mape', 'gamma': 0.5053423947396606, 'grow_policy': 'lossguide', 'lambda': 2.055573848172238, 'max_delta_step': 4.681128928005269, 'max_depth': 2, 'min_child_weight': 0.25511662391075096, 'num_boost_round': 158, 'num_class': 100, 'objective': 'multi:softmax', 'sampling_method': 'uniform', 'subsample': 0.8406203855860517, 'tree_method': 'auto'}\n",
      "Training with:                                                                  \n",
      "{'alpha': 1.1034547753304345, 'booster': 'gbtree', 'colsample_bylevel': 0.5948020073187927, 'colsample_bynode': 0.8499385800842212, 'colsample_bytree': 0.9460992972776581, 'eta': 0.5898222484826596, 'eval_metric': 'rmse', 'gamma': 0.32066789345514046, 'grow_policy': 'lossguide', 'lambda': 2.5359846448706818, 'max_delta_step': 3.5948262564094198, 'max_depth': 8, 'min_child_weight': 9.266901778436916, 'num_boost_round': 161, 'num_class': 100, 'objective': 'multi:softmax', 'sampling_method': 'uniform', 'subsample': 0.7101511284065533, 'tree_method': 'hist'}\n"
     ]
    },
    {
     "name": "stdout",
     "output_type": "stream",
     "text": [
      "Training with:                                                                  \n",
      "{'alpha': 0.7979037966829601, 'booster': 'gbtree', 'colsample_bylevel': 0.508706187001514, 'colsample_bynode': 0.7896624387879073, 'colsample_bytree': 0.8589995871108447, 'eta': 0.25589379079862135, 'eval_metric': 'rmse', 'gamma': 0.5070820574617547, 'grow_policy': 'depthwise', 'lambda': 1.8458780548953353, 'max_delta_step': 1.6855477368469745, 'max_depth': 6, 'min_child_weight': 14.957948152091822, 'num_boost_round': 173, 'num_class': 100, 'objective': 'multi:softmax', 'sampling_method': 'uniform', 'subsample': 0.7474859291294336, 'tree_method': 'approx'}\n",
      "Training with:                                                                  \n",
      "{'alpha': 1.2388523092756347, 'booster': 'gbtree', 'colsample_bylevel': 0.6990765459178911, 'colsample_bynode': 0.718759521038416, 'colsample_bytree': 0.8137239848597473, 'eta': 0.4093523721586183, 'eval_metric': 'mape', 'gamma': 0.24983598978045246, 'grow_policy': 'lossguide', 'lambda': 2.8945785120036867, 'max_delta_step': 2.496044260603771, 'max_depth': 3, 'min_child_weight': 0.17192493308819656, 'num_boost_round': 194, 'num_class': 100, 'objective': 'multi:softmax', 'sampling_method': 'uniform', 'subsample': 0.6008840644317558, 'tree_method': 'hist'}\n",
      "Training with:                                                                  \n",
      "{'alpha': 1.0375955632677851, 'booster': 'gbtree', 'colsample_bylevel': 0.6290778160830749, 'colsample_bynode': 0.9981217289942258, 'colsample_bytree': 0.9383901978365665, 'eta': 0.24125710211219759, 'eval_metric': 'map', 'gamma': 0.5273678494359505, 'grow_policy': 'depthwise', 'lambda': 1.5031775565782257, 'max_delta_step': 2.0989532809914553, 'max_depth': 1, 'min_child_weight': 0.40675949630353503, 'num_boost_round': 188, 'num_class': 100, 'objective': 'multi:softmax', 'sampling_method': 'uniform', 'subsample': 0.5009461329591861, 'tree_method': 'auto'}\n",
      "Training with:                                                                  \n",
      "{'alpha': 1.3444350212859513, 'booster': 'gbtree', 'colsample_bylevel': 0.5481799091910481, 'colsample_bynode': 0.9094189212315317, 'colsample_bytree': 0.9990248146466936, 'eta': 0.5947790800977605, 'eval_metric': 'mae', 'gamma': 1.2028758668303396, 'grow_policy': 'lossguide', 'lambda': 0.2742053451159721, 'max_delta_step': 1.9116999575974922, 'max_depth': 6, 'min_child_weight': 0.1817508418966866, 'num_boost_round': 181, 'num_class': 100, 'objective': 'multi:softmax', 'sampling_method': 'uniform', 'subsample': 0.6491850221419173, 'tree_method': 'hist'}\n",
      "Training with:                                                                  \n",
      "{'alpha': 1.10514417000248, 'booster': 'gbtree', 'colsample_bylevel': 0.7311961555140448, 'colsample_bynode': 0.97939048507657, 'colsample_bytree': 0.7766814412434848, 'eta': 0.34064655519170217, 'eval_metric': 'merror', 'gamma': 0.3019057648881008, 'grow_policy': 'depthwise', 'lambda': 3.528599900432301, 'max_delta_step': 5.728170307335413, 'max_depth': 1, 'min_child_weight': 22.55625840804747, 'num_boost_round': 104, 'num_class': 100, 'objective': 'multi:softmax', 'sampling_method': 'uniform', 'subsample': 0.8741822687300893, 'tree_method': 'auto'}\n",
      "Training with:                                                                  \n",
      "{'alpha': 0.9477023680917253, 'booster': 'gbtree', 'colsample_bylevel': 0.8660264021564605, 'colsample_bynode': 0.5935910339885225, 'colsample_bytree': 0.8586339290908676, 'eta': 0.05299808749686452, 'eval_metric': 'rmse', 'gamma': 0.5636267638633402, 'grow_policy': 'depthwise', 'lambda': 2.3581187522201916, 'max_delta_step': 1.4166862973594878, 'max_depth': 6, 'min_child_weight': 0.10918730864407643, 'num_boost_round': 129, 'num_class': 100, 'objective': 'multi:softmax', 'sampling_method': 'uniform', 'subsample': 0.8220021249326892, 'tree_method': 'hist'}\n",
      "Training with:                                                                  \n",
      "{'alpha': 1.3057074014676116, 'booster': 'gbtree', 'colsample_bylevel': 0.6686241077313402, 'colsample_bynode': 0.7432189738881414, 'colsample_bytree': 0.8980030413832701, 'eta': 0.6773919062193625, 'eval_metric': 'mphe', 'gamma': 0.7499397393932613, 'grow_policy': 'lossguide', 'lambda': 4.910264305092482, 'max_delta_step': 2.2743123295528602, 'max_depth': 3, 'min_child_weight': 5.935550813523724, 'num_boost_round': 150, 'num_class': 100, 'objective': 'multi:softmax', 'sampling_method': 'uniform', 'subsample': 0.6721114267985129, 'tree_method': 'auto'}\n",
      "Training with:                                                                  \n",
      "{'alpha': 1.120990061320275, 'booster': 'gbtree', 'colsample_bylevel': 0.9013423698545067, 'colsample_bynode': 0.8429539428798212, 'colsample_bytree': 0.6932952720972394, 'eta': 0.5413161128039923, 'eval_metric': 'map', 'gamma': 0.4647019973740708, 'grow_policy': 'depthwise', 'lambda': 2.9818698665277976, 'max_delta_step': 3.026230517829219, 'max_depth': 8, 'min_child_weight': 0.7037214243380115, 'num_boost_round': 190, 'num_class': 100, 'objective': 'multi:softmax', 'sampling_method': 'uniform', 'subsample': 0.5376064499081663, 'tree_method': 'hist'}\n",
      "Training with:                                                                  \n",
      "{'alpha': 9.43798349769731, 'booster': 'gbtree', 'colsample_bylevel': 0.7717125953771177, 'colsample_bynode': 0.8876821300263464, 'colsample_bytree': 0.9780102601093112, 'eta': 0.44324969283505355, 'eval_metric': 'rmse', 'gamma': 0.360999254410996, 'grow_policy': 'lossguide', 'lambda': 1.9613462686036862, 'max_delta_step': 3.3302206813515567, 'max_depth': 1, 'min_child_weight': 0.4413379496432764, 'num_boost_round': 197, 'num_class': 100, 'objective': 'multi:softmax', 'sampling_method': 'uniform', 'subsample': 0.7654564733243046, 'tree_method': 'approx'}\n",
      "Training with:                                                                  \n",
      "{'alpha': 1.4623736089306023, 'booster': 'gbtree', 'colsample_bylevel': 0.691077371123731, 'colsample_bynode': 0.9380235594824105, 'colsample_bytree': 0.7801434834116213, 'eta': 0.9694189791419136, 'eval_metric': 'map', 'gamma': 0.5904562927623461, 'grow_policy': 'depthwise', 'lambda': 1.5654602272499964, 'max_delta_step': 0.7976632516183, 'max_depth': 2, 'min_child_weight': 2.3756647044920376, 'num_boost_round': 103, 'num_class': 100, 'objective': 'multi:softmax', 'sampling_method': 'uniform', 'subsample': 0.7192003568330496, 'tree_method': 'hist'}\n",
      "Training with:                                                                  \n",
      "{'alpha': 1.1947830281421878, 'booster': 'gbtree', 'colsample_bylevel': 0.7282936376222703, 'colsample_bynode': 0.7819197792861223, 'colsample_bytree': 0.9364834858533219, 'eta': 0.3234013409378581, 'eval_metric': 'rmse', 'gamma': 0.7513897589407948, 'grow_policy': 'depthwise', 'lambda': 1.1112119538166347, 'max_delta_step': 2.6955856424458813, 'max_depth': 9, 'min_child_weight': 0.5624201255928932, 'num_boost_round': 161, 'num_class': 100, 'objective': 'multi:softmax', 'sampling_method': 'uniform', 'subsample': 0.6777039395901143, 'tree_method': 'auto'}\n",
      "Training with:                                                                  \n",
      "{'alpha': 1.6406465214986, 'booster': 'gbtree', 'colsample_bylevel': 0.8617511329287233, 'colsample_bynode': 0.7359888167838088, 'colsample_bytree': 0.837859544489805, 'eta': 0.19525399874112886, 'eval_metric': 'mae', 'gamma': 1.369163440531742, 'grow_policy': 'lossguide', 'lambda': 1.308786428860745, 'max_delta_step': 0.6715329520971293, 'max_depth': 6, 'min_child_weight': 5.838744092247598, 'num_boost_round': 167, 'num_class': 100, 'objective': 'multi:softmax', 'sampling_method': 'uniform', 'subsample': 0.8995769667354954, 'tree_method': 'hist'}\n",
      "Training with:                                                                  \n",
      "{'alpha': 1.0202376938713262, 'booster': 'gbtree', 'colsample_bylevel': 0.9462113602959732, 'colsample_bynode': 0.9266112984132452, 'colsample_bytree': 0.8809656055935734, 'eta': 0.49939550013717104, 'eval_metric': 'map', 'gamma': 0.46116426286975903, 'grow_policy': 'depthwise', 'lambda': 2.3462280187124107, 'max_delta_step': 2.7827409684091116, 'max_depth': 7, 'min_child_weight': 0.38976569745051654, 'num_boost_round': 179, 'num_class': 100, 'objective': 'multi:softmax', 'sampling_method': 'uniform', 'subsample': 0.7375295840550715, 'tree_method': 'exact'}\n"
     ]
    },
    {
     "name": "stdout",
     "output_type": "stream",
     "text": [
      "Training with:                                                                  \n",
      "{'alpha': 0.8461543273416059, 'booster': 'gbtree', 'colsample_bylevel': 0.6349636608372631, 'colsample_bynode': 0.8415748674158193, 'colsample_bytree': 0.9210609267077464, 'eta': 0.7118526760855726, 'eval_metric': 'rmsle', 'gamma': 3.381466709430099, 'grow_policy': 'depthwise', 'lambda': 2.9251313962629224, 'max_delta_step': 0.1829623095789454, 'max_depth': 1, 'min_child_weight': 1.317377978539998, 'num_boost_round': 106, 'num_class': 100, 'objective': 'multi:softmax', 'sampling_method': 'uniform', 'subsample': 0.6333969421263012, 'tree_method': 'auto'}\n",
      "Training with:                                                                  \n",
      "{'alpha': 0.7232298499092071, 'booster': 'gbtree', 'colsample_bylevel': 0.5574967177902553, 'colsample_bynode': 0.9672252426430346, 'colsample_bytree': 0.9723742757871042, 'eta': 0.8103143665979428, 'eval_metric': 'mphe', 'gamma': 0.35713357565668763, 'grow_policy': 'lossguide', 'lambda': 0.6394925928579837, 'max_delta_step': 2.388763076462759, 'max_depth': 9, 'min_child_weight': 0.333099466216442, 'num_boost_round': 195, 'num_class': 100, 'objective': 'multi:softmax', 'sampling_method': 'uniform', 'subsample': 0.6030936188181178, 'tree_method': 'hist'}\n",
      "Training with:                                                                  \n",
      "{'alpha': 1.2748748314700111, 'booster': 'gbtree', 'colsample_bylevel': 0.7855419428216154, 'colsample_bynode': 0.8755881511199135, 'colsample_bytree': 0.8792479399967771, 'eta': 0.5932718865300248, 'eval_metric': 'rmse', 'gamma': 1.0669533053697609, 'grow_policy': 'depthwise', 'lambda': 1.0177543310277306, 'max_delta_step': 0.9798072189158104, 'max_depth': 6, 'min_child_weight': 86.07285952788935, 'num_boost_round': 128, 'num_class': 100, 'objective': 'multi:softmax', 'sampling_method': 'uniform', 'subsample': 0.7000816883611495, 'tree_method': 'approx'}\n",
      "Training with:                                                                  \n",
      "{'alpha': 1.8819342798036456, 'booster': 'gbtree', 'colsample_bylevel': 0.6031261906424369, 'colsample_bynode': 0.9951595630440088, 'colsample_bytree': 0.7056997725964534, 'eta': 0.8398836821350408, 'eval_metric': 'map', 'gamma': 0.18021006457972963, 'grow_policy': 'depthwise', 'lambda': 0.04945752070157258, 'max_delta_step': 1.8311001707173975, 'max_depth': 1, 'min_child_weight': 0.8423510994329703, 'num_boost_round': 115, 'num_class': 100, 'objective': 'multi:softmax', 'sampling_method': 'uniform', 'subsample': 0.8075448302984015, 'tree_method': 'exact'}\n",
      "Training with:                                                                  \n",
      "{'alpha': 1.1604967683176972, 'booster': 'gbtree', 'colsample_bylevel': 0.8835510854747304, 'colsample_bynode': 0.6917042299643477, 'colsample_bytree': 0.9958746149077573, 'eta': 0.36892180586357515, 'eval_metric': 'merror', 'gamma': 0.3944865199108843, 'grow_policy': 'lossguide', 'lambda': 0.2774316605146399, 'max_delta_step': 3.856655730425923, 'max_depth': 5, 'min_child_weight': 2.4907446813573784, 'num_boost_round': 176, 'num_class': 100, 'objective': 'multi:softmax', 'sampling_method': 'uniform', 'subsample': 0.6561543420838835, 'tree_method': 'auto'}\n",
      "Training with:                                                                  \n",
      "{'alpha': 1.404614656890124, 'booster': 'gbtree', 'colsample_bylevel': 0.6538540822939822, 'colsample_bynode': 0.7953902026452268, 'colsample_bytree': 0.6527522352853614, 'eta': 0.08935031128104964, 'eval_metric': 'mlogloss', 'gamma': 0.6905383717345767, 'grow_policy': 'depthwise', 'lambda': 0.8752248589706985, 'max_delta_step': 0.5408072273908353, 'max_depth': 4, 'min_child_weight': 4.897914557758022, 'num_boost_round': 121, 'num_class': 100, 'objective': 'multi:softmax', 'sampling_method': 'uniform', 'subsample': 0.7708623781507207, 'tree_method': 'hist'}\n",
      "Training with:                                                                  \n",
      "{'alpha': 0.2181291920433406, 'booster': 'gbtree', 'colsample_bylevel': 0.7382244015893656, 'colsample_bynode': 0.7651100004706388, 'colsample_bytree': 0.7673129478569817, 'eta': 0.011568639481557397, 'eval_metric': 'map', 'gamma': 4.807135350165879, 'grow_policy': 'lossguide', 'lambda': 4.143633225746457, 'max_delta_step': 1.9785514531385417, 'max_depth': 3, 'min_child_weight': 3.7497346748621627, 'num_boost_round': 146, 'num_class': 100, 'objective': 'multi:softmax', 'sampling_method': 'uniform', 'subsample': 0.7375365619932265, 'tree_method': 'exact'}\n",
      "Training with:                                                                  \n",
      "{'alpha': 0.6762133119120936, 'booster': 'gbtree', 'colsample_bylevel': 0.7084740518381603, 'colsample_bynode': 0.6183787002673624, 'colsample_bytree': 0.960171996737791, 'eta': 0.4797489949554743, 'eval_metric': 'rmsle', 'gamma': 0.9033537758834618, 'grow_policy': 'depthwise', 'lambda': 1.7866772301386644, 'max_delta_step': 0.4405013361096407, 'max_depth': 7, 'min_child_weight': 6.901959599702445, 'num_boost_round': 100, 'num_class': 100, 'objective': 'multi:softmax', 'sampling_method': 'uniform', 'subsample': 0.6856085167467918, 'tree_method': 'approx'}\n",
      "Training with:                                                                  \n",
      "{'alpha': 2.3533919496153874, 'booster': 'gbtree', 'colsample_bylevel': 0.9921790553239951, 'colsample_bynode': 0.9184365107896999, 'colsample_bytree': 0.8353229451649768, 'eta': 0.4210791526312119, 'eval_metric': 'mae', 'gamma': 0.30246930286773654, 'grow_policy': 'lossguide', 'lambda': 8.596285698293531, 'max_delta_step': 1.4043718338507887, 'max_depth': 6, 'min_child_weight': 2.0566167853347737, 'num_boost_round': 180, 'num_class': 100, 'objective': 'multi:softmax', 'sampling_method': 'uniform', 'subsample': 0.5584078290929946, 'tree_method': 'auto'}\n",
      "Training with:                                                                  \n",
      "{'alpha': 0.9810908607767266, 'booster': 'gbtree', 'colsample_bylevel': 0.8076790288884298, 'colsample_bynode': 0.5621118408135882, 'colsample_bytree': 0.9194885964701626, 'eta': 0.28825500596153764, 'eval_metric': 'mape', 'gamma': 0.482075935928716, 'grow_policy': 'depthwise', 'lambda': 2.4078013403296277, 'max_delta_step': 0.24683175631953172, 'max_depth': 9, 'min_child_weight': 0.6091644042592739, 'num_boost_round': 139, 'num_class': 100, 'objective': 'multi:softmax', 'sampling_method': 'uniform', 'subsample': 0.8605134072696912, 'tree_method': 'hist'}\n",
      "Training with:                                                                  \n",
      "{'alpha': 1.5388434849785848, 'booster': 'gbtree', 'colsample_bylevel': 0.8435691989289336, 'colsample_bynode': 0.8918002180194937, 'colsample_bytree': 0.7951301928303127, 'eta': 0.5225502660786697, 'eval_metric': 'mlogloss', 'gamma': 1.337764863122507, 'grow_policy': 'lossguide', 'lambda': 1.3926042533057423, 'max_delta_step': 0.624331330740053, 'max_depth': 5, 'min_child_weight': 1.4773475407646408, 'num_boost_round': 184, 'num_class': 100, 'objective': 'multi:softmax', 'sampling_method': 'uniform', 'subsample': 0.5861661246427682, 'tree_method': 'auto'}\n",
      "Training with:                                                                  \n",
      "{'alpha': 0.323229971355741, 'booster': 'gbtree', 'colsample_bylevel': 0.7575386723353618, 'colsample_bynode': 0.8645221206808574, 'colsample_bytree': 0.9765052201901208, 'eta': 0.18987919673589188, 'eval_metric': 'rmse', 'gamma': 0.5936895800609809, 'grow_policy': 'depthwise', 'lambda': 2.200308993538666, 'max_delta_step': 6.922673732153131, 'max_depth': 8, 'min_child_weight': 0.8578234810733861, 'num_boost_round': 193, 'num_class': 100, 'objective': 'multi:softmax', 'sampling_method': 'uniform', 'subsample': 0.6281852331264839, 'tree_method': 'exact'}\n",
      "Training with:                                                                  \n",
      "{'alpha': 0.8941069553478614, 'booster': 'gbtree', 'colsample_bylevel': 0.6130740952662188, 'colsample_bynode': 0.8143004067870847, 'colsample_bytree': 0.882133579086878, 'eta': 0.7371326729905701, 'eval_metric': 'mphe', 'gamma': 0.8515263190326082, 'grow_policy': 'lossguide', 'lambda': 1.2549419805032842, 'max_delta_step': 1.6305864764173583, 'max_depth': 4, 'min_child_weight': 15.305098628788706, 'num_boost_round': 178, 'num_class': 100, 'objective': 'multi:softmax', 'sampling_method': 'uniform', 'subsample': 0.5255373373495792, 'tree_method': 'hist'}\n"
     ]
    },
    {
     "name": "stdout",
     "output_type": "stream",
     "text": [
      "Training with:                                                                  \n",
      "{'alpha': 1.5559054675289536, 'booster': 'gbtree', 'colsample_bylevel': 0.6829089914515906, 'colsample_bynode': 0.7200248161858527, 'colsample_bytree': 0.5682764706888983, 'eta': 0.3545492498182623, 'eval_metric': 'map', 'gamma': 1.0199108536513946, 'grow_policy': 'depthwise', 'lambda': 1.9839298613634806, 'max_delta_step': 2.8898747108941247, 'max_depth': 2, 'min_child_weight': 0.9528362668850477, 'num_boost_round': 125, 'num_class': 100, 'objective': 'multi:softmax', 'sampling_method': 'uniform', 'subsample': 0.9917246417055641, 'tree_method': 'approx'}\n",
      "Training with:                                                                  \n",
      "{'alpha': 3.1765261143306973, 'booster': 'gbtree', 'colsample_bylevel': 0.5706565801773884, 'colsample_bynode': 0.667241314312337, 'colsample_bytree': 0.7520914636754421, 'eta': 0.9842625911106888, 'eval_metric': 'rmsle', 'gamma': 0.3412538058917156, 'grow_policy': 'lossguide', 'lambda': 3.224099592831794, 'max_delta_step': 2.22331090820087, 'max_depth': 1, 'min_child_weight': 0.7130168234974067, 'num_boost_round': 177, 'num_class': 100, 'objective': 'multi:softmax', 'sampling_method': 'uniform', 'subsample': 0.7269780887223782, 'tree_method': 'auto'}\n",
      "Training with:                                                                  \n",
      "{'alpha': 0.08705326759048176, 'booster': 'gbtree', 'colsample_bylevel': 0.5291727259838477, 'colsample_bynode': 0.971613930757906, 'colsample_bytree': 0.7224563296772937, 'eta': 0.8857296088134756, 'eval_metric': 'rmse', 'gamma': 0.3952485222085658, 'grow_policy': 'lossguide', 'lambda': 2.766494963236318, 'max_delta_step': 1.0327918365521553, 'max_depth': 6, 'min_child_weight': 1.143803262469221, 'num_boost_round': 145, 'num_class': 100, 'objective': 'multi:softmax', 'sampling_method': 'uniform', 'subsample': 0.9311495343004074, 'tree_method': 'hist'}\n",
      "Training with:                                                                  \n",
      "{'alpha': 1.3748559336992487, 'booster': 'gbtree', 'colsample_bylevel': 0.9740186669167344, 'colsample_bynode': 0.8282780566029807, 'colsample_bytree': 0.6598281681033256, 'eta': 0.563305893422016, 'eval_metric': 'mape', 'gamma': 0.5386422814923686, 'grow_policy': 'depthwise', 'lambda': 0.5444133164759695, 'max_delta_step': 1.1873610743359377, 'max_depth': 7, 'min_child_weight': 7.589398609784248, 'num_boost_round': 148, 'num_class': 100, 'objective': 'multi:softmax', 'sampling_method': 'uniform', 'subsample': 0.5008298352683528, 'tree_method': 'auto'}\n",
      "Training with:                                                                  \n",
      "{'alpha': 1.0690305586657394, 'booster': 'gbtree', 'colsample_bylevel': 0.953431838324845, 'colsample_bynode': 0.9497656296618124, 'colsample_bytree': 0.9533948792226309, 'eta': 0.6341062729499286, 'eval_metric': 'merror', 'gamma': 0.25638409935938317, 'grow_policy': 'lossguide', 'lambda': 1.708676574851741, 'max_delta_step': 2.6079068692582665, 'max_depth': 3, 'min_child_weight': 3.3627091324303513, 'num_boost_round': 109, 'num_class': 100, 'objective': 'multi:softmax', 'sampling_method': 'uniform', 'subsample': 0.7904237353674023, 'tree_method': 'exact'}\n",
      "Training with:                                                                  \n",
      "{'alpha': 1.2584880506540939, 'booster': 'gbtree', 'colsample_bylevel': 0.8175216876626796, 'colsample_bynode': 0.86221628408245, 'colsample_bytree': 0.6323449577025426, 'eta': 0.28229446608987085, 'eval_metric': 'map', 'gamma': 0.41701175654086264, 'grow_policy': 'depthwise', 'lambda': 2.107356172972597, 'max_delta_step': 0.9456169330688562, 'max_depth': 1, 'min_child_weight': 0.1862818952927418, 'num_boost_round': 113, 'num_class': 100, 'objective': 'multi:softmax', 'sampling_method': 'uniform', 'subsample': 0.7594649640539844, 'tree_method': 'approx'}\n",
      "Training with:                                                                  \n",
      "{'alpha': 1.4683474655472732, 'booster': 'gbtree', 'colsample_bylevel': 0.8430258412335074, 'colsample_bynode': 0.8967618521057972, 'colsample_bytree': 0.8217762003574343, 'eta': 0.1600240718335475, 'eval_metric': 'mlogloss', 'gamma': 0.44225154725267196, 'grow_policy': 'lossguide', 'lambda': 2.265429776883574, 'max_delta_step': 0.3419321682557813, 'max_depth': 6, 'min_child_weight': 0.32984101244537173, 'num_boost_round': 114, 'num_class': 100, 'objective': 'multi:softmax', 'sampling_method': 'uniform', 'subsample': 0.8292736438906239, 'tree_method': 'hist'}\n",
      "Training with:                                                                  \n",
      "{'alpha': 1.6429808954041436, 'booster': 'gbtree', 'colsample_bylevel': 0.9156949103502223, 'colsample_bynode': 0.9336153276035967, 'colsample_bytree': 0.927000961067678, 'eta': 0.21936285829575256, 'eval_metric': 'mae', 'gamma': 2.012853937879537, 'grow_policy': 'depthwise', 'lambda': 1.5048061503507268, 'max_delta_step': 3.359659850280096, 'max_depth': 5, 'min_child_weight': 0.13383964624549533, 'num_boost_round': 157, 'num_class': 100, 'objective': 'multi:softmax', 'sampling_method': 'uniform', 'subsample': 0.6620710722712161, 'tree_method': 'auto'}\n",
      "Training with:                                                                  \n",
      "{'alpha': 1.2102974058207108, 'booster': 'gbtree', 'colsample_bylevel': 0.7815812242887896, 'colsample_bynode': 0.763915724304202, 'colsample_bytree': 0.866199732859111, 'eta': 0.4410544291817713, 'eval_metric': 'mphe', 'gamma': 0.37457900303639147, 'grow_policy': 'lossguide', 'lambda': 3.156564693710034, 'max_delta_step': 1.3542150640884856, 'max_depth': 8, 'min_child_weight': 0.07493377245198879, 'num_boost_round': 136, 'num_class': 100, 'objective': 'multi:softmax', 'sampling_method': 'uniform', 'subsample': 0.6973539070697461, 'tree_method': 'hist'}\n",
      "Training with:                                                                  \n",
      "{'alpha': 1.1705839140378336, 'booster': 'gbtree', 'colsample_bylevel': 0.7141868311842636, 'colsample_bynode': 0.9161743242519442, 'colsample_bytree': 0.7982096925773052, 'eta': 0.39923570420706417, 'eval_metric': 'rmse', 'gamma': 0.21696767856237542, 'grow_policy': 'depthwise', 'lambda': 2.5179122489258705, 'max_delta_step': 2.009488924340623, 'max_depth': 4, 'min_child_weight': 38.23053412632208, 'num_boost_round': 165, 'num_class': 100, 'objective': 'multi:softmax', 'sampling_method': 'uniform', 'subsample': 0.9100166510750031, 'tree_method': 'auto'}\n",
      "Training with:                                                                  \n",
      "{'alpha': 1.7675550796805992, 'booster': 'gbtree', 'colsample_bylevel': 0.8952396415517965, 'colsample_bynode': 0.8023037124885151, 'colsample_bytree': 0.998597630254649, 'eta': 0.10184924362754438, 'eval_metric': 'map', 'gamma': 0.7677196466704684, 'grow_policy': 'lossguide', 'lambda': 0.3439199711063851, 'max_delta_step': 1.7017468508268898, 'max_depth': 2, 'min_child_weight': 12.772085085271916, 'num_boost_round': 126, 'num_class': 100, 'objective': 'multi:softmax', 'sampling_method': 'uniform', 'subsample': 0.6115424958177506, 'tree_method': 'exact'}\n",
      "Training with:                                                                  \n",
      "{'alpha': 0.5177732236755032, 'booster': 'gbtree', 'colsample_bylevel': 0.9997787179170649, 'colsample_bynode': 0.8294070542518779, 'colsample_bytree': 0.9052323148829445, 'eta': 0.04461805843719513, 'eval_metric': 'mape', 'gamma': 0.7108050076065432, 'grow_policy': 'depthwise', 'lambda': 1.9040888255733768, 'max_delta_step': 2.319847190378912, 'max_depth': 1, 'min_child_weight': 0.23356917975532918, 'num_boost_round': 124, 'num_class': 100, 'objective': 'multi:softmax', 'sampling_method': 'uniform', 'subsample': 0.5634965585456653, 'tree_method': 'hist'}\n",
      "Training with:                                                                  \n",
      "{'alpha': 2.136310744084568, 'booster': 'gbtree', 'colsample_bylevel': 0.6540304339798924, 'colsample_bynode': 0.9966320916980941, 'colsample_bytree': 0.8487209989075276, 'eta': 0.6191343651241326, 'eval_metric': 'rmse', 'gamma': 0.5051039897448806, 'grow_policy': 'lossguide', 'lambda': 0.14750237448481746, 'max_delta_step': 0.8155497078444647, 'max_depth': 9, 'min_child_weight': 4.383074709752586, 'num_boost_round': 137, 'num_class': 100, 'objective': 'multi:softmax', 'sampling_method': 'uniform', 'subsample': 0.9664688217587021, 'tree_method': 'auto'}\n"
     ]
    },
    {
     "name": "stdout",
     "output_type": "stream",
     "text": [
      "Training with:                                                                  \n",
      "{'alpha': 2.8117501476249216, 'booster': 'gbtree', 'colsample_bylevel': 0.6085621819593443, 'colsample_bynode': 0.9571893300947623, 'colsample_bytree': 0.6813061754605437, 'eta': 0.8416528775623441, 'eval_metric': 'map', 'gamma': 0.053290978082614335, 'grow_policy': 'depthwise', 'lambda': 0.030861778308379273, 'max_delta_step': 1.767125960168967, 'max_depth': 1, 'min_child_weight': 0.4995823087837177, 'num_boost_round': 115, 'num_class': 100, 'objective': 'multi:softmax', 'sampling_method': 'uniform', 'subsample': 0.8060598047123525, 'tree_method': 'exact'}\n",
      "Training with:                                                                  \n",
      "{'alpha': 1.9164055456640698, 'booster': 'gbtree', 'colsample_bylevel': 0.5412224091655834, 'colsample_bynode': 0.9832836289560529, 'colsample_bytree': 0.7181670004470595, 'eta': 0.9586987037914598, 'eval_metric': 'map', 'gamma': 0.15624423270704504, 'grow_policy': 'depthwise', 'lambda': 0.038040406989783664, 'max_delta_step': 1.8454896849297413, 'max_depth': 1, 'min_child_weight': 1.0217630115629743, 'num_boost_round': 110, 'num_class': 100, 'objective': 'multi:softmax', 'sampling_method': 'uniform', 'subsample': 0.8776844667153344, 'tree_method': 'exact'}\n",
      "Training with:                                                                  \n",
      "{'alpha': 2.7271086322616505, 'booster': 'gbtree', 'colsample_bylevel': 0.5819769590846992, 'colsample_bynode': 0.9982724117748936, 'colsample_bytree': 0.6354398934668934, 'eta': 0.9182787352500801, 'eval_metric': 'map', 'gamma': 0.10717174238128033, 'grow_policy': 'depthwise', 'lambda': 0.009603282447940344, 'max_delta_step': 1.611302411274114, 'max_depth': 1, 'min_child_weight': 0.846895674529381, 'num_boost_round': 196, 'num_class': 100, 'objective': 'multi:softmax', 'sampling_method': 'uniform', 'subsample': 0.8105846896521475, 'tree_method': 'exact'}\n",
      "Training with:                                                                  \n",
      "{'alpha': 1.0451912500372125, 'booster': 'gbtree', 'colsample_bylevel': 0.6254372053314345, 'colsample_bynode': 0.5034833357759619, 'colsample_bytree': 0.932731753314196, 'eta': 0.2265738261371259, 'eval_metric': 'map', 'gamma': 0.5410554412880391, 'grow_policy': 'depthwise', 'lambda': 1.5218558316847948, 'max_delta_step': 2.1250344145587317, 'max_depth': 1, 'min_child_weight': 0.4375443655129446, 'num_boost_round': 188, 'num_class': 100, 'objective': 'multi:softmax', 'sampling_method': 'uniform', 'subsample': 0.503756803711857, 'tree_method': 'auto'}\n",
      "Training with:                                                                  \n",
      "{'alpha': 1.0598493492539007, 'booster': 'gbtree', 'colsample_bylevel': 0.6453877331949542, 'colsample_bynode': 0.6059146331559208, 'colsample_bytree': 0.9808456753680665, 'eta': 0.3142234597148491, 'eval_metric': 'map', 'gamma': 0.5816304780286443, 'grow_policy': 'depthwise', 'lambda': 1.746707214590373, 'max_delta_step': 2.1842842418435966, 'max_depth': 1, 'min_child_weight': 0.4588503636885471, 'num_boost_round': 133, 'num_class': 100, 'objective': 'multi:softmax', 'sampling_method': 'uniform', 'subsample': 0.6379429441009012, 'tree_method': 'auto'}\n",
      "Training with:                                                                  \n",
      "{'alpha': 0.9751764980872184, 'booster': 'gbtree', 'colsample_bylevel': 0.625467225503254, 'colsample_bynode': 0.514466061990037, 'colsample_bytree': 0.971957042722561, 'eta': 0.24079012419279908, 'eval_metric': 'map', 'gamma': 0.6203288355281967, 'grow_policy': 'depthwise', 'lambda': 1.6271366343227234, 'max_delta_step': 2.017450548724093, 'max_depth': 1, 'min_child_weight': 0.4604104518395626, 'num_boost_round': 188, 'num_class': 100, 'objective': 'multi:softmax', 'sampling_method': 'uniform', 'subsample': 0.5211831132964044, 'tree_method': 'auto'}\n",
      "Training with:                                                                  \n",
      "{'alpha': 0.9865835064537734, 'booster': 'gbtree', 'colsample_bylevel': 0.5003107817134653, 'colsample_bynode': 0.5049572303166507, 'colsample_bytree': 0.9464326794843415, 'eta': 0.22138774802002678, 'eval_metric': 'map', 'gamma': 0.6234105294316946, 'grow_policy': 'depthwise', 'lambda': 1.6230259350950564, 'max_delta_step': 0.05910493266967923, 'max_depth': 1, 'min_child_weight': 0.43997865413775816, 'num_boost_round': 133, 'num_class': 100, 'objective': 'multi:softmax', 'sampling_method': 'uniform', 'subsample': 0.5466261449558965, 'tree_method': 'auto'}\n",
      "Training with:                                                                  \n",
      "{'alpha': 0.897252824010074, 'booster': 'gbtree', 'colsample_bylevel': 0.6232003931842737, 'colsample_bynode': 0.5325536834655511, 'colsample_bytree': 0.9822737458593647, 'eta': 0.16477941088154738, 'eval_metric': 'map', 'gamma': 0.6162800983560169, 'grow_policy': 'depthwise', 'lambda': 1.4340927672381016, 'max_delta_step': 2.53571277401578, 'max_depth': 1, 'min_child_weight': 0.46598141090165357, 'num_boost_round': 188, 'num_class': 100, 'objective': 'multi:softmax', 'sampling_method': 'uniform', 'subsample': 0.5190349720291887, 'tree_method': 'auto'}\n",
      "Training with:                                                                  \n",
      "{'alpha': 0.8123830486522327, 'booster': 'gbtree', 'colsample_bylevel': 0.6197549846124383, 'colsample_bynode': 0.5195726374234063, 'colsample_bytree': 0.9626327183105075, 'eta': 0.00019164597527368543, 'eval_metric': 'map', 'gamma': 0.6142237024414058, 'grow_policy': 'depthwise', 'lambda': 1.3668943634883113, 'max_delta_step': 2.6156525405368347, 'max_depth': 1, 'min_child_weight': 0.3916392331966103, 'num_boost_round': 144, 'num_class': 100, 'objective': 'multi:softmax', 'sampling_method': 'uniform', 'subsample': 0.5140217956463942, 'tree_method': 'auto'}\n",
      "Training with:                                                                  \n",
      "{'alpha': 0.9248119246286682, 'booster': 'gbtree', 'colsample_bylevel': 0.6390922197818449, 'colsample_bynode': 0.5617894683863582, 'colsample_bytree': 0.93351975634381, 'eta': 0.3226062888220709, 'eval_metric': 'map', 'gamma': 0.6586042446104935, 'grow_policy': 'depthwise', 'lambda': 1.2254674701083983, 'max_delta_step': 2.0723321726898143, 'max_depth': 1, 'min_child_weight': 0.5386476947871788, 'num_boost_round': 188, 'num_class': 100, 'objective': 'multi:softmax', 'sampling_method': 'uniform', 'subsample': 0.5749456092537468, 'tree_method': 'auto'}\n",
      "Training with:                                                                  \n",
      "{'alpha': 0.9280909947372141, 'booster': 'gbtree', 'colsample_bylevel': 0.6726812872651567, 'colsample_bynode': 0.5789570419051979, 'colsample_bytree': 0.9329251938849789, 'eta': 0.22125286386004478, 'eval_metric': 'map', 'gamma': 0.6593636600196426, 'grow_policy': 'depthwise', 'lambda': 1.2183956174117903, 'max_delta_step': 2.103693528733871, 'max_depth': 1, 'min_child_weight': 0.41701271419585195, 'num_boost_round': 102, 'num_class': 100, 'objective': 'multi:softmax', 'sampling_method': 'uniform', 'subsample': 0.5801028475612013, 'tree_method': 'auto'}\n",
      "Training with:                                                                  \n",
      "{'alpha': 0.8644796071702454, 'booster': 'gbtree', 'colsample_bylevel': 0.5211063842999519, 'colsample_bynode': 0.5569996819104868, 'colsample_bytree': 0.8890164981578744, 'eta': 0.12065836119076637, 'eval_metric': 'map', 'gamma': 0.5543282367788073, 'grow_policy': 'depthwise', 'lambda': 1.1066216572299032, 'max_delta_step': 2.0393372979336983, 'max_depth': 1, 'min_child_weight': 0.36111334280672985, 'num_boost_round': 188, 'num_class': 100, 'objective': 'multi:softmax', 'sampling_method': 'uniform', 'subsample': 0.508795494972901, 'tree_method': 'auto'}\n",
      "Training with:                                                                  \n",
      "{'alpha': 0.7500718528430206, 'booster': 'gbtree', 'colsample_bylevel': 0.5645372452258328, 'colsample_bynode': 0.6390985013487775, 'colsample_bytree': 0.868756890219539, 'eta': 0.2556812084659853, 'eval_metric': 'merror', 'gamma': 0.788980217435646, 'grow_policy': 'depthwise', 'lambda': 1.0140087447468957, 'max_delta_step': 1.9158368643567423, 'max_depth': 3, 'min_child_weight': 0.533912477523151, 'num_boost_round': 188, 'num_class': 100, 'objective': 'multi:softmax', 'sampling_method': 'uniform', 'subsample': 0.530790981576596, 'tree_method': 'auto'}\n"
     ]
    },
    {
     "name": "stdout",
     "output_type": "stream",
     "text": [
      "Training with:                                                                  \n",
      "{'alpha': 0.6626803059334876, 'booster': 'gbtree', 'colsample_bylevel': 0.5846210046946626, 'colsample_bynode': 0.5387057608819282, 'colsample_bytree': 0.8423408517742053, 'eta': 0.09738788533158915, 'eval_metric': 'rmsle', 'gamma': 0.7007342163884114, 'grow_policy': 'depthwise', 'lambda': 1.5973754357015757, 'max_delta_step': 1.525252608894252, 'max_depth': 7, 'min_child_weight': 0.5874936598444178, 'num_boost_round': 185, 'num_class': 100, 'objective': 'multi:softmax', 'sampling_method': 'uniform', 'subsample': 0.5536271163620812, 'tree_method': 'auto'}\n",
      "Training with:                                                                  \n",
      "{'alpha': 0.808671192675179, 'booster': 'gbtree', 'colsample_bylevel': 0.740069721372406, 'colsample_bynode': 0.5768022942147564, 'colsample_bytree': 0.8994675381550542, 'eta': 0.38169436744613333, 'eval_metric': 'map', 'gamma': 0.6802619477777354, 'grow_policy': 'depthwise', 'lambda': 1.057102279492156, 'max_delta_step': 2.4262184618473963, 'max_depth': 1, 'min_child_weight': 0.42354447461664607, 'num_boost_round': 191, 'num_class': 100, 'objective': 'multi:softmax', 'sampling_method': 'uniform', 'subsample': 0.5739086622194958, 'tree_method': 'auto'}\n",
      "Training with:                                                                  \n",
      "{'alpha': 0.797508649273417, 'booster': 'gbtree', 'colsample_bylevel': 0.5946267465296019, 'colsample_bynode': 0.5777099508938218, 'colsample_bytree': 0.8283191177677359, 'eta': 0.33645114064681964, 'eval_metric': 'mae', 'gamma': 0.8330710601962035, 'grow_policy': 'depthwise', 'lambda': 0.8942535756848861, 'max_delta_step': 2.3156304775123098, 'max_depth': 8, 'min_child_weight': 0.3602831859449739, 'num_boost_round': 191, 'num_class': 100, 'objective': 'multi:softmax', 'sampling_method': 'uniform', 'subsample': 0.5893193778171727, 'tree_method': 'auto'}\n",
      "Training with:                                                                  \n",
      "{'alpha': 0.6250412180767917, 'booster': 'gbtree', 'colsample_bylevel': 0.7459848165515636, 'colsample_bynode': 0.6272249306672562, 'colsample_bytree': 0.9048633697928733, 'eta': 0.37109688783703537, 'eval_metric': 'mlogloss', 'gamma': 0.6765056612974029, 'grow_policy': 'depthwise', 'lambda': 0.960493926384908, 'max_delta_step': 2.416844938945805, 'max_depth': 2, 'min_child_weight': 0.4731459583990463, 'num_boost_round': 162, 'num_class': 100, 'objective': 'multi:softmax', 'sampling_method': 'uniform', 'subsample': 0.5719834925243407, 'tree_method': 'auto'}\n",
      "Training with:                                                                  \n",
      "{'alpha': 0.7019058517165184, 'booster': 'gbtree', 'colsample_bylevel': 0.7021263409936819, 'colsample_bynode': 0.5194270775985326, 'colsample_bytree': 0.8091269226879054, 'eta': 0.4704570593809833, 'eval_metric': 'map', 'gamma': 0.7194378830766196, 'grow_policy': 'depthwise', 'lambda': 0.7703828948589326, 'max_delta_step': 2.850776640500219, 'max_depth': 5, 'min_child_weight': 0.5341157876449654, 'num_boost_round': 116, 'num_class': 100, 'objective': 'multi:softmax', 'sampling_method': 'uniform', 'subsample': 0.6153800926176767, 'tree_method': 'auto'}\n",
      "Training with:                                                                  \n",
      "{'alpha': 0.8332728817915127, 'booster': 'gbtree', 'colsample_bylevel': 0.6874235572935297, 'colsample_bynode': 0.6631206075168675, 'colsample_bytree': 0.9481703012057895, 'eta': 0.39164985027460575, 'eval_metric': 'mphe', 'gamma': 0.6480746188057135, 'grow_policy': 'depthwise', 'lambda': 1.07124515409814, 'max_delta_step': 5.390024454495934, 'max_depth': 4, 'min_child_weight': 0.42214545799639464, 'num_boost_round': 138, 'num_class': 100, 'objective': 'multi:softmax', 'sampling_method': 'uniform', 'subsample': 0.5408169289593738, 'tree_method': 'approx'}\n",
      "Training with:                                                                  \n",
      "{'alpha': 0.7672798815730489, 'booster': 'gbtree', 'colsample_bylevel': 0.7710786731174901, 'colsample_bynode': 0.6092949975297101, 'colsample_bytree': 0.9174809607355281, 'eta': 0.2905994980734705, 'eval_metric': 'map', 'gamma': 0.9679588591040056, 'grow_policy': 'depthwise', 'lambda': 1.1837275770822675, 'max_delta_step': 2.241888661701157, 'max_depth': 9, 'min_child_weight': 0.2831478715927687, 'num_boost_round': 140, 'num_class': 100, 'objective': 'multi:softmax', 'sampling_method': 'uniform', 'subsample': 0.5989687532720814, 'tree_method': 'auto'}\n",
      "Training with:                                                                  \n",
      "{'alpha': 0.9584813622340034, 'booster': 'gbtree', 'colsample_bylevel': 0.7237787281343258, 'colsample_bynode': 0.5738697607384619, 'colsample_bytree': 0.9631302174564702, 'eta': 0.43356394887519045, 'eval_metric': 'merror', 'gamma': 0.7311892193377184, 'grow_policy': 'depthwise', 'lambda': 0.8235859657398173, 'max_delta_step': 2.739416216378797, 'max_depth': 1, 'min_child_weight': 0.49976467622644655, 'num_boost_round': 186, 'num_class': 100, 'objective': 'multi:softmax', 'sampling_method': 'uniform', 'subsample': 0.6429825105081715, 'tree_method': 'auto'}\n",
      "Training with:                                                                  \n",
      "{'alpha': 0.9190602374467287, 'booster': 'gbtree', 'colsample_bylevel': 0.664529563597613, 'colsample_bynode': 0.6478440506984741, 'colsample_bytree': 0.7866671686567692, 'eta': 0.5150398318023502, 'eval_metric': 'rmsle', 'gamma': 0.8008605218961644, 'grow_policy': 'depthwise', 'lambda': 1.0465051117314395, 'max_delta_step': 2.379419357850302, 'max_depth': 1, 'min_child_weight': 0.3689926990720902, 'num_boost_round': 151, 'num_class': 100, 'objective': 'multi:softmax', 'sampling_method': 'uniform', 'subsample': 0.6627000108634699, 'tree_method': 'auto'}\n",
      "Training with:                                                                  \n",
      "{'alpha': 1.0046791760609817, 'booster': 'gbtree', 'colsample_bylevel': 0.6386983801816697, 'colsample_bynode': 0.5925131889158044, 'colsample_bytree': 0.7535884190818686, 'eta': 0.2685570969013602, 'eval_metric': 'mape', 'gamma': 0.8964651887613267, 'grow_policy': 'depthwise', 'lambda': 1.286931531896512, 'max_delta_step': 4.027817049502485, 'max_depth': 7, 'min_child_weight': 0.6560122534586741, 'num_boost_round': 117, 'num_class': 100, 'objective': 'multi:softmax', 'sampling_method': 'uniform', 'subsample': 0.5754287542872351, 'tree_method': 'auto'}\n",
      "Training with:                                                                  \n",
      "{'alpha': 0.5641737167964199, 'booster': 'gbtree', 'colsample_bylevel': 0.5409344849516214, 'colsample_bynode': 0.5497954932266338, 'colsample_bytree': 0.9917571717591003, 'eta': 0.0719288002076682, 'eval_metric': 'map', 'gamma': 0.6674389245068707, 'grow_policy': 'depthwise', 'lambda': 0.9703711722705983, 'max_delta_step': 3.229010544751781, 'max_depth': 3, 'min_child_weight': 0.32345225297697777, 'num_boost_round': 105, 'num_class': 100, 'objective': 'multi:softmax', 'sampling_method': 'uniform', 'subsample': 0.5952010417212379, 'tree_method': 'approx'}\n",
      "Training with:                                                                  \n",
      "{'alpha': 0.8735925024583827, 'booster': 'gbtree', 'colsample_bylevel': 0.6773336689964414, 'colsample_bynode': 0.5199428666529503, 'colsample_bytree': 0.8711391514082523, 'eta': 0.5613156972307076, 'eval_metric': 'map', 'gamma': 0.6033871338171142, 'grow_policy': 'depthwise', 'lambda': 1.167867205454367, 'max_delta_step': 2.548040466057094, 'max_depth': 1, 'min_child_weight': 0.31230596255795884, 'num_boost_round': 141, 'num_class': 100, 'objective': 'multi:softmax', 'sampling_method': 'uniform', 'subsample': 0.5273938783413116, 'tree_method': 'auto'}\n",
      "Training with:                                                                  \n",
      "{'alpha': 1.1359079210227894, 'booster': 'gbtree', 'colsample_bylevel': 0.7394787885177196, 'colsample_bynode': 0.6933394029166817, 'colsample_bytree': 0.8937497348786083, 'eta': 0.3505503507779613, 'eval_metric': 'mlogloss', 'gamma': 0.6424673747604921, 'grow_policy': 'depthwise', 'lambda': 1.1230300128832837, 'max_delta_step': 8.089840449103173, 'max_depth': 8, 'min_child_weight': 0.3853953413613624, 'num_boost_round': 135, 'num_class': 100, 'objective': 'multi:softmax', 'sampling_method': 'uniform', 'subsample': 0.6218185047960125, 'tree_method': 'auto'}\n"
     ]
    },
    {
     "name": "stdout",
     "output_type": "stream",
     "text": [
      "Training with:                                                                  \n",
      "{'alpha': 0.7769943516287112, 'booster': 'gbtree', 'colsample_bylevel': 0.5939596761267271, 'colsample_bynode': 0.6753329089408893, 'colsample_bytree': 0.8580352445466448, 'eta': 0.48763282600959684, 'eval_metric': 'mae', 'gamma': 0.8639145515042577, 'grow_policy': 'depthwise', 'lambda': 1.311235915577443, 'max_delta_step': 1.87520984385713, 'max_depth': 5, 'min_child_weight': 0.45729596018009083, 'num_boost_round': 149, 'num_class': 100, 'objective': 'multi:softmax', 'sampling_method': 'uniform', 'subsample': 0.5513973549699895, 'tree_method': 'auto'}\n",
      "Training with:                                                                  \n",
      "{'alpha': 0.7224718999658483, 'booster': 'gbtree', 'colsample_bylevel': 0.7972744382347486, 'colsample_bynode': 0.5910589600815667, 'colsample_bytree': 0.9175520061065143, 'eta': 0.18833541792002378, 'eval_metric': 'mphe', 'gamma': 0.516708985584427, 'grow_policy': 'depthwise', 'lambda': 0.9326705446497604, 'max_delta_step': 1.9564809661092002, 'max_depth': 1, 'min_child_weight': 1.2381480249375993, 'num_boost_round': 142, 'num_class': 100, 'objective': 'multi:softmax', 'sampling_method': 'uniform', 'subsample': 0.6826795119540338, 'tree_method': 'approx'}\n",
      "Training with:                                                                  \n",
      "{'alpha': 0.8393363722830699, 'booster': 'gbtree', 'colsample_bylevel': 0.7623218789268629, 'colsample_bynode': 0.5319970986111077, 'colsample_bytree': 0.9677863586210942, 'eta': 0.14583734479572225, 'eval_metric': 'map', 'gamma': 0.5670591650225092, 'grow_policy': 'depthwise', 'lambda': 1.460279859169807, 'max_delta_step': 1.7495089176410972, 'max_depth': 2, 'min_child_weight': 0.42500878515570206, 'num_boost_round': 174, 'num_class': 100, 'objective': 'multi:softmax', 'sampling_method': 'uniform', 'subsample': 0.6063616586957477, 'tree_method': 'auto'}\n",
      "Training with:                                                                  \n",
      "{'alpha': 4.551576733662286, 'booster': 'gbtree', 'colsample_bylevel': 0.7172940313928242, 'colsample_bynode': 0.7220685215163409, 'colsample_bytree': 0.7602644386026172, 'eta': 0.4544944723231427, 'eval_metric': 'merror', 'gamma': 2.7466323713593583, 'grow_policy': 'depthwise', 'lambda': 0.8641087317296914, 'max_delta_step': 0.4606023706923472, 'max_depth': 4, 'min_child_weight': 0.40821590038249134, 'num_boost_round': 166, 'num_class': 100, 'objective': 'multi:softmax', 'sampling_method': 'uniform', 'subsample': 0.5654087319240552, 'tree_method': 'auto'}\n",
      "Training with:                                                                  \n",
      "{'alpha': 1.0805241105413164, 'booster': 'gbtree', 'colsample_bylevel': 0.6984262262095995, 'colsample_bynode': 0.6297808677483148, 'colsample_bytree': 0.7384032436845674, 'eta': 0.313554285013489, 'eval_metric': 'mape', 'gamma': 0.49212498540634075, 'grow_policy': 'depthwise', 'lambda': 1.2184722107279116, 'max_delta_step': 1.122229983932503, 'max_depth': 9, 'min_child_weight': 0.5643488504056479, 'num_boost_round': 199, 'num_class': 100, 'objective': 'multi:softmax', 'sampling_method': 'uniform', 'subsample': 0.5357481407278374, 'tree_method': 'auto'}\n",
      "Training with:                                                                  \n",
      "{'alpha': 0.9222586146437723, 'booster': 'gbtree', 'colsample_bylevel': 0.8273217529409072, 'colsample_bynode': 0.5683700503273897, 'colsample_bytree': 0.9416161940084203, 'eta': 0.6947538013967982, 'eval_metric': 'rmsle', 'gamma': 1.0968470836744528, 'grow_policy': 'depthwise', 'lambda': 1.0729410702342748, 'max_delta_step': 0.7252723030953329, 'max_depth': 1, 'min_child_weight': 0.7454569779799454, 'num_boost_round': 187, 'num_class': 100, 'objective': 'multi:softmax', 'sampling_method': 'uniform', 'subsample': 0.7067685755192562, 'tree_method': 'auto'}\n",
      "Training with:                                                                  \n",
      "{'alpha': 6.862984203380873, 'booster': 'gbtree', 'colsample_bylevel': 0.6449147291535972, 'colsample_bynode': 0.5440488236915253, 'colsample_bytree': 0.563592383305742, 'eta': 0.41401211064401733, 'eval_metric': 'map', 'gamma': 1.4872966477015732, 'grow_policy': 'depthwise', 'lambda': 0.7380136707825776, 'max_delta_step': 2.162071203609484, 'max_depth': 1, 'min_child_weight': 0.6325351764188412, 'num_boost_round': 191, 'num_class': 100, 'objective': 'multi:softmax', 'sampling_method': 'uniform', 'subsample': 0.6481921483997635, 'tree_method': 'approx'}\n",
      "Training with:                                                                  \n",
      "{'alpha': 0.9568804043775251, 'booster': 'gbtree', 'colsample_bylevel': 0.5718449366701047, 'colsample_bynode': 0.6517769918959209, 'colsample_bytree': 0.9096192916434288, 'eta': 0.38544755836628786, 'eval_metric': 'mae', 'gamma': 0.6849451866709153, 'grow_policy': 'depthwise', 'lambda': 0.9836343262456165, 'max_delta_step': 2.05642194143204, 'max_depth': 7, 'min_child_weight': 0.493311359131555, 'num_boost_round': 119, 'num_class': 100, 'objective': 'multi:softmax', 'sampling_method': 'uniform', 'subsample': 0.5191977747494648, 'tree_method': 'auto'}\n",
      "Training with:                                                                  \n",
      "{'alpha': 0.4091209216507289, 'booster': 'gbtree', 'colsample_bylevel': 0.5532164524100427, 'colsample_bynode': 0.7068368161340968, 'colsample_bytree': 0.8501846614267362, 'eta': 0.029697516446041433, 'eval_metric': 'map', 'gamma': 0.7714539293670931, 'grow_policy': 'depthwise', 'lambda': 0.6127307758942835, 'max_delta_step': 3.0680597310736033, 'max_depth': 3, 'min_child_weight': 0.5159893812384949, 'num_boost_round': 130, 'num_class': 100, 'objective': 'multi:softmax', 'sampling_method': 'uniform', 'subsample': 0.6908402511065079, 'tree_method': 'auto'}\n",
      "Training with:                                                                  \n",
      "{'alpha': 0.74289554950605, 'booster': 'gbtree', 'colsample_bylevel': 0.8526021986405296, 'colsample_bynode': 0.6065250869235173, 'colsample_bytree': 0.9897712392132598, 'eta': 0.5712601925350349, 'eval_metric': 'mlogloss', 'gamma': 0.9248857718304824, 'grow_policy': 'depthwise', 'lambda': 1.6776411174755954, 'max_delta_step': 1.323466077980175, 'max_depth': 1, 'min_child_weight': 1.5973977138828088, 'num_boost_round': 107, 'num_class': 100, 'objective': 'multi:softmax', 'sampling_method': 'uniform', 'subsample': 0.670890561194508, 'tree_method': 'exact'}\n",
      "Training with:                                                                  \n",
      "{'alpha': 1.0203362196707493, 'booster': 'gbtree', 'colsample_bylevel': 0.7509318991280508, 'colsample_bynode': 0.5133646934438828, 'colsample_bytree': 0.8814929788022761, 'eta': 0.16987147342532877, 'eval_metric': 'mphe', 'gamma': 0.7391834417414718, 'grow_policy': 'depthwise', 'lambda': 1.368576217911921, 'max_delta_step': 2.937894974001981, 'max_depth': 8, 'min_child_weight': 0.48030971428999847, 'num_boost_round': 155, 'num_class': 100, 'objective': 'multi:softmax', 'sampling_method': 'uniform', 'subsample': 0.6343597355226053, 'tree_method': 'auto'}\n",
      "Training with:                                                                  \n",
      "{'alpha': 0.6460157964143451, 'booster': 'gbtree', 'colsample_bylevel': 0.6590607026761375, 'colsample_bynode': 0.5532776553319162, 'colsample_bytree': 0.8084846739641305, 'eta': 0.12554678230213728, 'eval_metric': 'map', 'gamma': 0.6290378747101663, 'grow_policy': 'depthwise', 'lambda': 0.8322977863258187, 'max_delta_step': 3.5068166728042667, 'max_depth': 5, 'min_child_weight': 0.4013974777525114, 'num_boost_round': 163, 'num_class': 100, 'objective': 'multi:softmax', 'sampling_method': 'uniform', 'subsample': 0.5905862508135141, 'tree_method': 'approx'}\n",
      "Training with:                                                                  \n",
      "{'alpha': 0.7008361978733574, 'booster': 'gbtree', 'colsample_bylevel': 0.8137664044796815, 'colsample_bynode': 0.6208372224657503, 'colsample_bytree': 0.8274122259188401, 'eta': 0.2946709758349395, 'eval_metric': 'map', 'gamma': 0.5999733139600515, 'grow_policy': 'depthwise', 'lambda': 0.9265770813612549, 'max_delta_step': 2.6401137083159547, 'max_depth': 2, 'min_child_weight': 0.3447471207718136, 'num_boost_round': 156, 'num_class': 100, 'objective': 'multi:softmax', 'sampling_method': 'uniform', 'subsample': 0.7260858107257941, 'tree_method': 'auto'}\n"
     ]
    },
    {
     "name": "stdout",
     "output_type": "stream",
     "text": [
      "Training with:                                                                  \n",
      "{'alpha': 0.8665397618587577, 'booster': 'gbtree', 'colsample_bylevel': 0.8787136879124703, 'colsample_bynode': 0.5871003460372657, 'colsample_bytree': 0.9247488524988797, 'eta': 0.5363501845530937, 'eval_metric': 'mape', 'gamma': 1.7256336241877428, 'grow_policy': 'depthwise', 'lambda': 1.236806642235753, 'max_delta_step': 0.923951671479787, 'max_depth': 4, 'min_child_weight': 0.5481506145156494, 'num_boost_round': 127, 'num_class': 100, 'objective': 'multi:softmax', 'sampling_method': 'uniform', 'subsample': 0.7854777071072577, 'tree_method': 'auto'}\n",
      "Training with:                                                                  \n",
      "{'alpha': 0.8107470954602851, 'booster': 'gbtree', 'colsample_bylevel': 0.7833337678541561, 'colsample_bynode': 0.5620602672673933, 'colsample_bytree': 0.9563317976630605, 'eta': 0.3278762008933341, 'eval_metric': 'map', 'gamma': 0.5532444293254956, 'grow_policy': 'depthwise', 'lambda': 1.3356476370052681, 'max_delta_step': 1.5093567169357571, 'max_depth': 1, 'min_child_weight': 0.4512341216717334, 'num_boost_round': 108, 'num_class': 100, 'objective': 'multi:softmax', 'sampling_method': 'uniform', 'subsample': 0.6267335197813698, 'tree_method': 'exact'}\n",
      "Training with:                                                                  \n",
      "{'alpha': 0.16430700317866237, 'booster': 'gbtree', 'colsample_bylevel': 0.7365612814247859, 'colsample_bynode': 0.7537807164011607, 'colsample_bytree': 0.7744174443797956, 'eta': 0.24566157024065913, 'eval_metric': 'merror', 'gamma': 0.7700973708381199, 'grow_policy': 'depthwise', 'lambda': 0.4679546073812205, 'max_delta_step': 4.580935355134676, 'max_depth': 6, 'min_child_weight': 0.3725907908227237, 'num_boost_round': 152, 'num_class': 100, 'objective': 'multi:softmax', 'sampling_method': 'uniform', 'subsample': 0.500634814269242, 'tree_method': 'auto'}\n",
      "Training with:                                                                  \n",
      "{'alpha': 1.097878481545294, 'booster': 'gbtree', 'colsample_bylevel': 0.602184489766748, 'colsample_bynode': 0.687089257131901, 'colsample_bytree': 0.9002747360538382, 'eta': 0.20805615265464156, 'eval_metric': 'rmsle', 'gamma': 7.2555278923446975, 'grow_policy': 'depthwise', 'lambda': 1.0408003014309517, 'max_delta_step': 1.5650139131901928, 'max_depth': 9, 'min_child_weight': 0.9650858281013396, 'num_boost_round': 134, 'num_class': 100, 'objective': 'multi:softmax', 'sampling_method': 'uniform', 'subsample': 0.7525499639776811, 'tree_method': 'auto'}\n",
      "Training with:                                                                  \n",
      "{'alpha': 0.9702337009162385, 'booster': 'gbtree', 'colsample_bylevel': 0.7092908451594722, 'colsample_bynode': 0.5999883373778749, 'colsample_bytree': 0.7919586768294635, 'eta': 0.3569891322527978, 'eval_metric': 'map', 'gamma': 0.5830037900203923, 'grow_policy': 'depthwise', 'lambda': 1.4123342655752666, 'max_delta_step': 1.475744353279691, 'max_depth': 1, 'min_child_weight': 0.21623294201275853, 'num_boost_round': 175, 'num_class': 100, 'objective': 'multi:softmax', 'sampling_method': 'uniform', 'subsample': 0.57085040580348, 'tree_method': 'approx'}\n",
      "Training with:                                                                  \n",
      "{'alpha': 0.606628876907914, 'booster': 'gbtree', 'colsample_bylevel': 0.5024802704443079, 'colsample_bynode': 0.6589234718879884, 'colsample_bytree': 0.6065429948523933, 'eta': 0.07787327775756245, 'eval_metric': 'mae', 'gamma': 1.1715378364414502, 'grow_policy': 'depthwise', 'lambda': 1.8270286187518803, 'max_delta_step': 2.3046641584387615, 'max_depth': 1, 'min_child_weight': 0.29922978282894674, 'num_boost_round': 132, 'num_class': 100, 'objective': 'multi:softmax', 'sampling_method': 'uniform', 'subsample': 0.5610567719897598, 'tree_method': 'auto'}\n",
      "Training with:                                                                  \n",
      "{'alpha': 0.9012367455285228, 'booster': 'gbtree', 'colsample_bylevel': 0.6905073881064215, 'colsample_bynode': 0.5277921661953392, 'colsample_bytree': 0.8889415908342537, 'eta': 0.5044677906476436, 'eval_metric': 'mlogloss', 'gamma': 0.4612466561051297, 'grow_policy': 'depthwise', 'lambda': 1.1455847989859262, 'max_delta_step': 0.5902245395851388, 'max_depth': 7, 'min_child_weight': 1.0521123943063928, 'num_boost_round': 170, 'num_class': 100, 'objective': 'multi:softmax', 'sampling_method': 'uniform', 'subsample': 0.544844069537396, 'tree_method': 'hist'}\n",
      "Training with:                                                                  \n",
      "{'alpha': 0.7865569493610733, 'booster': 'gbtree', 'colsample_bylevel': 0.5300565597580335, 'colsample_bynode': 0.5080955630923796, 'colsample_bytree': 0.9860214614446228, 'eta': 0.27057065511147405, 'eval_metric': 'map', 'gamma': 0.8153697820444489, 'grow_policy': 'depthwise', 'lambda': 1.4735206987019482, 'max_delta_step': 1.7728545681763044, 'max_depth': 3, 'min_child_weight': 0.5121783775794037, 'num_boost_round': 164, 'num_class': 100, 'objective': 'multi:softmax', 'sampling_method': 'uniform', 'subsample': 0.655520991632833, 'tree_method': 'exact'}\n",
      "Training with:                                                                  \n",
      "{'alpha': 0.8489931508706059, 'booster': 'gbtree', 'colsample_bylevel': 0.6181826268494998, 'colsample_bynode': 0.7309834185207946, 'colsample_bytree': 0.6805524926393756, 'eta': 0.6181705392354451, 'eval_metric': 'mphe', 'gamma': 0.5299575785506564, 'grow_policy': 'depthwise', 'lambda': 2.010604764480088, 'max_delta_step': 1.1018170870047124, 'max_depth': 1, 'min_child_weight': 0.7941728025913227, 'num_boost_round': 189, 'num_class': 100, 'objective': 'multi:softmax', 'sampling_method': 'uniform', 'subsample': 0.612495108804932, 'tree_method': 'auto'}\n",
      "Training with:                                                                  \n",
      "{'alpha': 0.8228603019939653, 'booster': 'gbtree', 'colsample_bylevel': 0.6146381687609049, 'colsample_bynode': 0.7116508667118199, 'colsample_bytree': 0.6832701495033311, 'eta': 0.7408651337302647, 'eval_metric': 'mphe', 'gamma': 0.4796249662754493, 'grow_policy': 'lossguide', 'lambda': 0.6728515608187844, 'max_delta_step': 1.1249505426780253, 'max_depth': 8, 'min_child_weight': 0.7712280496975854, 'num_boost_round': 189, 'num_class': 100, 'objective': 'multi:softmax', 'sampling_method': 'uniform', 'subsample': 0.6070118371721724, 'tree_method': 'auto'}\n",
      "Training with:                                                                  \n",
      "{'alpha': 0.6870306795762817, 'booster': 'gbtree', 'colsample_bylevel': 0.668951059130547, 'colsample_bynode': 0.7816664000655622, 'colsample_bytree': 0.6201129380976591, 'eta': 0.7843770736475355, 'eval_metric': 'mphe', 'gamma': 0.43843845192531056, 'grow_policy': 'depthwise', 'lambda': 1.9150498011637667, 'max_delta_step': 0.7510896460289983, 'max_depth': 1, 'min_child_weight': 0.9054028210154709, 'num_boost_round': 172, 'num_class': 100, 'objective': 'multi:softmax', 'sampling_method': 'uniform', 'subsample': 0.7110630464330457, 'tree_method': 'auto'}\n",
      "Training with:                                                                  \n",
      "{'alpha': 0.5395367234790669, 'booster': 'gbtree', 'colsample_bylevel': 0.561862865175833, 'colsample_bynode': 0.7806745045364023, 'colsample_bytree': 0.5965614345227906, 'eta': 0.8161575890040763, 'eval_metric': 'mphe', 'gamma': 0.4425838738863683, 'grow_policy': 'depthwise', 'lambda': 2.0474486649264456, 'max_delta_step': 0.7364021836092236, 'max_depth': 5, 'min_child_weight': 0.9000696462809639, 'num_boost_round': 143, 'num_class': 100, 'objective': 'multi:softmax', 'sampling_method': 'uniform', 'subsample': 0.844288178333351, 'tree_method': 'hist'}\n",
      "Training with:                                                                  \n",
      "{'alpha': 0.6343279405419329, 'booster': 'gbtree', 'colsample_bylevel': 0.5124128020081793, 'colsample_bynode': 0.8544016493245475, 'colsample_bytree': 0.5473251271331696, 'eta': 0.7824797961728974, 'eval_metric': 'mphe', 'gamma': 0.40880487308110663, 'grow_policy': 'depthwise', 'lambda': 2.1219298591594296, 'max_delta_step': 0.6634237849872479, 'max_depth': 2, 'min_child_weight': 1.101379355939479, 'num_boost_round': 172, 'num_class': 100, 'objective': 'multi:softmax', 'sampling_method': 'uniform', 'subsample': 0.7735923271850325, 'tree_method': 'auto'}\n"
     ]
    },
    {
     "name": "stdout",
     "output_type": "stream",
     "text": [
      "Training with:                                                                  \n",
      "{'alpha': 0.5841168850896621, 'booster': 'gbtree', 'colsample_bylevel': 0.772456275060236, 'colsample_bynode': 0.7380848508982734, 'colsample_bytree': 0.6348318220751411, 'eta': 0.6590333913512377, 'eval_metric': 'mphe', 'gamma': 0.38515804743101256, 'grow_policy': 'lossguide', 'lambda': 1.9068700375592222, 'max_delta_step': 0.8158990260523312, 'max_depth': 6, 'min_child_weight': 0.8893622753387774, 'num_boost_round': 189, 'num_class': 100, 'objective': 'multi:softmax', 'sampling_method': 'uniform', 'subsample': 0.7102090476469836, 'tree_method': 'exact'}\n",
      "Training with:                                                                  \n",
      "{'alpha': 0.722456330873367, 'booster': 'gbtree', 'colsample_bylevel': 0.5789151475884071, 'colsample_bynode': 0.6753726024334157, 'colsample_bytree': 0.6727419835159998, 'eta': 0.6273082308168069, 'eval_metric': 'mphe', 'gamma': 0.5273770655758787, 'grow_policy': 'depthwise', 'lambda': 2.282084668912403, 'max_delta_step': 1.2112415346704637, 'max_depth': 4, 'min_child_weight': 0.26895854812347164, 'num_boost_round': 118, 'num_class': 100, 'objective': 'multi:softmax', 'sampling_method': 'uniform', 'subsample': 0.5106086858171259, 'tree_method': 'approx'}\n",
      "Training with:                                                                  \n",
      "{'alpha': 0.4846916756882541, 'booster': 'gbtree', 'colsample_bylevel': 0.6692029082240862, 'colsample_bynode': 0.7281660664077425, 'colsample_bytree': 0.6196773549433983, 'eta': 0.8646972684115009, 'eval_metric': 'mphe', 'gamma': 0.43080677853024224, 'grow_policy': 'depthwise', 'lambda': 3.8174075321475827, 'max_delta_step': 0.8801454698498902, 'max_depth': 1, 'min_child_weight': 1.3639149336194698, 'num_boost_round': 160, 'num_class': 100, 'objective': 'multi:softmax', 'sampling_method': 'uniform', 'subsample': 0.7339421559403583, 'tree_method': 'auto'}\n",
      "Training with:                                                                  \n",
      "{'alpha': 0.6716885735109315, 'booster': 'gbtree', 'colsample_bylevel': 0.7279370538507279, 'colsample_bynode': 0.7560504194730447, 'colsample_bytree': 0.5862027268857131, 'eta': 0.7506887794103514, 'eval_metric': 'mphe', 'gamma': 0.3307930701432285, 'grow_policy': 'depthwise', 'lambda': 2.4532529111635917, 'max_delta_step': 0.7686988546781721, 'max_depth': 9, 'min_child_weight': 0.8036564179974047, 'num_boost_round': 101, 'num_class': 100, 'objective': 'multi:softmax', 'sampling_method': 'uniform', 'subsample': 0.667464474470931, 'tree_method': 'auto'}\n",
      "Training with:                                                                  \n",
      "{'alpha': 0.6919794077291107, 'booster': 'gbtree', 'colsample_bylevel': 0.6487001289137233, 'colsample_bynode': 0.8046913563821391, 'colsample_bytree': 0.5008076866733387, 'eta': 0.7164843287325476, 'eval_metric': 'mphe', 'gamma': 0.3532765119380536, 'grow_policy': 'lossguide', 'lambda': 6.188578423656985, 'max_delta_step': 1.072292215504519, 'max_depth': 1, 'min_child_weight': 0.7135742772875335, 'num_boost_round': 198, 'num_class': 100, 'objective': 'multi:softmax', 'sampling_method': 'uniform', 'subsample': 0.7458942379464362, 'tree_method': 'auto'}\n",
      "Training with:                                                                  \n",
      "{'alpha': 0.4416543376020845, 'booster': 'gbtree', 'colsample_bylevel': 0.6281902713652907, 'colsample_bynode': 0.7771176463463874, 'colsample_bytree': 0.5144730073815321, 'eta': 0.9261602396439106, 'eval_metric': 'mphe', 'gamma': 0.4531847505563872, 'grow_policy': 'depthwise', 'lambda': 2.647376566345515, 'max_delta_step': 0.6754282599951653, 'max_depth': 1, 'min_child_weight': 0.9191043271506799, 'num_boost_round': 168, 'num_class': 100, 'objective': 'multi:softmax', 'sampling_method': 'uniform', 'subsample': 0.7987870184974958, 'tree_method': 'hist'}\n",
      "Training with:                                                                  \n",
      "{'alpha': 0.8546019344823693, 'booster': 'gbtree', 'colsample_bylevel': 0.6787468492573305, 'colsample_bynode': 0.6401110185284431, 'colsample_bytree': 0.7216336641403275, 'eta': 0.6132266472365858, 'eval_metric': 'rmse', 'gamma': 0.5010625795107905, 'grow_policy': 'depthwise', 'lambda': 1.9724553055147311, 'max_delta_step': 0.3191598690392287, 'max_depth': 7, 'min_child_weight': 0.6790904618944372, 'num_boost_round': 131, 'num_class': 100, 'objective': 'multi:softmax', 'sampling_method': 'uniform', 'subsample': 0.5821065453418452, 'tree_method': 'auto'}\n",
      "Training with:                                                                  \n",
      "{'alpha': 0.7633180228942277, 'booster': 'gbtree', 'colsample_bylevel': 0.7036998171995832, 'colsample_bynode': 0.8850567782439646, 'colsample_bytree': 0.5214107748842548, 'eta': 0.6868609618583088, 'eval_metric': 'mape', 'gamma': 0.2269342063649661, 'grow_policy': 'depthwise', 'lambda': 1.907992322796449, 'max_delta_step': 0.4905955206822227, 'max_depth': 3, 'min_child_weight': 1.920186755977322, 'num_boost_round': 169, 'num_class': 100, 'objective': 'multi:softmax', 'sampling_method': 'uniform', 'subsample': 0.9768220716720595, 'tree_method': 'exact'}\n",
      "Training with:                                                                  \n",
      "{'alpha': 0.8837536689556454, 'booster': 'gbtree', 'colsample_bylevel': 0.5994397644476919, 'colsample_bynode': 0.6176518407485354, 'colsample_bytree': 0.7035002926756455, 'eta': 0.5811220725216397, 'eval_metric': 'merror', 'gamma': 1.3247673715938206, 'grow_policy': 'depthwise', 'lambda': 0.1943413967645719, 'max_delta_step': 0.21716850613948663, 'max_depth': 8, 'min_child_weight': 2.5582653679683194, 'num_boost_round': 171, 'num_class': 100, 'objective': 'multi:softmax', 'sampling_method': 'uniform', 'subsample': 0.6777148175366711, 'tree_method': 'approx'}\n",
      "Training with:                                                                  \n",
      "{'alpha': 0.5774263635810837, 'booster': 'gbtree', 'colsample_bylevel': 0.8045376272207598, 'colsample_bynode': 0.835737537537693, 'colsample_bytree': 0.657972248494011, 'eta': 0.4313187847690576, 'eval_metric': 'rmsle', 'gamma': 0.2889761846655885, 'grow_policy': 'lossguide', 'lambda': 1.6682547540814403, 'max_delta_step': 0.5721768301541748, 'max_depth': 1, 'min_child_weight': 1.7148941688861732, 'num_boost_round': 172, 'num_class': 100, 'objective': 'multi:softmax', 'sampling_method': 'uniform', 'subsample': 0.8683979695469518, 'tree_method': 'auto'}\n",
      "Training with:                                                                  \n",
      "{'alpha': 0.3876125620335141, 'booster': 'gbtree', 'colsample_bylevel': 0.925316472283437, 'colsample_bynode': 0.8226440454503207, 'colsample_bytree': 0.6557203634256694, 'eta': 0.40956435824442494, 'eval_metric': 'rmsle', 'gamma': 0.09044129182819781, 'grow_policy': 'lossguide', 'lambda': 1.6464591720040507, 'max_delta_step': 0.3586479501405481, 'max_depth': 5, 'min_child_weight': 2.220176094990873, 'num_boost_round': 153, 'num_class': 100, 'objective': 'multi:softmax', 'sampling_method': 'uniform', 'subsample': 0.9414062430301678, 'tree_method': 'auto'}\n",
      "Training with:                                                                  \n",
      "{'alpha': 0.5206546093724082, 'booster': 'gbtree', 'colsample_bylevel': 0.8569696438772223, 'colsample_bynode': 0.8381609792186985, 'colsample_bytree': 0.6944766503870434, 'eta': 0.4568533654761507, 'eval_metric': 'rmsle', 'gamma': 0.28745486164197936, 'grow_policy': 'lossguide', 'lambda': 1.7395380209277491, 'max_delta_step': 0.38848766789502426, 'max_depth': 2, 'min_child_weight': 1.7270352770998354, 'num_boost_round': 154, 'num_class': 100, 'objective': 'multi:softmax', 'sampling_method': 'uniform', 'subsample': 0.8797335036210637, 'tree_method': 'hist'}\n",
      "Training with:                                                                  \n",
      "{'alpha': 0.27588400942387076, 'booster': 'gbtree', 'colsample_bylevel': 0.8041964591885201, 'colsample_bynode': 0.8590037413568303, 'colsample_bytree': 0.6667385075956851, 'eta': 0.5335687212605486, 'eval_metric': 'rmsle', 'gamma': 0.15937103932041738, 'grow_policy': 'lossguide', 'lambda': 1.7825315557904735, 'max_delta_step': 0.5478071476059201, 'max_depth': 6, 'min_child_weight': 1.4238671594591044, 'num_boost_round': 120, 'num_class': 100, 'objective': 'multi:softmax', 'sampling_method': 'uniform', 'subsample': 0.8973069418256535, 'tree_method': 'auto'}\n"
     ]
    },
    {
     "name": "stdout",
     "output_type": "stream",
     "text": [
      "Training with:                                                                  \n",
      "{'alpha': 0.4953138959605138, 'booster': 'gbtree', 'colsample_bylevel': 0.830701567708358, 'colsample_bynode': 0.7931306604569377, 'colsample_bytree': 0.6435165767185452, 'eta': 0.6495964354382285, 'eval_metric': 'rmsle', 'gamma': 0.18167475941979816, 'grow_policy': 'lossguide', 'lambda': 0.5687036828719956, 'max_delta_step': 0.27656894853856095, 'max_depth': 1, 'min_child_weight': 1.2532159096971276, 'num_boost_round': 112, 'num_class': 100, 'objective': 'multi:softmax', 'sampling_method': 'uniform', 'subsample': 0.8659949604329873, 'tree_method': 'auto'}\n",
      "Training with:                                                                  \n",
      "{'alpha': 0.3540592132607944, 'booster': 'gbtree', 'colsample_bylevel': 0.8911219674912133, 'colsample_bynode': 0.8344095118827011, 'colsample_bytree': 0.5293727629754678, 'eta': 0.6652479589368148, 'eval_metric': 'rmsle', 'gamma': 0.18244856104224788, 'grow_policy': 'lossguide', 'lambda': 0.38438201287479096, 'max_delta_step': 0.22188167742873635, 'max_depth': 4, 'min_child_weight': 1.2592404858706638, 'num_boost_round': 183, 'num_class': 100, 'objective': 'multi:softmax', 'sampling_method': 'uniform', 'subsample': 0.9179627272197227, 'tree_method': 'exact'}\n",
      "Training with:                                                                  \n",
      "{'alpha': 0.4531613355808199, 'booster': 'gbtree', 'colsample_bylevel': 0.8755091999021827, 'colsample_bynode': 0.8713935896976627, 'colsample_bytree': 0.644547656504457, 'eta': 0.6404287266221287, 'eval_metric': 'rmsle', 'gamma': 0.12831356876029903, 'grow_policy': 'lossguide', 'lambda': 0.4975508692347708, 'max_delta_step': 0.08101142600822879, 'max_depth': 9, 'min_child_weight': 1.6658776164391, 'num_boost_round': 159, 'num_class': 100, 'objective': 'multi:softmax', 'sampling_method': 'uniform', 'subsample': 0.8546098283107078, 'tree_method': 'approx'}\n",
      "Training with:                                                                  \n",
      "{'alpha': 0.5630716305767205, 'booster': 'gbtree', 'colsample_bylevel': 0.8296682022167486, 'colsample_bynode': 0.7887846595644963, 'colsample_bytree': 0.5623698304755759, 'eta': 0.7610256225886703, 'eval_metric': 'rmsle', 'gamma': 0.18718762656830842, 'grow_policy': 'lossguide', 'lambda': 0.36894179874391414, 'max_delta_step': 0.14925979280804222, 'max_depth': 1, 'min_child_weight': 1.5303947842505687, 'num_boost_round': 158, 'num_class': 100, 'objective': 'multi:softmax', 'sampling_method': 'uniform', 'subsample': 0.9982533065235448, 'tree_method': 'auto'}\n",
      "Training with:                                                                  \n",
      "{'alpha': 0.4797816014689449, 'booster': 'gbtree', 'colsample_bylevel': 0.9378623619611137, 'colsample_bynode': 0.8123944036944847, 'colsample_bytree': 0.7305989247846134, 'eta': 0.48072044129684655, 'eval_metric': 'rmsle', 'gamma': 0.20137699269830409, 'grow_policy': 'lossguide', 'lambda': 0.5803755562975907, 'max_delta_step': 0.1337646555342345, 'max_depth': 1, 'min_child_weight': 1.835132969313305, 'num_boost_round': 123, 'num_class': 100, 'objective': 'multi:softmax', 'sampling_method': 'uniform', 'subsample': 0.9509082374051592, 'tree_method': 'auto'}\n",
      "Training with:                                                                  \n",
      "{'alpha': 0.428662819703657, 'booster': 'gbtree', 'colsample_bylevel': 0.8672942237963707, 'colsample_bynode': 0.7699022060731036, 'colsample_bytree': 0.5768057947911461, 'eta': 0.5977069037851377, 'eval_metric': 'rmsle', 'gamma': 0.2653311096721359, 'grow_policy': 'lossguide', 'lambda': 0.3194555109246757, 'max_delta_step': 0.27589105629673516, 'max_depth': 7, 'min_child_weight': 1.2275126024515823, 'num_boost_round': 112, 'num_class': 100, 'objective': 'multi:softmax', 'sampling_method': 'uniform', 'subsample': 0.8288061313580712, 'tree_method': 'auto'}\n",
      "Training with:                                                                  \n",
      "{'alpha': 0.5180070087247176, 'booster': 'gbtree', 'colsample_bylevel': 0.8381869526442864, 'colsample_bynode': 0.9025026645500129, 'colsample_bytree': 0.5486342114750938, 'eta': 0.5593107733078906, 'eval_metric': 'rmsle', 'gamma': 0.12337512545099664, 'grow_policy': 'lossguide', 'lambda': 0.6966119514560933, 'max_delta_step': 0.28237213454615995, 'max_depth': 3, 'min_child_weight': 2.82305603342817, 'num_boost_round': 192, 'num_class': 100, 'objective': 'multi:softmax', 'sampling_method': 'uniform', 'subsample': 0.8908498228525075, 'tree_method': 'hist'}\n",
      "Training with:                                                                  \n",
      "{'alpha': 0.37523640811613745, 'booster': 'gbtree', 'colsample_bylevel': 0.9120762643653243, 'colsample_bynode': 0.6989567816046217, 'colsample_bytree': 0.7132833675161503, 'eta': 0.830271570783352, 'eval_metric': 'rmsle', 'gamma': 0.15167053479968007, 'grow_policy': 'lossguide', 'lambda': 0.5220696909942317, 'max_delta_step': 1.2714826077036228, 'max_depth': 1, 'min_child_weight': 1.9923636597449887, 'num_boost_round': 106, 'num_class': 100, 'objective': 'multi:softmax', 'sampling_method': 'uniform', 'subsample': 0.814759090444463, 'tree_method': 'auto'}\n",
      "Training with:                                                                  \n",
      "{'alpha': 0.3036642506216329, 'booster': 'gbtree', 'colsample_bylevel': 0.9091602094439069, 'colsample_bynode': 0.7989093153953599, 'colsample_bytree': 0.6211264141751348, 'eta': 0.9960937198199517, 'eval_metric': 'rmsle', 'gamma': 0.1583567732564297, 'grow_policy': 'lossguide', 'lambda': 0.4980153403597588, 'max_delta_step': 0.11985873454673952, 'max_depth': 8, 'min_child_weight': 2.0639476075220577, 'num_boost_round': 106, 'num_class': 100, 'objective': 'multi:softmax', 'sampling_method': 'uniform', 'subsample': 0.8660214687757767, 'tree_method': 'auto'}\n",
      "Training with:                                                                  \n",
      "{'alpha': 0.3521538266517981, 'booster': 'gbtree', 'colsample_bylevel': 0.9461184519863316, 'colsample_bynode': 0.7456822466750253, 'colsample_bytree': 0.7134190379245128, 'eta': 0.8173789379921768, 'eval_metric': 'rmsle', 'gamma': 0.1446247008934854, 'grow_policy': 'lossguide', 'lambda': 0.544770023151268, 'max_delta_step': 1.2396536924136456, 'max_depth': 1, 'min_child_weight': 1.961007757751918, 'num_boost_round': 112, 'num_class': 100, 'objective': 'multi:softmax', 'sampling_method': 'uniform', 'subsample': 0.8409635058051832, 'tree_method': 'exact'}\n",
      "Training with:                                                                  \n",
      "{'alpha': 0.2484202265957433, 'booster': 'gbtree', 'colsample_bylevel': 0.9559744373277849, 'colsample_bynode': 0.8454506329477649, 'colsample_bytree': 0.7387060781106098, 'eta': 0.9339653897564475, 'eval_metric': 'rmsle', 'gamma': 0.09850871188891988, 'grow_policy': 'lossguide', 'lambda': 0.5739790971661676, 'max_delta_step': 0.40664101445850126, 'max_depth': 5, 'min_child_weight': 2.2436078247683393, 'num_boost_round': 106, 'num_class': 100, 'objective': 'multi:softmax', 'sampling_method': 'uniform', 'subsample': 0.9129170741037531, 'tree_method': 'approx'}\n",
      "Training with:                                                                  \n",
      "{'alpha': 0.36874170401764356, 'booster': 'gbtree', 'colsample_bylevel': 0.9724618859686445, 'colsample_bynode': 0.6865600483381799, 'colsample_bytree': 0.5935856864252818, 'eta': 0.8821081451461313, 'eval_metric': 'rmsle', 'gamma': 0.14454440518333575, 'grow_policy': 'lossguide', 'lambda': 0.40676549969084685, 'max_delta_step': 0.17303070457379227, 'max_depth': 2, 'min_child_weight': 1.833655458680705, 'num_boost_round': 111, 'num_class': 100, 'objective': 'multi:softmax', 'sampling_method': 'uniform', 'subsample': 0.9355123237831894, 'tree_method': 'auto'}\n",
      "Training with:                                                                  \n",
      "{'alpha': 0.39267076487697683, 'booster': 'gbtree', 'colsample_bylevel': 0.9204306637637849, 'colsample_bynode': 0.7008679022645399, 'colsample_bytree': 0.6495059528660245, 'eta': 0.7114824598200231, 'eval_metric': 'rmsle', 'gamma': 0.07902903126875391, 'grow_policy': 'lossguide', 'lambda': 0.5249506640013129, 'max_delta_step': 1.2917487530965501, 'max_depth': 6, 'min_child_weight': 2.1819129757883307, 'num_boost_round': 181, 'num_class': 100, 'objective': 'multi:softmax', 'sampling_method': 'uniform', 'subsample': 0.8138706885504521, 'tree_method': 'auto'}\n"
     ]
    },
    {
     "name": "stdout",
     "output_type": "stream",
     "text": [
      "Training with:                                                                  \n",
      "{'alpha': 0.3293444422704934, 'booster': 'gbtree', 'colsample_bylevel': 0.820034599062519, 'colsample_bynode': 0.7567124430928299, 'colsample_bytree': 0.6650943876599144, 'eta': 0.9500308507514555, 'eval_metric': 'rmsle', 'gamma': 0.16919462298328308, 'grow_policy': 'lossguide', 'lambda': 0.4550395516806572, 'max_delta_step': 0.4931482899018738, 'max_depth': 4, 'min_child_weight': 2.477545038877734, 'num_boost_round': 100, 'num_class': 100, 'objective': 'multi:softmax', 'sampling_method': 'uniform', 'subsample': 0.8499808777199412, 'tree_method': 'auto'}\n",
      "Training with:                                                                  \n",
      "{'alpha': 0.30651932324585424, 'booster': 'gbtree', 'colsample_bylevel': 0.8973737619599349, 'colsample_bynode': 0.9242789325307459, 'colsample_bytree': 0.6861714057036433, 'eta': 0.8414286051694196, 'eval_metric': 'rmsle', 'gamma': 0.1327951226311447, 'grow_policy': 'lossguide', 'lambda': 0.62934038173207, 'max_delta_step': 0.9999577890797645, 'max_depth': 1, 'min_child_weight': 1.473196259342989, 'num_boost_round': 104, 'num_class': 100, 'objective': 'multi:softmax', 'sampling_method': 'uniform', 'subsample': 0.9644503777718295, 'tree_method': 'hist'}\n",
      "Training with:                                                                  \n",
      "{'alpha': 0.4121688636082673, 'booster': 'gbtree', 'colsample_bylevel': 0.8510399656690353, 'colsample_bynode': 0.8143477213007883, 'colsample_bytree': 0.6426747527443306, 'eta': 0.7663187536786442, 'eval_metric': 'rmsle', 'gamma': 0.14252532496821596, 'grow_policy': 'lossguide', 'lambda': 0.5129207209647063, 'max_delta_step': 0.10012082386989689, 'max_depth': 1, 'min_child_weight': 1.6219666763210139, 'num_boost_round': 182, 'num_class': 100, 'objective': 'multi:softmax', 'sampling_method': 'uniform', 'subsample': 0.9251527564205614, 'tree_method': 'auto'}\n",
      "Training with:                                                                  \n",
      "{'alpha': 0.42525214824582525, 'booster': 'gbtree', 'colsample_bylevel': 0.8444979730519452, 'colsample_bynode': 0.8746689953027027, 'colsample_bytree': 0.6141159696319015, 'eta': 0.8996402525005736, 'eval_metric': 'rmsle', 'gamma': 0.14507328179672746, 'grow_policy': 'lossguide', 'lambda': 0.49499030062132954, 'max_delta_step': 0.07607349392591245, 'max_depth': 1, 'min_child_weight': 1.6454580001151695, 'num_boost_round': 129, 'num_class': 100, 'objective': 'multi:softmax', 'sampling_method': 'uniform', 'subsample': 0.928576702905204, 'tree_method': 'auto'}\n",
      "Training with:                                                                  \n",
      "{'alpha': 0.37740434000673073, 'booster': 'gbtree', 'colsample_bylevel': 0.989096487499369, 'colsample_bynode': 0.8191887069344677, 'colsample_bytree': 0.7097019093921012, 'eta': 0.7997027208355421, 'eval_metric': 'rmsle', 'gamma': 0.14969154002692633, 'grow_policy': 'lossguide', 'lambda': 0.5296052795552728, 'max_delta_step': 0.006197534108941757, 'max_depth': 1, 'min_child_weight': 1.7644628790515253, 'num_boost_round': 147, 'num_class': 100, 'objective': 'multi:softmax', 'sampling_method': 'uniform', 'subsample': 0.8190480224279689, 'tree_method': 'auto'}\n",
      "Training with:                                                                  \n",
      "{'alpha': 0.41007941492987243, 'booster': 'gbtree', 'colsample_bylevel': 0.7925714331797729, 'colsample_bynode': 0.7952706558744341, 'colsample_bytree': 0.6285661054579014, 'eta': 0.7230458643820872, 'eval_metric': 'rmsle', 'gamma': 0.13918031248055568, 'grow_policy': 'lossguide', 'lambda': 0.5995104244793106, 'max_delta_step': 0.045653725823684814, 'max_depth': 1, 'min_child_weight': 2.1192524173121403, 'num_boost_round': 197, 'num_class': 100, 'objective': 'multi:softmax', 'sampling_method': 'uniform', 'subsample': 0.8653505348860917, 'tree_method': 'auto'}\n",
      "Training with:                                                                  \n",
      "{'alpha': 0.4739329965150369, 'booster': 'gbtree', 'colsample_bylevel': 0.9070595535399553, 'colsample_bynode': 0.9094663320696933, 'colsample_bytree': 0.6427703893508967, 'eta': 0.6811740260025626, 'eval_metric': 'rmsle', 'gamma': 0.11668191856152763, 'grow_policy': 'lossguide', 'lambda': 0.4816644143634044, 'max_delta_step': 0.02373200257182461, 'max_depth': 1, 'min_child_weight': 1.9631109502801218, 'num_boost_round': 182, 'num_class': 100, 'objective': 'multi:softmax', 'sampling_method': 'uniform', 'subsample': 0.8860774277837848, 'tree_method': 'auto'}\n",
      "100%|███| 150/150 [5:07:45<00:00, 123.11s/trial, best loss: 0.07399999999999995]\n"
     ]
    }
   ],
   "source": [
    "best = fmin(score, search_space, algo=tpe.suggest, max_evals=150)"
   ]
  },
  {
   "cell_type": "code",
   "execution_count": 29,
   "id": "057f54f1",
   "metadata": {},
   "outputs": [
    {
     "name": "stderr",
     "output_type": "stream",
     "text": [
      "2024-01-24 14:06:55.169391: I tensorflow/core/platform/cpu_feature_guard.cc:193] This TensorFlow binary is optimized with oneAPI Deep Neural Network Library (oneDNN) to use the following CPU instructions in performance-critical operations:  SSE4.1 SSE4.2\n",
      "To enable them in other operations, rebuild TensorFlow with the appropriate compiler flags.\n",
      "2024-01-24 14:07:05.389910: I tensorflow/core/platform/cpu_feature_guard.cc:193] This TensorFlow binary is optimized with oneAPI Deep Neural Network Library (oneDNN) to use the following CPU instructions in performance-critical operations:  SSE4.1 SSE4.2\n",
      "To enable them in other operations, rebuild TensorFlow with the appropriate compiler flags.\n"
     ]
    }
   ],
   "source": [
    "import tensorflow as tf\n",
    "import tensorflow.keras as keras\n",
    "\n",
    "from keras.models import Sequential\n",
    "from keras.losses import SparseCategoricalCrossentropy\n",
    "from keras.layers import Dense, Dropout\n",
    "\n",
    "model = Sequential([\n",
    "    Dense(1024),\n",
    "    Dense(512),\n",
    "    Dense(256),\n",
    "    Dense(128),\n",
    "    Dense(100)\n",
    "])\n",
    "\n",
    "model.compile(optimizer='adam',\n",
    "              loss=SparseCategoricalCrossentropy(from_logits=True),\n",
    "              metrics=['accuracy'])"
   ]
  },
  {
   "cell_type": "code",
   "execution_count": null,
   "id": "0260a0f6",
   "metadata": {},
   "outputs": [],
   "source": [
    "model.fit(X_train, y_train, epochs=1000)"
   ]
  },
  {
   "cell_type": "code",
   "execution_count": 32,
   "id": "6b64985d",
   "metadata": {},
   "outputs": [
    {
     "name": "stdout",
     "output_type": "stream",
     "text": [
      "32/32 [==============================] - 0s 1ms/step\n",
      "0.583\n"
     ]
    }
   ],
   "source": [
    "predictions = model.predict(X_test)\n",
    "predictions = tf.nn.softmax(predictions)\n",
    "\n",
    "score = 0\n",
    "for i, pred in enumerate(predictions):\n",
    "    final_pred = np.argmax(pred, 0)\n",
    "    \n",
    "    if final_pred == y_test[i]:\n",
    "        score += 1\n",
    "\n",
    "print(score/len(y_test))"
   ]
  }
 ],
 "metadata": {
  "kernelspec": {
   "display_name": "Python 3 (ipykernel)",
   "language": "python",
   "name": "python3"
  },
  "language_info": {
   "codemirror_mode": {
    "name": "ipython",
    "version": 3
   },
   "file_extension": ".py",
   "mimetype": "text/x-python",
   "name": "python",
   "nbconvert_exporter": "python",
   "pygments_lexer": "ipython3",
   "version": "3.9.13"
  }
 },
 "nbformat": 4,
 "nbformat_minor": 5
}
