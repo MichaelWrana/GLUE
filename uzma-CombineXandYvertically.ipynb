{
 "cells": [
  {
   "cell_type": "code",
   "execution_count": null,
   "id": "8de1dbed",
   "metadata": {},
   "outputs": [],
   "source": [
    "import pandas as pd\n",
    "import stumpy\n",
    "import numpy as np\n",
    "import datetime as dt\n",
    "import random\n",
    "import math\n",
    "import pickle\n",
    "import sys\n",
    "import os\n",
    "\n",
    "from statistics import mean\n",
    "from tqdm.auto import tqdm\n",
    "from multiprocessing import Pool\n",
    "\n",
    "import sklearn.metrics as metrics\n",
    "from sklearn.metrics import confusion_matrix\n",
    "from sklearn.model_selection import train_test_split\n",
    "from sklearn.ensemble import RandomForestClassifier"
   ]
  },
  {
   "cell_type": "code",
   "execution_count": null,
   "id": "36747308",
   "metadata": {},
   "outputs": [],
   "source": [
    "def combineY(fldr_source_Y,fldr_dest_Y,str_uniqueIdentifier1,str_uniqueIdentifier2,str_uniqueIdentifier3):\n",
    "    y= ()\n",
    "    \n",
    "    for filename in os.listdir(fldr_source_Y):\n",
    "        if \".\" not in filename :\n",
    "            if str_uniqueIdentifier1 in filename and str_uniqueIdentifier2 in filename and \\\n",
    "            str_uniqueIdentifier3 in filename:\n",
    "                with open(folder_X + filename, 'rb') as f:\n",
    "                    y = pickle.load(f)\n",
    "                break\n",
    "    y = np.array(y) \n",
    "                    \n",
    "                    \n",
    "    print(y.shape)\n",
    "    \n",
    "    print(\"Will create:\" fldr_dest_Y + str_uniqueIdentifier3)\n",
    "    return y\n",
    "    with open(fldr_dest_Y + str_uniqueIdentifier3, 'wb') as f:\n",
    "        pickle.dump(y, f) \n",
    "    \n",
    "    return y"
   ]
  },
  {
   "cell_type": "code",
   "execution_count": null,
   "id": "573f0729",
   "metadata": {},
   "outputs": [],
   "source": [
    "def combineX(fldr_source_X,fldr_dest_X,str_uniqueIdentifier1,str_uniqueIdentifier2,str_uniqueIdentifier3):\n",
    "    X = ()\n",
    "\n",
    "\n",
    "    for filename in os.listdir(fldr_source_X):\n",
    "        if \".\" not in filename :\n",
    "            if str_uniqueIdentifier1 in filename and str_uniqueIdentifier2 in filename and \\\n",
    "            str_uniqueIdentifier3 in filename:\n",
    "                with open(folder_X + filename, 'rb') as f:\n",
    "                    Xi = pickle.load(f)\n",
    "                X = X + (Xi,) \n",
    "\n",
    "    X = np.concatenate(X, axis=1)\n",
    "    print(X.shape)\n",
    "    \n",
    "    print(\"Will create:\" fldr_dest_X + str_uniqueIdentifier3)\n",
    "    return X\n",
    "    with open(fldr_dest_X + str_uniqueIdentifier3, 'wb') as f:\n",
    "        pickle.dump(X, f) \n",
    "    \n",
    "    return X"
   ]
  },
  {
   "cell_type": "code",
   "execution_count": null,
   "id": "25cda3bb",
   "metadata": {},
   "outputs": [],
   "source": [
    "# merge X values from different datasets\n",
    "\n",
    "fldr_source_X = \"../results/IPT_data/X/\"\n",
    "fldr_dest_X = \"../results/IPT_data/X/\"\n",
    "\n",
    "\n",
    "test_train_samples = 20000\n",
    "experiments = 0\n",
    "coeff = 0.25\n",
    "p = 5\n",
    "q = 3\n",
    "r = 3\n",
    "\n",
    "X_train_exprmnt=0shapelet_size=0.25p5q3r3_part0_samples_20000\n",
    "\n",
    "str_uniqueIdentifier1 = 'shapelet_size='+ str(coeff) + 'p' + str(p) + 'q' + str(q) + 'r' + str(r)\n",
    "str_uniqueIdentifier2 = 'samples_' + str(test_train_samples)\n",
    "\n",
    "combineX(fldr_source_X,fldr_dest_X,str_uniqueIdentifier1,str_uniqueIdentifier2,\"X_train\")\n",
    "combineX(fldr_source_X,fldr_dest_X,str_uniqueIdentifier1,str_uniqueIdentifier2,\"X_test\")\n",
    "\n",
    "combineY(fldr_source_Y,fldr_dest_Y,str_uniqueIdentifier1,str_uniqueIdentifier2,\"y_train\")\n",
    "combineY(fldr_source_Y,fldr_dest_Y,str_uniqueIdentifier1,str_uniqueIdentifier2,\"y_test\"):\n"
   ]
  }
 ],
 "metadata": {
  "kernelspec": {
   "display_name": "Python 3 (ipykernel)",
   "language": "python",
   "name": "python3"
  },
  "language_info": {
   "codemirror_mode": {
    "name": "ipython",
    "version": 3
   },
   "file_extension": ".py",
   "mimetype": "text/x-python",
   "name": "python",
   "nbconvert_exporter": "python",
   "pygments_lexer": "ipython3",
   "version": "3.11.5"
  }
 },
 "nbformat": 4,
 "nbformat_minor": 5
}
