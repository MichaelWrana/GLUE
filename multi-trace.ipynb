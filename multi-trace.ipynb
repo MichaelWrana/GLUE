{
 "cells": [
  {
   "cell_type": "code",
   "execution_count": 1,
   "id": "9a7f88ea",
   "metadata": {},
   "outputs": [],
   "source": [
    "import numpy as np\n",
    "import pickle\n",
    "import re\n",
    "import os\n",
    "import random\n",
    "\n",
    "from tqdm import tqdm\n",
    "from modified_features import extract_features"
   ]
  },
  {
   "cell_type": "code",
   "execution_count": 3,
   "id": "05c7b7ff",
   "metadata": {},
   "outputs": [],
   "source": [
    "with open('../ds19.npy', 'rb') as f:\n",
    "    traces = pickle.load(f)"
   ]
  },
  {
   "cell_type": "code",
   "execution_count": 26,
   "id": "a3b3ff84",
   "metadata": {},
   "outputs": [],
   "source": [
    "# determine traces with shortest average length\n",
    "\n",
    "# random shapelet selection\n",
    "\n",
    "for j in range(17, 36):\n",
    "\n",
    "    shapelets = [None] * 100\n",
    "\n",
    "    for i in range(100):\n",
    "        shapelets[i] = random.choice(traces[i])\n",
    "\n",
    "    with open('../results/shapelets/num=' + str(j) + 'size=0', 'wb') as f:\n",
    "        pickle.dump(shapelets, f)"
   ]
  },
  {
   "cell_type": "code",
   "execution_count": 4,
   "id": "78671df8",
   "metadata": {},
   "outputs": [],
   "source": [
    "# SECTION 3\n",
    "# process the data by extracting k-fp features from the dataset"
   ]
  },
  {
   "cell_type": "code",
   "execution_count": 96,
   "id": "d9db305c",
   "metadata": {},
   "outputs": [],
   "source": [
    "data_folder = \"../ds19/\"\n",
    "traces = {id: [None] * 100 for id in range(100)}\n",
    "indices = {id: 0 for id in range(100)}\n",
    "patterns = [re.compile(\"^\\d{2}-\\d{2}.cell\"), re.compile(\"^\\d{2}-\\d{1}.cell\"), re.compile(\"^\\d{1}-\\d{2}.cell\"), re.compile(\"^\\d{1}-\\d{1}.cell\")]"
   ]
  },
  {
   "cell_type": "code",
   "execution_count": 97,
   "id": "9eb04c08",
   "metadata": {},
   "outputs": [],
   "source": [
    "def process_kfp(filename, trace_id):\n",
    "    \n",
    "    with open(data_folder + filename) as f:\n",
    "        # nightmare double list comprehension\n",
    "        # just loads the file where each line is a tuple (the whole file is stored as a list)\n",
    "        converted_file = [tuple([float(i) for i in line.rstrip().split('\\t')]) for line in f]\n",
    "    \n",
    "    traces[trace_id][indices[trace_id]] = converted_file\n",
    "    indices[trace_id] += 1"
   ]
  },
  {
   "cell_type": "code",
   "execution_count": 99,
   "id": "a9b02657",
   "metadata": {},
   "outputs": [
    {
     "name": "stderr",
     "output_type": "stream",
     "text": [
      "100%|████████████████████████████████████| 20000/20000 [00:35<00:00, 556.85it/s]\n"
     ]
    }
   ],
   "source": [
    "for filename in tqdm(os.listdir(data_folder)):\n",
    "    # 2-digit, 2-digit\n",
    "    if patterns[0].match(filename):\n",
    "        process_kfp(filename, int(filename[:2]))\n",
    "    # 2-digit, 1-digit\n",
    "    elif patterns[1].match(filename):\n",
    "        process_kfp(filename, int(filename[:2]))\n",
    "    # 1-digit, 2-digit or 1-digit, 1-digit\n",
    "    elif patterns[2].match(filename) or patterns[3].match(filename):\n",
    "        process_kfp(filename, int(filename[0]))"
   ]
  },
  {
   "cell_type": "code",
   "execution_count": 100,
   "id": "57d87ea1",
   "metadata": {},
   "outputs": [
    {
     "name": "stderr",
     "output_type": "stream",
     "text": [
      "100%|█████████████████████████████████████████| 100/100 [05:03<00:00,  3.03s/it]\n"
     ]
    }
   ],
   "source": [
    "for trace_id, trace_list in tqdm(traces.items()):\n",
    "    traces[trace_id] = [extract_features(trace) for trace in trace_list]\n",
    "    \n",
    "with open('../ds19_kfp.npy', 'wb') as f:\n",
    "    pickle.dump(traces, f)"
   ]
  },
  {
   "cell_type": "code",
   "execution_count": 103,
   "id": "33c5fb10",
   "metadata": {},
   "outputs": [],
   "source": [
    "# SECTION 4\n",
    "# convert our format (from 450k dataset) to the same one as ds-19, then extract k-fp features"
   ]
  },
  {
   "cell_type": "code",
   "execution_count": 3,
   "id": "35594e02",
   "metadata": {},
   "outputs": [],
   "source": [
    "with open('../nonzero_traces.npy', 'rb') as f:\n",
    "    traces = pickle.load(f)"
   ]
  },
  {
   "cell_type": "code",
   "execution_count": 4,
   "id": "d29a67e8",
   "metadata": {},
   "outputs": [],
   "source": [
    "def convert_format(trace):\n",
    "    return [(abs(packet),np.sign(packet)) for packet in trace]"
   ]
  },
  {
   "cell_type": "code",
   "execution_count": 5,
   "id": "4670af34",
   "metadata": {},
   "outputs": [
    {
     "name": "stderr",
     "output_type": "stream",
     "text": [
      "100%|█████████████████████████████████████████| 100/100 [16:51<00:00, 10.11s/it]\n"
     ]
    }
   ],
   "source": [
    "for trace_id, trace_list in tqdm(traces.items()):\n",
    "    traces[trace_id] = [convert_format(trace) for trace in trace_list]\n",
    "    \n",
    "for trace_id, trace_list in tqdm(traces.items()):\n",
    "    traces[trace_id] = [extract_features(trace) for trace in trace_list]"
   ]
  },
  {
   "cell_type": "code",
   "execution_count": 7,
   "id": "96e60385",
   "metadata": {},
   "outputs": [],
   "source": [
    "with open('../nonzero_kfp.npy', 'wb') as f:\n",
    "    pickle.dump(traces, f)"
   ]
  }
 ],
 "metadata": {
  "kernelspec": {
   "display_name": "Python 3 (ipykernel)",
   "language": "python",
   "name": "python3"
  },
  "language_info": {
   "codemirror_mode": {
    "name": "ipython",
    "version": 3
   },
   "file_extension": ".py",
   "mimetype": "text/x-python",
   "name": "python",
   "nbconvert_exporter": "python",
   "pygments_lexer": "ipython3",
   "version": "3.9.13"
  }
 },
 "nbformat": 4,
 "nbformat_minor": 5
}
