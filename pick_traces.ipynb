{
 "cells": [
  {
   "cell_type": "code",
   "execution_count": 1,
   "id": "046cafc4",
   "metadata": {},
   "outputs": [],
   "source": [
    "import numpy as np\n",
    "import pickle\n",
    "import math\n",
    "import matplotlib.pyplot as plt\n",
    "from tqdm.auto import tqdm"
   ]
  },
  {
   "cell_type": "code",
   "execution_count": 2,
   "id": "e9d3fda1",
   "metadata": {},
   "outputs": [],
   "source": [
    "with open('../ipt_traces.npy', 'rb') as f:\n",
    "    traces = pickle.load(f)"
   ]
  },
  {
   "cell_type": "code",
   "execution_count": 26,
   "id": "efa97427",
   "metadata": {},
   "outputs": [],
   "source": []
  },
  {
   "cell_type": "code",
   "execution_count": 7,
   "id": "a8dbae2b",
   "metadata": {},
   "outputs": [
    {
     "data": {
      "application/vnd.jupyter.widget-view+json": {
       "model_id": "0c5f62cc4aff45a3816b6db76b19de71",
       "version_major": 2,
       "version_minor": 0
      },
      "text/plain": [
       "  0%|          | 0/12 [00:00<?, ?it/s]"
      ]
     },
     "metadata": {},
     "output_type": "display_data"
    }
   ],
   "source": [
    "for i in tqdm(range(12)):\n",
    "    trace_choice = []\n",
    "    for j in range(100):\n",
    "        trace_lens = [len(X) for X in traces[j]]\n",
    "        sorted_indices = np.argsort(trace_lens)\n",
    "        middle_trace = traces[j][ sorted_indices[(len(sorted_indices)//12)*i] ]\n",
    "        trace_choice.append(middle_trace)\n",
    "        with open('../results/shapelets/num=' + str(i) + \"size=1\", 'wb') as f:\n",
    "            pickle.dump(trace_choice, f)"
   ]
  },
  {
   "cell_type": "code",
   "execution_count": 16,
   "id": "b8ea622b",
   "metadata": {},
   "outputs": [
    {
     "name": "stdout",
     "output_type": "stream",
     "text": [
      "2672\n"
     ]
    }
   ],
   "source": [
    "with open('../results/shapelets/num=' + str(11) + \"size=1\", 'rb') as f:\n",
    "    shapelets = pickle.load(f)\n",
    "\n",
    "print(len(shapelets[99]))"
   ]
  },
  {
   "cell_type": "code",
   "execution_count": null,
   "id": "a9807963",
   "metadata": {},
   "outputs": [],
   "source": []
  }
 ],
 "metadata": {
  "kernelspec": {
   "display_name": "Python 3 (ipykernel)",
   "language": "python",
   "name": "python3"
  },
  "language_info": {
   "codemirror_mode": {
    "name": "ipython",
    "version": 3
   },
   "file_extension": ".py",
   "mimetype": "text/x-python",
   "name": "python",
   "nbconvert_exporter": "python",
   "pygments_lexer": "ipython3",
   "version": "3.9.13"
  }
 },
 "nbformat": 4,
 "nbformat_minor": 5
}
