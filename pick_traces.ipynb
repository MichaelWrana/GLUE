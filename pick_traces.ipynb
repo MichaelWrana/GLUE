{
 "cells": [
  {
   "cell_type": "code",
   "execution_count": 22,
   "id": "046cafc4",
   "metadata": {},
   "outputs": [],
   "source": [
    "import numpy as np\n",
    "import pickle\n",
    "import math\n",
    "import matplotlib.pyplot as plt\n",
    "from tqdm.auto import tqdm"
   ]
  },
  {
   "cell_type": "code",
   "execution_count": 6,
   "id": "e9d3fda1",
   "metadata": {},
   "outputs": [],
   "source": [
    "with open('../nonzero_traces.npy', 'rb') as f:\n",
    "    traces = pickle.load(f)"
   ]
  },
  {
   "cell_type": "code",
   "execution_count": 26,
   "id": "efa97427",
   "metadata": {},
   "outputs": [],
   "source": [
    "trace_choice = []"
   ]
  },
  {
   "cell_type": "code",
   "execution_count": 29,
   "id": "a8dbae2b",
   "metadata": {},
   "outputs": [
    {
     "data": {
      "application/vnd.jupyter.widget-view+json": {
       "model_id": "1cf3feccb2d642f8884e46e17bb635d4",
       "version_major": 2,
       "version_minor": 0
      },
      "text/plain": [
       "  0%|          | 0/100 [00:00<?, ?it/s]"
      ]
     },
     "metadata": {},
     "output_type": "display_data"
    }
   ],
   "source": [
    "for i in tqdm(range(100)):\n",
    "    trace_lens = [len(X) for X in traces[i]]\n",
    "    sorted_indices = np.argsort(trace_lens)\n",
    "    middle_trace = traces[i][sorted_indices[len(sorted_indices)//2]]\n",
    "    trace_choice.append(middle_trace)"
   ]
  },
  {
   "cell_type": "code",
   "execution_count": 30,
   "id": "b8ea622b",
   "metadata": {},
   "outputs": [],
   "source": [
    "with open('../results/data/trace_choice', 'wb') as f:\n",
    "    pickle.dump(trace_choice, f)"
   ]
  },
  {
   "cell_type": "code",
   "execution_count": null,
   "id": "a9807963",
   "metadata": {},
   "outputs": [],
   "source": []
  }
 ],
 "metadata": {
  "kernelspec": {
   "display_name": "Python 3 (ipykernel)",
   "language": "python",
   "name": "python3"
  },
  "language_info": {
   "codemirror_mode": {
    "name": "ipython",
    "version": 3
   },
   "file_extension": ".py",
   "mimetype": "text/x-python",
   "name": "python",
   "nbconvert_exporter": "python",
   "pygments_lexer": "ipython3",
   "version": "3.9.13"
  }
 },
 "nbformat": 4,
 "nbformat_minor": 5
}
