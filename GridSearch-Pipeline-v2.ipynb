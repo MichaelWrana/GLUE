{
 "cells": [
  {
   "cell_type": "code",
   "execution_count": 1,
   "id": "c1b6b6e8",
   "metadata": {},
   "outputs": [],
   "source": [
    "import pandas as pd\n",
    "import stumpy\n",
    "import numpy as np\n",
    "import datetime as dt\n",
    "import random\n",
    "import math\n",
    "import pickle\n",
    "import sys\n",
    "\n",
    "from statistics import mean\n",
    "from tqdm.auto import tqdm\n",
    "from multiprocessing import Pool\n",
    "\n",
    "import sklearn.metrics as metrics\n",
    "from sklearn.metrics import confusion_matrix\n",
    "from sklearn.model_selection import train_test_split\n",
    "from sklearn.ensemble import RandomForestClassifier"
   ]
  },
  {
   "cell_type": "code",
   "execution_count": 2,
   "id": "198d8202",
   "metadata": {},
   "outputs": [],
   "source": [
    "'''\n",
    "Collects random samples from trace with id2 and computes the matrix profile of class1 compared with class 2\n",
    "\n",
    "Input: \n",
    "    trace1: packet traces from class 1\n",
    "    id2: id number for class 2 \n",
    "    num_traces: number of traces to select from class 2 (should be equal to class 1)\n",
    "    shapelet_size: length of shapelets\n",
    "    \n",
    "Output:\n",
    "    Matrix profile of trace1 compared with trace2\n",
    "'''\n",
    "def compare_profile(trace1, id2, num_traces, shapelet_size):\n",
    "    \n",
    "    trace2 = []\n",
    "    while len(trace2) < shapelet_size:\n",
    "        trace2 = random.sample(traces[id2], num_traces)\n",
    "        trace2 = np.asarray([item for row in trace2 for item in row]).astype('float64')\n",
    "    \n",
    "    #print(\"self-profiles generated...\")\n",
    "    c1_c2 = stumpy.stump(trace1, shapelet_size, trace2, ignore_trivial=False)[:, 0].astype(float)\n",
    "    c1_c2[c1_c2 == np.inf] = np.nan\n",
    "    #print(\"Comparison profiles generated...\")\n",
    "    \n",
    "    return c1_c2\n",
    "\n",
    "'''\n",
    "Compares a the matrix profile of a class trace with itself\n",
    "\n",
    "Input: \n",
    "    trace: packet traces from class 1\n",
    "    shapelet_size: length of shapelets\n",
    "    \n",
    "Output:\n",
    "    Matrix profile of trace compared with trace\n",
    "'''\n",
    "\n",
    "def same_profile(trace, shapelet_size):\n",
    "    \n",
    "    c1_c1 = stumpy.stump(trace, shapelet_size)[:, 0].astype(float)\n",
    "    c1_c1[c1_c1 == np.inf] = np.nan\n",
    "    \n",
    "    return c1_c1\n",
    "\n",
    "'''\n",
    "return indices of shapelet as one-hot encoded list\n",
    "'''\n",
    "def generate_shapelet(trace, diff, shapelet_size):\n",
    "    \n",
    "    idx = np.argmax(diff)\n",
    "    shapelet = np.asarray([1 if idx <= i < idx + shapelet_size else 0 for i in range(len(trace))])\n",
    "    \n",
    "    return shapelet\n",
    "\n",
    "'''\n",
    "Compute shapelet of greatest overlaps\n",
    "'''\n",
    "def find_overlap(trace_i, shapelets_i, shapelet_size):\n",
    "    #print(shapelets_i[0])\n",
    "    \n",
    "    merged_shapelets = np.sum(shapelets_i, axis=0)\n",
    "    \n",
    "    max_size = 0\n",
    "    start = 0\n",
    "    end = 0\n",
    "    \n",
    "    for i in range(0, len(merged_shapelets), shapelet_size):\n",
    "        current_size = np.sum(merged_shapelets[i:i+shapelet_size])\n",
    "        if current_size > max_size:\n",
    "            max_size = current_size\n",
    "            start = i\n",
    "            end = i + shapelet_size\n",
    "    \n",
    "    return trace_i[start:end]"
   ]
  },
  {
   "cell_type": "code",
   "execution_count": 3,
   "id": "41239be1",
   "metadata": {},
   "outputs": [],
   "source": [
    "'''\n",
    "Generates a set of 100 shapelets for each class in samples\n",
    "\n",
    "Input:\n",
    "    num_traces = Number of traces per class\n",
    "    shapelet_size = Size of shapelets\n",
    "    save: save results to file?\n",
    "    filename: if save, name & location of output file\n",
    "\n",
    "Output:\n",
    "    list object containing shapelets for each class\n",
    "\n",
    "'''\n",
    "\n",
    "def generate_shapelets(num_traces, shapelet_size):\n",
    "    shapelet_storage = []\n",
    "    \n",
    "    # loop over all classes (generate shapelet for each class)\n",
    "    for i in tqdm(range(100)):\n",
    "        \n",
    "        # get num_traces samples from trace #i\n",
    "        # while loop guarantees that the traces selected exceed shapelet size (or crashes will happen)\n",
    "        trace_i = []\n",
    "        while len(trace_i) < shapelet_size:\n",
    "            trace_i = random.sample(traces[i], num_traces)\n",
    "            trace_i = np.asarray([item for row in trace_i for item in row]).astype('float64')\n",
    "        \n",
    "        shapelets_i = np.zeros((100, len(trace_i)))\n",
    "        #print(shapelets_i.shape)\n",
    "        \n",
    "        # generate profile of i compared with itself\n",
    "        ci_ci = same_profile(trace_i, shapelet_size)\n",
    "        \n",
    "        # loop over every other class and generate a profile for each one\n",
    "        for j in range(100):\n",
    "            # don't compare i with itself \n",
    "            if i == j:\n",
    "                continue\n",
    "\n",
    "            # compute profile of i compared with j\n",
    "            ci_cj = compare_profile(trace_i, j, num_traces, shapelet_size)\n",
    "\n",
    "            # find largest value gap between other and i\n",
    "            diff_ci = ci_cj - ci_ci\n",
    "            \n",
    "            # generate best shapelet for i compared to j and store it in list\n",
    "            ci_shape = generate_shapelet(trace_i, diff_ci, shapelet_size)\n",
    "            shapelets_i[j] = ci_shape\n",
    "        \n",
    "        # compare shapelets between all classes and return the one which has the most overlap\n",
    "        # (i.e.) the shapelet that was chosen most between the 99 other classes\n",
    "        best_shapelet = find_overlap(trace_i, shapelets_i, shapelet_size)\n",
    "        # save to list\n",
    "        shapelet_storage.append(best_shapelet)\n",
    "    \n",
    "    return shapelet_storage   "
   ]
  },
  {
   "cell_type": "code",
   "execution_count": 4,
   "id": "651bd8de",
   "metadata": {},
   "outputs": [],
   "source": [
    "'''\n",
    "Compute the minimum distance beteen data samples and shapelets\n",
    "Input:\n",
    "    data = list of individual packet traces\n",
    "    shapelets = list of shapelets\n",
    "Output:\n",
    "    minimum distance between each sample in data compared with each sample in shapelet\n",
    "    shape = (len(data),len(shapelets))\n",
    "'''\n",
    "def distance_to_shapelet(data, shapelets):\n",
    "    #data = np.asarray(data)\n",
    "    #print(len(data))\n",
    "    \n",
    "    # processed output data\n",
    "    data_out = np.zeros((len(data),len(shapelets)))\n",
    "    \n",
    "    # loop over each sample in the dataset\n",
    "    for i,sample in enumerate(tqdm(data)):\n",
    "        shapelet_score = np.empty(len(shapelets))\n",
    "        # for each shapelet, calculate distance and assign a score\n",
    "        for j,shapelet in enumerate(shapelets):\n",
    "            dist = stumpy.mass(shapelet, sample)\n",
    "            shapelet_score[j] = dist.min()\n",
    "        data_out[i] = shapelet_score\n",
    "    \n",
    "    return data_out\n",
    "\n",
    "'''\n",
    "Computes distances between input samples and shapelets, returns X for classifier\n",
    "Also cleans data and ensures no random errors due to length, NaN, etc...\n",
    "Underlying function that performs comparison is distance_to_shapelet\n",
    "Selects data samples (with replacement)\n",
    "note: some samples will always be bad so actual length of X is less\n",
    "\n",
    "Input:\n",
    "    num_traces = numner of traces to process\n",
    "    save = save output to file\n",
    "    filenames = tuple that represents (name of X file, name of y file)\n",
    "\n",
    "Output:\n",
    "    X values for classifier of shape (None, 100)\n",
    "    y values for classifier of shape (None, )\n",
    "'''\n",
    "\n",
    "def process_traces(num_traces, shapelets, shapelet_size, save=True, filenames=(\"X.pkl\",\"y.pkl\")):\n",
    "    X, y = [], []\n",
    "\n",
    "    for i in range(num_traces):\n",
    "        random_id = random.randrange(100)\n",
    "        random_trace = random.choice(traces[random_id])\n",
    "        X.append([random_trace])\n",
    "        y.append(random_id)\n",
    "\n",
    "    # process and remove useless entries (too short)\n",
    "    X = [np.asarray(trace).astype('float64') for trace in X]\n",
    "    X = [trace[~np.isnan(trace)] for trace in X]    \n",
    "    removals = [i for i,x in enumerate(X) if len(x) < shapelet_size]\n",
    "    for idx in removals:\n",
    "        X[idx] = None\n",
    "        y[idx] = None\n",
    "    X = [trace for trace in X if trace is not None]\n",
    "    y = [value for value in y if value is not None]\n",
    "\n",
    "    # compute distance between input trace and shapelet arrays\n",
    "    # return as new X\n",
    "\n",
    "    X = distance_to_shapelet(X, shapelets)\n",
    "    \n",
    "    if save:\n",
    "        with open(filenames[0], 'wb') as f:\n",
    "            pickle.dump(X, f)\n",
    "\n",
    "        with open(filenames[1], 'wb') as f:\n",
    "            pickle.dump(y, f)\n",
    "    \n",
    "    return X, y"
   ]
  },
  {
   "cell_type": "code",
   "execution_count": 5,
   "id": "485914fc",
   "metadata": {},
   "outputs": [],
   "source": [
    "'''\n",
    "Evaluate performance of sklearn classifier on data samples - 90/10 training testing split\n",
    "\n",
    "Input:\n",
    "    clf: sklearn classifier object\n",
    "    X: x values\n",
    "    y: y values\n",
    "    topk: k values for evaluation metrics\n",
    "Output:\n",
    "    list of length topk with accuracy for testing data\n",
    "'''\n",
    "\n",
    "def classifier_performance(clf, X, y, topk=[1,3,5]):\n",
    "    \n",
    "    X_train, X_test, y_train, y_test = train_test_split(X, y, test_size=0.1)\n",
    "    clf.fit(X_train, y_train)\n",
    "    y_prob = clf.predict_proba(X_test)\n",
    "    \n",
    "    scores = []\n",
    "    for k in topk:\n",
    "        correct = 0\n",
    "        for i in range(len(y_prob)):\n",
    "            ind = np.argpartition(y_prob[i], -k)[-k:]\n",
    "            if y_test[i] in ind:\n",
    "                correct += 1\n",
    "        scores.append(correct/len(y_prob))\n",
    "    \n",
    "    return scores"
   ]
  },
  {
   "cell_type": "code",
   "execution_count": 6,
   "id": "146c66f6",
   "metadata": {},
   "outputs": [],
   "source": [
    "'''\n",
    "Utility function for pipeline of evaluating different grid search parameters\n",
    "Output: a new file located in ../results/param1-val1_param2-val2_param3-val3\n",
    "        the file contains a pickled python object\n",
    "        with the scores for top-1, top-3, and top-5 classifier accuracy\n",
    "'''\n",
    "# note: python multiprocessing is really annoying to work with\n",
    "# function needs to be in a separate .py file which is imported\n",
    "# and function can only have 1 argument\n",
    "# list input which is immediately used for what would be the arguments\n",
    "def evaluate_parameters(arr):\n",
    "    \n",
    "    global traces\n",
    "    with open('../nonzero_traces.npy', 'rb') as f:\n",
    "        traces = pickle.load(f)\n",
    "    \n",
    "    num_shapelet_samples = arr[0]\n",
    "    shapelet_size = arr[1]\n",
    "    num_clf_samples = arr[2]\n",
    "    \n",
    "    filename = '../results/shapelets/' + 'num=' + str(num_shapelet_samples) + 'size=' + str(shapelet_size)\n",
    "    with open(filename, 'rb') as f:\n",
    "        shapelets = pickle.load(f)\n",
    "    \n",
    "    print(\"Processing Traces...\")\n",
    "    X, y = process_traces(num_clf_samples, shapelets, shapelet_size, False)\n",
    "    \n",
    "    filename = '../results/data/X/' + 'num=' + str(num_shapelet_samples) + 'size=' + str(shapelet_size) + 'samples=' + str(num_clf_samples)\n",
    "    \n",
    "    with open(filename, 'wb') as f:\n",
    "        pickle.dump(X, f)\n",
    "        \n",
    "    filename = '../results/data/y/' + 'num=' + str(num_shapelet_samples) + 'size=' + str(shapelet_size) + 'samples=' + str(num_clf_samples)\n",
    "    \n",
    "    with open(filename, 'wb') as f:\n",
    "        pickle.dump(y, f)"
   ]
  },
  {
   "cell_type": "code",
   "execution_count": 15,
   "id": "ae8b92b2",
   "metadata": {},
   "outputs": [],
   "source": [
    "# SETUP\n",
    "\n",
    "global traces\n",
    "\n",
    "with open('../nonzero_traces.npy', 'rb') as f:\n",
    "    traces = pickle.load(f)"
   ]
  },
  {
   "cell_type": "code",
   "execution_count": 23,
   "id": "cac00d1f",
   "metadata": {},
   "outputs": [
    {
     "data": {
      "application/vnd.jupyter.widget-view+json": {
       "model_id": "537e6fb07c254c3f86d6698e19bbd59a",
       "version_major": 2,
       "version_minor": 0
      },
      "text/plain": [
       "  0%|          | 0/100 [00:00<?, ?it/s]"
      ]
     },
     "metadata": {},
     "output_type": "display_data"
    },
    {
     "data": {
      "application/vnd.jupyter.widget-view+json": {
       "model_id": "bab518bbaca1491da33af62ba10c61aa",
       "version_major": 2,
       "version_minor": 0
      },
      "text/plain": [
       "  0%|          | 0/100 [00:00<?, ?it/s]"
      ]
     },
     "metadata": {},
     "output_type": "display_data"
    },
    {
     "data": {
      "application/vnd.jupyter.widget-view+json": {
       "model_id": "446a73cd8d7e41f097f8897793fc8571",
       "version_major": 2,
       "version_minor": 0
      },
      "text/plain": [
       "  0%|          | 0/100 [00:00<?, ?it/s]"
      ]
     },
     "metadata": {},
     "output_type": "display_data"
    },
    {
     "data": {
      "application/vnd.jupyter.widget-view+json": {
       "model_id": "9929aeea86954724bc69b9a985903b35",
       "version_major": 2,
       "version_minor": 0
      },
      "text/plain": [
       "  0%|          | 0/100 [00:00<?, ?it/s]"
      ]
     },
     "metadata": {},
     "output_type": "display_data"
    },
    {
     "data": {
      "application/vnd.jupyter.widget-view+json": {
       "model_id": "71151b8742b34609a8264e6600ab9a44",
       "version_major": 2,
       "version_minor": 0
      },
      "text/plain": [
       "  0%|          | 0/100 [00:00<?, ?it/s]"
      ]
     },
     "metadata": {},
     "output_type": "display_data"
    },
    {
     "data": {
      "application/vnd.jupyter.widget-view+json": {
       "model_id": "a1755f21de064d03bf160d585fae0c50",
       "version_major": 2,
       "version_minor": 0
      },
      "text/plain": [
       "  0%|          | 0/100 [00:00<?, ?it/s]"
      ]
     },
     "metadata": {},
     "output_type": "display_data"
    },
    {
     "data": {
      "application/vnd.jupyter.widget-view+json": {
       "model_id": "780428ffce3949778cd6f9c5390151fa",
       "version_major": 2,
       "version_minor": 0
      },
      "text/plain": [
       "  0%|          | 0/100 [00:00<?, ?it/s]"
      ]
     },
     "metadata": {},
     "output_type": "display_data"
    },
    {
     "data": {
      "application/vnd.jupyter.widget-view+json": {
       "model_id": "d6804fd4921349769f1de5b546db1496",
       "version_major": 2,
       "version_minor": 0
      },
      "text/plain": [
       "  0%|          | 0/100 [00:00<?, ?it/s]"
      ]
     },
     "metadata": {},
     "output_type": "display_data"
    },
    {
     "data": {
      "application/vnd.jupyter.widget-view+json": {
       "model_id": "636e36f677c34890aeb75e08468389a6",
       "version_major": 2,
       "version_minor": 0
      },
      "text/plain": [
       "  0%|          | 0/100 [00:00<?, ?it/s]"
      ]
     },
     "metadata": {},
     "output_type": "display_data"
    },
    {
     "data": {
      "application/vnd.jupyter.widget-view+json": {
       "model_id": "7f856d240e6f4dc5b82e5570fd72de0f",
       "version_major": 2,
       "version_minor": 0
      },
      "text/plain": [
       "  0%|          | 0/100 [00:00<?, ?it/s]"
      ]
     },
     "metadata": {},
     "output_type": "display_data"
    },
    {
     "data": {
      "application/vnd.jupyter.widget-view+json": {
       "model_id": "ecec5d81b72f401abf507bb9acf4baef",
       "version_major": 2,
       "version_minor": 0
      },
      "text/plain": [
       "  0%|          | 0/100 [00:00<?, ?it/s]"
      ]
     },
     "metadata": {},
     "output_type": "display_data"
    },
    {
     "data": {
      "application/vnd.jupyter.widget-view+json": {
       "model_id": "407ef3a2758948838809a8b62b0de473",
       "version_major": 2,
       "version_minor": 0
      },
      "text/plain": [
       "  0%|          | 0/100 [00:00<?, ?it/s]"
      ]
     },
     "metadata": {},
     "output_type": "display_data"
    },
    {
     "data": {
      "application/vnd.jupyter.widget-view+json": {
       "model_id": "9c930116f8fb45bb979d44e3b2b11b75",
       "version_major": 2,
       "version_minor": 0
      },
      "text/plain": [
       "  0%|          | 0/100 [00:00<?, ?it/s]"
      ]
     },
     "metadata": {},
     "output_type": "display_data"
    },
    {
     "data": {
      "application/vnd.jupyter.widget-view+json": {
       "model_id": "1fcd05dfc01c48539d51c8dc6de0179a",
       "version_major": 2,
       "version_minor": 0
      },
      "text/plain": [
       "  0%|          | 0/100 [00:00<?, ?it/s]"
      ]
     },
     "metadata": {},
     "output_type": "display_data"
    },
    {
     "data": {
      "application/vnd.jupyter.widget-view+json": {
       "model_id": "49c4a7ba073c44718c458e9640ec4a69",
       "version_major": 2,
       "version_minor": 0
      },
      "text/plain": [
       "  0%|          | 0/100 [00:00<?, ?it/s]"
      ]
     },
     "metadata": {},
     "output_type": "display_data"
    },
    {
     "data": {
      "application/vnd.jupyter.widget-view+json": {
       "model_id": "644b87f3f79f44fea019790754c91b75",
       "version_major": 2,
       "version_minor": 0
      },
      "text/plain": [
       "  0%|          | 0/100 [00:00<?, ?it/s]"
      ]
     },
     "metadata": {},
     "output_type": "display_data"
    },
    {
     "data": {
      "application/vnd.jupyter.widget-view+json": {
       "model_id": "5d68d3304f7444ab8ba15eb412881134",
       "version_major": 2,
       "version_minor": 0
      },
      "text/plain": [
       "  0%|          | 0/100 [00:00<?, ?it/s]"
      ]
     },
     "metadata": {},
     "output_type": "display_data"
    },
    {
     "data": {
      "application/vnd.jupyter.widget-view+json": {
       "model_id": "c1d28d152c7043a884b05dbd7816d936",
       "version_major": 2,
       "version_minor": 0
      },
      "text/plain": [
       "  0%|          | 0/100 [00:00<?, ?it/s]"
      ]
     },
     "metadata": {},
     "output_type": "display_data"
    }
   ],
   "source": [
    "# PART 1\n",
    "parameter_list = np.array(np.meshgrid(shapelet_samples_list, shapelet_size_list)).T.reshape(-1,2)\n",
    "\n",
    "for i in range(18):\n",
    "    shapelets = generate_shapelets(4, 500)\n",
    "    \n",
    "    filename = '../results/shapelets/' + 'num=' + str(i) + 'size=' + str(500)\n",
    "    \n",
    "    with open(filename, 'wb') as f:\n",
    "        pickle.dump(shapelets, f)"
   ]
  },
  {
   "cell_type": "code",
   "execution_count": 24,
   "id": "115ffbb9",
   "metadata": {},
   "outputs": [
    {
     "name": "stdout",
     "output_type": "stream",
     "text": [
      "[[     0    500 400000]\n",
      " [     1    500 400000]\n",
      " [     2    500 400000]\n",
      " [     3    500 400000]\n",
      " [     4    500 400000]\n",
      " [     5    500 400000]\n",
      " [     6    500 400000]\n",
      " [     7    500 400000]\n",
      " [     8    500 400000]\n",
      " [     9    500 400000]\n",
      " [    10    500 400000]\n",
      " [    11    500 400000]\n",
      " [    12    500 400000]\n",
      " [    13    500 400000]\n",
      " [    14    500 400000]\n",
      " [    15    500 400000]\n",
      " [    16    500 400000]\n",
      " [    17    500 400000]]\n"
     ]
    },
    {
     "name": "stderr",
     "output_type": "stream",
     "text": [
      "\r",
      "  0%|          | 0/337271 [00:00<?, ?it/s]\r",
      "  0%|          | 0/337604 [00:00<?, ?it/s]\r",
      "  0%|          | 0/337426 [00:00<?, ?it/s]"
     ]
    },
    {
     "name": "stdout",
     "output_type": "stream",
     "text": [
      "Processing Traces...\n",
      "Processing Traces...\n",
      "Processing Traces...\n"
     ]
    },
    {
     "name": "stderr",
     "output_type": "stream",
     "text": [
      "  0%|          | 0/337625 [00:00<?, ?it/s], 12.75it/s]"
     ]
    },
    {
     "name": "stdout",
     "output_type": "stream",
     "text": [
      "Processing Traces...\n",
      "Processing Traces...\n",
      "Processing Traces...\n"
     ]
    },
    {
     "name": "stderr",
     "output_type": "stream",
     "text": [
      "100%|██████████| 337404/337404 [6:31:21<00:00, 14.37it/s]  \n",
      " 99%|█████████▊| 332762/337604 [6:32:39<05:30, 14.65it/s]"
     ]
    },
    {
     "name": "stdout",
     "output_type": "stream",
     "text": [
      "Processing Traces...\n"
     ]
    },
    {
     "name": "stderr",
     "output_type": "stream",
     "text": [
      "100%|██████████| 337569/337569 [6:32:36<00:00, 14.33it/s]\n",
      " 99%|█████████▉| 333348/337271 [6:33:54<04:48, 13.59it/s]"
     ]
    },
    {
     "name": "stdout",
     "output_type": "stream",
     "text": [
      "Processing Traces...\n"
     ]
    },
    {
     "name": "stderr",
     "output_type": "stream",
     "text": [
      "100%|██████████| 337625/337625 [6:34:40<00:00, 14.26it/s]\n",
      "  1%|          | 2753/337789 [03:21<6:38:16, 14.02it/s]s]"
     ]
    },
    {
     "name": "stdout",
     "output_type": "stream",
     "text": [
      "Processing Traces...\n"
     ]
    },
    {
     "name": "stderr",
     "output_type": "stream",
     "text": [
      "100%|██████████| 337426/337426 [6:37:04<00:00, 14.16it/s]\n",
      "  0%|          | 1662/337656 [02:07<6:23:59, 14.58it/s]s]"
     ]
    },
    {
     "name": "stdout",
     "output_type": "stream",
     "text": [
      "Processing Traces...\n"
     ]
    },
    {
     "name": "stderr",
     "output_type": "stream",
     "text": [
      "100%|██████████| 337604/337604 [6:38:50<00:00, 14.11it/s]\n",
      "100%|██████████| 337271/337271 [6:38:53<00:00, 14.09it/s]\n",
      "  1%|▏         | 4962/337797 [06:07<6:57:02, 13.30it/s]"
     ]
    },
    {
     "name": "stdout",
     "output_type": "stream",
     "text": [
      "Processing Traces...\n"
     ]
    },
    {
     "name": "stderr",
     "output_type": "stream",
     "text": [
      "\r",
      "  0%|          | 0/337395 [00:00<?, ?it/s]\r",
      "  0%|          | 1492/337209 [01:53<6:41:49, 13.92it/s]\r",
      "  2%|▏         | 5953/337789 [07:22<6:29:52, 14.19it/s]\r",
      "  1%|          | 3177/337656 [04:01<7:08:34, 13.01it/s]\r",
      "  1%|▏         | 4964/337797 [06:07<6:56:33, 13.32it/s]\r",
      "  0%|          | 2/337395 [00:00<8:26:15, 11.11it/s]\r",
      "  2%|▏         | 5955/337789 [07:22<6:27:42, 14.26it/s]"
     ]
    },
    {
     "name": "stdout",
     "output_type": "stream",
     "text": [
      "Processing Traces...\n"
     ]
    },
    {
     "name": "stderr",
     "output_type": "stream",
     "text": [
      "100%|██████████| 337789/337789 [6:35:12<00:00, 14.25it/s]  \n",
      " 99%|█████████▉| 334649/337656 [6:32:26<03:15, 15.35it/s]"
     ]
    },
    {
     "name": "stdout",
     "output_type": "stream",
     "text": [
      "Processing Traces...\n"
     ]
    },
    {
     "name": "stderr",
     "output_type": "stream",
     "text": [
      "100%|██████████| 337797/337797 [6:35:11<00:00, 14.25it/s]\n",
      "  0%|          | 1030/337448 [01:11<6:09:04, 15.19it/s]s]"
     ]
    },
    {
     "name": "stdout",
     "output_type": "stream",
     "text": [
      "Processing Traces...\n"
     ]
    },
    {
     "name": "stderr",
     "output_type": "stream",
     "text": [
      "100%|██████████| 337656/337656 [6:35:52<00:00, 14.22it/s]\n",
      "  0%|          | 0/337479 [00:00<?, ?it/s]1, 17.15it/s]s]"
     ]
    },
    {
     "name": "stdout",
     "output_type": "stream",
     "text": [
      "Processing Traces...\n"
     ]
    },
    {
     "name": "stderr",
     "output_type": "stream",
     "text": [
      "100%|██████████| 337209/337209 [6:35:52<00:00, 14.20it/s]\n",
      "  0%|          | 2/337625 [00:00<5:37:59, 16.65it/s]it/s]"
     ]
    },
    {
     "name": "stdout",
     "output_type": "stream",
     "text": [
      "Processing Traces...\n"
     ]
    },
    {
     "name": "stderr",
     "output_type": "stream",
     "text": [
      "100%|██████████| 337395/337395 [6:37:58<00:00, 14.13it/s]\n",
      "100%|██████████| 337753/337753 [6:38:50<00:00, 14.11it/s]\n",
      "  2%|▏         | 5860/337479 [06:46<6:54:40, 13.33it/s]"
     ]
    },
    {
     "name": "stdout",
     "output_type": "stream",
     "text": [
      "Processing Traces...\n"
     ]
    },
    {
     "name": "stderr",
     "output_type": "stream",
     "text": [
      "  2%|▏         | 6487/337479 [07:31<7:45:10, 11.86it/s]"
     ]
    },
    {
     "name": "stdout",
     "output_type": "stream",
     "text": [
      "Processing Traces...\n"
     ]
    },
    {
     "name": "stderr",
     "output_type": "stream",
     "text": [
      "100%|██████████| 337448/337448 [6:27:31<00:00, 14.51it/s]  \n",
      "100%|██████████| 337695/337695 [6:27:51<00:00, 14.51it/s]\n",
      "100%|██████████| 337479/337479 [6:28:30<00:00, 14.48it/s]\n",
      "100%|██████████| 337625/337625 [6:27:54<00:00, 14.51it/s]\n",
      "100%|██████████| 337472/337472 [6:28:38<00:00, 14.47it/s]\n",
      "100%|██████████| 337606/337606 [6:29:18<00:00, 14.45it/s]\n"
     ]
    }
   ],
   "source": [
    "# PART 2\n",
    "if __name__ == '__main__':\n",
    "    \n",
    "    global traces\n",
    "\n",
    "    with open('../nonzero_traces.npy', 'rb') as f:\n",
    "        traces = pickle.load(f)\n",
    "    \n",
    "    shapelet_samples_list = range(0, 18)\n",
    "    shapelet_size_list = [500]\n",
    "    clf_samples_list = [400000]\n",
    "\n",
    "    from utils import evaluate_parameters\n",
    "    \n",
    "    parameter_list = np.array(np.meshgrid(shapelet_samples_list, shapelet_size_list, clf_samples_list)).T.reshape(-1,3)\n",
    "    \n",
    "    print(parameter_list)\n",
    "    \n",
    "    with Pool(6) as p:\n",
    "        p.map(evaluate_parameters, parameter_list)"
   ]
  },
  {
   "cell_type": "code",
   "execution_count": 25,
   "id": "866a6d7c",
   "metadata": {},
   "outputs": [
    {
     "name": "stdout",
     "output_type": "stream",
     "text": [
      "[[     0    500 400000]\n",
      " [     1    500 400000]\n",
      " [     2    500 400000]\n",
      " [     3    500 400000]\n",
      " [     4    500 400000]\n",
      " [     5    500 400000]\n",
      " [     6    500 400000]\n",
      " [     7    500 400000]\n",
      " [     8    500 400000]\n",
      " [     9    500 400000]\n",
      " [    10    500 400000]\n",
      " [    11    500 400000]\n",
      " [    12    500 400000]\n",
      " [    13    500 400000]\n",
      " [    14    500 400000]\n",
      " [    15    500 400000]\n",
      " [    16    500 400000]\n",
      " [    17    500 400000]]\n",
      "[0.8069073783359497, 0.8779953200438375, 0.9073190959983413]\n",
      "[0.7975283762558161, 0.8741072222386865, 0.9035948196663012]\n",
      "[0.8094899380575561, 0.8818647935745828, 0.909486974304259]\n",
      "[0.8069141215155375, 0.880084130698818, 0.9102704624226087]\n",
      "[0.7933240529573794, 0.8681989159731066, 0.89992003080295]\n",
      "[0.7953332542694497, 0.8693666982922201, 0.8993121442125237]\n",
      "[0.8040794576512034, 0.8770241866248261, 0.9048225228692383]\n",
      "[0.7896980461811723, 0.8627590290112492, 0.8915334517465956]\n",
      "[0.8024640170585796, 0.8767695314813718, 0.9062666587691761]\n",
      "[0.7989680021351679, 0.8727499184484446, 0.9004181370659233]\n",
      "[0.7809687351965893, 0.8531501657981999, 0.8847406442444339]\n",
      "[0.7948132780082987, 0.8691464137522229, 0.8977178423236515]\n",
      "[0.8031115720847533, 0.879004296932879, 0.9077492961920285]\n",
      "[0.8019247853124075, 0.8752442996742671, 0.9046490968315073]\n",
      "[0.8076330449211805, 0.8820670854569159, 0.9104835842123977]\n",
      "[0.8134940615466635, 0.8836300091816486, 0.9125373930041761]\n",
      "[0.8093516652838687, 0.879252103828375, 0.9090909090909091]\n",
      "[0.8017238825864162, 0.8773733005538935, 0.9073487159740529]\n"
     ]
    }
   ],
   "source": [
    "## PART 3\n",
    "\n",
    "parameter_list = np.array(np.meshgrid(shapelet_samples_list, shapelet_size_list, clf_samples_list)).T.reshape(-1,3)\n",
    "\n",
    "print(parameter_list)\n",
    "\n",
    "for parameters in parameter_list:\n",
    "    \n",
    "    filename = '../results/data/X/' + 'num=' + str(parameters[0]) + 'size=' + str(parameters[1]) + 'samples=' + str(parameters[2])\n",
    "    \n",
    "    with open(filename, 'rb') as f:\n",
    "        X = pickle.load(f)\n",
    "        \n",
    "    filename = '../results/data/y/' + 'num=' + str(parameters[0]) + 'size=' + str(parameters[1]) + 'samples=' + str(parameters[2])\n",
    "    \n",
    "    with open(filename, 'rb') as f:\n",
    "        y = pickle.load(f)\n",
    "    \n",
    "    clf = RandomForestClassifier()\n",
    "    scores = classifier_performance(clf, X, y)\n",
    "    \n",
    "    print(scores)\n",
    "    \n",
    "    outfile_name = \"../results/scores/\" + 'num=' + str(parameters[0]) + 'size=' + str(parameters[1]) + 'samples=' + str(parameters[2])\n",
    "    \n",
    "    with open(outfile_name, 'wb') as f:\n",
    "        pickle.dump(scores, f)"
   ]
  },
  {
   "cell_type": "code",
   "execution_count": null,
   "id": "5437fecb",
   "metadata": {},
   "outputs": [],
   "source": []
  }
 ],
 "metadata": {
  "kernelspec": {
   "display_name": "Python 3 (ipykernel)",
   "language": "python",
   "name": "python3"
  },
  "language_info": {
   "codemirror_mode": {
    "name": "ipython",
    "version": 3
   },
   "file_extension": ".py",
   "mimetype": "text/x-python",
   "name": "python",
   "nbconvert_exporter": "python",
   "pygments_lexer": "ipython3",
   "version": "3.9.13"
  }
 },
 "nbformat": 4,
 "nbformat_minor": 5
}
