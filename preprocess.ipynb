{
 "cells": [
  {
   "cell_type": "code",
   "execution_count": 1,
   "id": "046cafc4",
   "metadata": {},
   "outputs": [],
   "source": [
    "import numpy as np\n",
    "import pickle\n",
    "import math\n",
    "from tqdm.auto import tqdm"
   ]
  },
  {
   "cell_type": "code",
   "execution_count": 2,
   "id": "e9d3fda1",
   "metadata": {},
   "outputs": [],
   "source": [
    "# from cuda import cuda\n",
    "# try:\n",
    "#    mp.set_start_method('spawn', force=True)\n",
    "# except RuntimeError:\n",
    "#    pass"
   ]
  },
  {
   "cell_type": "code",
   "execution_count": 3,
   "id": "ed1f7535",
   "metadata": {},
   "outputs": [],
   "source": [
    "#steam_df = pd.read_csv(\"https://zenodo.org/record/4273921/files/STUMPY_Basics_steamgen.csv?download=1\")\n",
    "\n",
    "raw_data = np.load(\"../NoDef.npz\")\n",
    "raw_labels = raw_data['labels']\n",
    "raw_traces = raw_data['traces']"
   ]
  },
  {
   "cell_type": "code",
   "execution_count": 4,
   "id": "85f92591",
   "metadata": {},
   "outputs": [],
   "source": [
    "trace_ids = list(set(raw_labels))"
   ]
  },
  {
   "cell_type": "code",
   "execution_count": 5,
   "id": "25693ecb",
   "metadata": {},
   "outputs": [],
   "source": [
    "'''\n",
    "Convert a raw packet trace into a processed version\n",
    "trace: 1-D numpy array containing a packet trace\n",
    "mode:\n",
    "    'f': flatten the trace using packet arrival time\n",
    "    'p': only include positive\n",
    "    'n': only include negative\n",
    "    'z': only remove zeroes\n",
    "granularity: in 'f' mode, the smallest distance between packet arrival times to be considered\n",
    "remove_zeroes: remove any zero values from the packet trace before processing (excluding z mode)\n",
    "maxlen: reshape input list to be this length after processing by padding with 0\n",
    "'''\n",
    "def process(trace, mode='f', granularity=0.01, remove_zeroes=True, maxlen=10000):\n",
    "    if remove_zeroes:\n",
    "        trace = trace[trace != 0]\n",
    "    \n",
    "    if mode == 'f':\n",
    "        processed_trace = []\n",
    "        for i,x in enumerate(trace):\n",
    "            distance = abs(x) - abs(trace[i-1])\n",
    "            num_zeroes = math.ceil(distance/granularity)\n",
    "            processed_trace += [0] * num_zeroes\n",
    "            processed_trace.append(np.sign(x))\n",
    "        return processed_trace + [0.0] * (maxlen - len(processed_trace))\n",
    "    elif mode == 'p':\n",
    "        return trace[trace >= 0]\n",
    "    elif mode == 'n':\n",
    "        return trace[trace <= 0]\n",
    "    elif mode == 'z':\n",
    "        return trace[trace != 0]\n",
    "    elif mode == 'ipt':\n",
    "        processed_trace = [0] * len(trace)\n",
    "        signs = np.sign(trace)\n",
    "        for i, x in enumerate(trace):\n",
    "            distance = abs(x) - abs(trace[i-1])\n",
    "            value = (signs[i] * distance) * 10\n",
    "            processed_trace[i] = round(value, 4)\n",
    "        return processed_trace\n",
    "    else:\n",
    "        raise TypeError(\"mode must be one of: f,p,n,z\")"
   ]
  },
  {
   "cell_type": "code",
   "execution_count": 6,
   "id": "b01f4065",
   "metadata": {},
   "outputs": [],
   "source": [
    "traces = {id: [None] * 4500 for id in trace_ids}\n",
    "indices = {id: 0 for id in trace_ids}"
   ]
  },
  {
   "cell_type": "code",
   "execution_count": 7,
   "id": "18d4e370",
   "metadata": {},
   "outputs": [],
   "source": [
    "#print(raw_traces[345][0:20])\n",
    "#print(len(raw_traces[345]))\n",
    "#test = process(raw_traces[345], mode='f', granularity=0.01, remove_zeroes=True)\n",
    "#print(len(test))\n",
    "#print(test[9950:])"
   ]
  },
  {
   "cell_type": "code",
   "execution_count": null,
   "id": "10861732",
   "metadata": {},
   "outputs": [
    {
     "data": {
      "application/vnd.jupyter.widget-view+json": {
       "model_id": "2d4493ca5b0f410ca2258ffb3583157b",
       "version_major": 2,
       "version_minor": 0
      },
      "text/plain": [
       "  0%|          | 0/450000 [00:00<?, ?it/s]"
      ]
     },
     "metadata": {},
     "output_type": "display_data"
    }
   ],
   "source": [
    "# dictionary of all the traces as 2D numpy arrays\n",
    "# keeping track of index for each one and setting value is necessary\n",
    "# simple append is way too slow (>30 mins runtime)\n",
    "\n",
    "for i in tqdm(range(len(raw_traces))):\n",
    "    processed_trace = process(raw_traces[i], mode='ipt', remove_zeroes=True)\n",
    "    \n",
    "    traces[raw_labels[i]][indices[raw_labels[i]]] = processed_trace\n",
    "    indices[raw_labels[i]] += 1"
   ]
  },
  {
   "cell_type": "code",
   "execution_count": null,
   "id": "806865b4",
   "metadata": {},
   "outputs": [],
   "source": [
    "print(len(traces))\n",
    "print(len(traces[0]))\n",
    "# print(len(traces[45]))\n",
    "print(len(traces[38][8]))\n",
    "# print(len(traces[45][50]))"
   ]
  },
  {
   "cell_type": "code",
   "execution_count": null,
   "id": "a2b8369a",
   "metadata": {},
   "outputs": [],
   "source": [
    "with open('../ipt_traces.npy', 'wb') as f:\n",
    "    pickle.dump(traces, f)"
   ]
  },
  {
   "cell_type": "code",
   "execution_count": null,
   "id": "17cc5308",
   "metadata": {},
   "outputs": [],
   "source": []
  },
  {
   "cell_type": "code",
   "execution_count": null,
   "id": "13b6e421",
   "metadata": {},
   "outputs": [],
   "source": []
  }
 ],
 "metadata": {
  "kernelspec": {
   "display_name": "Python 3 (ipykernel)",
   "language": "python",
   "name": "python3"
  },
  "language_info": {
   "codemirror_mode": {
    "name": "ipython",
    "version": 3
   },
   "file_extension": ".py",
   "mimetype": "text/x-python",
   "name": "python",
   "nbconvert_exporter": "python",
   "pygments_lexer": "ipython3",
   "version": "3.9.13"
  }
 },
 "nbformat": 4,
 "nbformat_minor": 5
}
