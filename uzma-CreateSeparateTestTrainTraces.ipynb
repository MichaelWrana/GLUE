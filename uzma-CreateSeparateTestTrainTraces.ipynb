{
 "cells": [
  {
   "cell_type": "code",
   "execution_count": 1,
   "id": "24752e42",
   "metadata": {},
   "outputs": [],
   "source": [
    "import pandas as pd\n",
    "import stumpy\n",
    "import numpy as np\n",
    "import datetime as dt\n",
    "import random\n",
    "import math\n",
    "import pickle\n",
    "import sys\n",
    "\n",
    "from statistics import mean\n",
    "from tqdm.auto import tqdm\n",
    "from multiprocessing import Pool\n",
    "\n",
    "import sklearn.metrics as metrics\n",
    "from sklearn.metrics import confusion_matrix\n",
    "from sklearn.model_selection import train_test_split\n",
    "from sklearn.ensemble import RandomForestClassifier"
   ]
  },
  {
   "cell_type": "code",
   "execution_count": 2,
   "id": "72d8690c",
   "metadata": {},
   "outputs": [],
   "source": [
    "# SETUP\n",
    "\n",
    "global traces\n",
    "\n",
    "with open('../ipt_traces.npy', 'rb') as f:\n",
    "    traces = pickle.load(f)\n",
    "    "
   ]
  },
  {
   "cell_type": "code",
   "execution_count": 5,
   "id": "2180861a",
   "metadata": {},
   "outputs": [
    {
     "name": "stdout",
     "output_type": "stream",
     "text": [
      "100\n",
      "100\n"
     ]
    }
   ],
   "source": [
    "\n",
    "train_ratio = 0.9\n",
    "\n",
    "\n",
    "train_traces = traces.copy()\n",
    "test_traces = traces.copy()\n",
    "\n",
    "for idx, traces_list in train_traces.items():\n",
    "    iFirstTestIndex = int(len(traces_list) * train_ratio)\n",
    "    \n",
    "    train_traces.update({idx: traces_list[:iFirstTestIndex]})\n",
    "    test_traces.update({idx: traces_list[iFirstTestIndex:]})\n",
    "    \n",
    "    \n",
    "print(len(train_traces))\n",
    "print(len(test_traces))"
   ]
  },
  {
   "cell_type": "code",
   "execution_count": 7,
   "id": "3be32d0d",
   "metadata": {},
   "outputs": [],
   "source": [
    "filename = '../ipt_traces_train_'+str(train_ratio)+ '.npy' \n",
    "with open(filename, 'wb') as f:\n",
    "    pickle.dump(train_traces, f)"
   ]
  },
  {
   "cell_type": "code",
   "execution_count": 8,
   "id": "b8a72b20",
   "metadata": {},
   "outputs": [],
   "source": [
    "filename = '../ipt_traces_test_'+str(train_ratio)+ '.npy' \n",
    "with open(filename, 'wb') as f:\n",
    "    pickle.dump(test_traces, f)"
   ]
  },
  {
   "cell_type": "code",
   "execution_count": 11,
   "id": "7bc18510",
   "metadata": {},
   "outputs": [],
   "source": [
    "filename = '../ipt_traces_test_'+str(train_ratio)+ '.npy' \n",
    "\n",
    "with open(filename, 'rb') as f:\n",
    "    trytrain = pickle.load(f)"
   ]
  },
  {
   "cell_type": "code",
   "execution_count": null,
   "id": "c0c5a979",
   "metadata": {},
   "outputs": [],
   "source": []
  }
 ],
 "metadata": {
  "kernelspec": {
   "display_name": "Python 3 (ipykernel)",
   "language": "python",
   "name": "python3"
  },
  "language_info": {
   "codemirror_mode": {
    "name": "ipython",
    "version": 3
   },
   "file_extension": ".py",
   "mimetype": "text/x-python",
   "name": "python",
   "nbconvert_exporter": "python",
   "pygments_lexer": "ipython3",
   "version": "3.11.5"
  }
 },
 "nbformat": 4,
 "nbformat_minor": 5
}
