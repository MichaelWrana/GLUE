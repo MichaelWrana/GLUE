{
 "cells": [
  {
   "cell_type": "code",
   "execution_count": 1,
   "id": "6c6f2c98",
   "metadata": {},
   "outputs": [],
   "source": [
    "import stumpy\n",
    "import pickle\n",
    "import numpy as np\n",
    "import sklearn.metrics as metrics\n",
    "\n",
    "from pipelinetools import *\n",
    "from multiprocessing import Pool\n",
    "from sklearn.ensemble import RandomForestClassifier"
   ]
  },
  {
   "cell_type": "code",
   "execution_count": 2,
   "id": "15219925",
   "metadata": {},
   "outputs": [],
   "source": [
    "# LOAD AND TRAIN THE MODEL"
   ]
  },
  {
   "cell_type": "code",
   "execution_count": 3,
   "id": "b6351855",
   "metadata": {},
   "outputs": [],
   "source": [
    "traces_train = load_traces('transformer_train')\n",
    "traces_test = load_traces('transformer_test')\n",
    "traces_kfp = load_traces('transformer_kfp')\n",
    "\n",
    "del traces_train[-1]\n",
    "del traces_test[-1]\n",
    "del traces_kfp[-1]\n",
    "\n",
    "filenames_train = make_name_list({\n",
    "    'data':['train'],\n",
    "    'centroid_id':list(range(2)),\n",
    "    'type':['neg']\n",
    "})\n",
    "filenames_test = make_name_list({\n",
    "    'data':['test'],\n",
    "    'centroid_id':list(range(2)),\n",
    "    'type':['neg']\n",
    "})"
   ]
  },
  {
   "cell_type": "code",
   "execution_count": 4,
   "id": "750ddfd7",
   "metadata": {},
   "outputs": [
    {
     "name": "stderr",
     "output_type": "stream",
     "text": [
      "100%|███████████████████████████████████████████| 50/50 [00:04<00:00, 10.38it/s]\n",
      "100%|███████████████████████████████████████████| 50/50 [00:01<00:00, 42.21it/s]\n"
     ]
    }
   ],
   "source": [
    "traces_train = process_traces(traces_train, \"n\")\n",
    "traces_test = process_traces(traces_test, \"n\")"
   ]
  },
  {
   "cell_type": "code",
   "execution_count": 5,
   "id": "27c93f4e",
   "metadata": {},
   "outputs": [
    {
     "name": "stderr",
     "output_type": "stream",
     "text": [
      "100%|███████████████████████████████████████████| 50/50 [00:00<00:00, 67.97it/s]"
     ]
    },
    {
     "name": "stdout",
     "output_type": "stream",
     "text": [
      "Saving shapelets as ../results/shapelets/data=traincentroid_id=0type=neg\n",
      "Saving shapelets as ../results/shapelets/data=traincentroid_id=1type=neg\n"
     ]
    },
    {
     "name": "stderr",
     "output_type": "stream",
     "text": [
      "\n"
     ]
    }
   ],
   "source": [
    "shapelets = generate_cluster_shapelets(traces_train, traces_kfp, 2)\n",
    "save_shapelets(shapelets, filenames_train)"
   ]
  },
  {
   "cell_type": "code",
   "execution_count": 6,
   "id": "2b9bf38e",
   "metadata": {},
   "outputs": [
    {
     "name": "stdout",
     "output_type": "stream",
     "text": [
      "4\n"
     ]
    },
    {
     "name": "stderr",
     "output_type": "stream",
     "text": [
      "100%|██████████| 1000/1000 [01:37<00:00, 10.24it/s]\n",
      "100%|██████████| 1000/1000 [01:39<00:00, 10.09it/s]\n",
      "100%|██████████| 4000/4000 [06:20<00:00, 10.51it/s]\n",
      "100%|██████████| 4000/4000 [06:25<00:00, 10.38it/s]\n"
     ]
    },
    {
     "name": "stdout",
     "output_type": "stream",
     "text": [
      "Saving X as ../results/data/X/data=testcentroid_id=1type=neg\n",
      "Saving y as ../results/data/y/data=testcentroid_id=1type=neg\n",
      "Saving X as ../results/data/X/data=testcentroid_id=0type=neg\n",
      "Saving y as ../results/data/y/data=testcentroid_id=0type=neg\n",
      "Saving X as ../results/data/X/data=traincentroid_id=1type=neg\n",
      "Saving y as ../results/data/y/data=traincentroid_id=1type=neg\n"
     ]
    }
   ],
   "source": [
    "parameter_list = [] \n",
    "X_train, y_train = traces_to_xy(traces_train)\n",
    "X_test, y_test = traces_to_xy(traces_test)\n",
    "\n",
    "for i in range(len(filenames_train)):\n",
    "    parameter_set = [\n",
    "        filenames_train[i],\n",
    "        X_train,\n",
    "        y_train,\n",
    "        shapelets[i],\n",
    "        \"stumpy_mean\"\n",
    "    ]\n",
    "    parameter_list.append(parameter_set)\n",
    "    \n",
    "for i in range(len(filenames_test)):\n",
    "    parameter_set = [\n",
    "        filenames_test[i],\n",
    "        X_test,\n",
    "        y_test,\n",
    "        shapelets[i],\n",
    "        \"stumpy_mean\"\n",
    "    ]\n",
    "    parameter_list.append(parameter_set)\n",
    "    \n",
    "print(len(parameter_list))\n",
    "\n",
    "with Pool(4) as p:\n",
    "    p.map(compute_shapelet_distances_mp, parameter_list)"
   ]
  },
  {
   "cell_type": "code",
   "execution_count": 11,
   "id": "ad0c7219",
   "metadata": {},
   "outputs": [],
   "source": [
    "filenames_train_pos = make_name_list({\n",
    "    'data':['train'],\n",
    "    'centroid_id':list(range(2)),\n",
    "    'type':['pos']\n",
    "})\n",
    "filenames_test_pos = make_name_list({\n",
    "    'data':['test'],\n",
    "    'centroid_id':list(range(2)),\n",
    "    'type':['pos']\n",
    "})\n",
    "\n",
    "filenames_train_neg = make_name_list({\n",
    "    'data':['train'],\n",
    "    'centroid_id':list(range(2)),\n",
    "    'type':['neg']\n",
    "})\n",
    "filenames_test_neg = make_name_list({\n",
    "    'data':['test'],\n",
    "    'centroid_id':list(range(2)),\n",
    "    'type':['neg']\n",
    "})"
   ]
  },
  {
   "cell_type": "code",
   "execution_count": 12,
   "id": "cafa45ec",
   "metadata": {
    "scrolled": true
   },
   "outputs": [
    {
     "name": "stdout",
     "output_type": "stream",
     "text": [
      "Loading X from ../results/data/X/data=traincentroid_id=0type=pos\n",
      "Loading X from ../results/data/X/data=traincentroid_id=1type=pos\n",
      "Loading y from ../results/data/y/data=traincentroid_id=0type=pos\n",
      "Loading X from ../results/data/X/data=testcentroid_id=0type=pos\n",
      "Loading X from ../results/data/X/data=testcentroid_id=1type=pos\n",
      "Loading y from ../results/data/y/data=testcentroid_id=0type=pos\n",
      "Loading X from ../results/data/X/data=traincentroid_id=0type=neg\n",
      "Loading X from ../results/data/X/data=traincentroid_id=1type=neg\n",
      "Loading y from ../results/data/y/data=traincentroid_id=0type=neg\n",
      "Loading X from ../results/data/X/data=testcentroid_id=0type=neg\n",
      "Loading X from ../results/data/X/data=testcentroid_id=1type=neg\n",
      "Loading y from ../results/data/y/data=testcentroid_id=0type=neg\n"
     ]
    }
   ],
   "source": [
    "X_train_pos, y_train_pos = load_xy(filenames_train_pos, True)\n",
    "X_test_pos, y_test_pos = load_xy(filenames_test_pos, True)\n",
    "\n",
    "X_train_neg, y_train_neg = load_xy(filenames_train_neg, True)\n",
    "X_test_neg, y_test_neg = load_xy(filenames_test_neg, True)\n",
    "\n",
    "X_train = np.concatenate((X_train_pos, X_train_neg), axis=1)\n",
    "X_test = np.concatenate((X_test_pos, X_test_neg), axis=1)"
   ]
  },
  {
   "cell_type": "code",
   "execution_count": 13,
   "id": "b9f4e3dd",
   "metadata": {},
   "outputs": [
    {
     "name": "stdout",
     "output_type": "stream",
     "text": [
      "(4000, 200)\n"
     ]
    }
   ],
   "source": [
    "print(X_train.shape)"
   ]
  },
  {
   "cell_type": "code",
   "execution_count": 14,
   "id": "ee506384",
   "metadata": {},
   "outputs": [],
   "source": [
    "clf = RandomForestClassifier()\n",
    "\n",
    "clf.fit(X_train, y_train)\n",
    "y_pred = clf.predict(X_test)\n",
    "\n",
    "scores = metrics.accuracy_score(y_test, y_pred)"
   ]
  },
  {
   "cell_type": "code",
   "execution_count": 15,
   "id": "bb50357a",
   "metadata": {},
   "outputs": [
    {
     "name": "stdout",
     "output_type": "stream",
     "text": [
      "0.962\n"
     ]
    }
   ],
   "source": [
    "print(scores)"
   ]
  },
  {
   "cell_type": "code",
   "execution_count": 8,
   "id": "0117508b",
   "metadata": {},
   "outputs": [],
   "source": [
    "# (1) LOAD ORIGINALS OF BIGENOUGH DATASET AND CONVERT TO OUR FORMAT(ONLY RUN ONCE)"
   ]
  },
  {
   "cell_type": "code",
   "execution_count": 33,
   "id": "f445486c",
   "metadata": {},
   "outputs": [],
   "source": [
    "traces_train = load_traces('transformer/train')\n",
    "traces_test = load_traces('transformer/test')"
   ]
  },
  {
   "cell_type": "code",
   "execution_count": 34,
   "id": "f21e659f",
   "metadata": {},
   "outputs": [],
   "source": [
    "def reformat_transformer(traces):\n",
    "    trace_ids = list(set(traces['label']))\n",
    "    new_traces = {id: [] for id in trace_ids}\n",
    "    \n",
    "    for i in tqdm(range(len(traces['data']))):\n",
    "        time = traces['time'][i]\n",
    "        direction = traces['data'][i]\n",
    "        label = traces['label'][i]\n",
    "        \n",
    "        new_trace = np.multiply(time, direction).astype('float64')\n",
    "        new_traces[label].append(new_trace)\n",
    "        \n",
    "    return new_traces"
   ]
  },
  {
   "cell_type": "code",
   "execution_count": 35,
   "id": "56595feb",
   "metadata": {
    "scrolled": true
   },
   "outputs": [
    {
     "name": "stderr",
     "output_type": "stream",
     "text": [
      "100%|████████████████████████████████████| 8000/8000 [00:00<00:00, 65819.72it/s]\n",
      "100%|███████████████████████████████████| 2000/2000 [00:00<00:00, 116865.53it/s]\n",
      "100%|███████████████████████████████████████████| 51/51 [05:42<00:00,  6.72s/it]\n"
     ]
    }
   ],
   "source": [
    "traces_train = reformat_transformer(traces_train)\n",
    "traces_test = reformat_transformer(traces_test)\n",
    "traces_kfp = process_traces(traces_train, 'kfp')"
   ]
  },
  {
   "cell_type": "code",
   "execution_count": 38,
   "id": "afb703a0",
   "metadata": {},
   "outputs": [],
   "source": [
    "with open(\"../datasets/transformer_train\", 'wb') as f:\n",
    "    pickle.dump(traces_train, f)\n",
    "\n",
    "with open(\"../datasets/transformer_test\", 'wb') as f:\n",
    "    pickle.dump(traces_test, f)\n",
    "    \n",
    "with open(\"../datasets/transformer_kfp\", 'wb') as f:\n",
    "    pickle.dump(traces_kfp, f)"
   ]
  }
 ],
 "metadata": {
  "kernelspec": {
   "display_name": "Python 3 (ipykernel)",
   "language": "python",
   "name": "python3"
  },
  "language_info": {
   "codemirror_mode": {
    "name": "ipython",
    "version": 3
   },
   "file_extension": ".py",
   "mimetype": "text/x-python",
   "name": "python",
   "nbconvert_exporter": "python",
   "pygments_lexer": "ipython3",
   "version": "3.9.13"
  }
 },
 "nbformat": 4,
 "nbformat_minor": 5
}
