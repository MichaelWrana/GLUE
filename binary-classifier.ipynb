{
 "cells": [
  {
   "cell_type": "code",
   "execution_count": 1,
   "id": "6c6f2c98",
   "metadata": {},
   "outputs": [],
   "source": [
    "import stumpy\n",
    "import pickle\n",
    "import numpy as np\n",
    "import time\n",
    "import sklearn.metrics as metrics\n",
    "\n",
    "from pipelinetools import *\n",
    "from multiprocessing import Pool\n",
    "from sklearn.ensemble import RandomForestClassifier\n",
    "from sklearn.model_selection import train_test_split\n",
    "import matplotlib.pyplot as plt"
   ]
  },
  {
   "cell_type": "code",
   "execution_count": 2,
   "id": "92f722fd",
   "metadata": {},
   "outputs": [
    {
     "name": "stderr",
     "output_type": "stream",
     "text": [
      "100%|███████████████████████████████████████████| 51/51 [00:06<00:00,  8.32it/s]\n",
      "100%|███████████████████████████████████████████| 51/51 [00:11<00:00,  4.56it/s]\n"
     ]
    }
   ],
   "source": [
    "traces_train = load_traces('transformer_train')\n",
    "traces_test = load_traces('transformer_test')\n",
    "traces_kfp = load_traces('transformer_kfp')\n",
    "train_pos = process_traces(traces_train, \"p\")\n",
    "train_neg = process_traces(traces_train, \"n\")"
   ]
  },
  {
   "cell_type": "code",
   "execution_count": 97,
   "id": "c7046e24",
   "metadata": {},
   "outputs": [],
   "source": [
    "def make_merged_trace_randsplit(traces_pos, traces_neg, chosen_class, num_random, num_traces):\n",
    "    X_pos = []\n",
    "    X_neg = []\n",
    "    y = []\n",
    "\n",
    "    for i in range(num_traces):\n",
    "        true_id = random.choice([0, chosen_class])\n",
    "        if true_id == 0:\n",
    "            other_classes = [*range(50)]\n",
    "            other_classes.remove(chosen_class)\n",
    "            true_id = random.choice(other_classes)\n",
    "        \n",
    "        true_idx = random.randint(0,len(traces_pos[true_id])-1)\n",
    "        \n",
    "        random_idx = [random.randint(0,len(traces_pos[-1])-1) for i in range(num_random)]\n",
    "        random_traces_pos = [traces_pos[-1][idx] for idx in random_idx]\n",
    "        random_traces_neg = [traces_neg[-1][idx] for idx in random_idx]\n",
    "        split_point = random.randint(0, num_random)\n",
    "        \n",
    "        \n",
    "        combo_pos = np.concatenate(\n",
    "            tuple(random_traces_pos[:split_point]) + \n",
    "            (traces_pos[true_id][true_idx], ) + \n",
    "            tuple(random_traces_pos[split_point:])\n",
    "        )\n",
    "        \n",
    "        combo_neg = np.concatenate(\n",
    "            tuple(random_traces_neg[:split_point]) + \n",
    "            (traces_neg[true_id][true_idx], ) + \n",
    "            tuple(random_traces_neg[split_point:])\n",
    "        )\n",
    "\n",
    "        X_pos.append(combo_pos)\n",
    "        X_neg.append(combo_neg)\n",
    "        \n",
    "        if true_id == chosen_class:\n",
    "            y.append(1)\n",
    "        else:\n",
    "            y.append(0)\n",
    "\n",
    "    return X_pos, X_neg, y"
   ]
  },
  {
   "cell_type": "code",
   "execution_count": 98,
   "id": "7e8c1c71",
   "metadata": {},
   "outputs": [
    {
     "data": {
      "text/plain": [
       "[<matplotlib.lines.Line2D at 0x7feeb80edc40>]"
      ]
     },
     "execution_count": 98,
     "metadata": {},
     "output_type": "execute_result"
    },
    {
     "data": {
      "image/png": "[encoded data removed]",
      "text/plain": [
       "<Figure size 640x480 with 1 Axes>"
      ]
     },
     "metadata": {},
     "output_type": "display_data"
    }
   ],
   "source": [
    "X_pos, X_neg, y = make_merged_trace_randsplit(train_pos, train_neg, chosen_class, 5, num_traces=1000)\n",
    "\n",
    "plt.plot(X_pos[0])\n",
    "plt.plot(X_neg[0])"
   ]
  },
  {
   "cell_type": "code",
   "execution_count": 3,
   "id": "ba266f7d",
   "metadata": {},
   "outputs": [],
   "source": [
    "def make_merged_trace(traces_pos, traces_neg, chosen_class, num_random, num_traces):\n",
    "    X_pos = []\n",
    "    X_neg = []\n",
    "    y = []\n",
    "\n",
    "    for i in tqdm(range(num_traces)):\n",
    "        true_id = random.choice([0, chosen_class])\n",
    "        if true_id == 0:\n",
    "            other_classes = [*range(50)]\n",
    "            other_classes.remove(chosen_class)\n",
    "            true_id = random.choice(other_classes)\n",
    "        \n",
    "        true_idx = random.randint(0,len(traces_pos[true_id])-1)\n",
    "        \n",
    "        random_idx = [random.randint(0,len(traces_pos[-1])-1) for i in range(num_random)]\n",
    "        random_traces_pos = tuple([traces_pos[-1][idx] for idx in random_idx[1:]])\n",
    "        random_traces_neg = tuple([traces_neg[-1][idx] for idx in random_idx[1:]])\n",
    "        \n",
    "        \n",
    "        combo_pos = np.concatenate(\n",
    "            (traces_pos[-1][random_idx[0]],traces_pos[true_id][true_idx]) + random_traces_pos\n",
    "        )\n",
    "        \n",
    "        combo_neg = np.concatenate(\n",
    "            (traces_neg[-1][random_idx[0]],traces_neg[true_id][true_idx]) + random_traces_neg\n",
    "        )\n",
    "\n",
    "        X_pos.append(combo_pos)\n",
    "        X_neg.append(combo_neg)\n",
    "        \n",
    "        if true_id == chosen_class:\n",
    "            y.append(1)\n",
    "        else:\n",
    "            y.append(0)\n",
    "\n",
    "    return X_pos, X_neg, y"
   ]
  },
  {
   "cell_type": "code",
   "execution_count": 4,
   "id": "0b847d39",
   "metadata": {},
   "outputs": [],
   "source": [
    "def get_parameter_list(filenames_pos, filenames_neg, shapelets_pos, shapelets_neg, X_pos, X_neg, y):\n",
    "    parameter_list = [] \n",
    "    \n",
    "    for i in range(len(filenames_pos)):\n",
    "        parameter_set = [\n",
    "            filenames_pos[i],\n",
    "            X_pos,\n",
    "            y,\n",
    "            shapelets_pos[i],\n",
    "            \"stumpy\"\n",
    "        ]\n",
    "        parameter_list.append(parameter_set)\n",
    "    \n",
    "    for i in range(len(filenames_neg)):\n",
    "        parameter_set = [\n",
    "            filenames_neg[i],\n",
    "            X_neg,\n",
    "            y,\n",
    "            shapelets_neg[i],\n",
    "            \"stumpy\"\n",
    "        ]\n",
    "        parameter_list.append(parameter_set)\n",
    "    \n",
    "    return parameter_list"
   ]
  },
  {
   "cell_type": "code",
   "execution_count": 28,
   "id": "d81795e4",
   "metadata": {},
   "outputs": [],
   "source": [
    "def generate_names(chosen_class, num_shapelets=2):\n",
    "    \n",
    "    filenames_pos = make_name_list({\n",
    "        'type':['pos'],\n",
    "        'centroid_id':list(range(num_shapelets)),\n",
    "        'class_id':[chosen_class],\n",
    "    })\n",
    "    filenames_neg = make_name_list({\n",
    "        'type':['neg'],\n",
    "        'centroid_id':list(range(num_shapelets)),\n",
    "        'class_id':[chosen_class],\n",
    "    })\n",
    "\n",
    "    return filenames_pos, filenames_neg"
   ]
  },
  {
   "cell_type": "code",
   "execution_count": 6,
   "id": "a0d929fb",
   "metadata": {},
   "outputs": [],
   "source": [
    "def classify_shapes(filenames_pos, filenames_neg):\n",
    "    X_pos, y = load_xy(filenames_pos, True)\n",
    "    X_neg, y = load_xy(filenames_neg, True)\n",
    "    X = np.concatenate((X_pos, X_neg), axis=1)\n",
    "    \n",
    "    X_train, X_test, y_train, y_test = train_test_split(X, y, test_size=0.1)\n",
    "    clf = RandomForestClassifier()\n",
    "    clf.fit(X_train, y_train)\n",
    "    \n",
    "    y_pred = clf.predict(X_test)\n",
    "    score = metrics.accuracy_score(y_test, y_pred)\n",
    "    \n",
    "    return score"
   ]
  },
  {
   "cell_type": "code",
   "execution_count": 35,
   "id": "cca90413",
   "metadata": {},
   "outputs": [
    {
     "name": "stderr",
     "output_type": "stream",
     "text": [
      "  0%|                                                    | 0/15 [00:00<?, ?it/s]\n",
      "100%|████████████████████████████████████| 1000/1000 [00:00<00:00, 15655.12it/s]\u001b[A\n",
      "100%|██████████| 1000/1000 [05:00<00:00,  3.33it/s]\n",
      "100%|██████████| 1000/1000 [05:09<00:00,  3.23it/s]\n",
      "100%|██████████| 1000/1000 [05:17<00:00,  3.15it/s]\n",
      "100%|██████████| 1000/1000 [05:19<00:00,  3.13it/s]\n"
     ]
    },
    {
     "name": "stdout",
     "output_type": "stream",
     "text": [
      "Saving X as ../results/data/X/type=negcentroid_id=1class_id=0\n",
      "Saving y as ../results/data/y/type=negcentroid_id=1class_id=0\n",
      "Saving X as ../results/data/X/type=negcentroid_id=0class_id=0\n",
      "Saving y as ../results/data/y/type=negcentroid_id=0class_id=0\n",
      "Saving X as ../results/data/X/type=poscentroid_id=1class_id=0\n",
      "Saving y as ../results/data/y/type=poscentroid_id=1class_id=0\n",
      "Loading X from ../results/data/X/type=poscentroid_id=0class_id=0\n",
      "Loading X from ../results/data/X/type=poscentroid_id=1class_id=0\n",
      "Loading y from ../results/data/y/type=poscentroid_id=0class_id=0\n",
      "Loading X from ../results/data/X/type=negcentroid_id=0class_id=0\n",
      "Loading X from ../results/data/X/type=negcentroid_id=1class_id=0\n",
      "Loading y from ../results/data/y/type=negcentroid_id=0class_id=0\n"
     ]
    },
    {
     "name": "stderr",
     "output_type": "stream",
     "text": [
      "100%|██████████| 1000/1000 [05:09<00:00,  3.24it/s]\n",
      "  0%|          | 0/1000 [00:00<?, ?it/s] 3.35it/s]"
     ]
    },
    {
     "name": "stdout",
     "output_type": "stream",
     "text": [
      "Saving X as ../results/data/X/type=poscentroid_id=2class_id=0\n",
      "Saving y as ../results/data/y/type=poscentroid_id=2class_id=0\n"
     ]
    },
    {
     "name": "stderr",
     "output_type": "stream",
     "text": [
      "100%|██████████| 1000/1000 [05:09<00:00,  3.23it/s]\n",
      " 96%|█████████▌| 960/1000 [05:10<00:13,  3.03it/s]"
     ]
    },
    {
     "name": "stdout",
     "output_type": "stream",
     "text": [
      "Saving X as ../results/data/X/type=negcentroid_id=0class_id=0\n",
      "Saving y as ../results/data/y/type=negcentroid_id=0class_id=0\n"
     ]
    },
    {
     "name": "stderr",
     "output_type": "stream",
     "text": [
      "100%|██████████| 1000/1000 [05:20<00:00,  3.12it/s]\n",
      "100%|██████████| 1000/1000 [05:21<00:00,  3.12it/s]\n",
      "100%|██████████| 1000/1000 [04:52<00:00,  3.42it/s]\n",
      "100%|██████████| 1000/1000 [05:02<00:00,  3.30it/s]\n"
     ]
    },
    {
     "name": "stdout",
     "output_type": "stream",
     "text": [
      "Saving X as ../results/data/X/type=poscentroid_id=0class_id=0\n",
      "Saving y as ../results/data/y/type=poscentroid_id=0class_id=0\n",
      "Saving X as ../results/data/X/type=poscentroid_id=1class_id=0\n",
      "Saving y as ../results/data/y/type=poscentroid_id=1class_id=0\n",
      "Saving X as ../results/data/X/type=negcentroid_id=2class_id=0\n",
      "Saving y as ../results/data/y/type=negcentroid_id=2class_id=0\n",
      "Saving X as ../results/data/X/type=negcentroid_id=1class_id=0\n",
      "Saving y as ../results/data/y/type=negcentroid_id=1class_id=0\n",
      "Loading X from ../results/data/X/type=poscentroid_id=0class_id=0\n",
      "Loading X from ../results/data/X/type=poscentroid_id=1class_id=0\n",
      "Loading X from ../results/data/X/type=poscentroid_id=2class_id=0\n",
      "Loading y from ../results/data/y/type=poscentroid_id=0class_id=0\n",
      "Loading X from ../results/data/X/type=negcentroid_id=0class_id=0\n",
      "Loading X from ../results/data/X/type=negcentroid_id=1class_id=0\n",
      "Loading X from ../results/data/X/type=negcentroid_id=2class_id=0\n",
      "Loading y from ../results/data/y/type=negcentroid_id=0class_id=0\n"
     ]
    },
    {
     "name": "stderr",
     "output_type": "stream",
     "text": [
      "100%|██████████| 1000/1000 [04:54<00:00,  3.39it/s]\n",
      " 99%|█████████▉| 991/1000 [04:54<00:01,  5.37it/s]"
     ]
    },
    {
     "name": "stdout",
     "output_type": "stream",
     "text": [
      "Saving X as ../results/data/X/type=poscentroid_id=2class_id=0\n",
      "Saving y as ../results/data/y/type=poscentroid_id=2class_id=0\n"
     ]
    },
    {
     "name": "stderr",
     "output_type": "stream",
     "text": [
      "100%|██████████| 1000/1000 [04:57<00:00,  3.37it/s]\n",
      "  0%|          | 0/1000 [00:00<?, ?it/s] 4.73it/s]"
     ]
    },
    {
     "name": "stdout",
     "output_type": "stream",
     "text": [
      "Saving X as ../results/data/X/type=poscentroid_id=3class_id=0\n",
      "Saving y as ../results/data/y/type=poscentroid_id=3class_id=0\n"
     ]
    },
    {
     "name": "stderr",
     "output_type": "stream",
     "text": [
      "100%|██████████| 1000/1000 [05:04<00:00,  3.29it/s]\n",
      "  0%|          | 0/1000 [00:00<?, ?it/s]2.46it/s]"
     ]
    },
    {
     "name": "stdout",
     "output_type": "stream",
     "text": [
      "Saving X as ../results/data/X/type=poscentroid_id=0class_id=0\n",
      "Saving y as ../results/data/y/type=poscentroid_id=0class_id=0\n"
     ]
    },
    {
     "name": "stderr",
     "output_type": "stream",
     "text": [
      "100%|██████████| 1000/1000 [05:19<00:00,  3.13it/s]\n",
      "  0%|          | 0/1000 [00:00<?, ?it/s]3.79it/s]"
     ]
    },
    {
     "name": "stdout",
     "output_type": "stream",
     "text": [
      "Saving X as ../results/data/X/type=poscentroid_id=1class_id=0\n",
      "Saving y as ../results/data/y/type=poscentroid_id=1class_id=0\n"
     ]
    },
    {
     "name": "stderr",
     "output_type": "stream",
     "text": [
      "100%|██████████| 1000/1000 [04:51<00:00,  3.43it/s]\n",
      "100%|██████████| 1000/1000 [05:20<00:00,  3.12it/s]\n",
      "100%|██████████| 1000/1000 [05:17<00:00,  3.15it/s]\n",
      "100%|██████████| 1000/1000 [05:11<00:00,  3.21it/s]\n"
     ]
    },
    {
     "name": "stdout",
     "output_type": "stream",
     "text": [
      "Saving X as ../results/data/X/type=negcentroid_id=2class_id=0\n",
      "Saving y as ../results/data/y/type=negcentroid_id=2class_id=0\n",
      "Saving X as ../results/data/X/type=negcentroid_id=0class_id=0\n",
      "Saving y as ../results/data/y/type=negcentroid_id=0class_id=0\n",
      "Saving X as ../results/data/X/type=negcentroid_id=1class_id=0\n",
      "Saving y as ../results/data/y/type=negcentroid_id=1class_id=0\n",
      "Loading X from ../results/data/X/type=poscentroid_id=0class_id=0\n",
      "Loading X from ../results/data/X/type=poscentroid_id=1class_id=0\n",
      "Loading X from ../results/data/X/type=poscentroid_id=2class_id=0\n",
      "Loading X from ../results/data/X/type=poscentroid_id=3class_id=0\n",
      "Loading y from ../results/data/y/type=poscentroid_id=0class_id=0\n",
      "Loading X from ../results/data/X/type=negcentroid_id=0class_id=0\n",
      "Loading X from ../results/data/X/type=negcentroid_id=1class_id=0\n",
      "Loading X from ../results/data/X/type=negcentroid_id=2class_id=0\n",
      "Loading X from ../results/data/X/type=negcentroid_id=3class_id=0\n",
      "Loading y from ../results/data/y/type=negcentroid_id=0class_id=0\n"
     ]
    },
    {
     "name": "stderr",
     "output_type": "stream",
     "text": [
      "100%|██████████| 1000/1000 [05:08<00:00,  3.25it/s]\n",
      " 98%|█████████▊| 975/1000 [05:08<00:05,  4.76it/s]"
     ]
    },
    {
     "name": "stdout",
     "output_type": "stream",
     "text": [
      "Saving X as ../results/data/X/type=poscentroid_id=0class_id=0\n",
      "Saving y as ../results/data/y/type=poscentroid_id=0class_id=0\n"
     ]
    },
    {
     "name": "stderr",
     "output_type": "stream",
     "text": [
      "100%|██████████| 1000/1000 [05:09<00:00,  3.23it/s]\n",
      "100%|██████████| 1000/1000 [05:09<00:00,  3.23it/s]\n"
     ]
    },
    {
     "name": "stdout",
     "output_type": "stream",
     "text": [
      "Saving X as ../results/data/X/type=poscentroid_id=2class_id=0\n",
      "Saving y as ../results/data/y/type=poscentroid_id=2class_id=0\n",
      "Saving X as ../results/data/X/type=poscentroid_id=3class_id=0\n",
      "Saving y as ../results/data/y/type=poscentroid_id=3class_id=0\n"
     ]
    },
    {
     "name": "stderr",
     "output_type": "stream",
     "text": [
      "100%|██████████| 1000/1000 [05:14<00:00,  3.18it/s]\n",
      "  1%|          | 6/1000 [00:04<16:14,  1.02it/s]]"
     ]
    },
    {
     "name": "stdout",
     "output_type": "stream",
     "text": [
      "Saving X as ../results/data/X/type=poscentroid_id=1class_id=0\n",
      "Saving y as ../results/data/y/type=poscentroid_id=1class_id=0\n"
     ]
    },
    {
     "name": "stderr",
     "output_type": "stream",
     "text": [
      "100%|██████████| 1000/1000 [05:07<00:00,  3.25it/s]\n",
      "  0%|          | 0/1000 [00:00<?, ?it/s] 3.19it/s]"
     ]
    },
    {
     "name": "stdout",
     "output_type": "stream",
     "text": [
      "Saving X as ../results/data/X/type=poscentroid_id=4class_id=0\n",
      "Saving y as ../results/data/y/type=poscentroid_id=4class_id=0\n"
     ]
    },
    {
     "name": "stderr",
     "output_type": "stream",
     "text": [
      "100%|██████████| 1000/1000 [05:04<00:00,  3.28it/s]\n",
      "  0%|          | 0/1000 [00:00<?, ?it/s] 4.67it/s]"
     ]
    },
    {
     "name": "stdout",
     "output_type": "stream",
     "text": [
      "Saving X as ../results/data/X/type=negcentroid_id=2class_id=0\n",
      "Saving y as ../results/data/y/type=negcentroid_id=2class_id=0\n"
     ]
    },
    {
     "name": "stderr",
     "output_type": "stream",
     "text": [
      "100%|██████████| 1000/1000 [05:15<00:00,  3.17it/s]\n",
      "100%|██████████| 1000/1000 [05:26<00:00,  3.06it/s]\n",
      "100%|██████████| 1000/1000 [04:42<00:00,  3.54it/s]\n",
      "100%|██████████| 1000/1000 [04:59<00:00,  3.34it/s]\n"
     ]
    },
    {
     "name": "stdout",
     "output_type": "stream",
     "text": [
      "Saving X as ../results/data/X/type=negcentroid_id=0class_id=0\n",
      "Saving y as ../results/data/y/type=negcentroid_id=0class_id=0\n",
      "Loading X from ../results/data/X/type=poscentroid_id=0class_id=0\n",
      "Loading X from ../results/data/X/type=poscentroid_id=1class_id=0\n",
      "Loading X from ../results/data/X/type=poscentroid_id=2class_id=0\n",
      "Loading X from ../results/data/X/type=poscentroid_id=3class_id=0\n",
      "Loading X from ../results/data/X/type=poscentroid_id=4class_id=0\n",
      "Loading y from ../results/data/y/type=poscentroid_id=0class_id=0\n",
      "Loading X from ../results/data/X/type=negcentroid_id=0class_id=0\n",
      "Loading X from ../results/data/X/type=negcentroid_id=1class_id=0\n",
      "Loading X from ../results/data/X/type=negcentroid_id=2class_id=0\n",
      "Loading X from ../results/data/X/type=negcentroid_id=3class_id=0\n",
      "Loading X from ../results/data/X/type=negcentroid_id=4class_id=0\n",
      "Loading y from ../results/data/y/type=negcentroid_id=0class_id=0\n"
     ]
    },
    {
     "name": "stderr",
     "output_type": "stream",
     "text": [
      "100%|██████████| 1000/1000 [04:55<00:00,  3.39it/s]\n",
      " 99%|█████████▉| 991/1000 [04:55<00:01,  5.29it/s]"
     ]
    },
    {
     "name": "stdout",
     "output_type": "stream",
     "text": [
      "Saving X as ../results/data/X/type=poscentroid_id=3class_id=0\n",
      "Saving y as ../results/data/y/type=poscentroid_id=3class_id=0\n"
     ]
    },
    {
     "name": "stderr",
     "output_type": "stream",
     "text": [
      "100%|██████████| 1000/1000 [04:57<00:00,  3.36it/s]\n",
      " 94%|█████████▎| 937/1000 [04:57<00:14,  4.39it/s]"
     ]
    },
    {
     "name": "stdout",
     "output_type": "stream",
     "text": [
      "Saving X as ../results/data/X/type=poscentroid_id=0class_id=0\n",
      "Saving y as ../results/data/y/type=poscentroid_id=0class_id=0\n"
     ]
    },
    {
     "name": "stderr",
     "output_type": "stream",
     "text": [
      "100%|██████████| 1000/1000 [05:06<00:00,  3.26it/s]\n",
      "  0%|          | 0/1000 [00:00<?, ?it/s] 4.40it/s]"
     ]
    },
    {
     "name": "stdout",
     "output_type": "stream",
     "text": [
      "Saving X as ../results/data/X/type=poscentroid_id=1class_id=0\n",
      "Saving y as ../results/data/y/type=poscentroid_id=1class_id=0\n"
     ]
    },
    {
     "name": "stderr",
     "output_type": "stream",
     "text": [
      "100%|██████████| 1000/1000 [05:14<00:00,  3.18it/s]\n",
      "  0%|          | 0/1000 [00:00<?, ?it/s]4.79it/s]"
     ]
    },
    {
     "name": "stdout",
     "output_type": "stream",
     "text": [
      "Saving X as ../results/data/X/type=poscentroid_id=2class_id=0\n",
      "Saving y as ../results/data/y/type=poscentroid_id=2class_id=0\n"
     ]
    },
    {
     "name": "stderr",
     "output_type": "stream",
     "text": [
      "100%|██████████| 1000/1000 [04:44<00:00,  3.52it/s]\n"
     ]
    },
    {
     "name": "stdout",
     "output_type": "stream",
     "text": [
      "Saving X as ../results/data/X/type=poscentroid_id=5class_id=0\n",
      "Saving y as ../results/data/y/type=poscentroid_id=5class_id=0\n"
     ]
    },
    {
     "name": "stderr",
     "output_type": "stream",
     "text": [
      "100%|██████████| 1000/1000 [05:13<00:00,  3.19it/s]\n",
      " 95%|█████████▌| 951/1000 [05:02<00:12,  3.80it/s]"
     ]
    },
    {
     "name": "stdout",
     "output_type": "stream",
     "text": [
      "Saving X as ../results/data/X/type=poscentroid_id=4class_id=0\n",
      "Saving y as ../results/data/y/type=poscentroid_id=4class_id=0\n"
     ]
    },
    {
     "name": "stderr",
     "output_type": "stream",
     "text": [
      "100%|██████████| 1000/1000 [05:15<00:00,  3.17it/s]\n",
      "  0%|          | 0/1000 [00:00<?, ?it/s] 4.02it/s]"
     ]
    },
    {
     "name": "stdout",
     "output_type": "stream",
     "text": [
      "Saving X as ../results/data/X/type=negcentroid_id=0class_id=0\n",
      "Saving y as ../results/data/y/type=negcentroid_id=0class_id=0\n"
     ]
    },
    {
     "name": "stderr",
     "output_type": "stream",
     "text": [
      "100%|██████████| 1000/1000 [05:16<00:00,  3.16it/s]\n",
      "  0%|          | 0/1000 [00:00<?, ?it/s]3.96it/s]"
     ]
    },
    {
     "name": "stdout",
     "output_type": "stream",
     "text": [
      "Saving X as ../results/data/X/type=negcentroid_id=1class_id=0\n",
      "Saving y as ../results/data/y/type=negcentroid_id=1class_id=0\n"
     ]
    },
    {
     "name": "stderr",
     "output_type": "stream",
     "text": [
      "100%|██████████| 1000/1000 [05:08<00:00,  3.24it/s]\n",
      "100%|██████████| 1000/1000 [05:08<00:00,  3.24it/s]\n",
      "100%|██████████| 1000/1000 [04:58<00:00,  3.35it/s]\n",
      "100%|██████████| 1000/1000 [05:18<00:00,  3.14it/s]\n"
     ]
    },
    {
     "name": "stdout",
     "output_type": "stream",
     "text": [
      "Saving X as ../results/data/X/type=negcentroid_id=2class_id=0\n",
      "Saving y as ../results/data/y/type=negcentroid_id=2class_id=0\n",
      "Saving X as ../results/data/X/type=negcentroid_id=3class_id=0\n",
      "Saving y as ../results/data/y/type=negcentroid_id=3class_id=0\n",
      "Saving X as ../results/data/X/type=negcentroid_id=4class_id=0\n",
      "Saving y as ../results/data/y/type=negcentroid_id=4class_id=0\n",
      "Loading X from ../results/data/X/type=poscentroid_id=0class_id=0\n",
      "Loading X from ../results/data/X/type=poscentroid_id=1class_id=0\n",
      "Loading X from ../results/data/X/type=poscentroid_id=2class_id=0\n",
      "Loading X from ../results/data/X/type=poscentroid_id=3class_id=0\n",
      "Loading X from ../results/data/X/type=poscentroid_id=4class_id=0\n",
      "Loading X from ../results/data/X/type=poscentroid_id=5class_id=0\n",
      "Loading y from ../results/data/y/type=poscentroid_id=0class_id=0\n",
      "Loading X from ../results/data/X/type=negcentroid_id=0class_id=0\n",
      "Loading X from ../results/data/X/type=negcentroid_id=1class_id=0\n",
      "Loading X from ../results/data/X/type=negcentroid_id=2class_id=0\n",
      "Loading X from ../results/data/X/type=negcentroid_id=3class_id=0\n",
      "Loading X from ../results/data/X/type=negcentroid_id=4class_id=0\n",
      "Loading X from ../results/data/X/type=negcentroid_id=5class_id=0\n",
      "Loading y from ../results/data/y/type=negcentroid_id=0class_id=0\n"
     ]
    },
    {
     "name": "stderr",
     "output_type": "stream",
     "text": [
      "  7%|██▌                                    | 1/15 [57:18<13:22:17, 3438.38s/it]\n",
      "100%|████████████████████████████████████| 1000/1000 [00:00<00:00, 19405.77it/s]\u001b[A\n",
      "100%|██████████| 1000/1000 [04:35<00:00,  3.62it/s]\n",
      "100%|██████████| 1000/1000 [04:42<00:00,  3.54it/s]\n",
      "100%|██████████| 1000/1000 [04:46<00:00,  3.49it/s]\n",
      "100%|██████████| 1000/1000 [04:50<00:00,  3.44it/s]\n"
     ]
    },
    {
     "name": "stdout",
     "output_type": "stream",
     "text": [
      "Saving X as ../results/data/X/type=negcentroid_id=1class_id=1\n",
      "Saving y as ../results/data/y/type=negcentroid_id=1class_id=1\n",
      "Saving X as ../results/data/X/type=poscentroid_id=1class_id=1\n",
      "Saving y as ../results/data/y/type=poscentroid_id=1class_id=1\n",
      "Saving X as ../results/data/X/type=poscentroid_id=0class_id=1\n",
      "Saving y as ../results/data/y/type=poscentroid_id=0class_id=1\n",
      "Loading X from ../results/data/X/type=poscentroid_id=0class_id=1\n",
      "Loading X from ../results/data/X/type=poscentroid_id=1class_id=1\n",
      "Loading y from ../results/data/y/type=poscentroid_id=0class_id=1\n",
      "Loading X from ../results/data/X/type=negcentroid_id=0class_id=1\n",
      "Loading X from ../results/data/X/type=negcentroid_id=1class_id=1\n",
      "Loading y from ../results/data/y/type=negcentroid_id=0class_id=1\n"
     ]
    },
    {
     "name": "stderr",
     "output_type": "stream",
     "text": [
      "100%|██████████| 1000/1000 [04:43<00:00,  3.53it/s]\n",
      "  0%|          | 0/1000 [00:00<?, ?it/s] 5.24it/s]"
     ]
    },
    {
     "name": "stdout",
     "output_type": "stream",
     "text": [
      "Saving X as ../results/data/X/type=poscentroid_id=2class_id=1\n",
      "Saving y as ../results/data/y/type=poscentroid_id=2class_id=1\n"
     ]
    },
    {
     "name": "stderr",
     "output_type": "stream",
     "text": [
      "100%|██████████| 1000/1000 [04:46<00:00,  3.49it/s]\n",
      " 98%|█████████▊| 985/1000 [04:46<00:02,  5.11it/s]"
     ]
    },
    {
     "name": "stdout",
     "output_type": "stream",
     "text": [
      "Saving X as ../results/data/X/type=poscentroid_id=0class_id=1\n",
      "Saving y as ../results/data/y/type=poscentroid_id=0class_id=1\n"
     ]
    },
    {
     "name": "stderr",
     "output_type": "stream",
     "text": [
      "100%|██████████| 1000/1000 [04:48<00:00,  3.46it/s]\n",
      "100%|██████████| 1000/1000 [04:49<00:00,  3.45it/s]\n",
      "100%|██████████| 1000/1000 [04:22<00:00,  3.81it/s]\n",
      "100%|██████████| 1000/1000 [04:33<00:00,  3.66it/s]\n"
     ]
    },
    {
     "name": "stdout",
     "output_type": "stream",
     "text": [
      "Saving X as ../results/data/X/type=negcentroid_id=0class_id=1\n",
      "Saving y as ../results/data/y/type=negcentroid_id=0class_id=1\n",
      "Saving X as ../results/data/X/type=poscentroid_id=1class_id=1\n",
      "Saving y as ../results/data/y/type=poscentroid_id=1class_id=1\n",
      "Saving X as ../results/data/X/type=negcentroid_id=1class_id=1\n",
      "Saving y as ../results/data/y/type=negcentroid_id=1class_id=1\n",
      "Loading X from ../results/data/X/type=poscentroid_id=0class_id=1\n",
      "Loading X from ../results/data/X/type=poscentroid_id=1class_id=1\n",
      "Loading X from ../results/data/X/type=poscentroid_id=2class_id=1\n",
      "Loading y from ../results/data/y/type=poscentroid_id=0class_id=1\n",
      "Loading X from ../results/data/X/type=negcentroid_id=0class_id=1\n",
      "Loading X from ../results/data/X/type=negcentroid_id=1class_id=1\n",
      "Loading X from ../results/data/X/type=negcentroid_id=2class_id=1\n",
      "Loading y from ../results/data/y/type=negcentroid_id=0class_id=1\n"
     ]
    },
    {
     "name": "stderr",
     "output_type": "stream",
     "text": [
      "100%|██████████| 1000/1000 [04:40<00:00,  3.57it/s]\n",
      "  0%|          | 1/1000 [00:00<03:06,  5.37it/s]s]"
     ]
    },
    {
     "name": "stdout",
     "output_type": "stream",
     "text": [
      "Saving X as ../results/data/X/type=poscentroid_id=3class_id=1\n",
      "Saving y as ../results/data/y/type=poscentroid_id=3class_id=1\n"
     ]
    },
    {
     "name": "stderr",
     "output_type": "stream",
     "text": [
      "100%|██████████| 1000/1000 [04:51<00:00,  3.43it/s]\n",
      " 93%|█████████▎| 927/1000 [04:51<00:15,  4.67it/s]"
     ]
    },
    {
     "name": "stdout",
     "output_type": "stream",
     "text": [
      "Saving X as ../results/data/X/type=poscentroid_id=2class_id=1\n",
      "Saving y as ../results/data/y/type=poscentroid_id=2class_id=1\n"
     ]
    },
    {
     "name": "stderr",
     "output_type": "stream",
     "text": [
      "100%|██████████| 1000/1000 [04:58<00:00,  3.35it/s]\n",
      "  6%|▋         | 65/1000 [00:18<03:06,  5.01it/s]]"
     ]
    },
    {
     "name": "stdout",
     "output_type": "stream",
     "text": [
      "Saving X as ../results/data/X/type=poscentroid_id=1class_id=1\n",
      "Saving y as ../results/data/y/type=poscentroid_id=1class_id=1\n"
     ]
    },
    {
     "name": "stderr",
     "output_type": "stream",
     "text": [
      "100%|██████████| 1000/1000 [05:10<00:00,  3.22it/s]\n",
      "  4%|▍         | 42/1000 [00:11<04:04,  3.92it/s]"
     ]
    },
    {
     "name": "stdout",
     "output_type": "stream",
     "text": [
      "Saving X as ../results/data/X/type=poscentroid_id=0class_id=1\n",
      "Saving y as ../results/data/y/type=poscentroid_id=0class_id=1\n"
     ]
    },
    {
     "name": "stderr",
     "output_type": "stream",
     "text": [
      "100%|██████████| 1000/1000 [04:39<00:00,  3.57it/s]\n",
      "100%|██████████| 1000/1000 [04:48<00:00,  3.46it/s]\n",
      "100%|██████████| 1000/1000 [04:47<00:00,  3.48it/s]\n",
      "100%|██████████| 1000/1000 [04:49<00:00,  3.45it/s]\n"
     ]
    },
    {
     "name": "stdout",
     "output_type": "stream",
     "text": [
      "Saving X as ../results/data/X/type=negcentroid_id=0class_id=1\n",
      "Saving y as ../results/data/y/type=negcentroid_id=0class_id=1\n",
      "Saving X as ../results/data/X/type=negcentroid_id=1class_id=1\n",
      "Saving y as ../results/data/y/type=negcentroid_id=1class_id=1\n",
      "Saving X as ../results/data/X/type=negcentroid_id=2class_id=1\n",
      "Saving y as ../results/data/y/type=negcentroid_id=2class_id=1\n",
      "Loading X from ../results/data/X/type=poscentroid_id=0class_id=1\n",
      "Loading X from ../results/data/X/type=poscentroid_id=1class_id=1\n",
      "Loading X from ../results/data/X/type=poscentroid_id=2class_id=1\n",
      "Loading X from ../results/data/X/type=poscentroid_id=3class_id=1\n",
      "Loading y from ../results/data/y/type=poscentroid_id=0class_id=1\n",
      "Loading X from ../results/data/X/type=negcentroid_id=0class_id=1\n",
      "Loading X from ../results/data/X/type=negcentroid_id=1class_id=1\n",
      "Loading X from ../results/data/X/type=negcentroid_id=2class_id=1\n",
      "Loading X from ../results/data/X/type=negcentroid_id=3class_id=1\n",
      "Loading y from ../results/data/y/type=negcentroid_id=0class_id=1\n"
     ]
    },
    {
     "name": "stderr",
     "output_type": "stream",
     "text": [
      "100%|██████████| 1000/1000 [04:29<00:00,  3.71it/s]\n",
      " 95%|█████████▌| 954/1000 [04:29<00:12,  3.68it/s]"
     ]
    },
    {
     "name": "stdout",
     "output_type": "stream",
     "text": [
      "Saving X as ../results/data/X/type=poscentroid_id=0class_id=1\n",
      "Saving y as ../results/data/y/type=poscentroid_id=0class_id=1\n"
     ]
    },
    {
     "name": "stderr",
     "output_type": "stream",
     "text": [
      "100%|██████████| 1000/1000 [04:40<00:00,  3.57it/s]\n",
      "  0%|          | 0/1000 [00:00<?, ?it/s]3.38it/s]"
     ]
    },
    {
     "name": "stdout",
     "output_type": "stream",
     "text": [
      "Saving X as ../results/data/X/type=poscentroid_id=1class_id=1\n",
      "Saving y as ../results/data/y/type=poscentroid_id=1class_id=1\n"
     ]
    },
    {
     "name": "stderr",
     "output_type": "stream",
     "text": [
      "100%|██████████| 1000/1000 [04:41<00:00,  3.55it/s]\n",
      " 96%|█████████▌| 956/1000 [04:41<00:11,  3.83it/s]"
     ]
    },
    {
     "name": "stdout",
     "output_type": "stream",
     "text": [
      "Saving X as ../results/data/X/type=poscentroid_id=2class_id=1\n",
      "Saving y as ../results/data/y/type=poscentroid_id=2class_id=1\n"
     ]
    },
    {
     "name": "stderr",
     "output_type": "stream",
     "text": [
      "100%|██████████| 1000/1000 [04:52<00:00,  3.42it/s]\n",
      "  0%|          | 0/1000 [00:00<?, ?it/s]4.78it/s]"
     ]
    },
    {
     "name": "stdout",
     "output_type": "stream",
     "text": [
      "Saving X as ../results/data/X/type=poscentroid_id=3class_id=1\n",
      "Saving y as ../results/data/y/type=poscentroid_id=3class_id=1\n"
     ]
    },
    {
     "name": "stderr",
     "output_type": "stream",
     "text": [
      "100%|██████████| 1000/1000 [04:44<00:00,  3.52it/s]\n"
     ]
    },
    {
     "name": "stdout",
     "output_type": "stream",
     "text": [
      "Saving X as ../results/data/X/type=poscentroid_id=4class_id=1\n",
      "Saving y as ../results/data/y/type=poscentroid_id=4class_id=1\n"
     ]
    },
    {
     "name": "stderr",
     "output_type": "stream",
     "text": [
      "100%|██████████| 1000/1000 [04:45<00:00,  3.50it/s]\n",
      "100%|██████████| 1000/1000 [04:34<00:00,  3.64it/s]\n",
      "  0%|          | 0/1000 [00:00<?, ?it/s]"
     ]
    },
    {
     "name": "stdout",
     "output_type": "stream",
     "text": [
      "Saving X as ../results/data/X/type=negcentroid_id=1class_id=1\n",
      "Saving y as ../results/data/y/type=negcentroid_id=1class_id=1\n"
     ]
    },
    {
     "name": "stderr",
     "output_type": "stream",
     "text": [
      "100%|██████████| 1000/1000 [04:55<00:00,  3.38it/s]\n",
      "100%|██████████| 1000/1000 [04:36<00:00,  3.61it/s]\n",
      "100%|██████████| 1000/1000 [04:25<00:00,  3.77it/s]\n"
     ]
    },
    {
     "name": "stdout",
     "output_type": "stream",
     "text": [
      "Saving X as ../results/data/X/type=negcentroid_id=2class_id=1\n",
      "Saving y as ../results/data/y/type=negcentroid_id=2class_id=1\n",
      "Saving X as ../results/data/X/type=negcentroid_id=0class_id=1\n",
      "Saving y as ../results/data/y/type=negcentroid_id=0class_id=1\n",
      "Saving X as ../results/data/X/type=negcentroid_id=3class_id=1\n",
      "Saving y as ../results/data/y/type=negcentroid_id=3class_id=1\n",
      "Loading X from ../results/data/X/type=poscentroid_id=0class_id=1\n",
      "Loading X from ../results/data/X/type=poscentroid_id=1class_id=1\n",
      "Loading X from ../results/data/X/type=poscentroid_id=2class_id=1\n",
      "Loading X from ../results/data/X/type=poscentroid_id=3class_id=1\n",
      "Loading X from ../results/data/X/type=poscentroid_id=4class_id=1\n",
      "Loading y from ../results/data/y/type=poscentroid_id=0class_id=1\n",
      "Loading X from ../results/data/X/type=negcentroid_id=0class_id=1\n",
      "Loading X from ../results/data/X/type=negcentroid_id=1class_id=1\n",
      "Loading X from ../results/data/X/type=negcentroid_id=2class_id=1\n",
      "Loading X from ../results/data/X/type=negcentroid_id=3class_id=1\n",
      "Loading X from ../results/data/X/type=negcentroid_id=4class_id=1\n",
      "Loading y from ../results/data/y/type=negcentroid_id=0class_id=1\n"
     ]
    },
    {
     "name": "stderr",
     "output_type": "stream",
     "text": [
      "100%|██████████| 1000/1000 [04:40<00:00,  3.57it/s]\n",
      "  0%|          | 0/1000 [00:00<?, ?it/s] 5.70it/s]"
     ]
    },
    {
     "name": "stdout",
     "output_type": "stream",
     "text": [
      "Saving X as ../results/data/X/type=poscentroid_id=1class_id=1\n",
      "Saving y as ../results/data/y/type=poscentroid_id=1class_id=1\n"
     ]
    },
    {
     "name": "stderr",
     "output_type": "stream",
     "text": [
      "100%|██████████| 1000/1000 [04:42<00:00,  3.54it/s]\n",
      "  1%|          | 7/1000 [00:01<04:42,  3.52it/s]"
     ]
    },
    {
     "name": "stdout",
     "output_type": "stream",
     "text": [
      "Saving X as ../results/data/X/type=poscentroid_id=0class_id=1\n",
      "Saving y as ../results/data/y/type=poscentroid_id=0class_id=1\n"
     ]
    },
    {
     "name": "stderr",
     "output_type": "stream",
     "text": [
      "100%|██████████| 1000/1000 [04:46<00:00,  3.49it/s]\n",
      " 99%|█████████▉| 988/1000 [04:47<00:01,  6.37it/s]"
     ]
    },
    {
     "name": "stdout",
     "output_type": "stream",
     "text": [
      "Saving X as ../results/data/X/type=poscentroid_id=3class_id=1\n",
      "Saving y as ../results/data/y/type=poscentroid_id=3class_id=1\n"
     ]
    },
    {
     "name": "stderr",
     "output_type": "stream",
     "text": [
      "100%|██████████| 1000/1000 [04:49<00:00,  3.45it/s]\n",
      "  0%|          | 0/1000 [00:00<?, ?it/s]3.71it/s]"
     ]
    },
    {
     "name": "stdout",
     "output_type": "stream",
     "text": [
      "Saving X as ../results/data/X/type=poscentroid_id=2class_id=1\n",
      "Saving y as ../results/data/y/type=poscentroid_id=2class_id=1\n"
     ]
    },
    {
     "name": "stderr",
     "output_type": "stream",
     "text": [
      "100%|██████████| 1000/1000 [04:31<00:00,  3.68it/s]\n",
      "  0%|          | 0/1000 [00:00<?, ?it/s] 3.18it/s]"
     ]
    },
    {
     "name": "stdout",
     "output_type": "stream",
     "text": [
      "Saving X as ../results/data/X/type=poscentroid_id=5class_id=1\n",
      "Saving y as ../results/data/y/type=poscentroid_id=5class_id=1\n"
     ]
    },
    {
     "name": "stderr",
     "output_type": "stream",
     "text": [
      "100%|██████████| 1000/1000 [04:37<00:00,  3.60it/s]\n",
      "  0%|          | 0/1000 [00:00<?, ?it/s] 4.56it/s]"
     ]
    },
    {
     "name": "stdout",
     "output_type": "stream",
     "text": [
      "Saving X as ../results/data/X/type=negcentroid_id=0class_id=1\n",
      "Saving y as ../results/data/y/type=negcentroid_id=0class_id=1\n"
     ]
    },
    {
     "name": "stderr",
     "output_type": "stream",
     "text": [
      "100%|██████████| 1000/1000 [05:03<00:00,  3.29it/s]\n"
     ]
    },
    {
     "name": "stdout",
     "output_type": "stream",
     "text": [
      "Saving X as ../results/data/X/type=poscentroid_id=4class_id=1\n",
      "Saving y as ../results/data/y/type=poscentroid_id=4class_id=1\n"
     ]
    },
    {
     "name": "stderr",
     "output_type": "stream",
     "text": [
      "100%|██████████| 1000/1000 [04:55<00:00,  3.39it/s]\n",
      " 12%|█▏        | 115/1000 [00:31<05:46,  2.55it/s]"
     ]
    },
    {
     "name": "stdout",
     "output_type": "stream",
     "text": [
      "Saving X as ../results/data/X/type=negcentroid_id=1class_id=1\n",
      "Saving y as ../results/data/y/type=negcentroid_id=1class_id=1\n"
     ]
    },
    {
     "name": "stderr",
     "output_type": "stream",
     "text": [
      "100%|██████████| 1000/1000 [04:49<00:00,  3.46it/s]\n",
      "100%|██████████| 1000/1000 [04:56<00:00,  3.37it/s]\n",
      "100%|██████████| 1000/1000 [04:40<00:00,  3.56it/s]\n",
      "100%|██████████| 1000/1000 [05:01<00:00,  3.32it/s]\n"
     ]
    },
    {
     "name": "stdout",
     "output_type": "stream",
     "text": [
      "Saving X as ../results/data/X/type=negcentroid_id=2class_id=1\n",
      "Saving y as ../results/data/y/type=negcentroid_id=2class_id=1\n",
      "Saving X as ../results/data/X/type=negcentroid_id=3class_id=1\n",
      "Saving y as ../results/data/y/type=negcentroid_id=3class_id=1\n",
      "Saving X as ../results/data/X/type=negcentroid_id=4class_id=1\n",
      "Saving y as ../results/data/y/type=negcentroid_id=4class_id=1\n",
      "Saving X as ../results/data/X/type=negcentroid_id=5class_id=1\n",
      "Saving y as ../results/data/y/type=negcentroid_id=5class_id=1\n",
      "Loading X from ../results/data/X/type=poscentroid_id=0class_id=1\n",
      "Loading X from ../results/data/X/type=poscentroid_id=1class_id=1\n",
      "Loading X from ../results/data/X/type=poscentroid_id=2class_id=1\n",
      "Loading X from ../results/data/X/type=poscentroid_id=3class_id=1\n",
      "Loading X from ../results/data/X/type=poscentroid_id=4class_id=1\n",
      "Loading X from ../results/data/X/type=poscentroid_id=5class_id=1\n",
      "Loading y from ../results/data/y/type=poscentroid_id=0class_id=1\n",
      "Loading X from ../results/data/X/type=negcentroid_id=0class_id=1\n",
      "Loading X from ../results/data/X/type=negcentroid_id=1class_id=1\n",
      "Loading X from ../results/data/X/type=negcentroid_id=2class_id=1\n",
      "Loading X from ../results/data/X/type=negcentroid_id=3class_id=1\n",
      "Loading X from ../results/data/X/type=negcentroid_id=4class_id=1\n",
      "Loading X from ../results/data/X/type=negcentroid_id=5class_id=1\n",
      "Loading y from ../results/data/y/type=negcentroid_id=0class_id=1\n"
     ]
    },
    {
     "name": "stderr",
     "output_type": "stream",
     "text": [
      " 13%|████▉                                | 2/15 [1:50:21<11:52:28, 3288.32s/it]\n",
      "100%|████████████████████████████████████| 1000/1000 [00:00<00:00, 18540.41it/s]\u001b[A\n",
      "100%|██████████| 1000/1000 [04:33<00:00,  3.66it/s]\n",
      "100%|██████████| 1000/1000 [04:37<00:00,  3.60it/s]\n",
      "100%|██████████| 1000/1000 [04:57<00:00,  3.36it/s]\n",
      "100%|██████████| 1000/1000 [05:02<00:00,  3.31it/s]\n"
     ]
    },
    {
     "name": "stdout",
     "output_type": "stream",
     "text": [
      "Saving X as ../results/data/X/type=poscentroid_id=0class_id=2\n",
      "Saving y as ../results/data/y/type=poscentroid_id=0class_id=2\n",
      "Saving X as ../results/data/X/type=poscentroid_id=1class_id=2\n",
      "Saving y as ../results/data/y/type=poscentroid_id=1class_id=2\n",
      "Saving X as ../results/data/X/type=negcentroid_id=0class_id=2\n",
      "Saving y as ../results/data/y/type=negcentroid_id=0class_id=2\n",
      "Loading X from ../results/data/X/type=poscentroid_id=0class_id=2\n",
      "Loading X from ../results/data/X/type=poscentroid_id=1class_id=2\n",
      "Loading y from ../results/data/y/type=poscentroid_id=0class_id=2\n",
      "Loading X from ../results/data/X/type=negcentroid_id=0class_id=2\n",
      "Loading X from ../results/data/X/type=negcentroid_id=1class_id=2\n",
      "Loading y from ../results/data/y/type=negcentroid_id=0class_id=2\n"
     ]
    },
    {
     "name": "stderr",
     "output_type": "stream",
     "text": [
      "100%|██████████| 1000/1000 [04:26<00:00,  3.75it/s]\n",
      "  0%|          | 0/1000 [00:00<?, ?it/s] 3.28it/s]"
     ]
    },
    {
     "name": "stdout",
     "output_type": "stream",
     "text": [
      "Saving X as ../results/data/X/type=poscentroid_id=1class_id=2\n",
      "Saving y as ../results/data/y/type=poscentroid_id=1class_id=2\n"
     ]
    },
    {
     "name": "stderr",
     "output_type": "stream",
     "text": [
      "100%|██████████| 1000/1000 [04:27<00:00,  3.73it/s]\n",
      " 99%|█████████▉| 988/1000 [04:27<00:03,  3.12it/s]"
     ]
    },
    {
     "name": "stdout",
     "output_type": "stream",
     "text": [
      "Saving X as ../results/data/X/type=poscentroid_id=2class_id=2\n",
      "Saving y as ../results/data/y/type=poscentroid_id=2class_id=2\n"
     ]
    },
    {
     "name": "stderr",
     "output_type": "stream",
     "text": [
      "100%|██████████| 1000/1000 [04:31<00:00,  3.69it/s]\n",
      "100%|██████████| 1000/1000 [04:42<00:00,  3.54it/s]\n",
      "100%|██████████| 1000/1000 [04:16<00:00,  3.90it/s]\n",
      "100%|██████████| 1000/1000 [04:35<00:00,  3.63it/s]\n"
     ]
    },
    {
     "name": "stdout",
     "output_type": "stream",
     "text": [
      "Saving X as ../results/data/X/type=negcentroid_id=0class_id=2\n",
      "Saving y as ../results/data/y/type=negcentroid_id=0class_id=2\n",
      "Saving X as ../results/data/X/type=poscentroid_id=0class_id=2\n",
      "Saving y as ../results/data/y/type=poscentroid_id=0class_id=2\n",
      "Saving X as ../results/data/X/type=negcentroid_id=2class_id=2\n",
      "Saving y as ../results/data/y/type=negcentroid_id=2class_id=2\n",
      "Loading X from ../results/data/X/type=poscentroid_id=0class_id=2\n",
      "Loading X from ../results/data/X/type=poscentroid_id=1class_id=2\n",
      "Loading X from ../results/data/X/type=poscentroid_id=2class_id=2\n",
      "Loading y from ../results/data/y/type=poscentroid_id=0class_id=2\n",
      "Loading X from ../results/data/X/type=negcentroid_id=0class_id=2\n",
      "Loading X from ../results/data/X/type=negcentroid_id=1class_id=2\n",
      "Loading X from ../results/data/X/type=negcentroid_id=2class_id=2\n",
      "Loading y from ../results/data/y/type=negcentroid_id=0class_id=2\n"
     ]
    },
    {
     "name": "stderr",
     "output_type": "stream",
     "text": [
      "100%|██████████| 1000/1000 [04:29<00:00,  3.72it/s]\n",
      "  0%|          | 0/1000 [00:00<?, ?it/s] 4.83it/s]"
     ]
    },
    {
     "name": "stdout",
     "output_type": "stream",
     "text": [
      "Saving X as ../results/data/X/type=poscentroid_id=3class_id=2\n",
      "Saving y as ../results/data/y/type=poscentroid_id=3class_id=2\n"
     ]
    },
    {
     "name": "stderr",
     "output_type": "stream",
     "text": [
      "100%|██████████| 1000/1000 [04:34<00:00,  3.65it/s]\n",
      "  0%|          | 0/1000 [00:00<?, ?it/s] 1.45it/s]"
     ]
    },
    {
     "name": "stdout",
     "output_type": "stream",
     "text": [
      "Saving X as ../results/data/X/type=poscentroid_id=1class_id=2\n",
      "Saving y as ../results/data/y/type=poscentroid_id=1class_id=2\n"
     ]
    },
    {
     "name": "stderr",
     "output_type": "stream",
     "text": [
      "100%|██████████| 1000/1000 [04:38<00:00,  3.59it/s]\n",
      "  0%|          | 0/1000 [00:00<?, ?it/s] 3.86it/s]"
     ]
    },
    {
     "name": "stdout",
     "output_type": "stream",
     "text": [
      "Saving X as ../results/data/X/type=poscentroid_id=0class_id=2\n",
      "Saving y as ../results/data/y/type=poscentroid_id=0class_id=2\n"
     ]
    },
    {
     "name": "stderr",
     "output_type": "stream",
     "text": [
      "100%|██████████| 1000/1000 [04:56<00:00,  3.37it/s]\n",
      " 10%|█         | 100/1000 [00:27<04:03,  3.69it/s]"
     ]
    },
    {
     "name": "stdout",
     "output_type": "stream",
     "text": [
      "Saving X as ../results/data/X/type=poscentroid_id=2class_id=2\n",
      "Saving y as ../results/data/y/type=poscentroid_id=2class_id=2\n"
     ]
    },
    {
     "name": "stderr",
     "output_type": "stream",
     "text": [
      "100%|██████████| 1000/1000 [04:39<00:00,  3.58it/s]\n",
      "100%|██████████| 1000/1000 [04:47<00:00,  3.48it/s]\n",
      "100%|██████████| 1000/1000 [04:40<00:00,  3.57it/s]\n",
      "100%|██████████| 1000/1000 [04:34<00:00,  3.65it/s]\n"
     ]
    },
    {
     "name": "stdout",
     "output_type": "stream",
     "text": [
      "Saving X as ../results/data/X/type=negcentroid_id=1class_id=2\n",
      "Saving y as ../results/data/y/type=negcentroid_id=1class_id=2\n",
      "Saving X as ../results/data/X/type=negcentroid_id=0class_id=2\n",
      "Saving y as ../results/data/y/type=negcentroid_id=0class_id=2\n",
      "Loading X from ../results/data/X/type=poscentroid_id=0class_id=2\n",
      "Loading X from ../results/data/X/type=poscentroid_id=1class_id=2\n",
      "Loading X from ../results/data/X/type=poscentroid_id=2class_id=2\n",
      "Loading X from ../results/data/X/type=poscentroid_id=3class_id=2\n",
      "Loading y from ../results/data/y/type=poscentroid_id=0class_id=2\n",
      "Loading X from ../results/data/X/type=negcentroid_id=0class_id=2\n",
      "Loading X from ../results/data/X/type=negcentroid_id=1class_id=2\n",
      "Loading X from ../results/data/X/type=negcentroid_id=2class_id=2\n",
      "Loading X from ../results/data/X/type=negcentroid_id=3class_id=2\n",
      "Loading y from ../results/data/y/type=negcentroid_id=0class_id=2\n"
     ]
    },
    {
     "name": "stderr",
     "output_type": "stream",
     "text": [
      "100%|██████████| 1000/1000 [04:38<00:00,  3.59it/s]\n",
      "  0%|          | 0/1000 [00:00<?, ?it/s] 5.52it/s]"
     ]
    },
    {
     "name": "stdout",
     "output_type": "stream",
     "text": [
      "Saving X as ../results/data/X/type=poscentroid_id=2class_id=2\n",
      "Saving y as ../results/data/y/type=poscentroid_id=2class_id=2\n"
     ]
    },
    {
     "name": "stderr",
     "output_type": "stream",
     "text": [
      "100%|██████████| 1000/1000 [04:47<00:00,  3.48it/s]\n"
     ]
    },
    {
     "name": "stdout",
     "output_type": "stream",
     "text": [
      "Saving X as ../results/data/X/type=poscentroid_id=1class_id=2\n",
      "Saving y as ../results/data/y/type=poscentroid_id=1class_id=2\n"
     ]
    },
    {
     "name": "stderr",
     "output_type": "stream",
     "text": [
      "100%|██████████| 1000/1000 [05:00<00:00,  3.33it/s]\n",
      "  0%|          | 0/1000 [00:00<?, ?it/s] 4.44it/s]"
     ]
    },
    {
     "name": "stdout",
     "output_type": "stream",
     "text": [
      "Saving X as ../results/data/X/type=poscentroid_id=3class_id=2\n",
      "Saving y as ../results/data/y/type=poscentroid_id=3class_id=2\n"
     ]
    },
    {
     "name": "stderr",
     "output_type": "stream",
     "text": [
      "100%|██████████| 1000/1000 [05:09<00:00,  3.23it/s]\n",
      "  0%|          | 0/1000 [00:00<?, ?it/s]2.43it/s]"
     ]
    },
    {
     "name": "stdout",
     "output_type": "stream",
     "text": [
      "Saving X as ../results/data/X/type=poscentroid_id=0class_id=2\n",
      "Saving y as ../results/data/y/type=poscentroid_id=0class_id=2\n"
     ]
    },
    {
     "name": "stderr",
     "output_type": "stream",
     "text": [
      "100%|██████████| 1000/1000 [04:33<00:00,  3.65it/s]\n"
     ]
    },
    {
     "name": "stdout",
     "output_type": "stream",
     "text": [
      "Saving X as ../results/data/X/type=negcentroid_id=0class_id=2\n",
      "Saving y as ../results/data/y/type=negcentroid_id=0class_id=2\n"
     ]
    },
    {
     "name": "stderr",
     "output_type": "stream",
     "text": [
      "100%|██████████| 1000/1000 [04:34<00:00,  3.65it/s]\n",
      "  0%|          | 0/1000 [00:00<?, ?it/s] 4.84it/s]"
     ]
    },
    {
     "name": "stdout",
     "output_type": "stream",
     "text": [
      "Saving X as ../results/data/X/type=negcentroid_id=1class_id=2\n",
      "Saving y as ../results/data/y/type=negcentroid_id=1class_id=2\n"
     ]
    },
    {
     "name": "stderr",
     "output_type": "stream",
     "text": [
      "100%|██████████| 1000/1000 [04:33<00:00,  3.66it/s]\n",
      "100%|██████████| 1000/1000 [05:05<00:00,  3.27it/s]\n",
      "100%|██████████| 1000/1000 [04:23<00:00,  3.79it/s]\n",
      "100%|██████████| 1000/1000 [04:19<00:00,  3.85it/s]\n"
     ]
    },
    {
     "name": "stdout",
     "output_type": "stream",
     "text": [
      "Saving X as ../results/data/X/type=negcentroid_id=2class_id=2\n",
      "Saving y as ../results/data/y/type=negcentroid_id=2class_id=2\n",
      "Saving X as ../results/data/X/type=poscentroid_id=4class_id=2\n",
      "Saving y as ../results/data/y/type=poscentroid_id=4class_id=2\n",
      "Loading X from ../results/data/X/type=poscentroid_id=0class_id=2\n",
      "Loading X from ../results/data/X/type=poscentroid_id=1class_id=2\n",
      "Loading X from ../results/data/X/type=poscentroid_id=2class_id=2\n",
      "Loading X from ../results/data/X/type=poscentroid_id=3class_id=2\n",
      "Loading X from ../results/data/X/type=poscentroid_id=4class_id=2\n",
      "Loading y from ../results/data/y/type=poscentroid_id=0class_id=2\n",
      "Loading X from ../results/data/X/type=negcentroid_id=0class_id=2\n",
      "Loading X from ../results/data/X/type=negcentroid_id=1class_id=2\n",
      "Loading X from ../results/data/X/type=negcentroid_id=2class_id=2\n",
      "Loading X from ../results/data/X/type=negcentroid_id=3class_id=2\n",
      "Loading X from ../results/data/X/type=negcentroid_id=4class_id=2\n",
      "Loading y from ../results/data/y/type=negcentroid_id=0class_id=2\n"
     ]
    },
    {
     "name": "stderr",
     "output_type": "stream",
     "text": [
      "100%|██████████| 1000/1000 [04:32<00:00,  3.68it/s]\n",
      " 97%|█████████▋| 967/1000 [04:32<00:06,  5.20it/s]"
     ]
    },
    {
     "name": "stdout",
     "output_type": "stream",
     "text": [
      "Saving X as ../results/data/X/type=poscentroid_id=3class_id=2\n",
      "Saving y as ../results/data/y/type=poscentroid_id=3class_id=2\n"
     ]
    },
    {
     "name": "stderr",
     "output_type": "stream",
     "text": [
      "100%|██████████| 1000/1000 [04:37<00:00,  3.61it/s]\n",
      "  0%|          | 0/1000 [00:00<?, ?it/s]3.28it/s]]"
     ]
    },
    {
     "name": "stdout",
     "output_type": "stream",
     "text": [
      "Saving X as ../results/data/X/type=poscentroid_id=0class_id=2\n",
      "Saving y as ../results/data/y/type=poscentroid_id=0class_id=2\n"
     ]
    },
    {
     "name": "stderr",
     "output_type": "stream",
     "text": [
      "100%|██████████| 1000/1000 [04:38<00:00,  3.59it/s]\n",
      "  1%|          | 6/1000 [00:01<02:54,  5.69it/s]s]"
     ]
    },
    {
     "name": "stdout",
     "output_type": "stream",
     "text": [
      "Saving X as ../results/data/X/type=poscentroid_id=2class_id=2\n",
      "Saving y as ../results/data/y/type=poscentroid_id=2class_id=2\n"
     ]
    },
    {
     "name": "stderr",
     "output_type": "stream",
     "text": [
      "100%|██████████| 1000/1000 [04:40<00:00,  3.56it/s]\n",
      "  0%|          | 0/1000 [00:00<?, ?it/s]"
     ]
    },
    {
     "name": "stdout",
     "output_type": "stream",
     "text": [
      "Saving X as ../results/data/X/type=poscentroid_id=1class_id=2\n",
      "Saving y as ../results/data/y/type=poscentroid_id=1class_id=2\n"
     ]
    },
    {
     "name": "stderr",
     "output_type": "stream",
     "text": [
      "100%|██████████| 1000/1000 [04:30<00:00,  3.70it/s]\n",
      "  0%|          | 0/1000 [00:00<?, ?it/s] 4.94it/s]"
     ]
    },
    {
     "name": "stdout",
     "output_type": "stream",
     "text": [
      "Saving X as ../results/data/X/type=negcentroid_id=0class_id=2\n",
      "Saving y as ../results/data/y/type=negcentroid_id=0class_id=2\n"
     ]
    },
    {
     "name": "stderr",
     "output_type": "stream",
     "text": [
      "100%|██████████| 1000/1000 [04:44<00:00,  3.52it/s]\n",
      " 98%|█████████▊| 976/1000 [04:36<00:05,  4.61it/s]"
     ]
    },
    {
     "name": "stdout",
     "output_type": "stream",
     "text": [
      "Saving X as ../results/data/X/type=poscentroid_id=4class_id=2\n",
      "Saving y as ../results/data/y/type=poscentroid_id=4class_id=2\n"
     ]
    },
    {
     "name": "stderr",
     "output_type": "stream",
     "text": [
      "100%|██████████| 1000/1000 [04:45<00:00,  3.50it/s]\n",
      "100%|█████████▉| 997/1000 [04:42<00:00,  3.22it/s]"
     ]
    },
    {
     "name": "stdout",
     "output_type": "stream",
     "text": [
      "Saving X as ../results/data/X/type=poscentroid_id=5class_id=2\n",
      "Saving y as ../results/data/y/type=poscentroid_id=5class_id=2\n"
     ]
    },
    {
     "name": "stderr",
     "output_type": "stream",
     "text": [
      "100%|██████████| 1000/1000 [04:42<00:00,  3.54it/s]\n",
      "  0%|          | 0/1000 [00:00<?, ?it/s]"
     ]
    },
    {
     "name": "stdout",
     "output_type": "stream",
     "text": [
      "Saving X as ../results/data/X/type=negcentroid_id=1class_id=2\n",
      "Saving y as ../results/data/y/type=negcentroid_id=1class_id=2\n"
     ]
    },
    {
     "name": "stderr",
     "output_type": "stream",
     "text": [
      "100%|██████████| 1000/1000 [04:28<00:00,  3.72it/s]\n",
      "100%|██████████| 1000/1000 [04:40<00:00,  3.57it/s]\n",
      "100%|██████████| 1000/1000 [04:32<00:00,  3.68it/s]\n",
      "100%|██████████| 1000/1000 [04:55<00:00,  3.38it/s]\n"
     ]
    },
    {
     "name": "stdout",
     "output_type": "stream",
     "text": [
      "Saving X as ../results/data/X/type=negcentroid_id=3class_id=2\n",
      "Saving y as ../results/data/y/type=negcentroid_id=3class_id=2\n",
      "Saving X as ../results/data/X/type=negcentroid_id=2class_id=2\n",
      "Saving y as ../results/data/y/type=negcentroid_id=2class_id=2\n",
      "Saving X as ../results/data/X/type=negcentroid_id=5class_id=2\n",
      "Saving y as ../results/data/y/type=negcentroid_id=5class_id=2\n",
      "Loading X from ../results/data/X/type=poscentroid_id=0class_id=2\n",
      "Loading X from ../results/data/X/type=poscentroid_id=1class_id=2\n",
      "Loading X from ../results/data/X/type=poscentroid_id=2class_id=2\n",
      "Loading X from ../results/data/X/type=poscentroid_id=3class_id=2\n",
      "Loading X from ../results/data/X/type=poscentroid_id=4class_id=2\n",
      "Loading X from ../results/data/X/type=poscentroid_id=5class_id=2\n",
      "Loading y from ../results/data/y/type=poscentroid_id=0class_id=2\n",
      "Loading X from ../results/data/X/type=negcentroid_id=0class_id=2\n",
      "Loading X from ../results/data/X/type=negcentroid_id=1class_id=2\n",
      "Loading X from ../results/data/X/type=negcentroid_id=2class_id=2\n",
      "Loading X from ../results/data/X/type=negcentroid_id=3class_id=2\n",
      "Loading X from ../results/data/X/type=negcentroid_id=4class_id=2\n",
      "Loading X from ../results/data/X/type=negcentroid_id=5class_id=2\n",
      "Loading y from ../results/data/y/type=negcentroid_id=0class_id=2\n"
     ]
    },
    {
     "name": "stderr",
     "output_type": "stream",
     "text": [
      " 20%|███████▍                             | 3/15 [2:42:24<10:42:32, 3212.70s/it]\n",
      "100%|████████████████████████████████████| 1000/1000 [00:00<00:00, 13560.20it/s]\u001b[A\n",
      "100%|██████████| 1000/1000 [04:49<00:00,  3.45it/s]\n",
      "100%|██████████| 1000/1000 [04:53<00:00,  3.40it/s]\n",
      "100%|██████████| 1000/1000 [04:56<00:00,  3.37it/s]\n",
      "100%|██████████| 1000/1000 [05:03<00:00,  3.30it/s]\n"
     ]
    },
    {
     "name": "stdout",
     "output_type": "stream",
     "text": [
      "Saving X as ../results/data/X/type=poscentroid_id=1class_id=3\n",
      "Saving y as ../results/data/y/type=poscentroid_id=1class_id=3\n",
      "Saving X as ../results/data/X/type=poscentroid_id=0class_id=3\n",
      "Saving y as ../results/data/y/type=poscentroid_id=0class_id=3\n",
      "Loading X from ../results/data/X/type=poscentroid_id=0class_id=3\n",
      "Loading X from ../results/data/X/type=poscentroid_id=1class_id=3\n",
      "Loading y from ../results/data/y/type=poscentroid_id=0class_id=3\n",
      "Loading X from ../results/data/X/type=negcentroid_id=0class_id=3\n",
      "Loading X from ../results/data/X/type=negcentroid_id=1class_id=3\n",
      "Loading y from ../results/data/y/type=negcentroid_id=0class_id=3\n"
     ]
    },
    {
     "name": "stderr",
     "output_type": "stream",
     "text": [
      "100%|██████████| 1000/1000 [04:41<00:00,  3.55it/s]\n",
      "  0%|          | 0/1000 [00:00<?, ?it/s] 4.00it/s]"
     ]
    },
    {
     "name": "stdout",
     "output_type": "stream",
     "text": [
      "Saving X as ../results/data/X/type=poscentroid_id=0class_id=3\n",
      "Saving y as ../results/data/y/type=poscentroid_id=0class_id=3\n"
     ]
    },
    {
     "name": "stderr",
     "output_type": "stream",
     "text": [
      "100%|██████████| 1000/1000 [04:55<00:00,  3.39it/s]\n",
      "  4%|▍         | 45/1000 [00:13<03:13,  4.94it/s]]"
     ]
    },
    {
     "name": "stdout",
     "output_type": "stream",
     "text": [
      "Saving X as ../results/data/X/type=negcentroid_id=0class_id=3\n",
      "Saving y as ../results/data/y/type=negcentroid_id=0class_id=3\n"
     ]
    },
    {
     "name": "stderr",
     "output_type": "stream",
     "text": [
      "100%|██████████| 1000/1000 [04:56<00:00,  3.37it/s]\n",
      "100%|██████████| 1000/1000 [05:01<00:00,  3.32it/s]\n",
      "100%|██████████| 1000/1000 [04:43<00:00,  3.53it/s]\n",
      "100%|██████████| 1000/1000 [04:48<00:00,  3.46it/s]\n"
     ]
    },
    {
     "name": "stdout",
     "output_type": "stream",
     "text": [
      "Saving X as ../results/data/X/type=poscentroid_id=1class_id=3\n",
      "Saving y as ../results/data/y/type=poscentroid_id=1class_id=3\n",
      "Saving X as ../results/data/X/type=poscentroid_id=2class_id=3\n",
      "Saving y as ../results/data/y/type=poscentroid_id=2class_id=3\n",
      "Saving X as ../results/data/X/type=negcentroid_id=1class_id=3\n",
      "Saving y as ../results/data/y/type=negcentroid_id=1class_id=3\n",
      "Loading X from ../results/data/X/type=poscentroid_id=0class_id=3\n",
      "Loading X from ../results/data/X/type=poscentroid_id=1class_id=3\n",
      "Loading X from ../results/data/X/type=poscentroid_id=2class_id=3\n",
      "Loading y from ../results/data/y/type=poscentroid_id=0class_id=3\n",
      "Loading X from ../results/data/X/type=negcentroid_id=0class_id=3\n",
      "Loading X from ../results/data/X/type=negcentroid_id=1class_id=3\n",
      "Loading X from ../results/data/X/type=negcentroid_id=2class_id=3\n",
      "Loading y from ../results/data/y/type=negcentroid_id=0class_id=3\n"
     ]
    },
    {
     "name": "stderr",
     "output_type": "stream",
     "text": [
      "100%|██████████| 1000/1000 [04:45<00:00,  3.50it/s]\n",
      "  0%|          | 0/1000 [00:00<?, ?it/s] 2.94it/s]"
     ]
    },
    {
     "name": "stdout",
     "output_type": "stream",
     "text": [
      "Saving X as ../results/data/X/type=poscentroid_id=1class_id=3\n",
      "Saving y as ../results/data/y/type=poscentroid_id=1class_id=3\n"
     ]
    },
    {
     "name": "stderr",
     "output_type": "stream",
     "text": [
      "100%|██████████| 1000/1000 [04:52<00:00,  3.42it/s]\n",
      "  0%|          | 0/1000 [00:00<?, ?it/s]4.17it/s]]"
     ]
    },
    {
     "name": "stdout",
     "output_type": "stream",
     "text": [
      "Saving X as ../results/data/X/type=poscentroid_id=3class_id=3\n",
      "Saving y as ../results/data/y/type=poscentroid_id=3class_id=3\n"
     ]
    },
    {
     "name": "stderr",
     "output_type": "stream",
     "text": [
      "100%|██████████| 1000/1000 [05:05<00:00,  3.27it/s]\n",
      "  6%|▌         | 57/1000 [00:20<03:56,  4.00it/s]]"
     ]
    },
    {
     "name": "stdout",
     "output_type": "stream",
     "text": [
      "Saving X as ../results/data/X/type=poscentroid_id=2class_id=3\n",
      "Saving y as ../results/data/y/type=poscentroid_id=2class_id=3\n"
     ]
    },
    {
     "name": "stderr",
     "output_type": "stream",
     "text": [
      "100%|██████████| 1000/1000 [05:13<00:00,  3.19it/s]\n",
      "  6%|▌         | 60/1000 [00:21<05:11,  3.02it/s]"
     ]
    },
    {
     "name": "stdout",
     "output_type": "stream",
     "text": [
      "Saving X as ../results/data/X/type=poscentroid_id=0class_id=3\n",
      "Saving y as ../results/data/y/type=poscentroid_id=0class_id=3\n"
     ]
    },
    {
     "name": "stderr",
     "output_type": "stream",
     "text": [
      "100%|██████████| 1000/1000 [05:01<00:00,  3.32it/s]\n",
      "100%|██████████| 1000/1000 [04:54<00:00,  3.39it/s]\n",
      "100%|██████████| 1000/1000 [04:59<00:00,  3.34it/s]\n",
      "100%|██████████| 1000/1000 [05:40<00:00,  2.93it/s]\n"
     ]
    },
    {
     "name": "stdout",
     "output_type": "stream",
     "text": [
      "Saving X as ../results/data/X/type=negcentroid_id=0class_id=3\n",
      "Saving y as ../results/data/y/type=negcentroid_id=0class_id=3\n",
      "Saving X as ../results/data/X/type=negcentroid_id=1class_id=3\n",
      "Saving y as ../results/data/y/type=negcentroid_id=1class_id=3\n",
      "Saving X as ../results/data/X/type=negcentroid_id=3class_id=3\n",
      "Saving y as ../results/data/y/type=negcentroid_id=3class_id=3\n",
      "Loading X from ../results/data/X/type=poscentroid_id=0class_id=3\n",
      "Loading X from ../results/data/X/type=poscentroid_id=1class_id=3\n",
      "Loading X from ../results/data/X/type=poscentroid_id=2class_id=3\n",
      "Loading X from ../results/data/X/type=poscentroid_id=3class_id=3\n",
      "Loading y from ../results/data/y/type=poscentroid_id=0class_id=3\n",
      "Loading X from ../results/data/X/type=negcentroid_id=0class_id=3\n",
      "Loading X from ../results/data/X/type=negcentroid_id=1class_id=3\n",
      "Loading X from ../results/data/X/type=negcentroid_id=2class_id=3\n",
      "Loading X from ../results/data/X/type=negcentroid_id=3class_id=3\n",
      "Loading y from ../results/data/y/type=negcentroid_id=0class_id=3\n"
     ]
    },
    {
     "name": "stderr",
     "output_type": "stream",
     "text": [
      "100%|██████████| 1000/1000 [04:55<00:00,  3.38it/s]\n",
      "  0%|          | 0/1000 [00:00<?, ?it/s]"
     ]
    },
    {
     "name": "stdout",
     "output_type": "stream",
     "text": [
      "Saving X as ../results/data/X/type=poscentroid_id=1class_id=3\n",
      "Saving y as ../results/data/y/type=poscentroid_id=1class_id=3\n"
     ]
    },
    {
     "name": "stderr",
     "output_type": "stream",
     "text": [
      "100%|██████████| 1000/1000 [04:57<00:00,  3.36it/s]\n",
      "100%|█████████▉| 997/1000 [04:57<00:00,  3.82it/s]"
     ]
    },
    {
     "name": "stdout",
     "output_type": "stream",
     "text": [
      "Saving X as ../results/data/X/type=poscentroid_id=0class_id=3\n",
      "Saving y as ../results/data/y/type=poscentroid_id=0class_id=3\n"
     ]
    },
    {
     "name": "stderr",
     "output_type": "stream",
     "text": [
      "100%|██████████| 1000/1000 [04:58<00:00,  3.35it/s]\n",
      "  0%|          | 2/1000 [00:00<05:57,  2.79it/s]s]"
     ]
    },
    {
     "name": "stdout",
     "output_type": "stream",
     "text": [
      "Saving X as ../results/data/X/type=poscentroid_id=3class_id=3\n",
      "Saving y as ../results/data/y/type=poscentroid_id=3class_id=3\n"
     ]
    },
    {
     "name": "stderr",
     "output_type": "stream",
     "text": [
      "100%|██████████| 1000/1000 [04:59<00:00,  3.34it/s]\n",
      "  0%|          | 2/1000 [00:00<05:59,  2.78it/s]]"
     ]
    },
    {
     "name": "stdout",
     "output_type": "stream",
     "text": [
      "Saving X as ../results/data/X/type=poscentroid_id=2class_id=3\n",
      "Saving y as ../results/data/y/type=poscentroid_id=2class_id=3\n"
     ]
    },
    {
     "name": "stderr",
     "output_type": "stream",
     "text": [
      "100%|██████████| 1000/1000 [04:51<00:00,  3.44it/s]\n",
      " 99%|█████████▊| 987/1000 [04:55<00:03,  3.89it/s]"
     ]
    },
    {
     "name": "stdout",
     "output_type": "stream",
     "text": [
      "Saving X as ../results/data/X/type=negcentroid_id=2class_id=3\n",
      "Saving y as ../results/data/y/type=negcentroid_id=2class_id=3\n"
     ]
    },
    {
     "name": "stderr",
     "output_type": "stream",
     "text": [
      "100%|██████████| 1000/1000 [04:54<00:00,  3.40it/s]\n",
      "  0%|          | 0/1000 [00:00<?, ?it/s] 3.47it/s]"
     ]
    },
    {
     "name": "stdout",
     "output_type": "stream",
     "text": [
      "Saving X as ../results/data/X/type=negcentroid_id=1class_id=3\n",
      "Saving y as ../results/data/y/type=negcentroid_id=1class_id=3\n"
     ]
    },
    {
     "name": "stderr",
     "output_type": "stream",
     "text": [
      "100%|██████████| 1000/1000 [05:00<00:00,  3.33it/s]\n",
      "100%|██████████| 1000/1000 [05:01<00:00,  3.31it/s]\n",
      "100%|██████████| 1000/1000 [04:33<00:00,  3.66it/s]\n",
      "100%|██████████| 1000/1000 [04:39<00:00,  3.58it/s]\n"
     ]
    },
    {
     "name": "stdout",
     "output_type": "stream",
     "text": [
      "Saving X as ../results/data/X/type=poscentroid_id=4class_id=3\n",
      "Saving y as ../results/data/y/type=poscentroid_id=4class_id=3\n",
      "Saving X as ../results/data/X/type=negcentroid_id=0class_id=3\n",
      "Saving y as ../results/data/y/type=negcentroid_id=0class_id=3\n",
      "Loading X from ../results/data/X/type=poscentroid_id=0class_id=3\n",
      "Loading X from ../results/data/X/type=poscentroid_id=1class_id=3\n",
      "Loading X from ../results/data/X/type=poscentroid_id=2class_id=3\n",
      "Loading X from ../results/data/X/type=poscentroid_id=3class_id=3\n",
      "Loading X from ../results/data/X/type=poscentroid_id=4class_id=3\n",
      "Loading y from ../results/data/y/type=poscentroid_id=0class_id=3\n",
      "Loading X from ../results/data/X/type=negcentroid_id=0class_id=3\n",
      "Loading X from ../results/data/X/type=negcentroid_id=1class_id=3\n",
      "Loading X from ../results/data/X/type=negcentroid_id=2class_id=3\n",
      "Loading X from ../results/data/X/type=negcentroid_id=3class_id=3\n",
      "Loading X from ../results/data/X/type=negcentroid_id=4class_id=3\n",
      "Loading y from ../results/data/y/type=negcentroid_id=0class_id=3\n"
     ]
    },
    {
     "name": "stderr",
     "output_type": "stream",
     "text": [
      "100%|██████████| 1000/1000 [04:44<00:00,  3.52it/s]\n",
      "  0%|          | 0/1000 [00:00<?, ?it/s] 2.85it/s]"
     ]
    },
    {
     "name": "stdout",
     "output_type": "stream",
     "text": [
      "Saving X as ../results/data/X/type=poscentroid_id=2class_id=3\n",
      "Saving y as ../results/data/y/type=poscentroid_id=2class_id=3\n"
     ]
    },
    {
     "name": "stderr",
     "output_type": "stream",
     "text": [
      "100%|██████████| 1000/1000 [04:49<00:00,  3.45it/s]\n",
      " 98%|█████████▊| 980/1000 [04:50<00:04,  4.03it/s]"
     ]
    },
    {
     "name": "stdout",
     "output_type": "stream",
     "text": [
      "Saving X as ../results/data/X/type=poscentroid_id=3class_id=3\n",
      "Saving y as ../results/data/y/type=poscentroid_id=3class_id=3\n"
     ]
    },
    {
     "name": "stderr",
     "output_type": "stream",
     "text": [
      "100%|██████████| 1000/1000 [04:57<00:00,  3.36it/s]\n",
      "  2%|▏         | 23/1000 [00:07<03:40,  4.42it/s]]"
     ]
    },
    {
     "name": "stdout",
     "output_type": "stream",
     "text": [
      "Saving X as ../results/data/X/type=poscentroid_id=0class_id=3\n",
      "Saving y as ../results/data/y/type=poscentroid_id=0class_id=3\n"
     ]
    },
    {
     "name": "stderr",
     "output_type": "stream",
     "text": [
      "100%|██████████| 1000/1000 [05:07<00:00,  3.25it/s]\n",
      "  0%|          | 0/1000 [00:00<?, ?it/s]"
     ]
    },
    {
     "name": "stdout",
     "output_type": "stream",
     "text": [
      "Saving X as ../results/data/X/type=poscentroid_id=1class_id=3\n",
      "Saving y as ../results/data/y/type=poscentroid_id=1class_id=3\n"
     ]
    },
    {
     "name": "stderr",
     "output_type": "stream",
     "text": [
      "100%|██████████| 1000/1000 [04:58<00:00,  3.35it/s]\n",
      "  0%|          | 0/1000 [00:00<?, ?it/s] 2.34it/s]"
     ]
    },
    {
     "name": "stdout",
     "output_type": "stream",
     "text": [
      "Saving X as ../results/data/X/type=poscentroid_id=4class_id=3\n",
      "Saving y as ../results/data/y/type=poscentroid_id=4class_id=3\n"
     ]
    },
    {
     "name": "stderr",
     "output_type": "stream",
     "text": [
      "100%|██████████| 1000/1000 [04:49<00:00,  3.46it/s]\n",
      "  0%|          | 0/1000 [00:00<?, ?it/s] 3.42it/s]"
     ]
    },
    {
     "name": "stdout",
     "output_type": "stream",
     "text": [
      "Saving X as ../results/data/X/type=negcentroid_id=0class_id=3\n",
      "Saving y as ../results/data/y/type=negcentroid_id=0class_id=3\n"
     ]
    },
    {
     "name": "stderr",
     "output_type": "stream",
     "text": [
      "100%|██████████| 1000/1000 [05:02<00:00,  3.30it/s]\n",
      "  2%|▏         | 18/1000 [00:06<04:26,  3.68it/s]"
     ]
    },
    {
     "name": "stdout",
     "output_type": "stream",
     "text": [
      "Saving X as ../results/data/X/type=poscentroid_id=5class_id=3\n",
      "Saving y as ../results/data/y/type=poscentroid_id=5class_id=3\n"
     ]
    },
    {
     "name": "stderr",
     "output_type": "stream",
     "text": [
      "100%|██████████| 1000/1000 [04:51<00:00,  3.43it/s]\n",
      "  4%|▍         | 38/1000 [00:12<05:19,  3.02it/s]"
     ]
    },
    {
     "name": "stdout",
     "output_type": "stream",
     "text": [
      "Saving X as ../results/data/X/type=negcentroid_id=1class_id=3\n",
      "Saving y as ../results/data/y/type=negcentroid_id=1class_id=3\n"
     ]
    },
    {
     "name": "stderr",
     "output_type": "stream",
     "text": [
      "100%|██████████| 1000/1000 [05:01<00:00,  3.32it/s]\n",
      "100%|██████████| 1000/1000 [04:52<00:00,  3.42it/s]\n",
      "100%|██████████| 1000/1000 [05:04<00:00,  3.29it/s]\n",
      "100%|██████████| 1000/1000 [04:54<00:00,  3.39it/s]\n"
     ]
    },
    {
     "name": "stdout",
     "output_type": "stream",
     "text": [
      "Saving X as ../results/data/X/type=negcentroid_id=2class_id=3\n",
      "Saving y as ../results/data/y/type=negcentroid_id=2class_id=3\n",
      "Saving X as ../results/data/X/type=negcentroid_id=4class_id=3\n",
      "Saving y as ../results/data/y/type=negcentroid_id=4class_id=3\n",
      "Saving X as ../results/data/X/type=negcentroid_id=3class_id=3\n",
      "Saving y as ../results/data/y/type=negcentroid_id=3class_id=3\n",
      "Loading X from ../results/data/X/type=poscentroid_id=0class_id=3\n",
      "Loading X from ../results/data/X/type=poscentroid_id=1class_id=3\n",
      "Loading X from ../results/data/X/type=poscentroid_id=2class_id=3\n",
      "Loading X from ../results/data/X/type=poscentroid_id=3class_id=3\n",
      "Loading X from ../results/data/X/type=poscentroid_id=4class_id=3\n",
      "Loading X from ../results/data/X/type=poscentroid_id=5class_id=3\n",
      "Loading y from ../results/data/y/type=poscentroid_id=0class_id=3\n",
      "Loading X from ../results/data/X/type=negcentroid_id=0class_id=3\n",
      "Loading X from ../results/data/X/type=negcentroid_id=1class_id=3\n",
      "Loading X from ../results/data/X/type=negcentroid_id=2class_id=3\n",
      "Loading X from ../results/data/X/type=negcentroid_id=3class_id=3\n",
      "Loading X from ../results/data/X/type=negcentroid_id=4class_id=3\n",
      "Loading X from ../results/data/X/type=negcentroid_id=5class_id=3\n",
      "Loading y from ../results/data/y/type=negcentroid_id=0class_id=3\n"
     ]
    },
    {
     "name": "stderr",
     "output_type": "stream",
     "text": [
      " 27%|██████████▏                           | 4/15 [3:37:37<9:56:16, 3252.45s/it]\n",
      "100%|████████████████████████████████████| 1000/1000 [00:00<00:00, 13766.12it/s]\u001b[A\n",
      "100%|██████████| 1000/1000 [05:30<00:00,  3.03it/s]\n",
      "100%|██████████| 1000/1000 [05:31<00:00,  3.02it/s]\n",
      "100%|██████████| 1000/1000 [05:38<00:00,  2.95it/s]\n",
      "100%|██████████| 1000/1000 [05:51<00:00,  2.84it/s]\n"
     ]
    },
    {
     "name": "stdout",
     "output_type": "stream",
     "text": [
      "Saving X as ../results/data/X/type=poscentroid_id=1class_id=4\n",
      "Saving y as ../results/data/y/type=poscentroid_id=1class_id=4\n",
      "Saving X as ../results/data/X/type=negcentroid_id=1class_id=4\n",
      "Saving y as ../results/data/y/type=negcentroid_id=1class_id=4\n",
      "Loading X from ../results/data/X/type=poscentroid_id=0class_id=4\n",
      "Loading X from ../results/data/X/type=poscentroid_id=1class_id=4\n",
      "Loading y from ../results/data/y/type=poscentroid_id=0class_id=4\n",
      "Loading X from ../results/data/X/type=negcentroid_id=0class_id=4\n",
      "Loading X from ../results/data/X/type=negcentroid_id=1class_id=4\n",
      "Loading y from ../results/data/y/type=negcentroid_id=0class_id=4\n"
     ]
    },
    {
     "name": "stderr",
     "output_type": "stream",
     "text": [
      "100%|██████████| 1000/1000 [05:34<00:00,  2.99it/s]\n",
      " 94%|█████████▎| 936/1000 [05:34<00:16,  3.98it/s]"
     ]
    },
    {
     "name": "stdout",
     "output_type": "stream",
     "text": [
      "Saving X as ../results/data/X/type=poscentroid_id=1class_id=4\n",
      "Saving y as ../results/data/y/type=poscentroid_id=1class_id=4\n"
     ]
    },
    {
     "name": "stderr",
     "output_type": "stream",
     "text": [
      "100%|██████████| 1000/1000 [05:39<00:00,  2.95it/s]\n",
      "  0%|          | 0/1000 [00:00<?, ?it/s] 3.61it/s]"
     ]
    },
    {
     "name": "stdout",
     "output_type": "stream",
     "text": [
      "Saving X as ../results/data/X/type=negcentroid_id=0class_id=4\n",
      "Saving y as ../results/data/y/type=negcentroid_id=0class_id=4\n"
     ]
    },
    {
     "name": "stderr",
     "output_type": "stream",
     "text": [
      "100%|██████████| 1000/1000 [05:52<00:00,  2.84it/s]\n",
      "100%|██████████| 1000/1000 [05:52<00:00,  2.83it/s]\n",
      "100%|██████████| 1000/1000 [05:15<00:00,  3.17it/s]\n",
      "100%|██████████| 1000/1000 [05:41<00:00,  2.92it/s]\n"
     ]
    },
    {
     "name": "stdout",
     "output_type": "stream",
     "text": [
      "Saving X as ../results/data/X/type=poscentroid_id=2class_id=4\n",
      "Saving y as ../results/data/y/type=poscentroid_id=2class_id=4\n",
      "Saving X as ../results/data/X/type=poscentroid_id=0class_id=4\n",
      "Saving y as ../results/data/y/type=poscentroid_id=0class_id=4\n",
      "Saving X as ../results/data/X/type=negcentroid_id=2class_id=4\n",
      "Saving y as ../results/data/y/type=negcentroid_id=2class_id=4\n",
      "Loading X from ../results/data/X/type=poscentroid_id=0class_id=4\n",
      "Loading X from ../results/data/X/type=poscentroid_id=1class_id=4\n",
      "Loading X from ../results/data/X/type=poscentroid_id=2class_id=4\n",
      "Loading y from ../results/data/y/type=poscentroid_id=0class_id=4\n",
      "Loading X from ../results/data/X/type=negcentroid_id=0class_id=4\n",
      "Loading X from ../results/data/X/type=negcentroid_id=1class_id=4\n",
      "Loading X from ../results/data/X/type=negcentroid_id=2class_id=4\n",
      "Loading y from ../results/data/y/type=negcentroid_id=0class_id=4\n"
     ]
    },
    {
     "name": "stderr",
     "output_type": "stream",
     "text": [
      "100%|██████████| 1000/1000 [05:38<00:00,  2.96it/s]\n",
      " 93%|█████████▎| 931/1000 [05:38<00:15,  4.46it/s]"
     ]
    },
    {
     "name": "stdout",
     "output_type": "stream",
     "text": [
      "Saving X as ../results/data/X/type=poscentroid_id=1class_id=4\n",
      "Saving y as ../results/data/y/type=poscentroid_id=1class_id=4\n"
     ]
    },
    {
     "name": "stderr",
     "output_type": "stream",
     "text": [
      "100%|██████████| 1000/1000 [05:52<00:00,  2.84it/s]\n",
      "  0%|          | 0/1000 [00:00<?, ?it/s]1.96it/s]]"
     ]
    },
    {
     "name": "stdout",
     "output_type": "stream",
     "text": [
      "Saving X as ../results/data/X/type=poscentroid_id=0class_id=4\n",
      "Saving y as ../results/data/y/type=poscentroid_id=0class_id=4\n"
     ]
    },
    {
     "name": "stderr",
     "output_type": "stream",
     "text": [
      "100%|██████████| 1000/1000 [05:57<00:00,  2.80it/s]\n"
     ]
    },
    {
     "name": "stdout",
     "output_type": "stream",
     "text": [
      "Saving X as ../results/data/X/type=poscentroid_id=2class_id=4\n",
      "Saving y as ../results/data/y/type=poscentroid_id=2class_id=4\n"
     ]
    },
    {
     "name": "stderr",
     "output_type": "stream",
     "text": [
      "100%|██████████| 1000/1000 [06:01<00:00,  2.77it/s]\n"
     ]
    },
    {
     "name": "stdout",
     "output_type": "stream",
     "text": [
      "Saving X as ../results/data/X/type=poscentroid_id=3class_id=4\n",
      "Saving y as ../results/data/y/type=poscentroid_id=3class_id=4\n"
     ]
    },
    {
     "name": "stderr",
     "output_type": "stream",
     "text": [
      "100%|██████████| 1000/1000 [05:25<00:00,  3.07it/s]\n",
      "100%|██████████| 1000/1000 [05:33<00:00,  3.00it/s]\n",
      "100%|██████████| 1000/1000 [05:45<00:00,  2.90it/s]\n",
      "100%|██████████| 1000/1000 [06:25<00:00,  2.59it/s]\n"
     ]
    },
    {
     "name": "stdout",
     "output_type": "stream",
     "text": [
      "Saving X as ../results/data/X/type=negcentroid_id=0class_id=4\n",
      "Saving y as ../results/data/y/type=negcentroid_id=0class_id=4\n",
      "Saving X as ../results/data/X/type=negcentroid_id=3class_id=4\n",
      "Saving y as ../results/data/y/type=negcentroid_id=3class_id=4\n",
      "Saving X as ../results/data/X/type=negcentroid_id=1class_id=4\n",
      "Saving y as ../results/data/y/type=negcentroid_id=1class_id=4\n",
      "Loading X from ../results/data/X/type=poscentroid_id=0class_id=4\n",
      "Loading X from ../results/data/X/type=poscentroid_id=1class_id=4\n",
      "Loading X from ../results/data/X/type=poscentroid_id=2class_id=4\n",
      "Loading X from ../results/data/X/type=poscentroid_id=3class_id=4\n",
      "Loading y from ../results/data/y/type=poscentroid_id=0class_id=4\n",
      "Loading X from ../results/data/X/type=negcentroid_id=0class_id=4\n",
      "Loading X from ../results/data/X/type=negcentroid_id=1class_id=4\n",
      "Loading X from ../results/data/X/type=negcentroid_id=2class_id=4\n",
      "Loading X from ../results/data/X/type=negcentroid_id=3class_id=4\n",
      "Loading y from ../results/data/y/type=negcentroid_id=0class_id=4\n"
     ]
    },
    {
     "name": "stderr",
     "output_type": "stream",
     "text": [
      "100%|██████████| 1000/1000 [05:27<00:00,  3.05it/s]\n",
      " 93%|█████████▎| 930/1000 [05:28<00:17,  4.09it/s]"
     ]
    },
    {
     "name": "stdout",
     "output_type": "stream",
     "text": [
      "Saving X as ../results/data/X/type=poscentroid_id=2class_id=4\n",
      "Saving y as ../results/data/y/type=poscentroid_id=2class_id=4\n"
     ]
    },
    {
     "name": "stderr",
     "output_type": "stream",
     "text": [
      "100%|██████████| 1000/1000 [05:37<00:00,  2.97it/s]\n",
      " 96%|█████████▌| 961/1000 [05:37<00:06,  5.60it/s]"
     ]
    },
    {
     "name": "stdout",
     "output_type": "stream",
     "text": [
      "Saving X as ../results/data/X/type=poscentroid_id=3class_id=4\n",
      "Saving y as ../results/data/y/type=poscentroid_id=3class_id=4\n"
     ]
    },
    {
     "name": "stderr",
     "output_type": "stream",
     "text": [
      "100%|██████████| 1000/1000 [05:45<00:00,  2.90it/s]\n",
      "  0%|          | 0/1000 [00:00<?, ?it/s]"
     ]
    },
    {
     "name": "stdout",
     "output_type": "stream",
     "text": [
      "Saving X as ../results/data/X/type=poscentroid_id=0class_id=4\n",
      "Saving y as ../results/data/y/type=poscentroid_id=0class_id=4\n"
     ]
    },
    {
     "name": "stderr",
     "output_type": "stream",
     "text": [
      "100%|██████████| 1000/1000 [05:46<00:00,  2.88it/s]\n"
     ]
    },
    {
     "name": "stdout",
     "output_type": "stream",
     "text": [
      "Saving X as ../results/data/X/type=poscentroid_id=1class_id=4\n",
      "Saving y as ../results/data/y/type=poscentroid_id=1class_id=4\n"
     ]
    },
    {
     "name": "stderr",
     "output_type": "stream",
     "text": [
      "100%|██████████| 1000/1000 [05:26<00:00,  3.06it/s]\n",
      " 90%|█████████ | 901/1000 [05:08<00:26,  3.76it/s]"
     ]
    },
    {
     "name": "stdout",
     "output_type": "stream",
     "text": [
      "Saving X as ../results/data/X/type=poscentroid_id=4class_id=4\n",
      "Saving y as ../results/data/y/type=poscentroid_id=4class_id=4\n"
     ]
    },
    {
     "name": "stderr",
     "output_type": "stream",
     "text": [
      "100%|██████████| 1000/1000 [05:39<00:00,  2.94it/s]\n",
      " 95%|█████████▍| 947/1000 [05:32<00:14,  3.72it/s]"
     ]
    },
    {
     "name": "stdout",
     "output_type": "stream",
     "text": [
      "Saving X as ../results/data/X/type=negcentroid_id=0class_id=4\n",
      "Saving y as ../results/data/y/type=negcentroid_id=0class_id=4\n"
     ]
    },
    {
     "name": "stderr",
     "output_type": "stream",
     "text": [
      "100%|██████████| 1000/1000 [05:37<00:00,  2.97it/s]\n",
      "100%|██████████| 1000/1000 [05:45<00:00,  2.90it/s]\n",
      "100%|██████████| 1000/1000 [05:32<00:00,  3.01it/s]\n",
      "100%|██████████| 1000/1000 [05:40<00:00,  2.94it/s]\n"
     ]
    },
    {
     "name": "stdout",
     "output_type": "stream",
     "text": [
      "Saving X as ../results/data/X/type=negcentroid_id=2class_id=4\n",
      "Saving y as ../results/data/y/type=negcentroid_id=2class_id=4\n",
      "Saving X as ../results/data/X/type=negcentroid_id=1class_id=4\n",
      "Saving y as ../results/data/y/type=negcentroid_id=1class_id=4\n",
      "Saving X as ../results/data/X/type=negcentroid_id=3class_id=4\n",
      "Saving y as ../results/data/y/type=negcentroid_id=3class_id=4\n",
      "Saving X as ../results/data/X/type=negcentroid_id=4class_id=4\n",
      "Saving y as ../results/data/y/type=negcentroid_id=4class_id=4\n",
      "Loading X from ../results/data/X/type=poscentroid_id=0class_id=4\n",
      "Loading X from ../results/data/X/type=poscentroid_id=1class_id=4\n",
      "Loading X from ../results/data/X/type=poscentroid_id=2class_id=4\n",
      "Loading X from ../results/data/X/type=poscentroid_id=3class_id=4\n",
      "Loading X from ../results/data/X/type=poscentroid_id=4class_id=4\n",
      "Loading y from ../results/data/y/type=poscentroid_id=0class_id=4\n",
      "Loading X from ../results/data/X/type=negcentroid_id=0class_id=4\n",
      "Loading X from ../results/data/X/type=negcentroid_id=1class_id=4\n",
      "Loading X from ../results/data/X/type=negcentroid_id=2class_id=4\n",
      "Loading X from ../results/data/X/type=negcentroid_id=3class_id=4\n",
      "Loading X from ../results/data/X/type=negcentroid_id=4class_id=4\n",
      "Loading y from ../results/data/y/type=negcentroid_id=0class_id=4\n"
     ]
    },
    {
     "name": "stderr",
     "output_type": "stream",
     "text": [
      "100%|██████████| 1000/1000 [05:36<00:00,  2.97it/s]\n",
      "  0%|          | 0/1000 [00:00<?, ?it/s] 2.96it/s]"
     ]
    },
    {
     "name": "stdout",
     "output_type": "stream",
     "text": [
      "Saving X as ../results/data/X/type=poscentroid_id=0class_id=4\n",
      "Saving y as ../results/data/y/type=poscentroid_id=0class_id=4\n"
     ]
    },
    {
     "name": "stderr",
     "output_type": "stream",
     "text": [
      "100%|██████████| 1000/1000 [05:47<00:00,  2.88it/s]\n"
     ]
    },
    {
     "name": "stdout",
     "output_type": "stream",
     "text": [
      "Saving X as ../results/data/X/type=poscentroid_id=1class_id=4\n",
      "Saving y as ../results/data/y/type=poscentroid_id=1class_id=4\n"
     ]
    },
    {
     "name": "stderr",
     "output_type": "stream",
     "text": [
      "100%|██████████| 1000/1000 [06:04<00:00,  2.75it/s]\n",
      "  0%|          | 0/1000 [00:00<?, ?it/s]2.56it/s]]"
     ]
    },
    {
     "name": "stdout",
     "output_type": "stream",
     "text": [
      "Saving X as ../results/data/X/type=poscentroid_id=3class_id=4\n",
      "Saving y as ../results/data/y/type=poscentroid_id=3class_id=4\n"
     ]
    },
    {
     "name": "stderr",
     "output_type": "stream",
     "text": [
      "100%|██████████| 1000/1000 [06:35<00:00,  2.53it/s]\n"
     ]
    },
    {
     "name": "stdout",
     "output_type": "stream",
     "text": [
      "Saving X as ../results/data/X/type=poscentroid_id=2class_id=4\n",
      "Saving y as ../results/data/y/type=poscentroid_id=2class_id=4\n"
     ]
    },
    {
     "name": "stderr",
     "output_type": "stream",
     "text": [
      "100%|██████████| 1000/1000 [05:40<00:00,  2.93it/s]\n",
      " 98%|█████████▊| 985/1000 [05:30<00:04,  3.29it/s]"
     ]
    },
    {
     "name": "stdout",
     "output_type": "stream",
     "text": [
      "Saving X as ../results/data/X/type=poscentroid_id=4class_id=4\n",
      "Saving y as ../results/data/y/type=poscentroid_id=4class_id=4\n"
     ]
    },
    {
     "name": "stderr",
     "output_type": "stream",
     "text": [
      "100%|██████████| 1000/1000 [05:33<00:00,  3.00it/s]\n",
      "  1%|          | 7/1000 [00:03<09:44,  1.70it/s]s]"
     ]
    },
    {
     "name": "stdout",
     "output_type": "stream",
     "text": [
      "Saving X as ../results/data/X/type=poscentroid_id=5class_id=4\n",
      "Saving y as ../results/data/y/type=poscentroid_id=5class_id=4\n"
     ]
    },
    {
     "name": "stderr",
     "output_type": "stream",
     "text": [
      "100%|██████████| 1000/1000 [05:30<00:00,  3.02it/s]\n",
      " 90%|█████████ | 901/1000 [05:00<00:26,  3.81it/s]"
     ]
    },
    {
     "name": "stdout",
     "output_type": "stream",
     "text": [
      "Saving X as ../results/data/X/type=negcentroid_id=0class_id=4\n",
      "Saving y as ../results/data/y/type=negcentroid_id=0class_id=4\n"
     ]
    },
    {
     "name": "stderr",
     "output_type": "stream",
     "text": [
      "100%|██████████| 1000/1000 [05:28<00:00,  3.05it/s]\n",
      "  0%|          | 0/1000 [00:00<?, ?it/s] 4.00it/s]"
     ]
    },
    {
     "name": "stdout",
     "output_type": "stream",
     "text": [
      "Saving X as ../results/data/X/type=negcentroid_id=1class_id=4\n",
      "Saving y as ../results/data/y/type=negcentroid_id=1class_id=4\n"
     ]
    },
    {
     "name": "stderr",
     "output_type": "stream",
     "text": [
      "100%|██████████| 1000/1000 [05:48<00:00,  2.87it/s]\n",
      "100%|██████████| 1000/1000 [05:51<00:00,  2.84it/s]\n",
      "100%|██████████| 1000/1000 [05:52<00:00,  2.83it/s]\n",
      "100%|██████████| 1000/1000 [05:30<00:00,  3.03it/s]\n"
     ]
    },
    {
     "name": "stdout",
     "output_type": "stream",
     "text": [
      "Saving X as ../results/data/X/type=negcentroid_id=3class_id=4\n",
      "Saving y as ../results/data/y/type=negcentroid_id=3class_id=4\n",
      "Saving X as ../results/data/X/type=negcentroid_id=2class_id=4\n",
      "Saving y as ../results/data/y/type=negcentroid_id=2class_id=4\n",
      "Saving X as ../results/data/X/type=negcentroid_id=4class_id=4\n",
      "Saving y as ../results/data/y/type=negcentroid_id=4class_id=4\n",
      "Loading X from ../results/data/X/type=poscentroid_id=0class_id=4\n",
      "Loading X from ../results/data/X/type=poscentroid_id=1class_id=4\n",
      "Loading X from ../results/data/X/type=poscentroid_id=2class_id=4\n",
      "Loading X from ../results/data/X/type=poscentroid_id=3class_id=4\n",
      "Loading X from ../results/data/X/type=poscentroid_id=4class_id=4\n",
      "Loading X from ../results/data/X/type=poscentroid_id=5class_id=4\n",
      "Loading y from ../results/data/y/type=poscentroid_id=0class_id=4\n",
      "Loading X from ../results/data/X/type=negcentroid_id=0class_id=4\n",
      "Loading X from ../results/data/X/type=negcentroid_id=1class_id=4\n",
      "Loading X from ../results/data/X/type=negcentroid_id=2class_id=4\n",
      "Loading X from ../results/data/X/type=negcentroid_id=3class_id=4\n",
      "Loading X from ../results/data/X/type=negcentroid_id=4class_id=4\n",
      "Loading X from ../results/data/X/type=negcentroid_id=5class_id=4\n",
      "Loading y from ../results/data/y/type=negcentroid_id=0class_id=4\n"
     ]
    },
    {
     "name": "stderr",
     "output_type": "stream",
     "text": [
      " 33%|████████████▋                         | 5/15 [4:41:54<9:38:23, 3470.39s/it]\n",
      "100%|████████████████████████████████████| 1000/1000 [00:00<00:00, 15752.43it/s]\u001b[A\n",
      "100%|██████████| 1000/1000 [05:17<00:00,  3.15it/s]\n",
      "100%|██████████| 1000/1000 [05:22<00:00,  3.10it/s]\n",
      "100%|██████████| 1000/1000 [05:34<00:00,  2.99it/s]\n",
      "100%|██████████| 1000/1000 [06:08<00:00,  2.71it/s]\n"
     ]
    },
    {
     "name": "stdout",
     "output_type": "stream",
     "text": [
      "Saving X as ../results/data/X/type=negcentroid_id=0class_id=5\n",
      "Saving y as ../results/data/y/type=negcentroid_id=0class_id=5\n",
      "Saving X as ../results/data/X/type=poscentroid_id=1class_id=5\n",
      "Saving y as ../results/data/y/type=poscentroid_id=1class_id=5\n",
      "Loading X from ../results/data/X/type=poscentroid_id=0class_id=5\n",
      "Loading X from ../results/data/X/type=poscentroid_id=1class_id=5\n",
      "Loading y from ../results/data/y/type=poscentroid_id=0class_id=5\n",
      "Loading X from ../results/data/X/type=negcentroid_id=0class_id=5\n",
      "Loading X from ../results/data/X/type=negcentroid_id=1class_id=5\n",
      "Loading y from ../results/data/y/type=negcentroid_id=0class_id=5\n"
     ]
    },
    {
     "name": "stderr",
     "output_type": "stream",
     "text": [
      "100%|██████████| 1000/1000 [05:17<00:00,  3.15it/s]\n",
      " 95%|█████████▌| 952/1000 [05:17<00:10,  4.37it/s]"
     ]
    },
    {
     "name": "stdout",
     "output_type": "stream",
     "text": [
      "Saving X as ../results/data/X/type=poscentroid_id=1class_id=5\n",
      "Saving y as ../results/data/y/type=poscentroid_id=1class_id=5\n"
     ]
    },
    {
     "name": "stderr",
     "output_type": "stream",
     "text": [
      "100%|██████████| 1000/1000 [05:24<00:00,  3.08it/s]\n",
      "  3%|▎         | 28/1000 [00:08<04:15,  3.81it/s]]"
     ]
    },
    {
     "name": "stdout",
     "output_type": "stream",
     "text": [
      "Saving X as ../results/data/X/type=negcentroid_id=0class_id=5\n",
      "Saving y as ../results/data/y/type=negcentroid_id=0class_id=5\n"
     ]
    },
    {
     "name": "stderr",
     "output_type": "stream",
     "text": [
      "100%|██████████| 1000/1000 [05:36<00:00,  2.97it/s]\n",
      "100%|██████████| 1000/1000 [05:36<00:00,  2.97it/s]\n",
      "100%|██████████| 1000/1000 [05:17<00:00,  3.15it/s]\n",
      "100%|██████████| 1000/1000 [05:25<00:00,  3.07it/s]\n"
     ]
    },
    {
     "name": "stdout",
     "output_type": "stream",
     "text": [
      "Saving X as ../results/data/X/type=poscentroid_id=0class_id=5\n",
      "Saving y as ../results/data/y/type=poscentroid_id=0class_id=5\n",
      "Saving X as ../results/data/X/type=poscentroid_id=2class_id=5\n",
      "Saving y as ../results/data/y/type=poscentroid_id=2class_id=5\n",
      "Saving X as ../results/data/X/type=negcentroid_id=1class_id=5\n",
      "Saving y as ../results/data/y/type=negcentroid_id=1class_id=5\n",
      "Loading X from ../results/data/X/type=poscentroid_id=0class_id=5\n",
      "Loading X from ../results/data/X/type=poscentroid_id=1class_id=5\n",
      "Loading X from ../results/data/X/type=poscentroid_id=2class_id=5\n",
      "Loading y from ../results/data/y/type=poscentroid_id=0class_id=5\n",
      "Loading X from ../results/data/X/type=negcentroid_id=0class_id=5\n",
      "Loading X from ../results/data/X/type=negcentroid_id=1class_id=5\n",
      "Loading X from ../results/data/X/type=negcentroid_id=2class_id=5\n",
      "Loading y from ../results/data/y/type=negcentroid_id=0class_id=5\n"
     ]
    },
    {
     "name": "stderr",
     "output_type": "stream",
     "text": [
      "100%|██████████| 1000/1000 [05:17<00:00,  3.15it/s]\n",
      "100%|█████████▉| 995/1000 [05:18<00:01,  2.64it/s]"
     ]
    },
    {
     "name": "stdout",
     "output_type": "stream",
     "text": [
      "Saving X as ../results/data/X/type=poscentroid_id=1class_id=5\n",
      "Saving y as ../results/data/y/type=poscentroid_id=1class_id=5\n"
     ]
    },
    {
     "name": "stderr",
     "output_type": "stream",
     "text": [
      "100%|██████████| 1000/1000 [05:18<00:00,  3.14it/s]\n",
      "  0%|          | 3/1000 [00:00<04:22,  3.79it/s]s]"
     ]
    },
    {
     "name": "stdout",
     "output_type": "stream",
     "text": [
      "Saving X as ../results/data/X/type=poscentroid_id=0class_id=5\n",
      "Saving y as ../results/data/y/type=poscentroid_id=0class_id=5\n"
     ]
    },
    {
     "name": "stderr",
     "output_type": "stream",
     "text": [
      "100%|██████████| 1000/1000 [05:21<00:00,  3.11it/s]\n",
      " 98%|█████████▊| 978/1000 [05:21<00:04,  4.47it/s]"
     ]
    },
    {
     "name": "stdout",
     "output_type": "stream",
     "text": [
      "Saving X as ../results/data/X/type=poscentroid_id=2class_id=5\n",
      "Saving y as ../results/data/y/type=poscentroid_id=2class_id=5\n"
     ]
    },
    {
     "name": "stderr",
     "output_type": "stream",
     "text": [
      "100%|██████████| 1000/1000 [05:32<00:00,  3.01it/s]\n",
      "  6%|▌         | 56/1000 [00:15<05:16,  2.99it/s]"
     ]
    },
    {
     "name": "stdout",
     "output_type": "stream",
     "text": [
      "Saving X as ../results/data/X/type=poscentroid_id=3class_id=5\n",
      "Saving y as ../results/data/y/type=poscentroid_id=3class_id=5\n"
     ]
    },
    {
     "name": "stderr",
     "output_type": "stream",
     "text": [
      "100%|██████████| 1000/1000 [05:31<00:00,  3.01it/s]\n",
      "100%|██████████| 1000/1000 [05:32<00:00,  3.01it/s]\n",
      "100%|██████████| 1000/1000 [05:22<00:00,  3.10it/s]\n",
      "100%|██████████| 1000/1000 [05:39<00:00,  2.95it/s]\n"
     ]
    },
    {
     "name": "stdout",
     "output_type": "stream",
     "text": [
      "Saving X as ../results/data/X/type=negcentroid_id=1class_id=5\n",
      "Saving y as ../results/data/y/type=negcentroid_id=1class_id=5\n",
      "Saving X as ../results/data/X/type=negcentroid_id=2class_id=5\n",
      "Saving y as ../results/data/y/type=negcentroid_id=2class_id=5\n",
      "Saving X as ../results/data/X/type=negcentroid_id=3class_id=5\n",
      "Saving y as ../results/data/y/type=negcentroid_id=3class_id=5\n",
      "Loading X from ../results/data/X/type=poscentroid_id=0class_id=5\n",
      "Loading X from ../results/data/X/type=poscentroid_id=1class_id=5\n",
      "Loading X from ../results/data/X/type=poscentroid_id=2class_id=5\n",
      "Loading X from ../results/data/X/type=poscentroid_id=3class_id=5\n",
      "Loading y from ../results/data/y/type=poscentroid_id=0class_id=5\n",
      "Loading X from ../results/data/X/type=negcentroid_id=0class_id=5\n",
      "Loading X from ../results/data/X/type=negcentroid_id=1class_id=5\n",
      "Loading X from ../results/data/X/type=negcentroid_id=2class_id=5\n",
      "Loading X from ../results/data/X/type=negcentroid_id=3class_id=5\n",
      "Loading y from ../results/data/y/type=negcentroid_id=0class_id=5\n"
     ]
    },
    {
     "name": "stderr",
     "output_type": "stream",
     "text": [
      "100%|██████████| 1000/1000 [05:16<00:00,  3.16it/s]\n",
      "  0%|          | 0/1000 [00:00<?, ?it/s]"
     ]
    },
    {
     "name": "stdout",
     "output_type": "stream",
     "text": [
      "Saving X as ../results/data/X/type=poscentroid_id=3class_id=5\n",
      "Saving y as ../results/data/y/type=poscentroid_id=3class_id=5\n"
     ]
    },
    {
     "name": "stderr",
     "output_type": "stream",
     "text": [
      "100%|██████████| 1000/1000 [05:24<00:00,  3.08it/s]\n",
      "  3%|▎         | 29/1000 [00:08<03:47,  4.26it/s]"
     ]
    },
    {
     "name": "stdout",
     "output_type": "stream",
     "text": [
      "Saving X as ../results/data/X/type=poscentroid_id=2class_id=5\n",
      "Saving y as ../results/data/y/type=poscentroid_id=2class_id=5\n"
     ]
    },
    {
     "name": "stderr",
     "output_type": "stream",
     "text": [
      "100%|██████████| 1000/1000 [05:38<00:00,  2.95it/s]\n",
      "  0%|          | 0/1000 [00:00<?, ?it/s]2.14it/s]]"
     ]
    },
    {
     "name": "stdout",
     "output_type": "stream",
     "text": [
      "Saving X as ../results/data/X/type=poscentroid_id=1class_id=5\n",
      "Saving y as ../results/data/y/type=poscentroid_id=1class_id=5\n"
     ]
    },
    {
     "name": "stderr",
     "output_type": "stream",
     "text": [
      "100%|██████████| 1000/1000 [05:40<00:00,  2.94it/s]\n",
      "  0%|          | 0/1000 [00:00<?, ?it/s].09it/s]"
     ]
    },
    {
     "name": "stdout",
     "output_type": "stream",
     "text": [
      "Saving X as ../results/data/X/type=poscentroid_id=0class_id=5\n",
      "Saving y as ../results/data/y/type=poscentroid_id=0class_id=5\n"
     ]
    },
    {
     "name": "stderr",
     "output_type": "stream",
     "text": [
      "100%|██████████| 1000/1000 [05:24<00:00,  3.08it/s]\n",
      " 94%|█████████▍| 941/1000 [05:01<00:18,  3.19it/s]"
     ]
    },
    {
     "name": "stdout",
     "output_type": "stream",
     "text": [
      "Saving X as ../results/data/X/type=poscentroid_id=4class_id=5\n",
      "Saving y as ../results/data/y/type=poscentroid_id=4class_id=5\n"
     ]
    },
    {
     "name": "stderr",
     "output_type": "stream",
     "text": [
      "100%|██████████| 1000/1000 [05:25<00:00,  3.07it/s]\n",
      " 95%|█████████▌| 954/1000 [05:10<00:09,  4.86it/s]"
     ]
    },
    {
     "name": "stdout",
     "output_type": "stream",
     "text": [
      "Saving X as ../results/data/X/type=negcentroid_id=0class_id=5\n",
      "Saving y as ../results/data/y/type=negcentroid_id=0class_id=5\n"
     ]
    },
    {
     "name": "stderr",
     "output_type": "stream",
     "text": [
      "100%|██████████| 1000/1000 [05:23<00:00,  3.09it/s]\n",
      "100%|██████████| 1000/1000 [05:29<00:00,  3.04it/s]\n",
      "100%|██████████| 1000/1000 [05:15<00:00,  3.17it/s]\n",
      "100%|██████████| 1000/1000 [05:26<00:00,  3.07it/s]\n"
     ]
    },
    {
     "name": "stdout",
     "output_type": "stream",
     "text": [
      "Saving X as ../results/data/X/type=negcentroid_id=1class_id=5\n",
      "Saving y as ../results/data/y/type=negcentroid_id=1class_id=5\n",
      "Saving X as ../results/data/X/type=negcentroid_id=2class_id=5\n",
      "Saving y as ../results/data/y/type=negcentroid_id=2class_id=5\n",
      "Saving X as ../results/data/X/type=negcentroid_id=3class_id=5\n",
      "Saving y as ../results/data/y/type=negcentroid_id=3class_id=5\n",
      "Loading X from ../results/data/X/type=poscentroid_id=0class_id=5\n",
      "Loading X from ../results/data/X/type=poscentroid_id=1class_id=5\n",
      "Loading X from ../results/data/X/type=poscentroid_id=2class_id=5\n",
      "Loading X from ../results/data/X/type=poscentroid_id=3class_id=5\n",
      "Loading X from ../results/data/X/type=poscentroid_id=4class_id=5\n",
      "Loading y from ../results/data/y/type=poscentroid_id=0class_id=5\n",
      "Loading X from ../results/data/X/type=negcentroid_id=0class_id=5\n",
      "Loading X from ../results/data/X/type=negcentroid_id=1class_id=5\n",
      "Loading X from ../results/data/X/type=negcentroid_id=2class_id=5\n",
      "Loading X from ../results/data/X/type=negcentroid_id=3class_id=5\n",
      "Loading X from ../results/data/X/type=negcentroid_id=4class_id=5\n",
      "Loading y from ../results/data/y/type=negcentroid_id=0class_id=5\n"
     ]
    },
    {
     "name": "stderr",
     "output_type": "stream",
     "text": [
      "100%|██████████| 1000/1000 [05:12<00:00,  3.20it/s]\n",
      " 96%|█████████▋| 963/1000 [05:12<00:13,  2.75it/s]"
     ]
    },
    {
     "name": "stdout",
     "output_type": "stream",
     "text": [
      "Saving X as ../results/data/X/type=poscentroid_id=3class_id=5\n",
      "Saving y as ../results/data/y/type=poscentroid_id=3class_id=5\n"
     ]
    },
    {
     "name": "stderr",
     "output_type": "stream",
     "text": [
      "100%|██████████| 1000/1000 [05:22<00:00,  3.10it/s]\n",
      "  4%|▍         | 39/1000 [00:09<02:47,  5.75it/s]"
     ]
    },
    {
     "name": "stdout",
     "output_type": "stream",
     "text": [
      "Saving X as ../results/data/X/type=poscentroid_id=1class_id=5\n",
      "Saving y as ../results/data/y/type=poscentroid_id=1class_id=5\n"
     ]
    },
    {
     "name": "stderr",
     "output_type": "stream",
     "text": [
      "100%|██████████| 1000/1000 [05:26<00:00,  3.06it/s]\n",
      " 97%|█████████▋| 968/1000 [05:27<00:09,  3.29it/s]"
     ]
    },
    {
     "name": "stdout",
     "output_type": "stream",
     "text": [
      "Saving X as ../results/data/X/type=poscentroid_id=2class_id=5\n",
      "Saving y as ../results/data/y/type=poscentroid_id=2class_id=5\n"
     ]
    },
    {
     "name": "stderr",
     "output_type": "stream",
     "text": [
      "100%|██████████| 1000/1000 [05:40<00:00,  2.93it/s]\n",
      "  7%|▋         | 66/1000 [00:18<04:28,  3.48it/s]"
     ]
    },
    {
     "name": "stdout",
     "output_type": "stream",
     "text": [
      "Saving X as ../results/data/X/type=poscentroid_id=0class_id=5\n",
      "Saving y as ../results/data/y/type=poscentroid_id=0class_id=5\n"
     ]
    },
    {
     "name": "stderr",
     "output_type": "stream",
     "text": [
      "100%|██████████| 1000/1000 [05:19<00:00,  3.13it/s]\n",
      " 97%|█████████▋| 972/1000 [05:09<00:07,  3.81it/s]"
     ]
    },
    {
     "name": "stdout",
     "output_type": "stream",
     "text": [
      "Saving X as ../results/data/X/type=poscentroid_id=4class_id=5\n",
      "Saving y as ../results/data/y/type=poscentroid_id=4class_id=5\n"
     ]
    },
    {
     "name": "stderr",
     "output_type": "stream",
     "text": [
      "100%|██████████| 1000/1000 [05:21<00:00,  3.11it/s]\n",
      " 92%|█████████▏| 924/1000 [05:03<00:30,  2.50it/s]"
     ]
    },
    {
     "name": "stdout",
     "output_type": "stream",
     "text": [
      "Saving X as ../results/data/X/type=poscentroid_id=5class_id=5\n",
      "Saving y as ../results/data/y/type=poscentroid_id=5class_id=5\n"
     ]
    },
    {
     "name": "stderr",
     "output_type": "stream",
     "text": [
      "100%|██████████| 1000/1000 [05:22<00:00,  3.10it/s]\n",
      "  6%|▋         | 64/1000 [00:17<06:29,  2.40it/s]"
     ]
    },
    {
     "name": "stdout",
     "output_type": "stream",
     "text": [
      "Saving X as ../results/data/X/type=negcentroid_id=0class_id=5\n",
      "Saving y as ../results/data/y/type=negcentroid_id=0class_id=5\n"
     ]
    },
    {
     "name": "stderr",
     "output_type": "stream",
     "text": [
      "100%|██████████| 1000/1000 [05:29<00:00,  3.03it/s]\n",
      "  0%|          | 0/1000 [00:00<?, ?it/s]1.34it/s]]"
     ]
    },
    {
     "name": "stdout",
     "output_type": "stream",
     "text": [
      "Saving X as ../results/data/X/type=negcentroid_id=1class_id=5\n",
      "Saving y as ../results/data/y/type=negcentroid_id=1class_id=5\n"
     ]
    },
    {
     "name": "stderr",
     "output_type": "stream",
     "text": [
      "100%|██████████| 1000/1000 [05:08<00:00,  3.25it/s]\n",
      "100%|██████████| 1000/1000 [05:23<00:00,  3.09it/s]\n",
      "100%|██████████| 1000/1000 [05:31<00:00,  3.01it/s]\n",
      "100%|██████████| 1000/1000 [05:14<00:00,  3.18it/s]\n"
     ]
    },
    {
     "name": "stdout",
     "output_type": "stream",
     "text": [
      "Saving X as ../results/data/X/type=negcentroid_id=2class_id=5\n",
      "Saving y as ../results/data/y/type=negcentroid_id=2class_id=5\n",
      "Saving X as ../results/data/X/type=negcentroid_id=4class_id=5\n",
      "Saving y as ../results/data/y/type=negcentroid_id=4class_id=5\n",
      "Saving X as ../results/data/X/type=negcentroid_id=3class_id=5\n",
      "Saving y as ../results/data/y/type=negcentroid_id=3class_id=5\n",
      "Loading X from ../results/data/X/type=poscentroid_id=0class_id=5\n",
      "Loading X from ../results/data/X/type=poscentroid_id=1class_id=5\n",
      "Loading X from ../results/data/X/type=poscentroid_id=2class_id=5\n",
      "Loading X from ../results/data/X/type=poscentroid_id=3class_id=5\n",
      "Loading X from ../results/data/X/type=poscentroid_id=4class_id=5\n",
      "Loading X from ../results/data/X/type=poscentroid_id=5class_id=5\n",
      "Loading y from ../results/data/y/type=poscentroid_id=0class_id=5\n",
      "Loading X from ../results/data/X/type=negcentroid_id=0class_id=5\n",
      "Loading X from ../results/data/X/type=negcentroid_id=1class_id=5\n",
      "Loading X from ../results/data/X/type=negcentroid_id=2class_id=5\n",
      "Loading X from ../results/data/X/type=negcentroid_id=3class_id=5\n",
      "Loading X from ../results/data/X/type=negcentroid_id=4class_id=5\n",
      "Loading X from ../results/data/X/type=negcentroid_id=5class_id=5\n",
      "Loading y from ../results/data/y/type=negcentroid_id=0class_id=5\n"
     ]
    },
    {
     "name": "stderr",
     "output_type": "stream",
     "text": [
      " 40%|███████████████▏                      | 6/15 [5:42:46<8:49:48, 3532.08s/it]\n",
      "100%|████████████████████████████████████| 1000/1000 [00:00<00:00, 15159.79it/s]\u001b[A\n",
      "100%|██████████| 1000/1000 [04:59<00:00,  3.34it/s]\n",
      "100%|██████████| 1000/1000 [05:06<00:00,  3.26it/s]\n",
      "100%|██████████| 1000/1000 [05:10<00:00,  3.22it/s]\n",
      "100%|██████████| 1000/1000 [05:11<00:00,  3.21it/s]\n"
     ]
    },
    {
     "name": "stdout",
     "output_type": "stream",
     "text": [
      "Saving X as ../results/data/X/type=poscentroid_id=0class_id=6\n",
      "Saving y as ../results/data/y/type=poscentroid_id=0class_id=6\n",
      "Saving X as ../results/data/X/type=poscentroid_id=1class_id=6\n",
      "Saving y as ../results/data/y/type=poscentroid_id=1class_id=6\n",
      "Saving X as ../results/data/X/type=negcentroid_id=0class_id=6\n",
      "Saving y as ../results/data/y/type=negcentroid_id=0class_id=6\n",
      "Loading X from ../results/data/X/type=poscentroid_id=0class_id=6\n",
      "Loading X from ../results/data/X/type=poscentroid_id=1class_id=6\n",
      "Loading y from ../results/data/y/type=poscentroid_id=0class_id=6\n",
      "Loading X from ../results/data/X/type=negcentroid_id=0class_id=6\n",
      "Loading X from ../results/data/X/type=negcentroid_id=1class_id=6\n",
      "Loading y from ../results/data/y/type=negcentroid_id=0class_id=6\n"
     ]
    },
    {
     "name": "stderr",
     "output_type": "stream",
     "text": [
      "100%|██████████| 1000/1000 [05:03<00:00,  3.29it/s]\n",
      " 98%|█████████▊| 983/1000 [05:04<00:04,  3.92it/s]"
     ]
    },
    {
     "name": "stdout",
     "output_type": "stream",
     "text": [
      "Saving X as ../results/data/X/type=negcentroid_id=0class_id=6\n",
      "Saving y as ../results/data/y/type=negcentroid_id=0class_id=6\n"
     ]
    },
    {
     "name": "stderr",
     "output_type": "stream",
     "text": [
      "100%|██████████| 1000/1000 [05:08<00:00,  3.24it/s]\n",
      "  0%|          | 0/1000 [00:00<?, ?it/s]2.67it/s]]"
     ]
    },
    {
     "name": "stdout",
     "output_type": "stream",
     "text": [
      "Saving X as ../results/data/X/type=poscentroid_id=2class_id=6\n",
      "Saving y as ../results/data/y/type=poscentroid_id=2class_id=6\n"
     ]
    },
    {
     "name": "stderr",
     "output_type": "stream",
     "text": [
      "100%|██████████| 1000/1000 [05:10<00:00,  3.22it/s]\n",
      "100%|██████████| 1000/1000 [05:22<00:00,  3.10it/s]\n",
      "100%|██████████| 1000/1000 [04:58<00:00,  3.35it/s]\n",
      "100%|██████████| 1000/1000 [05:02<00:00,  3.30it/s]\n"
     ]
    },
    {
     "name": "stdout",
     "output_type": "stream",
     "text": [
      "Saving X as ../results/data/X/type=poscentroid_id=1class_id=6\n",
      "Saving y as ../results/data/y/type=poscentroid_id=1class_id=6\n",
      "Saving X as ../results/data/X/type=poscentroid_id=0class_id=6\n",
      "Saving y as ../results/data/y/type=poscentroid_id=0class_id=6\n",
      "Loading X from ../results/data/X/type=poscentroid_id=0class_id=6\n",
      "Loading X from ../results/data/X/type=poscentroid_id=1class_id=6\n",
      "Loading X from ../results/data/X/type=poscentroid_id=2class_id=6\n",
      "Loading y from ../results/data/y/type=poscentroid_id=0class_id=6\n",
      "Loading X from ../results/data/X/type=negcentroid_id=0class_id=6\n",
      "Loading X from ../results/data/X/type=negcentroid_id=1class_id=6\n",
      "Loading X from ../results/data/X/type=negcentroid_id=2class_id=6\n",
      "Loading y from ../results/data/y/type=negcentroid_id=0class_id=6\n"
     ]
    },
    {
     "name": "stderr",
     "output_type": "stream",
     "text": [
      "100%|██████████| 1000/1000 [04:45<00:00,  3.50it/s]\n",
      " 93%|█████████▎| 931/1000 [04:46<00:14,  4.78it/s]"
     ]
    },
    {
     "name": "stdout",
     "output_type": "stream",
     "text": [
      "Saving X as ../results/data/X/type=poscentroid_id=1class_id=6\n",
      "Saving y as ../results/data/y/type=poscentroid_id=1class_id=6\n"
     ]
    },
    {
     "name": "stderr",
     "output_type": "stream",
     "text": [
      "100%|██████████| 1000/1000 [04:57<00:00,  3.36it/s]\n",
      "  0%|          | 0/1000 [00:00<?, ?it/s]4.54it/s]"
     ]
    },
    {
     "name": "stdout",
     "output_type": "stream",
     "text": [
      "Saving X as ../results/data/X/type=poscentroid_id=2class_id=6\n",
      "Saving y as ../results/data/y/type=poscentroid_id=2class_id=6\n"
     ]
    },
    {
     "name": "stderr",
     "output_type": "stream",
     "text": [
      "100%|██████████| 1000/1000 [05:08<00:00,  3.24it/s]\n",
      "  0%|          | 0/1000 [00:00<?, ?it/s] 2.32it/s]"
     ]
    },
    {
     "name": "stdout",
     "output_type": "stream",
     "text": [
      "Saving X as ../results/data/X/type=poscentroid_id=0class_id=6\n",
      "Saving y as ../results/data/y/type=poscentroid_id=0class_id=6\n"
     ]
    },
    {
     "name": "stderr",
     "output_type": "stream",
     "text": [
      "100%|██████████| 1000/1000 [05:19<00:00,  3.13it/s]\n",
      "  0%|          | 0/1000 [00:00<?, ?it/s]2.00it/s]]"
     ]
    },
    {
     "name": "stdout",
     "output_type": "stream",
     "text": [
      "Saving X as ../results/data/X/type=poscentroid_id=3class_id=6\n",
      "Saving y as ../results/data/y/type=poscentroid_id=3class_id=6\n"
     ]
    },
    {
     "name": "stderr",
     "output_type": "stream",
     "text": [
      "100%|██████████| 1000/1000 [04:55<00:00,  3.39it/s]\n",
      "100%|██████████| 1000/1000 [05:10<00:00,  3.22it/s]\n",
      "100%|██████████| 1000/1000 [05:10<00:00,  3.22it/s]\n",
      "100%|██████████| 1000/1000 [05:10<00:00,  3.22it/s]\n"
     ]
    },
    {
     "name": "stdout",
     "output_type": "stream",
     "text": [
      "Saving X as ../results/data/X/type=negcentroid_id=0class_id=6\n",
      "Saving y as ../results/data/y/type=negcentroid_id=0class_id=6\n",
      "Saving X as ../results/data/X/type=negcentroid_id=1class_id=6\n",
      "Saving y as ../results/data/y/type=negcentroid_id=1class_id=6\n",
      "Saving X as ../results/data/X/type=negcentroid_id=2class_id=6\n",
      "Saving y as ../results/data/y/type=negcentroid_id=2class_id=6\n",
      "Loading X from ../results/data/X/type=poscentroid_id=0class_id=6\n",
      "Loading X from ../results/data/X/type=poscentroid_id=1class_id=6\n",
      "Loading X from ../results/data/X/type=poscentroid_id=2class_id=6\n",
      "Loading X from ../results/data/X/type=poscentroid_id=3class_id=6\n",
      "Loading y from ../results/data/y/type=poscentroid_id=0class_id=6\n",
      "Loading X from ../results/data/X/type=negcentroid_id=0class_id=6\n",
      "Loading X from ../results/data/X/type=negcentroid_id=1class_id=6\n",
      "Loading X from ../results/data/X/type=negcentroid_id=2class_id=6\n",
      "Loading X from ../results/data/X/type=negcentroid_id=3class_id=6\n",
      "Loading y from ../results/data/y/type=negcentroid_id=0class_id=6\n"
     ]
    },
    {
     "name": "stderr",
     "output_type": "stream",
     "text": [
      "100%|██████████| 1000/1000 [04:45<00:00,  3.51it/s]\n",
      "  0%|          | 0/1000 [00:00<?, ?it/s] 2.57it/s]"
     ]
    },
    {
     "name": "stdout",
     "output_type": "stream",
     "text": [
      "Saving X as ../results/data/X/type=poscentroid_id=3class_id=6\n",
      "Saving y as ../results/data/y/type=poscentroid_id=3class_id=6\n"
     ]
    },
    {
     "name": "stderr",
     "output_type": "stream",
     "text": [
      "100%|██████████| 1000/1000 [05:00<00:00,  3.33it/s]\n",
      "  0%|          | 0/1000 [00:00<?, ?it/s] 3.34it/s]"
     ]
    },
    {
     "name": "stdout",
     "output_type": "stream",
     "text": [
      "Saving X as ../results/data/X/type=poscentroid_id=2class_id=6\n",
      "Saving y as ../results/data/y/type=poscentroid_id=2class_id=6\n"
     ]
    },
    {
     "name": "stderr",
     "output_type": "stream",
     "text": [
      "100%|██████████| 1000/1000 [05:10<00:00,  3.22it/s]\n",
      "100%|█████████▉| 996/1000 [05:10<00:01,  3.73it/s]"
     ]
    },
    {
     "name": "stdout",
     "output_type": "stream",
     "text": [
      "Saving X as ../results/data/X/type=poscentroid_id=0class_id=6\n",
      "Saving y as ../results/data/y/type=poscentroid_id=0class_id=6\n"
     ]
    },
    {
     "name": "stderr",
     "output_type": "stream",
     "text": [
      "100%|██████████| 1000/1000 [05:11<00:00,  3.21it/s]\n",
      "  0%|          | 0/1000 [00:00<?, ?it/s]"
     ]
    },
    {
     "name": "stdout",
     "output_type": "stream",
     "text": [
      "Saving X as ../results/data/X/type=poscentroid_id=1class_id=6\n",
      "Saving y as ../results/data/y/type=poscentroid_id=1class_id=6\n"
     ]
    },
    {
     "name": "stderr",
     "output_type": "stream",
     "text": [
      "100%|██████████| 1000/1000 [05:09<00:00,  3.23it/s]\n",
      " 96%|█████████▌| 961/1000 [04:45<00:21,  1.80it/s]"
     ]
    },
    {
     "name": "stdout",
     "output_type": "stream",
     "text": [
      "Saving X as ../results/data/X/type=poscentroid_id=4class_id=6\n",
      "Saving y as ../results/data/y/type=poscentroid_id=4class_id=6\n"
     ]
    },
    {
     "name": "stderr",
     "output_type": "stream",
     "text": [
      "100%|██████████| 1000/1000 [04:54<00:00,  3.39it/s]\n",
      "  0%|          | 2/1000 [00:00<03:07,  5.34it/s]s]"
     ]
    },
    {
     "name": "stdout",
     "output_type": "stream",
     "text": [
      "Saving X as ../results/data/X/type=negcentroid_id=0class_id=6\n",
      "Saving y as ../results/data/y/type=negcentroid_id=0class_id=6\n"
     ]
    },
    {
     "name": "stderr",
     "output_type": "stream",
     "text": [
      "100%|██████████| 1000/1000 [04:55<00:00,  3.38it/s]\n",
      "100%|██████████| 1000/1000 [05:03<00:00,  3.29it/s]\n",
      "100%|██████████| 1000/1000 [04:49<00:00,  3.46it/s]\n",
      "100%|██████████| 1000/1000 [04:58<00:00,  3.35it/s]\n"
     ]
    },
    {
     "name": "stdout",
     "output_type": "stream",
     "text": [
      "Saving X as ../results/data/X/type=negcentroid_id=1class_id=6\n",
      "Saving y as ../results/data/y/type=negcentroid_id=1class_id=6\n",
      "Saving X as ../results/data/X/type=negcentroid_id=2class_id=6\n",
      "Saving y as ../results/data/y/type=negcentroid_id=2class_id=6\n",
      "Saving X as ../results/data/X/type=negcentroid_id=4class_id=6\n",
      "Saving y as ../results/data/y/type=negcentroid_id=4class_id=6\n",
      "Loading X from ../results/data/X/type=poscentroid_id=0class_id=6\n",
      "Loading X from ../results/data/X/type=poscentroid_id=1class_id=6\n",
      "Loading X from ../results/data/X/type=poscentroid_id=2class_id=6\n",
      "Loading X from ../results/data/X/type=poscentroid_id=3class_id=6\n",
      "Loading X from ../results/data/X/type=poscentroid_id=4class_id=6\n",
      "Loading y from ../results/data/y/type=poscentroid_id=0class_id=6\n",
      "Loading X from ../results/data/X/type=negcentroid_id=0class_id=6\n",
      "Loading X from ../results/data/X/type=negcentroid_id=1class_id=6\n",
      "Loading X from ../results/data/X/type=negcentroid_id=2class_id=6\n",
      "Loading X from ../results/data/X/type=negcentroid_id=3class_id=6\n",
      "Loading X from ../results/data/X/type=negcentroid_id=4class_id=6\n",
      "Loading y from ../results/data/y/type=negcentroid_id=0class_id=6\n"
     ]
    },
    {
     "name": "stderr",
     "output_type": "stream",
     "text": [
      "100%|██████████| 1000/1000 [05:04<00:00,  3.28it/s]\n",
      " 95%|█████████▍| 948/1000 [05:05<00:23,  2.24it/s]"
     ]
    },
    {
     "name": "stdout",
     "output_type": "stream",
     "text": [
      "Saving X as ../results/data/X/type=poscentroid_id=3class_id=6\n",
      "Saving y as ../results/data/y/type=poscentroid_id=3class_id=6\n"
     ]
    },
    {
     "name": "stderr",
     "output_type": "stream",
     "text": [
      "100%|██████████| 1000/1000 [05:11<00:00,  3.21it/s]\n",
      "  0%|          | 0/1000 [00:00<?, ?it/s]3.64it/s]"
     ]
    },
    {
     "name": "stdout",
     "output_type": "stream",
     "text": [
      "Saving X as ../results/data/X/type=poscentroid_id=1class_id=6\n",
      "Saving y as ../results/data/y/type=poscentroid_id=1class_id=6\n"
     ]
    },
    {
     "name": "stderr",
     "output_type": "stream",
     "text": [
      "100%|██████████| 1000/1000 [05:21<00:00,  3.11it/s]\n",
      "  0%|          | 0/1000 [00:00<?, ?it/s] 3.24it/s]"
     ]
    },
    {
     "name": "stdout",
     "output_type": "stream",
     "text": [
      "Saving X as ../results/data/X/type=poscentroid_id=0class_id=6\n",
      "Saving y as ../results/data/y/type=poscentroid_id=0class_id=6\n"
     ]
    },
    {
     "name": "stderr",
     "output_type": "stream",
     "text": [
      "100%|██████████| 1000/1000 [05:21<00:00,  3.11it/s]\n",
      "  0%|          | 0/1000 [00:00<?, ?it/s]1.70it/s]"
     ]
    },
    {
     "name": "stdout",
     "output_type": "stream",
     "text": [
      "Saving X as ../results/data/X/type=poscentroid_id=2class_id=6\n",
      "Saving y as ../results/data/y/type=poscentroid_id=2class_id=6\n"
     ]
    },
    {
     "name": "stderr",
     "output_type": "stream",
     "text": [
      "100%|██████████| 1000/1000 [05:02<00:00,  3.31it/s]\n",
      " 96%|█████████▋| 964/1000 [05:08<00:15,  2.38it/s]"
     ]
    },
    {
     "name": "stdout",
     "output_type": "stream",
     "text": [
      "Saving X as ../results/data/X/type=poscentroid_id=5class_id=6\n",
      "Saving y as ../results/data/y/type=poscentroid_id=5class_id=6\n"
     ]
    },
    {
     "name": "stderr",
     "output_type": "stream",
     "text": [
      "100%|██████████| 1000/1000 [05:19<00:00,  3.13it/s]\n",
      "  3%|▎         | 30/1000 [00:11<07:55,  2.04it/s]]"
     ]
    },
    {
     "name": "stdout",
     "output_type": "stream",
     "text": [
      "Saving X as ../results/data/X/type=poscentroid_id=4class_id=6\n",
      "Saving y as ../results/data/y/type=poscentroid_id=4class_id=6\n"
     ]
    },
    {
     "name": "stderr",
     "output_type": "stream",
     "text": [
      "100%|██████████| 1000/1000 [05:05<00:00,  3.27it/s]\n",
      "  4%|▍         | 41/1000 [00:12<02:51,  5.60it/s]"
     ]
    },
    {
     "name": "stdout",
     "output_type": "stream",
     "text": [
      "Saving X as ../results/data/X/type=negcentroid_id=0class_id=6\n",
      "Saving y as ../results/data/y/type=negcentroid_id=0class_id=6\n"
     ]
    },
    {
     "name": "stderr",
     "output_type": "stream",
     "text": [
      "100%|██████████| 1000/1000 [05:12<00:00,  3.20it/s]\n",
      "  0%|          | 0/1000 [00:00<?, ?it/s]2.01it/s]"
     ]
    },
    {
     "name": "stdout",
     "output_type": "stream",
     "text": [
      "Saving X as ../results/data/X/type=negcentroid_id=1class_id=6\n",
      "Saving y as ../results/data/y/type=negcentroid_id=1class_id=6\n"
     ]
    },
    {
     "name": "stderr",
     "output_type": "stream",
     "text": [
      "100%|██████████| 1000/1000 [04:47<00:00,  3.47it/s]\n",
      "100%|██████████| 1000/1000 [05:01<00:00,  3.32it/s]\n",
      "100%|██████████| 1000/1000 [04:57<00:00,  3.36it/s]\n",
      "100%|██████████| 1000/1000 [05:08<00:00,  3.24it/s]\n"
     ]
    },
    {
     "name": "stdout",
     "output_type": "stream",
     "text": [
      "Saving X as ../results/data/X/type=negcentroid_id=3class_id=6\n",
      "Saving y as ../results/data/y/type=negcentroid_id=3class_id=6\n",
      "Saving X as ../results/data/X/type=negcentroid_id=2class_id=6\n",
      "Saving y as ../results/data/y/type=negcentroid_id=2class_id=6\n",
      "Loading X from ../results/data/X/type=poscentroid_id=0class_id=6\n",
      "Loading X from ../results/data/X/type=poscentroid_id=1class_id=6\n",
      "Loading X from ../results/data/X/type=poscentroid_id=2class_id=6\n",
      "Loading X from ../results/data/X/type=poscentroid_id=3class_id=6\n",
      "Loading X from ../results/data/X/type=poscentroid_id=4class_id=6\n",
      "Loading X from ../results/data/X/type=poscentroid_id=5class_id=6\n",
      "Loading y from ../results/data/y/type=poscentroid_id=0class_id=6\n",
      "Loading X from ../results/data/X/type=negcentroid_id=0class_id=6\n",
      "Loading X from ../results/data/X/type=negcentroid_id=1class_id=6\n",
      "Loading X from ../results/data/X/type=negcentroid_id=2class_id=6\n",
      "Loading X from ../results/data/X/type=negcentroid_id=3class_id=6\n",
      "Loading X from ../results/data/X/type=negcentroid_id=4class_id=6\n",
      "Loading X from ../results/data/X/type=negcentroid_id=5class_id=6\n",
      "Loading y from ../results/data/y/type=negcentroid_id=0class_id=6\n"
     ]
    },
    {
     "name": "stderr",
     "output_type": "stream",
     "text": [
      " 47%|█████████████████▋                    | 7/15 [6:39:30<7:45:23, 3490.39s/it]\n",
      "100%|████████████████████████████████████| 1000/1000 [00:00<00:00, 18434.88it/s]\u001b[A\n",
      "100%|██████████| 1000/1000 [04:47<00:00,  3.48it/s]\n",
      "100%|██████████| 1000/1000 [04:58<00:00,  3.35it/s]\n",
      "100%|██████████| 1000/1000 [05:01<00:00,  3.32it/s]\n",
      "100%|██████████| 1000/1000 [05:02<00:00,  3.30it/s]\n"
     ]
    },
    {
     "name": "stdout",
     "output_type": "stream",
     "text": [
      "Saving X as ../results/data/X/type=negcentroid_id=0class_id=7\n",
      "Saving y as ../results/data/y/type=negcentroid_id=0class_id=7\n",
      "Saving X as ../results/data/X/type=poscentroid_id=1class_id=7\n",
      "Saving y as ../results/data/y/type=poscentroid_id=1class_id=7\n",
      "Saving X as ../results/data/X/type=negcentroid_id=1class_id=7\n",
      "Saving y as ../results/data/y/type=negcentroid_id=1class_id=7\n",
      "Loading X from ../results/data/X/type=poscentroid_id=0class_id=7\n",
      "Loading X from ../results/data/X/type=poscentroid_id=1class_id=7\n",
      "Loading y from ../results/data/y/type=poscentroid_id=0class_id=7\n",
      "Loading X from ../results/data/X/type=negcentroid_id=0class_id=7\n",
      "Loading X from ../results/data/X/type=negcentroid_id=1class_id=7\n",
      "Loading y from ../results/data/y/type=negcentroid_id=0class_id=7\n"
     ]
    },
    {
     "name": "stderr",
     "output_type": "stream",
     "text": [
      "100%|██████████| 1000/1000 [04:41<00:00,  3.56it/s]\n",
      " 99%|█████████▉| 992/1000 [04:41<00:03,  2.14it/s]"
     ]
    },
    {
     "name": "stdout",
     "output_type": "stream",
     "text": [
      "Saving X as ../results/data/X/type=poscentroid_id=2class_id=7\n",
      "Saving y as ../results/data/y/type=poscentroid_id=2class_id=7\n"
     ]
    },
    {
     "name": "stderr",
     "output_type": "stream",
     "text": [
      "100%|██████████| 1000/1000 [04:42<00:00,  3.54it/s]\n",
      "  0%|          | 2/1000 [00:01<17:40,  1.06s/it]s]"
     ]
    },
    {
     "name": "stdout",
     "output_type": "stream",
     "text": [
      "Saving X as ../results/data/X/type=negcentroid_id=0class_id=7\n",
      "Saving y as ../results/data/y/type=negcentroid_id=0class_id=7\n"
     ]
    },
    {
     "name": "stderr",
     "output_type": "stream",
     "text": [
      "100%|██████████| 1000/1000 [04:47<00:00,  3.48it/s]\n",
      "100%|██████████| 1000/1000 [04:51<00:00,  3.43it/s]\n",
      "100%|██████████| 1000/1000 [04:47<00:00,  3.48it/s]\n",
      "100%|██████████| 1000/1000 [04:55<00:00,  3.38it/s]\n"
     ]
    },
    {
     "name": "stdout",
     "output_type": "stream",
     "text": [
      "Saving X as ../results/data/X/type=poscentroid_id=0class_id=7\n",
      "Saving y as ../results/data/y/type=poscentroid_id=0class_id=7\n",
      "Saving X as ../results/data/X/type=poscentroid_id=1class_id=7\n",
      "Saving y as ../results/data/y/type=poscentroid_id=1class_id=7\n",
      "Saving X as ../results/data/X/type=negcentroid_id=2class_id=7\n",
      "Saving y as ../results/data/y/type=negcentroid_id=2class_id=7\n",
      "Loading X from ../results/data/X/type=poscentroid_id=0class_id=7\n",
      "Loading X from ../results/data/X/type=poscentroid_id=1class_id=7\n",
      "Loading X from ../results/data/X/type=poscentroid_id=2class_id=7\n",
      "Loading y from ../results/data/y/type=poscentroid_id=0class_id=7\n",
      "Loading X from ../results/data/X/type=negcentroid_id=0class_id=7\n",
      "Loading X from ../results/data/X/type=negcentroid_id=1class_id=7\n",
      "Loading X from ../results/data/X/type=negcentroid_id=2class_id=7\n",
      "Loading y from ../results/data/y/type=negcentroid_id=0class_id=7\n"
     ]
    },
    {
     "name": "stderr",
     "output_type": "stream",
     "text": [
      "100%|██████████| 1000/1000 [04:42<00:00,  3.54it/s]\n",
      "  0%|          | 1/1000 [00:00<02:50,  5.86it/s]s]"
     ]
    },
    {
     "name": "stdout",
     "output_type": "stream",
     "text": [
      "Saving X as ../results/data/X/type=poscentroid_id=3class_id=7\n",
      "Saving y as ../results/data/y/type=poscentroid_id=3class_id=7\n"
     ]
    },
    {
     "name": "stderr",
     "output_type": "stream",
     "text": [
      "100%|██████████| 1000/1000 [04:47<00:00,  3.48it/s]\n",
      "  1%|          | 7/1000 [00:05<10:45,  1.54it/s]s]"
     ]
    },
    {
     "name": "stdout",
     "output_type": "stream",
     "text": [
      "Saving X as ../results/data/X/type=poscentroid_id=1class_id=7\n",
      "Saving y as ../results/data/y/type=poscentroid_id=1class_id=7\n"
     ]
    },
    {
     "name": "stderr",
     "output_type": "stream",
     "text": [
      "100%|██████████| 1000/1000 [04:48<00:00,  3.47it/s]\n",
      "  0%|          | 0/1000 [00:00<?, ?it/s] 4.85it/s]"
     ]
    },
    {
     "name": "stdout",
     "output_type": "stream",
     "text": [
      "Saving X as ../results/data/X/type=poscentroid_id=0class_id=7\n",
      "Saving y as ../results/data/y/type=poscentroid_id=0class_id=7\n"
     ]
    },
    {
     "name": "stderr",
     "output_type": "stream",
     "text": [
      "100%|██████████| 1000/1000 [04:52<00:00,  3.42it/s]\n",
      "  0%|          | 0/1000 [00:00<?, ?it/s].20it/s]]"
     ]
    },
    {
     "name": "stdout",
     "output_type": "stream",
     "text": [
      "Saving X as ../results/data/X/type=poscentroid_id=2class_id=7\n",
      "Saving y as ../results/data/y/type=poscentroid_id=2class_id=7\n"
     ]
    },
    {
     "name": "stderr",
     "output_type": "stream",
     "text": [
      "100%|██████████| 1000/1000 [04:39<00:00,  3.57it/s]\n",
      "100%|██████████| 1000/1000 [04:43<00:00,  3.53it/s]\n",
      "100%|██████████| 1000/1000 [04:39<00:00,  3.57it/s]\n",
      "100%|██████████| 1000/1000 [04:51<00:00,  3.43it/s]\n"
     ]
    },
    {
     "name": "stdout",
     "output_type": "stream",
     "text": [
      "Saving X as ../results/data/X/type=negcentroid_id=0class_id=7\n",
      "Saving y as ../results/data/y/type=negcentroid_id=0class_id=7\n",
      "Saving X as ../results/data/X/type=negcentroid_id=1class_id=7\n",
      "Saving y as ../results/data/y/type=negcentroid_id=1class_id=7\n",
      "Loading X from ../results/data/X/type=poscentroid_id=0class_id=7\n",
      "Loading X from ../results/data/X/type=poscentroid_id=1class_id=7\n",
      "Loading X from ../results/data/X/type=poscentroid_id=2class_id=7\n",
      "Loading X from ../results/data/X/type=poscentroid_id=3class_id=7\n",
      "Loading y from ../results/data/y/type=poscentroid_id=0class_id=7\n",
      "Loading X from ../results/data/X/type=negcentroid_id=0class_id=7\n",
      "Loading X from ../results/data/X/type=negcentroid_id=1class_id=7\n",
      "Loading X from ../results/data/X/type=negcentroid_id=2class_id=7\n",
      "Loading X from ../results/data/X/type=negcentroid_id=3class_id=7\n",
      "Loading y from ../results/data/y/type=negcentroid_id=0class_id=7\n"
     ]
    },
    {
     "name": "stderr",
     "output_type": "stream",
     "text": [
      "100%|██████████| 1000/1000 [04:44<00:00,  3.52it/s]\n",
      "  0%|          | 0/1000 [00:00<?, ?it/s] 1.70it/s]"
     ]
    },
    {
     "name": "stdout",
     "output_type": "stream",
     "text": [
      "Saving X as ../results/data/X/type=poscentroid_id=2class_id=7\n",
      "Saving y as ../results/data/y/type=poscentroid_id=2class_id=7\n"
     ]
    },
    {
     "name": "stderr",
     "output_type": "stream",
     "text": [
      "100%|██████████| 1000/1000 [04:48<00:00,  3.47it/s]\n",
      "  0%|          | 0/1000 [00:00<?, ?it/s] 5.27it/s]"
     ]
    },
    {
     "name": "stdout",
     "output_type": "stream",
     "text": [
      "Saving X as ../results/data/X/type=poscentroid_id=3class_id=7\n",
      "Saving y as ../results/data/y/type=poscentroid_id=3class_id=7\n"
     ]
    },
    {
     "name": "stderr",
     "output_type": "stream",
     "text": [
      "100%|██████████| 1000/1000 [04:59<00:00,  3.34it/s]\n",
      "  0%|          | 0/1000 [00:00<?, ?it/s]"
     ]
    },
    {
     "name": "stdout",
     "output_type": "stream",
     "text": [
      "Saving X as ../results/data/X/type=poscentroid_id=0class_id=7\n",
      "Saving y as ../results/data/y/type=poscentroid_id=0class_id=7\n"
     ]
    },
    {
     "name": "stderr",
     "output_type": "stream",
     "text": [
      "100%|██████████| 1000/1000 [05:23<00:00,  3.09it/s]\n",
      " 12%|█▏        | 118/1000 [00:38<06:34,  2.24it/s]"
     ]
    },
    {
     "name": "stdout",
     "output_type": "stream",
     "text": [
      "Saving X as ../results/data/X/type=poscentroid_id=1class_id=7\n",
      "Saving y as ../results/data/y/type=poscentroid_id=1class_id=7\n"
     ]
    },
    {
     "name": "stderr",
     "output_type": "stream",
     "text": [
      "100%|██████████| 1000/1000 [04:41<00:00,  3.56it/s]\n",
      "  0%|          | 0/1000 [00:00<?, ?it/s] 3.51it/s]"
     ]
    },
    {
     "name": "stdout",
     "output_type": "stream",
     "text": [
      "Saving X as ../results/data/X/type=negcentroid_id=0class_id=7\n",
      "Saving y as ../results/data/y/type=negcentroid_id=0class_id=7\n"
     ]
    },
    {
     "name": "stderr",
     "output_type": "stream",
     "text": [
      "100%|██████████| 1000/1000 [05:04<00:00,  3.28it/s]\n",
      "  0%|          | 0/1000 [00:00<?, ?it/s]5.12it/s]]"
     ]
    },
    {
     "name": "stdout",
     "output_type": "stream",
     "text": [
      "Saving X as ../results/data/X/type=poscentroid_id=4class_id=7\n",
      "Saving y as ../results/data/y/type=poscentroid_id=4class_id=7\n"
     ]
    },
    {
     "name": "stderr",
     "output_type": "stream",
     "text": [
      "100%|██████████| 1000/1000 [05:02<00:00,  3.31it/s]\n",
      "100%|██████████| 1000/1000 [04:50<00:00,  3.44it/s]\n",
      "100%|██████████| 1000/1000 [04:46<00:00,  3.49it/s]\n",
      "100%|██████████| 1000/1000 [04:40<00:00,  3.56it/s]\n"
     ]
    },
    {
     "name": "stdout",
     "output_type": "stream",
     "text": [
      "Saving X as ../results/data/X/type=negcentroid_id=1class_id=7\n",
      "Saving y as ../results/data/y/type=negcentroid_id=1class_id=7\n",
      "Saving X as ../results/data/X/type=negcentroid_id=2class_id=7\n",
      "Saving y as ../results/data/y/type=negcentroid_id=2class_id=7\n",
      "Saving X as ../results/data/X/type=negcentroid_id=3class_id=7\n",
      "Saving y as ../results/data/y/type=negcentroid_id=3class_id=7\n",
      "Loading X from ../results/data/X/type=poscentroid_id=0class_id=7\n",
      "Loading X from ../results/data/X/type=poscentroid_id=1class_id=7\n",
      "Loading X from ../results/data/X/type=poscentroid_id=2class_id=7\n",
      "Loading X from ../results/data/X/type=poscentroid_id=3class_id=7\n",
      "Loading X from ../results/data/X/type=poscentroid_id=4class_id=7\n",
      "Loading y from ../results/data/y/type=poscentroid_id=0class_id=7\n",
      "Loading X from ../results/data/X/type=negcentroid_id=0class_id=7\n",
      "Loading X from ../results/data/X/type=negcentroid_id=1class_id=7\n",
      "Loading X from ../results/data/X/type=negcentroid_id=2class_id=7\n",
      "Loading X from ../results/data/X/type=negcentroid_id=3class_id=7\n",
      "Loading X from ../results/data/X/type=negcentroid_id=4class_id=7\n",
      "Loading y from ../results/data/y/type=negcentroid_id=0class_id=7\n"
     ]
    },
    {
     "name": "stderr",
     "output_type": "stream",
     "text": [
      "100%|██████████| 1000/1000 [04:44<00:00,  3.51it/s]\n",
      "  0%|          | 0/1000 [00:00<?, ?it/s]"
     ]
    },
    {
     "name": "stdout",
     "output_type": "stream",
     "text": [
      "Saving X as ../results/data/X/type=poscentroid_id=2class_id=7\n",
      "Saving y as ../results/data/y/type=poscentroid_id=2class_id=7\n"
     ]
    },
    {
     "name": "stderr",
     "output_type": "stream",
     "text": [
      "100%|██████████| 1000/1000 [04:48<00:00,  3.47it/s]\n",
      " 96%|█████████▌| 959/1000 [04:48<00:06,  6.08it/s]"
     ]
    },
    {
     "name": "stdout",
     "output_type": "stream",
     "text": [
      "Saving X as ../results/data/X/type=poscentroid_id=1class_id=7\n",
      "Saving y as ../results/data/y/type=poscentroid_id=1class_id=7\n"
     ]
    },
    {
     "name": "stderr",
     "output_type": "stream",
     "text": [
      "100%|██████████| 1000/1000 [04:59<00:00,  3.34it/s]\n",
      "100%|██████████| 1000/1000 [04:59<00:00,  3.34it/s]\n",
      "  0%|          | 0/1000 [00:00<?, ?it/s].76it/s]]"
     ]
    },
    {
     "name": "stdout",
     "output_type": "stream",
     "text": [
      "Saving X as ../results/data/X/type=poscentroid_id=3class_id=7\n",
      "Saving y as ../results/data/y/type=poscentroid_id=3class_id=7\n",
      "Saving X as ../results/data/X/type=poscentroid_id=0class_id=7\n",
      "Saving y as ../results/data/y/type=poscentroid_id=0class_id=7\n"
     ]
    },
    {
     "name": "stderr",
     "output_type": "stream",
     "text": [
      "100%|██████████| 1000/1000 [04:48<00:00,  3.47it/s]\n",
      "  0%|          | 0/1000 [00:00<?, ?it/s] 4.36it/s]"
     ]
    },
    {
     "name": "stdout",
     "output_type": "stream",
     "text": [
      "Saving X as ../results/data/X/type=poscentroid_id=5class_id=7\n",
      "Saving y as ../results/data/y/type=poscentroid_id=5class_id=7\n"
     ]
    },
    {
     "name": "stderr",
     "output_type": "stream",
     "text": [
      "100%|██████████| 1000/1000 [04:49<00:00,  3.46it/s]\n",
      " 97%|█████████▋| 967/1000 [04:49<00:08,  3.79it/s]"
     ]
    },
    {
     "name": "stdout",
     "output_type": "stream",
     "text": [
      "Saving X as ../results/data/X/type=negcentroid_id=0class_id=7\n",
      "Saving y as ../results/data/y/type=negcentroid_id=0class_id=7\n"
     ]
    },
    {
     "name": "stderr",
     "output_type": "stream",
     "text": [
      "100%|██████████| 1000/1000 [04:58<00:00,  3.35it/s]\n",
      "  0%|          | 0/1000 [00:00<?, ?it/s]2.97it/s]]"
     ]
    },
    {
     "name": "stdout",
     "output_type": "stream",
     "text": [
      "Saving X as ../results/data/X/type=negcentroid_id=1class_id=7\n",
      "Saving y as ../results/data/y/type=negcentroid_id=1class_id=7\n"
     ]
    },
    {
     "name": "stderr",
     "output_type": "stream",
     "text": [
      "100%|██████████| 1000/1000 [05:14<00:00,  3.18it/s]\n",
      "  0%|          | 2/1000 [00:01<16:58,  1.02s/it]]"
     ]
    },
    {
     "name": "stdout",
     "output_type": "stream",
     "text": [
      "Saving X as ../results/data/X/type=poscentroid_id=4class_id=7\n",
      "Saving y as ../results/data/y/type=poscentroid_id=4class_id=7\n"
     ]
    },
    {
     "name": "stderr",
     "output_type": "stream",
     "text": [
      "100%|██████████| 1000/1000 [04:37<00:00,  3.60it/s]\n",
      "100%|██████████| 1000/1000 [04:52<00:00,  3.42it/s]\n",
      "100%|██████████| 1000/1000 [04:48<00:00,  3.47it/s]\n",
      "100%|██████████| 1000/1000 [04:56<00:00,  3.38it/s]\n"
     ]
    },
    {
     "name": "stdout",
     "output_type": "stream",
     "text": [
      "Saving X as ../results/data/X/type=negcentroid_id=2class_id=7\n",
      "Saving y as ../results/data/y/type=negcentroid_id=2class_id=7\n",
      "Saving X as ../results/data/X/type=negcentroid_id=3class_id=7\n",
      "Saving y as ../results/data/y/type=negcentroid_id=3class_id=7\n",
      "Saving X as ../results/data/X/type=negcentroid_id=5class_id=7\n",
      "Saving y as ../results/data/y/type=negcentroid_id=5class_id=7\n",
      "Loading X from ../results/data/X/type=poscentroid_id=0class_id=7\n",
      "Loading X from ../results/data/X/type=poscentroid_id=1class_id=7\n",
      "Loading X from ../results/data/X/type=poscentroid_id=2class_id=7\n",
      "Loading X from ../results/data/X/type=poscentroid_id=3class_id=7\n",
      "Loading X from ../results/data/X/type=poscentroid_id=4class_id=7\n",
      "Loading X from ../results/data/X/type=poscentroid_id=5class_id=7\n",
      "Loading y from ../results/data/y/type=poscentroid_id=0class_id=7\n",
      "Loading X from ../results/data/X/type=negcentroid_id=0class_id=7\n",
      "Loading X from ../results/data/X/type=negcentroid_id=1class_id=7\n",
      "Loading X from ../results/data/X/type=negcentroid_id=2class_id=7\n",
      "Loading X from ../results/data/X/type=negcentroid_id=3class_id=7\n",
      "Loading X from ../results/data/X/type=negcentroid_id=4class_id=7\n",
      "Loading X from ../results/data/X/type=negcentroid_id=5class_id=7\n",
      "Loading y from ../results/data/y/type=negcentroid_id=0class_id=7\n"
     ]
    },
    {
     "name": "stderr",
     "output_type": "stream",
     "text": [
      " 53%|████████████████████▎                 | 8/15 [7:33:27<6:37:47, 3409.69s/it]\n",
      "100%|████████████████████████████████████| 1000/1000 [00:00<00:00, 13236.46it/s]\u001b[A\n",
      "100%|██████████| 1000/1000 [04:35<00:00,  3.63it/s]\n",
      "100%|██████████| 1000/1000 [04:41<00:00,  3.55it/s]\n",
      "100%|██████████| 1000/1000 [04:47<00:00,  3.48it/s]\n",
      "100%|██████████| 1000/1000 [04:51<00:00,  3.43it/s]\n"
     ]
    },
    {
     "name": "stdout",
     "output_type": "stream",
     "text": [
      "Saving X as ../results/data/X/type=negcentroid_id=0class_id=8\n",
      "Saving y as ../results/data/y/type=negcentroid_id=0class_id=8\n",
      "Saving X as ../results/data/X/type=negcentroid_id=1class_id=8\n",
      "Saving y as ../results/data/y/type=negcentroid_id=1class_id=8\n",
      "Loading X from ../results/data/X/type=poscentroid_id=0class_id=8\n",
      "Loading X from ../results/data/X/type=poscentroid_id=1class_id=8\n",
      "Loading y from ../results/data/y/type=poscentroid_id=0class_id=8\n",
      "Loading X from ../results/data/X/type=negcentroid_id=0class_id=8\n",
      "Loading X from ../results/data/X/type=negcentroid_id=1class_id=8\n",
      "Loading y from ../results/data/y/type=negcentroid_id=0class_id=8\n"
     ]
    },
    {
     "name": "stderr",
     "output_type": "stream",
     "text": [
      "100%|██████████| 1000/1000 [04:36<00:00,  3.62it/s]\n",
      " 98%|█████████▊| 976/1000 [04:36<00:08,  2.70it/s]"
     ]
    },
    {
     "name": "stdout",
     "output_type": "stream",
     "text": [
      "Saving X as ../results/data/X/type=poscentroid_id=2class_id=8\n",
      "Saving y as ../results/data/y/type=poscentroid_id=2class_id=8\n"
     ]
    },
    {
     "name": "stderr",
     "output_type": "stream",
     "text": [
      "100%|██████████| 1000/1000 [04:37<00:00,  3.60it/s]\n",
      " 98%|█████████▊| 981/1000 [04:37<00:04,  4.41it/s]"
     ]
    },
    {
     "name": "stdout",
     "output_type": "stream",
     "text": [
      "Saving X as ../results/data/X/type=poscentroid_id=0class_id=8\n",
      "Saving y as ../results/data/y/type=poscentroid_id=0class_id=8\n"
     ]
    },
    {
     "name": "stderr",
     "output_type": "stream",
     "text": [
      "100%|██████████| 1000/1000 [04:41<00:00,  3.55it/s]\n",
      "100%|██████████| 1000/1000 [04:55<00:00,  3.39it/s]\n",
      "100%|██████████| 1000/1000 [04:32<00:00,  3.67it/s]\n",
      "100%|██████████| 1000/1000 [04:33<00:00,  3.65it/s]\n"
     ]
    },
    {
     "name": "stdout",
     "output_type": "stream",
     "text": [
      "Saving X as ../results/data/X/type=poscentroid_id=1class_id=8\n",
      "Saving y as ../results/data/y/type=poscentroid_id=1class_id=8\n",
      "Saving X as ../results/data/X/type=negcentroid_id=0class_id=8\n",
      "Saving y as ../results/data/y/type=negcentroid_id=0class_id=8\n",
      "Saving X as ../results/data/X/type=negcentroid_id=2class_id=8\n",
      "Saving y as ../results/data/y/type=negcentroid_id=2class_id=8\n",
      "Loading X from ../results/data/X/type=poscentroid_id=0class_id=8\n",
      "Loading X from ../results/data/X/type=poscentroid_id=1class_id=8\n",
      "Loading X from ../results/data/X/type=poscentroid_id=2class_id=8\n",
      "Loading y from ../results/data/y/type=poscentroid_id=0class_id=8\n",
      "Loading X from ../results/data/X/type=negcentroid_id=0class_id=8\n",
      "Loading X from ../results/data/X/type=negcentroid_id=1class_id=8\n",
      "Loading X from ../results/data/X/type=negcentroid_id=2class_id=8\n",
      "Loading y from ../results/data/y/type=negcentroid_id=0class_id=8\n"
     ]
    },
    {
     "name": "stderr",
     "output_type": "stream",
     "text": [
      "100%|██████████| 1000/1000 [04:23<00:00,  3.79it/s]\n"
     ]
    },
    {
     "name": "stdout",
     "output_type": "stream",
     "text": [
      "Saving X as ../results/data/X/type=poscentroid_id=0class_id=8\n",
      "Saving y as ../results/data/y/type=poscentroid_id=0class_id=8\n"
     ]
    },
    {
     "name": "stderr",
     "output_type": "stream",
     "text": [
      "100%|██████████| 1000/1000 [04:25<00:00,  3.77it/s]\n",
      "  0%|          | 1/1000 [00:01<26:35,  1.60s/it]s]"
     ]
    },
    {
     "name": "stdout",
     "output_type": "stream",
     "text": [
      "Saving X as ../results/data/X/type=poscentroid_id=2class_id=8\n",
      "Saving y as ../results/data/y/type=poscentroid_id=2class_id=8\n"
     ]
    },
    {
     "name": "stderr",
     "output_type": "stream",
     "text": [
      "100%|██████████| 1000/1000 [04:40<00:00,  3.56it/s]\n",
      "  0%|          | 0/1000 [00:00<?, ?it/s]2.27it/s]]"
     ]
    },
    {
     "name": "stdout",
     "output_type": "stream",
     "text": [
      "Saving X as ../results/data/X/type=poscentroid_id=3class_id=8\n",
      "Saving y as ../results/data/y/type=poscentroid_id=3class_id=8\n"
     ]
    },
    {
     "name": "stderr",
     "output_type": "stream",
     "text": [
      "100%|██████████| 1000/1000 [04:54<00:00,  3.39it/s]\n",
      "  4%|▍         | 45/1000 [00:13<09:34,  1.66it/s]"
     ]
    },
    {
     "name": "stdout",
     "output_type": "stream",
     "text": [
      "Saving X as ../results/data/X/type=poscentroid_id=1class_id=8\n",
      "Saving y as ../results/data/y/type=poscentroid_id=1class_id=8\n"
     ]
    },
    {
     "name": "stderr",
     "output_type": "stream",
     "text": [
      "100%|██████████| 1000/1000 [04:32<00:00,  3.67it/s]\n",
      "100%|██████████| 1000/1000 [04:39<00:00,  3.58it/s]\n",
      "100%|██████████| 1000/1000 [04:32<00:00,  3.67it/s]\n",
      "100%|██████████| 1000/1000 [04:51<00:00,  3.43it/s]\n"
     ]
    },
    {
     "name": "stdout",
     "output_type": "stream",
     "text": [
      "Saving X as ../results/data/X/type=negcentroid_id=1class_id=8\n",
      "Saving y as ../results/data/y/type=negcentroid_id=1class_id=8\n",
      "Saving X as ../results/data/X/type=negcentroid_id=0class_id=8\n",
      "Saving y as ../results/data/y/type=negcentroid_id=0class_id=8\n",
      "Saving X as ../results/data/X/type=negcentroid_id=2class_id=8\n",
      "Saving y as ../results/data/y/type=negcentroid_id=2class_id=8\n",
      "Loading X from ../results/data/X/type=poscentroid_id=0class_id=8\n",
      "Loading X from ../results/data/X/type=poscentroid_id=1class_id=8\n",
      "Loading X from ../results/data/X/type=poscentroid_id=2class_id=8\n",
      "Loading X from ../results/data/X/type=poscentroid_id=3class_id=8\n",
      "Loading y from ../results/data/y/type=poscentroid_id=0class_id=8\n",
      "Loading X from ../results/data/X/type=negcentroid_id=0class_id=8\n",
      "Loading X from ../results/data/X/type=negcentroid_id=1class_id=8\n",
      "Loading X from ../results/data/X/type=negcentroid_id=2class_id=8\n",
      "Loading X from ../results/data/X/type=negcentroid_id=3class_id=8\n",
      "Loading y from ../results/data/y/type=negcentroid_id=0class_id=8\n"
     ]
    },
    {
     "name": "stderr",
     "output_type": "stream",
     "text": [
      "100%|██████████| 1000/1000 [04:24<00:00,  3.78it/s]\n"
     ]
    },
    {
     "name": "stdout",
     "output_type": "stream",
     "text": [
      "Saving X as ../results/data/X/type=poscentroid_id=2class_id=8\n",
      "Saving y as ../results/data/y/type=poscentroid_id=2class_id=8\n"
     ]
    },
    {
     "name": "stderr",
     "output_type": "stream",
     "text": [
      "100%|██████████| 1000/1000 [04:38<00:00,  3.59it/s]\n",
      " 94%|█████████▎| 937/1000 [04:38<00:21,  2.99it/s]"
     ]
    },
    {
     "name": "stdout",
     "output_type": "stream",
     "text": [
      "Saving X as ../results/data/X/type=poscentroid_id=0class_id=8\n",
      "Saving y as ../results/data/y/type=poscentroid_id=0class_id=8\n"
     ]
    },
    {
     "name": "stderr",
     "output_type": "stream",
     "text": [
      "\r",
      " 94%|█████████▍| 938/1000 [04:38<00:18,  3.40it/s]\r",
      "100%|██████████| 1000/1000 [04:38<00:00,  3.91it/s]\r",
      "100%|██████████| 1000/1000 [04:38<00:00,  3.59it/s]\n",
      "\r",
      " 94%|█████████▍| 939/1000 [04:39<00:15,  4.01it/s]\r",
      "  0%|          | 0/1000 [00:00<?, ?it/s]"
     ]
    },
    {
     "name": "stdout",
     "output_type": "stream",
     "text": [
      "Saving X as ../results/data/X/type=poscentroid_id=3class_id=8\n",
      "Saving y as ../results/data/y/type=poscentroid_id=3class_id=8\n"
     ]
    },
    {
     "name": "stderr",
     "output_type": "stream",
     "text": [
      "100%|██████████| 1000/1000 [04:53<00:00,  3.41it/s]\n",
      "  0%|          | 0/1000 [00:00<?, ?it/s]2.03it/s]"
     ]
    },
    {
     "name": "stdout",
     "output_type": "stream",
     "text": [
      "Saving X as ../results/data/X/type=poscentroid_id=1class_id=8\n",
      "Saving y as ../results/data/y/type=poscentroid_id=1class_id=8\n"
     ]
    },
    {
     "name": "stderr",
     "output_type": "stream",
     "text": [
      "100%|██████████| 1000/1000 [04:38<00:00,  3.59it/s]\n",
      " 97%|█████████▋| 968/1000 [04:24<00:04,  6.92it/s]"
     ]
    },
    {
     "name": "stdout",
     "output_type": "stream",
     "text": [
      "Saving X as ../results/data/X/type=poscentroid_id=4class_id=8\n",
      "Saving y as ../results/data/y/type=poscentroid_id=4class_id=8\n"
     ]
    },
    {
     "name": "stderr",
     "output_type": "stream",
     "text": [
      "100%|██████████| 1000/1000 [04:32<00:00,  3.67it/s]\n",
      "  3%|▎         | 28/1000 [00:08<05:09,  3.14it/s]]"
     ]
    },
    {
     "name": "stdout",
     "output_type": "stream",
     "text": [
      "Saving X as ../results/data/X/type=negcentroid_id=0class_id=8\n",
      "Saving y as ../results/data/y/type=negcentroid_id=0class_id=8\n"
     ]
    },
    {
     "name": "stderr",
     "output_type": "stream",
     "text": [
      "100%|██████████| 1000/1000 [04:36<00:00,  3.62it/s]\n",
      "100%|██████████| 1000/1000 [04:50<00:00,  3.44it/s]\n",
      "100%|██████████| 1000/1000 [04:21<00:00,  3.82it/s]\n",
      "100%|██████████| 1000/1000 [04:42<00:00,  3.54it/s]\n"
     ]
    },
    {
     "name": "stdout",
     "output_type": "stream",
     "text": [
      "Saving X as ../results/data/X/type=negcentroid_id=1class_id=8\n",
      "Saving y as ../results/data/y/type=negcentroid_id=1class_id=8\n",
      "Saving X as ../results/data/X/type=negcentroid_id=2class_id=8\n",
      "Saving y as ../results/data/y/type=negcentroid_id=2class_id=8\n",
      "Saving X as ../results/data/X/type=negcentroid_id=4class_id=8\n",
      "Saving y as ../results/data/y/type=negcentroid_id=4class_id=8\n",
      "Saving X as ../results/data/X/type=negcentroid_id=3class_id=8\n",
      "Saving y as ../results/data/y/type=negcentroid_id=3class_id=8\n",
      "Loading X from ../results/data/X/type=poscentroid_id=0class_id=8\n",
      "Loading X from ../results/data/X/type=poscentroid_id=1class_id=8\n",
      "Loading X from ../results/data/X/type=poscentroid_id=2class_id=8\n",
      "Loading X from ../results/data/X/type=poscentroid_id=3class_id=8\n",
      "Loading X from ../results/data/X/type=poscentroid_id=4class_id=8\n",
      "Loading y from ../results/data/y/type=poscentroid_id=0class_id=8\n",
      "Loading X from ../results/data/X/type=negcentroid_id=0class_id=8\n",
      "Loading X from ../results/data/X/type=negcentroid_id=1class_id=8\n",
      "Loading X from ../results/data/X/type=negcentroid_id=2class_id=8\n",
      "Loading X from ../results/data/X/type=negcentroid_id=3class_id=8\n",
      "Loading X from ../results/data/X/type=negcentroid_id=4class_id=8\n",
      "Loading y from ../results/data/y/type=negcentroid_id=0class_id=8\n"
     ]
    },
    {
     "name": "stderr",
     "output_type": "stream",
     "text": [
      "100%|██████████| 1000/1000 [04:37<00:00,  3.60it/s]\n",
      " 96%|█████████▋| 964/1000 [04:38<00:04,  7.69it/s]"
     ]
    },
    {
     "name": "stdout",
     "output_type": "stream",
     "text": [
      "Saving X as ../results/data/X/type=poscentroid_id=1class_id=8\n",
      "Saving y as ../results/data/y/type=poscentroid_id=1class_id=8\n"
     ]
    },
    {
     "name": "stderr",
     "output_type": "stream",
     "text": [
      "100%|██████████| 1000/1000 [04:40<00:00,  3.56it/s]\n"
     ]
    },
    {
     "name": "stdout",
     "output_type": "stream",
     "text": [
      "Saving X as ../results/data/X/type=poscentroid_id=3class_id=8\n",
      "Saving y as ../results/data/y/type=poscentroid_id=3class_id=8\n"
     ]
    },
    {
     "name": "stderr",
     "output_type": "stream",
     "text": [
      "100%|██████████| 1000/1000 [04:46<00:00,  3.49it/s]\n",
      "  2%|▎         | 25/1000 [00:06<03:09,  5.15it/s]]"
     ]
    },
    {
     "name": "stdout",
     "output_type": "stream",
     "text": [
      "Saving X as ../results/data/X/type=poscentroid_id=0class_id=8\n",
      "Saving y as ../results/data/y/type=poscentroid_id=0class_id=8\n"
     ]
    },
    {
     "name": "stderr",
     "output_type": "stream",
     "text": [
      "100%|██████████| 1000/1000 [04:52<00:00,  3.42it/s]\n"
     ]
    },
    {
     "name": "stdout",
     "output_type": "stream",
     "text": [
      "Saving X as ../results/data/X/type=poscentroid_id=2class_id=8\n",
      "Saving y as ../results/data/y/type=poscentroid_id=2class_id=8\n"
     ]
    },
    {
     "name": "stderr",
     "output_type": "stream",
     "text": [
      "100%|██████████| 1000/1000 [04:31<00:00,  3.69it/s]\n",
      "  0%|          | 0/1000 [00:00<?, ?it/s] 2.08it/s]"
     ]
    },
    {
     "name": "stdout",
     "output_type": "stream",
     "text": [
      "Saving X as ../results/data/X/type=poscentroid_id=5class_id=8\n",
      "Saving y as ../results/data/y/type=poscentroid_id=5class_id=8\n"
     ]
    },
    {
     "name": "stderr",
     "output_type": "stream",
     "text": [
      "100%|██████████| 1000/1000 [04:50<00:00,  3.44it/s]\n",
      " 97%|█████████▋| 970/1000 [04:41<00:05,  5.52it/s]"
     ]
    },
    {
     "name": "stdout",
     "output_type": "stream",
     "text": [
      "Saving X as ../results/data/X/type=poscentroid_id=4class_id=8\n",
      "Saving y as ../results/data/y/type=poscentroid_id=4class_id=8\n"
     ]
    },
    {
     "name": "stderr",
     "output_type": "stream",
     "text": [
      "100%|██████████| 1000/1000 [04:49<00:00,  3.45it/s]\n",
      " 97%|█████████▋| 973/1000 [04:43<00:12,  2.18it/s]"
     ]
    },
    {
     "name": "stdout",
     "output_type": "stream",
     "text": [
      "Saving X as ../results/data/X/type=negcentroid_id=0class_id=8\n",
      "Saving y as ../results/data/y/type=negcentroid_id=0class_id=8\n"
     ]
    },
    {
     "name": "stderr",
     "output_type": "stream",
     "text": [
      "100%|██████████| 1000/1000 [04:49<00:00,  3.45it/s]\n",
      "  0%|          | 0/1000 [00:00<?, ?it/s]5.49it/s]"
     ]
    },
    {
     "name": "stdout",
     "output_type": "stream",
     "text": [
      "Saving X as ../results/data/X/type=negcentroid_id=1class_id=8\n",
      "Saving y as ../results/data/y/type=negcentroid_id=1class_id=8\n"
     ]
    },
    {
     "name": "stderr",
     "output_type": "stream",
     "text": [
      "100%|██████████| 1000/1000 [04:44<00:00,  3.52it/s]\n",
      "100%|██████████| 1000/1000 [04:34<00:00,  3.64it/s]\n",
      "100%|██████████| 1000/1000 [04:32<00:00,  3.67it/s]\n",
      "100%|██████████| 1000/1000 [04:45<00:00,  3.51it/s]\n"
     ]
    },
    {
     "name": "stdout",
     "output_type": "stream",
     "text": [
      "Saving X as ../results/data/X/type=negcentroid_id=2class_id=8\n",
      "Saving y as ../results/data/y/type=negcentroid_id=2class_id=8\n",
      "Saving X as ../results/data/X/type=negcentroid_id=3class_id=8\n",
      "Saving y as ../results/data/y/type=negcentroid_id=3class_id=8\n",
      "Saving X as ../results/data/X/type=negcentroid_id=5class_id=8\n",
      "Saving y as ../results/data/y/type=negcentroid_id=5class_id=8\n",
      "Saving X as ../results/data/X/type=negcentroid_id=4class_id=8\n",
      "Saving y as ../results/data/y/type=negcentroid_id=4class_id=8\n",
      "Loading X from ../results/data/X/type=poscentroid_id=0class_id=8\n",
      "Loading X from ../results/data/X/type=poscentroid_id=1class_id=8\n",
      "Loading X from ../results/data/X/type=poscentroid_id=2class_id=8\n",
      "Loading X from ../results/data/X/type=poscentroid_id=3class_id=8\n",
      "Loading X from ../results/data/X/type=poscentroid_id=4class_id=8\n",
      "Loading X from ../results/data/X/type=poscentroid_id=5class_id=8\n",
      "Loading y from ../results/data/y/type=poscentroid_id=0class_id=8\n",
      "Loading X from ../results/data/X/type=negcentroid_id=0class_id=8\n",
      "Loading X from ../results/data/X/type=negcentroid_id=1class_id=8\n",
      "Loading X from ../results/data/X/type=negcentroid_id=2class_id=8\n",
      "Loading X from ../results/data/X/type=negcentroid_id=3class_id=8\n",
      "Loading X from ../results/data/X/type=negcentroid_id=4class_id=8\n",
      "Loading X from ../results/data/X/type=negcentroid_id=5class_id=8\n",
      "Loading y from ../results/data/y/type=negcentroid_id=0class_id=8\n"
     ]
    },
    {
     "name": "stderr",
     "output_type": "stream",
     "text": [
      " 60%|██████████████████████▊               | 9/15 [8:25:37<5:32:12, 3322.01s/it]\n",
      "100%|████████████████████████████████████| 1000/1000 [00:00<00:00, 11697.28it/s]\u001b[A\n",
      "100%|██████████| 1000/1000 [06:31<00:00,  2.55it/s]\n",
      "100%|██████████| 1000/1000 [06:41<00:00,  2.49it/s]\n",
      "100%|██████████| 1000/1000 [07:06<00:00,  2.34it/s]\n",
      "100%|██████████| 1000/1000 [07:07<00:00,  2.34it/s]\n"
     ]
    },
    {
     "name": "stdout",
     "output_type": "stream",
     "text": [
      "Saving X as ../results/data/X/type=negcentroid_id=0class_id=9\n",
      "Saving y as ../results/data/y/type=negcentroid_id=0class_id=9\n",
      "Saving X as ../results/data/X/type=poscentroid_id=1class_id=9\n",
      "Saving y as ../results/data/y/type=poscentroid_id=1class_id=9\n",
      "Saving X as ../results/data/X/type=poscentroid_id=0class_id=9\n",
      "Saving y as ../results/data/y/type=poscentroid_id=0class_id=9\n",
      "Loading X from ../results/data/X/type=poscentroid_id=0class_id=9\n",
      "Loading X from ../results/data/X/type=poscentroid_id=1class_id=9\n",
      "Loading y from ../results/data/y/type=poscentroid_id=0class_id=9\n",
      "Loading X from ../results/data/X/type=negcentroid_id=0class_id=9\n",
      "Loading X from ../results/data/X/type=negcentroid_id=1class_id=9\n",
      "Loading y from ../results/data/y/type=negcentroid_id=0class_id=9\n"
     ]
    },
    {
     "name": "stderr",
     "output_type": "stream",
     "text": [
      "100%|██████████| 1000/1000 [06:43<00:00,  2.48it/s]\n",
      " 98%|█████████▊| 980/1000 [06:42<00:07,  2.86it/s]"
     ]
    },
    {
     "name": "stdout",
     "output_type": "stream",
     "text": [
      "Saving X as ../results/data/X/type=poscentroid_id=0class_id=9\n",
      "Saving y as ../results/data/y/type=poscentroid_id=0class_id=9\n"
     ]
    },
    {
     "name": "stderr",
     "output_type": "stream",
     "text": [
      "100%|██████████| 1000/1000 [06:45<00:00,  2.47it/s]\n",
      " 99%|█████████▉| 988/1000 [06:45<00:04,  2.51it/s]"
     ]
    },
    {
     "name": "stdout",
     "output_type": "stream",
     "text": [
      "Saving X as ../results/data/X/type=poscentroid_id=2class_id=9\n",
      "Saving y as ../results/data/y/type=poscentroid_id=2class_id=9\n"
     ]
    },
    {
     "name": "stderr",
     "output_type": "stream",
     "text": [
      "100%|██████████| 1000/1000 [06:49<00:00,  2.44it/s]\n",
      "100%|██████████| 1000/1000 [06:58<00:00,  2.39it/s]\n",
      "100%|██████████| 1000/1000 [06:21<00:00,  2.62it/s]\n",
      "100%|██████████| 1000/1000 [06:49<00:00,  2.44it/s]\n"
     ]
    },
    {
     "name": "stdout",
     "output_type": "stream",
     "text": [
      "Saving X as ../results/data/X/type=negcentroid_id=0class_id=9\n",
      "Saving y as ../results/data/y/type=negcentroid_id=0class_id=9\n",
      "Saving X as ../results/data/X/type=poscentroid_id=1class_id=9\n",
      "Saving y as ../results/data/y/type=poscentroid_id=1class_id=9\n",
      "Saving X as ../results/data/X/type=negcentroid_id=2class_id=9\n",
      "Saving y as ../results/data/y/type=negcentroid_id=2class_id=9\n",
      "Loading X from ../results/data/X/type=poscentroid_id=0class_id=9\n",
      "Loading X from ../results/data/X/type=poscentroid_id=1class_id=9\n",
      "Loading X from ../results/data/X/type=poscentroid_id=2class_id=9\n",
      "Loading y from ../results/data/y/type=poscentroid_id=0class_id=9\n",
      "Loading X from ../results/data/X/type=negcentroid_id=0class_id=9\n",
      "Loading X from ../results/data/X/type=negcentroid_id=1class_id=9\n",
      "Loading X from ../results/data/X/type=negcentroid_id=2class_id=9\n",
      "Loading y from ../results/data/y/type=negcentroid_id=0class_id=9\n"
     ]
    },
    {
     "name": "stderr",
     "output_type": "stream",
     "text": [
      "100%|██████████| 1000/1000 [06:43<00:00,  2.48it/s]\n",
      " 99%|█████████▉| 989/1000 [06:43<00:03,  3.25it/s]"
     ]
    },
    {
     "name": "stdout",
     "output_type": "stream",
     "text": [
      "Saving X as ../results/data/X/type=poscentroid_id=0class_id=9\n",
      "Saving y as ../results/data/y/type=poscentroid_id=0class_id=9\n"
     ]
    },
    {
     "name": "stderr",
     "output_type": "stream",
     "text": [
      "100%|██████████| 1000/1000 [06:47<00:00,  2.46it/s]\n",
      "  1%|          | 11/1000 [00:03<05:50,  2.82it/s]"
     ]
    },
    {
     "name": "stdout",
     "output_type": "stream",
     "text": [
      "Saving X as ../results/data/X/type=poscentroid_id=1class_id=9\n",
      "Saving y as ../results/data/y/type=poscentroid_id=1class_id=9\n"
     ]
    },
    {
     "name": "stderr",
     "output_type": "stream",
     "text": [
      "100%|██████████| 1000/1000 [06:57<00:00,  2.39it/s]\n"
     ]
    },
    {
     "name": "stdout",
     "output_type": "stream",
     "text": [
      "Saving X as ../results/data/X/type=poscentroid_id=2class_id=9\n",
      "Saving y as ../results/data/y/type=poscentroid_id=2class_id=9\n"
     ]
    },
    {
     "name": "stderr",
     "output_type": "stream",
     "text": [
      "100%|██████████| 1000/1000 [06:57<00:00,  2.39it/s]\n",
      "  0%|          | 1/1000 [00:00<05:59,  2.78it/s]"
     ]
    },
    {
     "name": "stdout",
     "output_type": "stream",
     "text": [
      "Saving X as ../results/data/X/type=poscentroid_id=3class_id=9\n",
      "Saving y as ../results/data/y/type=poscentroid_id=3class_id=9\n"
     ]
    },
    {
     "name": "stderr",
     "output_type": "stream",
     "text": [
      "100%|██████████| 1000/1000 [06:40<00:00,  2.50it/s]\n",
      "100%|██████████| 1000/1000 [06:49<00:00,  2.44it/s]\n",
      "100%|██████████| 1000/1000 [07:00<00:00,  2.38it/s]\n",
      "100%|██████████| 1000/1000 [07:02<00:00,  2.37it/s]\n"
     ]
    },
    {
     "name": "stdout",
     "output_type": "stream",
     "text": [
      "Saving X as ../results/data/X/type=negcentroid_id=0class_id=9\n",
      "Saving y as ../results/data/y/type=negcentroid_id=0class_id=9\n",
      "Saving X as ../results/data/X/type=negcentroid_id=3class_id=9\n",
      "Saving y as ../results/data/y/type=negcentroid_id=3class_id=9\n",
      "Saving X as ../results/data/X/type=negcentroid_id=1class_id=9\n",
      "Saving y as ../results/data/y/type=negcentroid_id=1class_id=9\n",
      "Loading X from ../results/data/X/type=poscentroid_id=0class_id=9\n",
      "Loading X from ../results/data/X/type=poscentroid_id=1class_id=9\n",
      "Loading X from ../results/data/X/type=poscentroid_id=2class_id=9\n",
      "Loading X from ../results/data/X/type=poscentroid_id=3class_id=9\n",
      "Loading y from ../results/data/y/type=poscentroid_id=0class_id=9\n",
      "Loading X from ../results/data/X/type=negcentroid_id=0class_id=9\n",
      "Loading X from ../results/data/X/type=negcentroid_id=1class_id=9\n",
      "Loading X from ../results/data/X/type=negcentroid_id=2class_id=9\n",
      "Loading X from ../results/data/X/type=negcentroid_id=3class_id=9\n",
      "Loading y from ../results/data/y/type=negcentroid_id=0class_id=9\n"
     ]
    },
    {
     "name": "stderr",
     "output_type": "stream",
     "text": [
      "100%|██████████| 1000/1000 [06:42<00:00,  2.48it/s]\n",
      "  0%|          | 0/1000 [00:00<?, ?it/s] 1.57it/s]"
     ]
    },
    {
     "name": "stdout",
     "output_type": "stream",
     "text": [
      "Saving X as ../results/data/X/type=poscentroid_id=1class_id=9\n",
      "Saving y as ../results/data/y/type=poscentroid_id=1class_id=9\n"
     ]
    },
    {
     "name": "stderr",
     "output_type": "stream",
     "text": [
      "100%|██████████| 1000/1000 [06:46<00:00,  2.46it/s]\n",
      "  0%|          | 0/1000 [00:00<?, ?it/s] 4.21it/s]"
     ]
    },
    {
     "name": "stdout",
     "output_type": "stream",
     "text": [
      "Saving X as ../results/data/X/type=poscentroid_id=3class_id=9\n",
      "Saving y as ../results/data/y/type=poscentroid_id=3class_id=9\n"
     ]
    },
    {
     "name": "stderr",
     "output_type": "stream",
     "text": [
      "100%|██████████| 1000/1000 [06:56<00:00,  2.40it/s]\n",
      " 96%|█████████▌| 958/1000 [06:56<00:21,  1.93it/s]"
     ]
    },
    {
     "name": "stdout",
     "output_type": "stream",
     "text": [
      "Saving X as ../results/data/X/type=poscentroid_id=0class_id=9\n",
      "Saving y as ../results/data/y/type=poscentroid_id=0class_id=9\n"
     ]
    },
    {
     "name": "stderr",
     "output_type": "stream",
     "text": [
      "100%|██████████| 1000/1000 [07:13<00:00,  2.31it/s]\n"
     ]
    },
    {
     "name": "stdout",
     "output_type": "stream",
     "text": [
      "Saving X as ../results/data/X/type=poscentroid_id=2class_id=9\n",
      "Saving y as ../results/data/y/type=poscentroid_id=2class_id=9\n"
     ]
    },
    {
     "name": "stderr",
     "output_type": "stream",
     "text": [
      "100%|██████████| 1000/1000 [07:03<00:00,  2.36it/s]\n",
      " 96%|█████████▌| 962/1000 [06:33<00:13,  2.80it/s]"
     ]
    },
    {
     "name": "stdout",
     "output_type": "stream",
     "text": [
      "Saving X as ../results/data/X/type=poscentroid_id=4class_id=9\n",
      "Saving y as ../results/data/y/type=poscentroid_id=4class_id=9\n"
     ]
    },
    {
     "name": "stderr",
     "output_type": "stream",
     "text": [
      "100%|██████████| 1000/1000 [06:59<00:00,  2.38it/s]\n",
      "  0%|          | 0/1000 [00:00<?, ?it/s]2.11it/s]]"
     ]
    },
    {
     "name": "stdout",
     "output_type": "stream",
     "text": [
      "Saving X as ../results/data/X/type=negcentroid_id=1class_id=9\n",
      "Saving y as ../results/data/y/type=negcentroid_id=1class_id=9\n"
     ]
    },
    {
     "name": "stderr",
     "output_type": "stream",
     "text": [
      "100%|██████████| 1000/1000 [07:10<00:00,  2.32it/s]\n",
      "100%|██████████| 1000/1000 [06:48<00:00,  2.45it/s]\n",
      "100%|██████████| 1000/1000 [06:24<00:00,  2.60it/s]\n",
      "100%|██████████| 1000/1000 [06:55<00:00,  2.41it/s]\n"
     ]
    },
    {
     "name": "stdout",
     "output_type": "stream",
     "text": [
      "Saving X as ../results/data/X/type=negcentroid_id=0class_id=9\n",
      "Saving y as ../results/data/y/type=negcentroid_id=0class_id=9\n",
      "Saving X as ../results/data/X/type=negcentroid_id=2class_id=9\n",
      "Saving y as ../results/data/y/type=negcentroid_id=2class_id=9\n",
      "Saving X as ../results/data/X/type=negcentroid_id=3class_id=9\n",
      "Saving y as ../results/data/y/type=negcentroid_id=3class_id=9\n",
      "Loading X from ../results/data/X/type=poscentroid_id=0class_id=9\n",
      "Loading X from ../results/data/X/type=poscentroid_id=1class_id=9\n",
      "Loading X from ../results/data/X/type=poscentroid_id=2class_id=9\n",
      "Loading X from ../results/data/X/type=poscentroid_id=3class_id=9\n",
      "Loading X from ../results/data/X/type=poscentroid_id=4class_id=9\n",
      "Loading y from ../results/data/y/type=poscentroid_id=0class_id=9\n",
      "Loading X from ../results/data/X/type=negcentroid_id=0class_id=9\n",
      "Loading X from ../results/data/X/type=negcentroid_id=1class_id=9\n",
      "Loading X from ../results/data/X/type=negcentroid_id=2class_id=9\n",
      "Loading X from ../results/data/X/type=negcentroid_id=3class_id=9\n",
      "Loading X from ../results/data/X/type=negcentroid_id=4class_id=9\n",
      "Loading y from ../results/data/y/type=negcentroid_id=0class_id=9\n"
     ]
    },
    {
     "name": "stderr",
     "output_type": "stream",
     "text": [
      "100%|██████████| 1000/1000 [06:27<00:00,  2.58it/s]\n",
      "  0%|          | 0/1000 [00:00<?, ?it/s] 4.13it/s]"
     ]
    },
    {
     "name": "stdout",
     "output_type": "stream",
     "text": [
      "Saving X as ../results/data/X/type=poscentroid_id=1class_id=9\n",
      "Saving y as ../results/data/y/type=poscentroid_id=1class_id=9\n"
     ]
    },
    {
     "name": "stderr",
     "output_type": "stream",
     "text": [
      "100%|██████████| 1000/1000 [06:51<00:00,  2.43it/s]\n",
      "  0%|          | 0/1000 [00:00<?, ?it/s] 1.75it/s]"
     ]
    },
    {
     "name": "stdout",
     "output_type": "stream",
     "text": [
      "Saving X as ../results/data/X/type=poscentroid_id=3class_id=9\n",
      "Saving y as ../results/data/y/type=poscentroid_id=3class_id=9\n"
     ]
    },
    {
     "name": "stderr",
     "output_type": "stream",
     "text": [
      "100%|██████████| 1000/1000 [07:01<00:00,  2.37it/s]\n"
     ]
    },
    {
     "name": "stdout",
     "output_type": "stream",
     "text": [
      "Saving X as ../results/data/X/type=poscentroid_id=2class_id=9\n",
      "Saving y as ../results/data/y/type=poscentroid_id=2class_id=9\n"
     ]
    },
    {
     "name": "stderr",
     "output_type": "stream",
     "text": [
      "100%|██████████| 1000/1000 [07:05<00:00,  2.35it/s]\n"
     ]
    },
    {
     "name": "stdout",
     "output_type": "stream",
     "text": [
      "Saving X as ../results/data/X/type=poscentroid_id=0class_id=9\n",
      "Saving y as ../results/data/y/type=poscentroid_id=0class_id=9\n"
     ]
    },
    {
     "name": "stderr",
     "output_type": "stream",
     "text": [
      "100%|██████████| 1000/1000 [06:33<00:00,  2.54it/s]\n",
      " 97%|█████████▋| 974/1000 [06:30<00:10,  2.53it/s]"
     ]
    },
    {
     "name": "stdout",
     "output_type": "stream",
     "text": [
      "Saving X as ../results/data/X/type=negcentroid_id=0class_id=9\n",
      "Saving y as ../results/data/y/type=negcentroid_id=0class_id=9\n"
     ]
    },
    {
     "name": "stderr",
     "output_type": "stream",
     "text": [
      "100%|██████████| 1000/1000 [06:39<00:00,  2.50it/s]\n"
     ]
    },
    {
     "name": "stdout",
     "output_type": "stream",
     "text": [
      "Saving X as ../results/data/X/type=negcentroid_id=1class_id=9\n",
      "Saving y as ../results/data/y/type=negcentroid_id=1class_id=9\n"
     ]
    },
    {
     "name": "stderr",
     "output_type": "stream",
     "text": [
      "100%|██████████| 1000/1000 [07:17<00:00,  2.29it/s]\n",
      "  0%|          | 1/1000 [00:00<05:49,  2.86it/s]s]"
     ]
    },
    {
     "name": "stdout",
     "output_type": "stream",
     "text": [
      "Saving X as ../results/data/X/type=poscentroid_id=4class_id=9\n",
      "Saving y as ../results/data/y/type=poscentroid_id=4class_id=9\n"
     ]
    },
    {
     "name": "stderr",
     "output_type": "stream",
     "text": [
      "100%|██████████| 1000/1000 [06:59<00:00,  2.38it/s]\n",
      "  4%|▍         | 44/1000 [00:16<04:15,  3.75it/s]"
     ]
    },
    {
     "name": "stdout",
     "output_type": "stream",
     "text": [
      "Saving X as ../results/data/X/type=poscentroid_id=5class_id=9\n",
      "Saving y as ../results/data/y/type=poscentroid_id=5class_id=9\n"
     ]
    },
    {
     "name": "stderr",
     "output_type": "stream",
     "text": [
      "100%|██████████| 1000/1000 [07:06<00:00,  2.34it/s]\n",
      "100%|██████████| 1000/1000 [06:51<00:00,  2.43it/s]\n",
      "100%|██████████| 1000/1000 [06:58<00:00,  2.39it/s]\n",
      "100%|██████████| 1000/1000 [07:03<00:00,  2.36it/s]\n"
     ]
    },
    {
     "name": "stdout",
     "output_type": "stream",
     "text": [
      "Saving X as ../results/data/X/type=negcentroid_id=2class_id=9\n",
      "Saving y as ../results/data/y/type=negcentroid_id=2class_id=9\n",
      "Saving X as ../results/data/X/type=negcentroid_id=5class_id=9\n",
      "Saving y as ../results/data/y/type=negcentroid_id=5class_id=9\n",
      "Saving X as ../results/data/X/type=negcentroid_id=3class_id=9\n",
      "Saving y as ../results/data/y/type=negcentroid_id=3class_id=9\n",
      "Loading X from ../results/data/X/type=poscentroid_id=0class_id=9\n",
      "Loading X from ../results/data/X/type=poscentroid_id=1class_id=9\n",
      "Loading X from ../results/data/X/type=poscentroid_id=2class_id=9\n",
      "Loading X from ../results/data/X/type=poscentroid_id=3class_id=9\n",
      "Loading X from ../results/data/X/type=poscentroid_id=4class_id=9\n",
      "Loading X from ../results/data/X/type=poscentroid_id=5class_id=9\n",
      "Loading y from ../results/data/y/type=poscentroid_id=0class_id=9\n",
      "Loading X from ../results/data/X/type=negcentroid_id=0class_id=9\n",
      "Loading X from ../results/data/X/type=negcentroid_id=1class_id=9\n",
      "Loading X from ../results/data/X/type=negcentroid_id=2class_id=9\n",
      "Loading X from ../results/data/X/type=negcentroid_id=3class_id=9\n",
      "Loading X from ../results/data/X/type=negcentroid_id=4class_id=9\n",
      "Loading X from ../results/data/X/type=negcentroid_id=5class_id=9\n",
      "Loading y from ../results/data/y/type=negcentroid_id=0class_id=9\n"
     ]
    },
    {
     "name": "stderr",
     "output_type": "stream",
     "text": [
      " 67%|████████████████████████▋            | 10/15 [9:42:10<5:09:32, 3714.47s/it]\n",
      "100%|████████████████████████████████████| 1000/1000 [00:00<00:00, 16020.29it/s]\u001b[A\n",
      " 67%|████████████████████████▋            | 10/15 [9:42:46<4:51:23, 3496.68s/it]\n"
     ]
    },
    {
     "ename": "KeyboardInterrupt",
     "evalue": "",
     "output_type": "error",
     "traceback": [
      "\u001b[0;31m---------------------------------------------------------------------------\u001b[0m",
      "\u001b[0;31mKeyboardInterrupt\u001b[0m                         Traceback (most recent call last)",
      "\u001b[0;32m/var/folders/ww/7kn8t7y91gv3dzhg4tzjhq4m0000gn/T/ipykernel_81896/2668459863.py\u001b[0m in \u001b[0;36m<module>\u001b[0;34m\u001b[0m\n\u001b[1;32m     16\u001b[0m \u001b[0;34m\u001b[0m\u001b[0m\n\u001b[1;32m     17\u001b[0m         \u001b[0;32mwith\u001b[0m \u001b[0mPool\u001b[0m\u001b[0;34m(\u001b[0m\u001b[0;36m4\u001b[0m\u001b[0;34m)\u001b[0m \u001b[0;32mas\u001b[0m \u001b[0mp\u001b[0m\u001b[0;34m:\u001b[0m\u001b[0;34m\u001b[0m\u001b[0;34m\u001b[0m\u001b[0m\n\u001b[0;32m---> 18\u001b[0;31m             \u001b[0mp\u001b[0m\u001b[0;34m.\u001b[0m\u001b[0mmap\u001b[0m\u001b[0;34m(\u001b[0m\u001b[0mcompute_shapelet_distances_mp\u001b[0m\u001b[0;34m,\u001b[0m \u001b[0mparameter_list\u001b[0m\u001b[0;34m)\u001b[0m\u001b[0;34m\u001b[0m\u001b[0;34m\u001b[0m\u001b[0m\n\u001b[0m\u001b[1;32m     19\u001b[0m         \u001b[0mscore\u001b[0m \u001b[0;34m=\u001b[0m \u001b[0mclassify_shapes\u001b[0m\u001b[0;34m(\u001b[0m\u001b[0mfilenames_pos\u001b[0m\u001b[0;34m,\u001b[0m \u001b[0mfilenames_neg\u001b[0m\u001b[0;34m)\u001b[0m\u001b[0;34m\u001b[0m\u001b[0;34m\u001b[0m\u001b[0m\n\u001b[1;32m     20\u001b[0m \u001b[0;34m\u001b[0m\u001b[0m\n",
      "\u001b[0;32m~/opt/anaconda3/lib/python3.9/multiprocessing/pool.py\u001b[0m in \u001b[0;36mmap\u001b[0;34m(self, func, iterable, chunksize)\u001b[0m\n\u001b[1;32m    362\u001b[0m         \u001b[0;32min\u001b[0m \u001b[0ma\u001b[0m \u001b[0mlist\u001b[0m \u001b[0mthat\u001b[0m \u001b[0;32mis\u001b[0m \u001b[0mreturned\u001b[0m\u001b[0;34m.\u001b[0m\u001b[0;34m\u001b[0m\u001b[0;34m\u001b[0m\u001b[0m\n\u001b[1;32m    363\u001b[0m         '''\n\u001b[0;32m--> 364\u001b[0;31m         \u001b[0;32mreturn\u001b[0m \u001b[0mself\u001b[0m\u001b[0;34m.\u001b[0m\u001b[0m_map_async\u001b[0m\u001b[0;34m(\u001b[0m\u001b[0mfunc\u001b[0m\u001b[0;34m,\u001b[0m \u001b[0miterable\u001b[0m\u001b[0;34m,\u001b[0m \u001b[0mmapstar\u001b[0m\u001b[0;34m,\u001b[0m \u001b[0mchunksize\u001b[0m\u001b[0;34m)\u001b[0m\u001b[0;34m.\u001b[0m\u001b[0mget\u001b[0m\u001b[0;34m(\u001b[0m\u001b[0;34m)\u001b[0m\u001b[0;34m\u001b[0m\u001b[0;34m\u001b[0m\u001b[0m\n\u001b[0m\u001b[1;32m    365\u001b[0m \u001b[0;34m\u001b[0m\u001b[0m\n\u001b[1;32m    366\u001b[0m     \u001b[0;32mdef\u001b[0m \u001b[0mstarmap\u001b[0m\u001b[0;34m(\u001b[0m\u001b[0mself\u001b[0m\u001b[0;34m,\u001b[0m \u001b[0mfunc\u001b[0m\u001b[0;34m,\u001b[0m \u001b[0miterable\u001b[0m\u001b[0;34m,\u001b[0m \u001b[0mchunksize\u001b[0m\u001b[0;34m=\u001b[0m\u001b[0;32mNone\u001b[0m\u001b[0;34m)\u001b[0m\u001b[0;34m:\u001b[0m\u001b[0;34m\u001b[0m\u001b[0;34m\u001b[0m\u001b[0m\n",
      "\u001b[0;32m~/opt/anaconda3/lib/python3.9/multiprocessing/pool.py\u001b[0m in \u001b[0;36mget\u001b[0;34m(self, timeout)\u001b[0m\n\u001b[1;32m    763\u001b[0m \u001b[0;34m\u001b[0m\u001b[0m\n\u001b[1;32m    764\u001b[0m     \u001b[0;32mdef\u001b[0m \u001b[0mget\u001b[0m\u001b[0;34m(\u001b[0m\u001b[0mself\u001b[0m\u001b[0;34m,\u001b[0m \u001b[0mtimeout\u001b[0m\u001b[0;34m=\u001b[0m\u001b[0;32mNone\u001b[0m\u001b[0;34m)\u001b[0m\u001b[0;34m:\u001b[0m\u001b[0;34m\u001b[0m\u001b[0;34m\u001b[0m\u001b[0m\n\u001b[0;32m--> 765\u001b[0;31m         \u001b[0mself\u001b[0m\u001b[0;34m.\u001b[0m\u001b[0mwait\u001b[0m\u001b[0;34m(\u001b[0m\u001b[0mtimeout\u001b[0m\u001b[0;34m)\u001b[0m\u001b[0;34m\u001b[0m\u001b[0;34m\u001b[0m\u001b[0m\n\u001b[0m\u001b[1;32m    766\u001b[0m         \u001b[0;32mif\u001b[0m \u001b[0;32mnot\u001b[0m \u001b[0mself\u001b[0m\u001b[0;34m.\u001b[0m\u001b[0mready\u001b[0m\u001b[0;34m(\u001b[0m\u001b[0;34m)\u001b[0m\u001b[0;34m:\u001b[0m\u001b[0;34m\u001b[0m\u001b[0;34m\u001b[0m\u001b[0m\n\u001b[1;32m    767\u001b[0m             \u001b[0;32mraise\u001b[0m \u001b[0mTimeoutError\u001b[0m\u001b[0;34m\u001b[0m\u001b[0;34m\u001b[0m\u001b[0m\n",
      "\u001b[0;32m~/opt/anaconda3/lib/python3.9/multiprocessing/pool.py\u001b[0m in \u001b[0;36mwait\u001b[0;34m(self, timeout)\u001b[0m\n\u001b[1;32m    760\u001b[0m \u001b[0;34m\u001b[0m\u001b[0m\n\u001b[1;32m    761\u001b[0m     \u001b[0;32mdef\u001b[0m \u001b[0mwait\u001b[0m\u001b[0;34m(\u001b[0m\u001b[0mself\u001b[0m\u001b[0;34m,\u001b[0m \u001b[0mtimeout\u001b[0m\u001b[0;34m=\u001b[0m\u001b[0;32mNone\u001b[0m\u001b[0;34m)\u001b[0m\u001b[0;34m:\u001b[0m\u001b[0;34m\u001b[0m\u001b[0;34m\u001b[0m\u001b[0m\n\u001b[0;32m--> 762\u001b[0;31m         \u001b[0mself\u001b[0m\u001b[0;34m.\u001b[0m\u001b[0m_event\u001b[0m\u001b[0;34m.\u001b[0m\u001b[0mwait\u001b[0m\u001b[0;34m(\u001b[0m\u001b[0mtimeout\u001b[0m\u001b[0;34m)\u001b[0m\u001b[0;34m\u001b[0m\u001b[0;34m\u001b[0m\u001b[0m\n\u001b[0m\u001b[1;32m    763\u001b[0m \u001b[0;34m\u001b[0m\u001b[0m\n\u001b[1;32m    764\u001b[0m     \u001b[0;32mdef\u001b[0m \u001b[0mget\u001b[0m\u001b[0;34m(\u001b[0m\u001b[0mself\u001b[0m\u001b[0;34m,\u001b[0m \u001b[0mtimeout\u001b[0m\u001b[0;34m=\u001b[0m\u001b[0;32mNone\u001b[0m\u001b[0;34m)\u001b[0m\u001b[0;34m:\u001b[0m\u001b[0;34m\u001b[0m\u001b[0;34m\u001b[0m\u001b[0m\n",
      "\u001b[0;32m~/opt/anaconda3/lib/python3.9/threading.py\u001b[0m in \u001b[0;36mwait\u001b[0;34m(self, timeout)\u001b[0m\n\u001b[1;32m    579\u001b[0m             \u001b[0msignaled\u001b[0m \u001b[0;34m=\u001b[0m \u001b[0mself\u001b[0m\u001b[0;34m.\u001b[0m\u001b[0m_flag\u001b[0m\u001b[0;34m\u001b[0m\u001b[0;34m\u001b[0m\u001b[0m\n\u001b[1;32m    580\u001b[0m             \u001b[0;32mif\u001b[0m \u001b[0;32mnot\u001b[0m \u001b[0msignaled\u001b[0m\u001b[0;34m:\u001b[0m\u001b[0;34m\u001b[0m\u001b[0;34m\u001b[0m\u001b[0m\n\u001b[0;32m--> 581\u001b[0;31m                 \u001b[0msignaled\u001b[0m \u001b[0;34m=\u001b[0m \u001b[0mself\u001b[0m\u001b[0;34m.\u001b[0m\u001b[0m_cond\u001b[0m\u001b[0;34m.\u001b[0m\u001b[0mwait\u001b[0m\u001b[0;34m(\u001b[0m\u001b[0mtimeout\u001b[0m\u001b[0;34m)\u001b[0m\u001b[0;34m\u001b[0m\u001b[0;34m\u001b[0m\u001b[0m\n\u001b[0m\u001b[1;32m    582\u001b[0m             \u001b[0;32mreturn\u001b[0m \u001b[0msignaled\u001b[0m\u001b[0;34m\u001b[0m\u001b[0;34m\u001b[0m\u001b[0m\n\u001b[1;32m    583\u001b[0m \u001b[0;34m\u001b[0m\u001b[0m\n",
      "\u001b[0;32m~/opt/anaconda3/lib/python3.9/threading.py\u001b[0m in \u001b[0;36mwait\u001b[0;34m(self, timeout)\u001b[0m\n\u001b[1;32m    310\u001b[0m         \u001b[0;32mtry\u001b[0m\u001b[0;34m:\u001b[0m    \u001b[0;31m# restore state no matter what (e.g., KeyboardInterrupt)\u001b[0m\u001b[0;34m\u001b[0m\u001b[0;34m\u001b[0m\u001b[0m\n\u001b[1;32m    311\u001b[0m             \u001b[0;32mif\u001b[0m \u001b[0mtimeout\u001b[0m \u001b[0;32mis\u001b[0m \u001b[0;32mNone\u001b[0m\u001b[0;34m:\u001b[0m\u001b[0;34m\u001b[0m\u001b[0;34m\u001b[0m\u001b[0m\n\u001b[0;32m--> 312\u001b[0;31m                 \u001b[0mwaiter\u001b[0m\u001b[0;34m.\u001b[0m\u001b[0macquire\u001b[0m\u001b[0;34m(\u001b[0m\u001b[0;34m)\u001b[0m\u001b[0;34m\u001b[0m\u001b[0;34m\u001b[0m\u001b[0m\n\u001b[0m\u001b[1;32m    313\u001b[0m                 \u001b[0mgotit\u001b[0m \u001b[0;34m=\u001b[0m \u001b[0;32mTrue\u001b[0m\u001b[0;34m\u001b[0m\u001b[0;34m\u001b[0m\u001b[0m\n\u001b[1;32m    314\u001b[0m             \u001b[0;32melse\u001b[0m\u001b[0;34m:\u001b[0m\u001b[0;34m\u001b[0m\u001b[0;34m\u001b[0m\u001b[0m\n",
      "\u001b[0;31mKeyboardInterrupt\u001b[0m: "
     ]
    }
   ],
   "source": [
    "num_classes = 15\n",
    "num_shapelets = 7\n",
    "\n",
    "scores = np.empty((num_classes, num_shapelets-2))\n",
    "\n",
    "for chosen_class in tqdm(range(num_classes)):\n",
    "\n",
    "    X_pos, X_neg, y = make_merged_trace(train_pos, train_neg, chosen_class, num_random=2, num_traces=1000)\n",
    "    \n",
    "    for chosen_shapelet in range(2, num_shapelets):\n",
    "        shapelets_pos = generate_random_shapelets(train_pos, chosen_shapelet)\n",
    "        shapelets_neg = generate_random_shapelets(train_neg, chosen_shapelet)\n",
    "        filenames_pos, filenames_neg = generate_names(chosen_class, num_shapelets=chosen_shapelet)\n",
    "        \n",
    "        parameter_list = get_parameter_list(filenames_pos, filenames_neg, shapelets_pos, shapelets_neg, X_pos, X_neg, y)\n",
    "        \n",
    "        with Pool(4) as p:\n",
    "            p.map(compute_shapelet_distances_mp, parameter_list)\n",
    "        score = classify_shapes(filenames_pos, filenames_neg)\n",
    "        \n",
    "        scores[chosen_class][chosen_shapelet-2] = score\n",
    "\n",
    "print(scores)"
   ]
  },
  {
   "cell_type": "code",
   "execution_count": 36,
   "id": "4a049448",
   "metadata": {},
   "outputs": [
    {
     "name": "stdout",
     "output_type": "stream",
     "text": [
      "[[1.   1.   1.   1.   1.  ]\n",
      " [0.93 0.87 0.89 0.94 0.96]\n",
      " [0.78 0.84 0.89 0.94 0.92]\n",
      " [0.93 0.87 0.96 0.95 0.91]\n",
      " [0.93 0.92 0.92 0.97 0.9 ]\n",
      " [0.94 0.94 0.95 0.94 0.92]\n",
      " [0.9  0.88 0.9  0.84 0.9 ]\n",
      " [0.67 0.69 0.65 0.69 0.68]\n",
      " [0.79 0.84 0.88 0.84 0.86]\n",
      " [0.96 0.96 0.99 0.97 0.98]\n",
      " [2.   3.   4.   5.   6.  ]\n",
      " [2.   3.   4.   5.   6.  ]\n",
      " [2.   3.   4.   5.   6.  ]\n",
      " [2.   3.   4.   5.   6.  ]\n",
      " [2.   3.   4.   5.   6.  ]]\n"
     ]
    }
   ],
   "source": [
    "print(scores)"
   ]
  },
  {
   "cell_type": "code",
   "execution_count": 37,
   "id": "cec59237",
   "metadata": {},
   "outputs": [
    {
     "name": "stdout",
     "output_type": "stream",
     "text": [
      "[[1.   1.   1.   1.   1.  ]\n",
      " [0.93 0.87 0.89 0.94 0.96]\n",
      " [0.78 0.84 0.89 0.94 0.92]\n",
      " [0.93 0.87 0.96 0.95 0.91]\n",
      " [0.93 0.92 0.92 0.97 0.9 ]\n",
      " [0.94 0.94 0.95 0.94 0.92]\n",
      " [0.9  0.88 0.9  0.84 0.9 ]\n",
      " [0.67 0.69 0.65 0.69 0.68]\n",
      " [0.79 0.84 0.88 0.84 0.86]\n",
      " [0.96 0.96 0.99 0.97 0.98]]\n"
     ]
    }
   ],
   "source": [
    "print(scores[:10])"
   ]
  },
  {
   "cell_type": "code",
   "execution_count": 55,
   "id": "c94167ad",
   "metadata": {},
   "outputs": [
    {
     "data": {
      "text/plain": [
       "<matplotlib.legend.Legend at 0x7fedb0172ac0>"
      ]
     },
     "execution_count": 55,
     "metadata": {},
     "output_type": "execute_result"
    },
    {
     "data": {
      "image/png": "[encoded data removed]",
      "text/plain": [
       "<Figure size 1200x1000 with 1 Axes>"
      ]
     },
     "metadata": {},
     "output_type": "display_data"
    }
   ],
   "source": [
    "plt.figure(figsize=(12,10))\n",
    "for i in range(len(scores[:10])):\n",
    "    plt.plot([2,3,4,5,6],scores[i], marker='o', label= \"Class\" + str(i))\n",
    "plt.xticks([2,3,4,5,6])\n",
    "plt.xlabel(\"Number of Shapelets\")\n",
    "plt.ylabel(\"Classification Accuracy\")\n",
    "plt.title(\"Impact of Number of Shapelets on Classification Accuracy\")\n",
    "plt.legend()"
   ]
  },
  {
   "cell_type": "code",
   "execution_count": null,
   "id": "fae147e4",
   "metadata": {},
   "outputs": [
    {
     "name": "stderr",
     "output_type": "stream",
     "text": [
      "100%|██████████| 1000/1000 [05:17<00:00,  3.15it/s]       | 0/9 [00:00<?, ?it/s]\n",
      "100%|██████████| 1000/1000 [05:23<00:00,  3.09it/s]\n",
      "100%|██████████| 1000/1000 [05:23<00:00,  3.09it/s]\n",
      "100%|██████████| 1000/1000 [05:29<00:00,  3.04it/s]\n"
     ]
    },
    {
     "name": "stdout",
     "output_type": "stream",
     "text": [
      "Saving X as ../results/data/X/type=poscentroid_id=1class_id=0\n",
      "Saving y as ../results/data/y/type=poscentroid_id=1class_id=0\n",
      "Saving X as ../results/data/X/type=negcentroid_id=1class_id=0\n",
      "Saving y as ../results/data/y/type=negcentroid_id=1class_id=0\n",
      "Saving X as ../results/data/X/type=negcentroid_id=0class_id=0\n",
      "Saving y as ../results/data/y/type=negcentroid_id=0class_id=0\n",
      "Loading X from ../results/data/X/type=poscentroid_id=0class_id=0\n",
      "Loading X from ../results/data/X/type=poscentroid_id=1class_id=0\n",
      "Loading y from ../results/data/y/type=poscentroid_id=0class_id=0\n",
      "Loading X from ../results/data/X/type=negcentroid_id=0class_id=0\n",
      "Loading X from ../results/data/X/type=negcentroid_id=1class_id=0\n",
      "Loading y from ../results/data/y/type=negcentroid_id=0class_id=0\n"
     ]
    },
    {
     "name": "stderr",
     "output_type": "stream",
     "text": [
      " 11%|█         | 107/1000 [00:37<05:45,  2.58it/s]"
     ]
    }
   ],
   "source": [
    "shapelets_pos = generate_random_shapelets(train_pos, 2)\n",
    "shapelets_neg = generate_random_shapelets(train_neg, 2)\n",
    "\n",
    "average_scores = []\n",
    "for num_random in tqdm(range(2,11)):\n",
    "    \n",
    "    num_classes = 15\n",
    "    scores = np.empty(num_classes)\n",
    "    for chosen_class in range(15):\n",
    "        filenames_pos, filenames_neg = generate_names(chosen_class)\n",
    "        X_pos, X_neg, y = make_merged_trace_randsplit(train_pos, train_neg, chosen_class, num_random, num_traces=1000)\n",
    "        parameter_list = get_parameter_list(filenames_pos, filenames_neg, shapelets_pos, shapelets_neg, X_pos, X_neg, y)\n",
    "\n",
    "        with Pool(4) as p:\n",
    "            p.map(compute_shapelet_distances_mp, parameter_list)\n",
    "        \n",
    "        score = classify_shapes(filenames_pos, filenames_neg)\n",
    "        scores[chosen_class] = score\n",
    "    \n",
    "    average_scores.append(np.mean(scores))\n",
    "    "
   ]
  },
  {
   "cell_type": "code",
   "execution_count": 65,
   "id": "f639d749",
   "metadata": {},
   "outputs": [],
   "source": [
    "\n",
    "# \"saved\" output from first experiment - correct trace is always in the same position\n",
    "average_scores = [0.848, 0.840, 0.817, 0.799, 0.774, 0.76, 0.768, 0.764, 0.765]\n",
    "\n",
    "# \"saved\" output from second experiment - correct trace is randomly assigned a position\n",
    "\n"
   ]
  },
  {
   "cell_type": "code",
   "execution_count": 66,
   "id": "f350803e",
   "metadata": {},
   "outputs": [
    {
     "data": {
      "text/plain": [
       "Text(0.5, 0, 'Number of Samples in Trace (1-monitored x-unmonitored)')"
      ]
     },
     "execution_count": 66,
     "metadata": {},
     "output_type": "execute_result"
    },
    {
     "data": {
      "image/png": "[encoded data removed]",
      "text/plain": [
       "<Figure size 1200x1000 with 1 Axes>"
      ]
     },
     "metadata": {},
     "output_type": "display_data"
    }
   ],
   "source": [
    "plt.figure(figsize=(12,10))\n",
    "plt.plot([*range(3,12)], average_scores)\n",
    "plt.xticks([*range(3,12)])\n",
    "plt.title(\"Number of Traces in sample versus Classification Accuracy\")\n",
    "plt.ylabel(\"Classification Accuracy (Mean)\")\n",
    "plt.xlabel(\"Number of Samples in Trace (1-monitored x-unmonitored)\")"
   ]
  }
 ],
 "metadata": {
  "kernelspec": {
   "display_name": "Python 3 (ipykernel)",
   "language": "python",
   "name": "python3"
  },
  "language_info": {
   "codemirror_mode": {
    "name": "ipython",
    "version": 3
   },
   "file_extension": ".py",
   "mimetype": "text/x-python",
   "name": "python",
   "nbconvert_exporter": "python",
   "pygments_lexer": "ipython3",
   "version": "3.9.13"
  }
 },
 "nbformat": 4,
 "nbformat_minor": 5
}
