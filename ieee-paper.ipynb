{
 "cells": [
  {
   "cell_type": "code",
   "execution_count": 1,
   "id": "6c6f2c98",
   "metadata": {},
   "outputs": [],
   "source": [
    "import stumpy\n",
    "import pickle\n",
    "import numpy as np\n",
    "import time\n",
    "import sklearn.metrics as metrics\n",
    "\n",
    "from pipelinetools import *\n",
    "from multiprocessing import Pool\n",
    "from sklearn.ensemble import RandomForestClassifier\n",
    "from sklearn.model_selection import train_test_split\n",
    "import matplotlib.pyplot as plt"
   ]
  },
  {
   "cell_type": "code",
   "execution_count": 2,
   "id": "d1246f1b",
   "metadata": {},
   "outputs": [],
   "source": [
    "dataset = np.load(\"../datasets/ieee/open_2tab.npz\")\n",
    "their_direction = dataset['direction']\n",
    "their_time = dataset['time']\n",
    "their_label = dataset['label']\n",
    "\n",
    "traces_train = load_traces('transformer_train')"
   ]
  },
  {
   "cell_type": "code",
   "execution_count": 3,
   "id": "d59468f9",
   "metadata": {},
   "outputs": [],
   "source": [
    "def append_trace(trace_time, trace_direction, new_trace):\n",
    "    \n",
    "    new_direction = [None] * len(new_trace)\n",
    "    new_time = [None] * len(new_trace)\n",
    "    \n",
    "    \n",
    "    previous_time = trace_time[-1]\n",
    "    \n",
    "    for k in range(len(new_trace)):\n",
    "        packet = new_trace[k]\n",
    "        new_time[k] = abs(packet) + previous_time\n",
    "        new_direction[k] = np.sign(packet)\n",
    "    \n",
    "    return trace_time + new_time, trace_direction + new_direction, "
   ]
  },
  {
   "cell_type": "code",
   "execution_count": 4,
   "id": "60d253d7",
   "metadata": {},
   "outputs": [],
   "source": [
    "# creates datasets using our data with a single \"closed-world\" sample and num_random-1 \"open-world\" samples\n",
    "# num-traces samples are created\n",
    "\n",
    "def make_merged_ieee_format(traces, num_random, num_traces):\n",
    "    our_time = np.empty((num_traces, 10000))\n",
    "    our_direction = np.empty((num_traces, 10000))\n",
    "    our_label = np.empty((num_traces, 51))\n",
    "    \n",
    "    for i in tqdm(range(num_traces)):\n",
    "        trace_direction = []\n",
    "        trace_time = [0]\n",
    "    \n",
    "        # select a random class as the \"true\" class label\n",
    "        true_id = random.choice([*range(50)])\n",
    "        true_idx = random.randint(0,len(traces[true_id])-1)\n",
    "        true_trace = traces[true_id][true_idx]\n",
    "        true_pos = random.randint(0, num_random-1)\n",
    "        \n",
    "        # index for true trace in list of traces\n",
    "        random_idx = [random.randint(0,len(traces[-1])-1) for i in range(num_random)]\n",
    "        random_traces = [traces[-1][idx] for idx in random_idx]\n",
    "        \n",
    "        \n",
    "        for j in range(num_random):\n",
    "            if j == true_pos:\n",
    "                trace_time, trace_direction  = append_trace(trace_time, trace_direction, true_trace)\n",
    "            else:   \n",
    "                trace_time, trace_direction  = append_trace(trace_time, trace_direction, random_traces.pop(-1))\n",
    "        \n",
    "        trace_label = [0] * 51\n",
    "        trace_label[50] = 1\n",
    "        trace_label[true_id] = 1\n",
    "        \n",
    "        trace_time.pop(0)\n",
    "        if len(trace_time) < 10000:\n",
    "            padding = [0] * (10000 - len(trace_time))\n",
    "            trace_time = trace_time + padding\n",
    "            trace_direction = trace_direction + padding\n",
    "        \n",
    "        our_time[i] = np.asarray(trace_time[:10000])\n",
    "        our_direction[i] = np.asarray(trace_direction[:10000])\n",
    "        our_label[i] = np.asarray(trace_label)\n",
    "    \n",
    "    return our_time, our_direction, our_label    "
   ]
  },
  {
   "cell_type": "code",
   "execution_count": null,
   "id": "390af9c4",
   "metadata": {},
   "outputs": [
    {
     "name": "stderr",
     "output_type": "stream",
     "text": [
      "  8%|███                                  | 5214/64000 [00:50<08:14, 118.92it/s]"
     ]
    }
   ],
   "source": [
    "our_time, our_direction, our_label = make_merged_ieee_format(traces_train, 2, 64000)\n",
    "\n",
    "our_dataset = {}\n",
    "our_dataset['time'] = our_time\n",
    "our_dataset['direction'] = our_direction\n",
    "our_dataset['label'] = our_label"
   ]
  },
  {
   "cell_type": "code",
   "execution_count": null,
   "id": "f483cb5e",
   "metadata": {},
   "outputs": [],
   "source": [
    "np.save('../results/multi-open_3tab.npz', our_dataset)"
   ]
  },
  {
   "cell_type": "code",
   "execution_count": 115,
   "id": "a33eb078",
   "metadata": {},
   "outputs": [
    {
     "name": "stdout",
     "output_type": "stream",
     "text": [
      "(1, 10000)\n",
      "(1, 10000)\n",
      "(1, 51)\n"
     ]
    }
   ],
   "source": [
    "print(our_time.shape)\n",
    "print(our_direction.shape)\n",
    "print(our_label.shape)"
   ]
  },
  {
   "cell_type": "code",
   "execution_count": 120,
   "id": "f4d2d931",
   "metadata": {},
   "outputs": [
    {
     "name": "stdout",
     "output_type": "stream",
     "text": [
      "[0. 0. 0. 0. 0. 0. 0. 0. 0. 0. 0. 0. 0. 0. 0. 0. 0. 0. 0. 0. 0. 0. 0. 0.\n",
      " 1. 0. 0. 0. 0. 0. 0. 0. 0. 0. 0. 0. 0. 0. 0. 0. 0. 0. 0. 0. 0. 0. 0. 0.\n",
      " 0. 0. 1.]\n"
     ]
    }
   ],
   "source": [
    "print(our_label[0])"
   ]
  },
  {
   "cell_type": "code",
   "execution_count": 116,
   "id": "18883469",
   "metadata": {},
   "outputs": [
    {
     "name": "stdout",
     "output_type": "stream",
     "text": [
      "(64000, 10000)\n",
      "(64000, 10000)\n",
      "(64000, 101)\n"
     ]
    }
   ],
   "source": [
    "print(their_time.shape)\n",
    "print(their_direction.shape)\n",
    "print(their_label.shape)"
   ]
  },
  {
   "cell_type": "code",
   "execution_count": 119,
   "id": "3eb83cef",
   "metadata": {},
   "outputs": [
    {
     "data": {
      "text/plain": [
       "[<matplotlib.lines.Line2D at 0x7fb1d381e3d0>]"
      ]
     },
     "execution_count": 119,
     "metadata": {},
     "output_type": "execute_result"
    },
    {
     "data": {
      "image/png": "[encoded data removed]",
      "text/plain": [
       "<Figure size 640x480 with 1 Axes>"
      ]
     },
     "metadata": {},
     "output_type": "display_data"
    }
   ],
   "source": [
    "plt.plot(our_time[0])\n",
    "plt.plot(their_time[0])"
   ]
  }
 ],
 "metadata": {
  "kernelspec": {
   "display_name": "Python 3 (ipykernel)",
   "language": "python",
   "name": "python3"
  },
  "language_info": {
   "codemirror_mode": {
    "name": "ipython",
    "version": 3
   },
   "file_extension": ".py",
   "mimetype": "text/x-python",
   "name": "python",
   "nbconvert_exporter": "python",
   "pygments_lexer": "ipython3",
   "version": "3.9.13"
  }
 },
 "nbformat": 4,
 "nbformat_minor": 5
}
